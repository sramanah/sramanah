{
  "cells": [
    {
      "cell_type": "markdown",
      "metadata": {
        "id": "view-in-github",
        "colab_type": "text"
      },
      "source": [
        "<a href=\"https://colab.research.google.com/github/sramanah/sramanah/blob/main/Model_Jul_3_2022_Shaleena_Ramanah.ipynb\" target=\"_parent\"><img src=\"https://colab.research.google.com/assets/colab-badge.svg\" alt=\"Open In Colab\"/></a>"
      ]
    },
    {
      "cell_type": "markdown",
      "source": [
        "# **Installing necessary packages**"
      ],
      "metadata": {
        "id": "nED1xxEY2mEN"
      }
    },
    {
      "cell_type": "code",
      "execution_count": 71,
      "metadata": {
        "id": "HbR1DMWxc6rD"
      },
      "outputs": [],
      "source": [
        "import numpy as np \n",
        "import pandas as pd \n",
        "import matplotlib.pyplot as plt\n",
        "%matplotlib inline\n",
        "import seaborn as sns\n",
        "import sklearn\n",
        "import scipy"
      ]
    },
    {
      "cell_type": "markdown",
      "source": [
        "# **Uploading the data**"
      ],
      "metadata": {
        "id": "ZjNpmznC2uIT"
      }
    },
    {
      "cell_type": "code",
      "execution_count": 3,
      "metadata": {
        "colab": {
          "base_uri": "https://localhost:8080/",
          "height": 74,
          "resources": {
            "http://localhost:8080/nbextensions/google.colab/files.js": {
              "data": "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",
              "headers": [
                [
                  "content-type",
                  "application/javascript"
                ]
              ],
              "ok": true,
              "status": 200,
              "status_text": ""
            }
          }
        },
        "id": "SlxboYMRdEba",
        "outputId": "330ee654-8f88-4f34-f3a4-39804b98bdd8"
      },
      "outputs": [
        {
          "output_type": "display_data",
          "data": {
            "text/plain": [
              "<IPython.core.display.HTML object>"
            ],
            "text/html": [
              "\n",
              "     <input type=\"file\" id=\"files-64d2948b-2760-4ab5-83a7-48c7d4b3b851\" name=\"files[]\" multiple disabled\n",
              "        style=\"border:none\" />\n",
              "     <output id=\"result-64d2948b-2760-4ab5-83a7-48c7d4b3b851\">\n",
              "      Upload widget is only available when the cell has been executed in the\n",
              "      current browser session. Please rerun this cell to enable.\n",
              "      </output>\n",
              "      <script src=\"/nbextensions/google.colab/files.js\"></script> "
            ]
          },
          "metadata": {}
        },
        {
          "output_type": "stream",
          "name": "stdout",
          "text": [
            "Saving creditcard.csv to creditcard (2).csv\n"
          ]
        }
      ],
      "source": [
        "from google.colab import files\n",
        "uploaded = files.upload()"
      ]
    },
    {
      "cell_type": "markdown",
      "source": [
        "# **Convert to dataframe**"
      ],
      "metadata": {
        "id": "E_9wrzQ72pmZ"
      }
    },
    {
      "cell_type": "code",
      "execution_count": 5,
      "metadata": {
        "id": "gksC63bwftJG"
      },
      "outputs": [],
      "source": [
        "#converting csv file to panda\n",
        "df =pd.read_csv(\"creditcard.csv\")"
      ]
    },
    {
      "cell_type": "markdown",
      "source": [
        "# **31 features, 284807 instances. No missing values**"
      ],
      "metadata": {
        "id": "wpyUEQ5ACdI1"
      }
    },
    {
      "cell_type": "code",
      "execution_count": 22,
      "metadata": {
        "colab": {
          "base_uri": "https://localhost:8080/"
        },
        "id": "RqAgQh_jySFc",
        "outputId": "4217b695-4025-4f82-f310-23c9ed24ba97"
      },
      "outputs": [
        {
          "output_type": "stream",
          "name": "stdout",
          "text": [
            "<class 'pandas.core.frame.DataFrame'>\n",
            "RangeIndex: 284807 entries, 0 to 284806\n",
            "Data columns (total 31 columns):\n",
            " #   Column  Non-Null Count   Dtype  \n",
            "---  ------  --------------   -----  \n",
            " 0   Time    284807 non-null  float64\n",
            " 1   V1      284807 non-null  float64\n",
            " 2   V2      284807 non-null  float64\n",
            " 3   V3      284807 non-null  float64\n",
            " 4   V4      284807 non-null  float64\n",
            " 5   V5      284807 non-null  float64\n",
            " 6   V6      284807 non-null  float64\n",
            " 7   V7      284807 non-null  float64\n",
            " 8   V8      284807 non-null  float64\n",
            " 9   V9      284807 non-null  float64\n",
            " 10  V10     284807 non-null  float64\n",
            " 11  V11     284807 non-null  float64\n",
            " 12  V12     284807 non-null  float64\n",
            " 13  V13     284807 non-null  float64\n",
            " 14  V14     284807 non-null  float64\n",
            " 15  V15     284807 non-null  float64\n",
            " 16  V16     284807 non-null  float64\n",
            " 17  V17     284807 non-null  float64\n",
            " 18  V18     284807 non-null  float64\n",
            " 19  V19     284807 non-null  float64\n",
            " 20  V20     284807 non-null  float64\n",
            " 21  V21     284807 non-null  float64\n",
            " 22  V22     284807 non-null  float64\n",
            " 23  V23     284807 non-null  float64\n",
            " 24  V24     284807 non-null  float64\n",
            " 25  V25     284807 non-null  float64\n",
            " 26  V26     284807 non-null  float64\n",
            " 27  V27     284807 non-null  float64\n",
            " 28  V28     284807 non-null  float64\n",
            " 29  Amount  284807 non-null  float64\n",
            " 30  Class   284807 non-null  int64  \n",
            "dtypes: float64(30), int64(1)\n",
            "memory usage: 67.4 MB\n"
          ]
        }
      ],
      "source": [
        "df.info()\n",
        "#284807 instances\n",
        "#31 columns"
      ]
    },
    {
      "cell_type": "code",
      "source": [
        "#no missing values\n",
        "df.isnull().sum()"
      ],
      "metadata": {
        "colab": {
          "base_uri": "https://localhost:8080/"
        },
        "id": "Cho34RVLOMb-",
        "outputId": "c6eb9474-a150-4c41-9ea6-d02c0d5b44b8"
      },
      "execution_count": 23,
      "outputs": [
        {
          "output_type": "execute_result",
          "data": {
            "text/plain": [
              "Time      0\n",
              "V1        0\n",
              "V2        0\n",
              "V3        0\n",
              "V4        0\n",
              "V5        0\n",
              "V6        0\n",
              "V7        0\n",
              "V8        0\n",
              "V9        0\n",
              "V10       0\n",
              "V11       0\n",
              "V12       0\n",
              "V13       0\n",
              "V14       0\n",
              "V15       0\n",
              "V16       0\n",
              "V17       0\n",
              "V18       0\n",
              "V19       0\n",
              "V20       0\n",
              "V21       0\n",
              "V22       0\n",
              "V23       0\n",
              "V24       0\n",
              "V25       0\n",
              "V26       0\n",
              "V27       0\n",
              "V28       0\n",
              "Amount    0\n",
              "Class     0\n",
              "dtype: int64"
            ]
          },
          "metadata": {},
          "execution_count": 23
        }
      ]
    },
    {
      "cell_type": "markdown",
      "source": [
        "# **Categorical features (Class) vs Numerical features(Time, Amount, V1-V28)**\n",
        "\n"
      ],
      "metadata": {
        "id": "UTg_XCJoCnyx"
      }
    },
    {
      "cell_type": "code",
      "source": [
        "# Finding unique values for each column in order to identify categorical and numeric variables\n",
        "\n",
        "# Usually if the numer of unique values are less than 20, the variable is likely to be categorical, otherwise it is continuous\n",
        "df.nunique()"
      ],
      "metadata": {
        "colab": {
          "base_uri": "https://localhost:8080/"
        },
        "id": "RJUY3IIv4TNP",
        "outputId": "bca535f0-d5a4-4fc9-a2bc-0ec2fcd14863"
      },
      "execution_count": 68,
      "outputs": [
        {
          "output_type": "execute_result",
          "data": {
            "text/plain": [
              "Time      124592\n",
              "V1        275663\n",
              "V2        275663\n",
              "V3        275663\n",
              "V4        275663\n",
              "V5        275663\n",
              "V6        275663\n",
              "V7        275663\n",
              "V8        275663\n",
              "V9        275663\n",
              "V10       275663\n",
              "V11       275663\n",
              "V12       275663\n",
              "V13       275663\n",
              "V14       275663\n",
              "V15       275663\n",
              "V16       275663\n",
              "V17       275663\n",
              "V18       275663\n",
              "V19       275663\n",
              "V20       275663\n",
              "V21       275663\n",
              "V22       275663\n",
              "V23       275663\n",
              "V24       275663\n",
              "V25       275663\n",
              "V26       275663\n",
              "V27       275663\n",
              "V28       275663\n",
              "Amount     32767\n",
              "Class          2\n",
              "dtype: int64"
            ]
          },
          "metadata": {},
          "execution_count": 68
        }
      ]
    },
    {
      "cell_type": "markdown",
      "source": [
        "# **Univariate Analysis**"
      ],
      "metadata": {
        "id": "ZOCUu13IplZQ"
      }
    },
    {
      "cell_type": "code",
      "source": [
        "df.describe()"
      ],
      "metadata": {
        "id": "YgPbQehBpjgm"
      },
      "execution_count": null,
      "outputs": []
    },
    {
      "cell_type": "markdown",
      "source": [
        "# **Visualize distribution of Continuous Variables**"
      ],
      "metadata": {
        "id": "DwSUwEzE4fdS"
      }
    },
    {
      "cell_type": "code",
      "source": [
        "# Plotting histograms of continuous variables\n",
        "\n",
        "df.hist(figsize=(18,10))"
      ],
      "metadata": {
        "colab": {
          "base_uri": "https://localhost:8080/",
          "height": 1000
        },
        "id": "YEzZhl4N4dFC",
        "outputId": "1402338e-6486-4f49-b5d2-570c2f885b97"
      },
      "execution_count": 69,
      "outputs": [
        {
          "output_type": "execute_result",
          "data": {
            "text/plain": [
              "array([[<matplotlib.axes._subplots.AxesSubplot object at 0x7f797e008c10>,\n",
              "        <matplotlib.axes._subplots.AxesSubplot object at 0x7f797e02ed50>,\n",
              "        <matplotlib.axes._subplots.AxesSubplot object at 0x7f797df72390>,\n",
              "        <matplotlib.axes._subplots.AxesSubplot object at 0x7f797dfb1e50>,\n",
              "        <matplotlib.axes._subplots.AxesSubplot object at 0x7f797df5ff90>,\n",
              "        <matplotlib.axes._subplots.AxesSubplot object at 0x7f797df245d0>],\n",
              "       [<matplotlib.axes._subplots.AxesSubplot object at 0x7f797ded8bd0>,\n",
              "        <matplotlib.axes._subplots.AxesSubplot object at 0x7f797de9d210>,\n",
              "        <matplotlib.axes._subplots.AxesSubplot object at 0x7f797dea86d0>,\n",
              "        <matplotlib.axes._subplots.AxesSubplot object at 0x7f797de5fdd0>,\n",
              "        <matplotlib.axes._subplots.AxesSubplot object at 0x7f797ddcc490>,\n",
              "        <matplotlib.axes._subplots.AxesSubplot object at 0x7f797dd8ef50>],\n",
              "       [<matplotlib.axes._subplots.AxesSubplot object at 0x7f797dd470d0>,\n",
              "        <matplotlib.axes._subplots.AxesSubplot object at 0x7f797dcfc6d0>,\n",
              "        <matplotlib.axes._subplots.AxesSubplot object at 0x7f797dcb3cd0>,\n",
              "        <matplotlib.axes._subplots.AxesSubplot object at 0x7f797dc79310>,\n",
              "        <matplotlib.axes._subplots.AxesSubplot object at 0x7f797dc39dd0>,\n",
              "        <matplotlib.axes._subplots.AxesSubplot object at 0x7f797dc66f10>],\n",
              "       [<matplotlib.axes._subplots.AxesSubplot object at 0x7f797dc2b550>,\n",
              "        <matplotlib.axes._subplots.AxesSubplot object at 0x7f797dbe1b50>,\n",
              "        <matplotlib.axes._subplots.AxesSubplot object at 0x7f797dba6190>,\n",
              "        <matplotlib.axes._subplots.AxesSubplot object at 0x7f797db5d790>,\n",
              "        <matplotlib.axes._subplots.AxesSubplot object at 0x7f797db13d90>,\n",
              "        <matplotlib.axes._subplots.AxesSubplot object at 0x7f797dad63d0>],\n",
              "       [<matplotlib.axes._subplots.AxesSubplot object at 0x7f797da98e90>,\n",
              "        <matplotlib.axes._subplots.AxesSubplot object at 0x7f797e00ee10>,\n",
              "        <matplotlib.axes._subplots.AxesSubplot object at 0x7f797de34910>,\n",
              "        <matplotlib.axes._subplots.AxesSubplot object at 0x7f797dc90c50>,\n",
              "        <matplotlib.axes._subplots.AxesSubplot object at 0x7f797daf3650>,\n",
              "        <matplotlib.axes._subplots.AxesSubplot object at 0x7f797d994c50>],\n",
              "       [<matplotlib.axes._subplots.AxesSubplot object at 0x7f797d957290>,\n",
              "        <matplotlib.axes._subplots.AxesSubplot object at 0x7f797d917d50>,\n",
              "        <matplotlib.axes._subplots.AxesSubplot object at 0x7f797d8c5e90>,\n",
              "        <matplotlib.axes._subplots.AxesSubplot object at 0x7f797d8894d0>,\n",
              "        <matplotlib.axes._subplots.AxesSubplot object at 0x7f797d841ad0>,\n",
              "        <matplotlib.axes._subplots.AxesSubplot object at 0x7f797d804110>]],\n",
              "      dtype=object)"
            ]
          },
          "metadata": {},
          "execution_count": 69
        },
        {
          "output_type": "display_data",
          "data": {
            "text/plain": [
              "<Figure size 1296x720 with 36 Axes>"
            ],
            "image/png": "[encoded data removed]"
          },
          "metadata": {
            "needs_background": "light"
          }
        }
      ]
    },
    {
      "cell_type": "markdown",
      "source": [
        "# **Bivariate Analysis**"
      ],
      "metadata": {
        "id": "BZD-34jXprWk"
      }
    },
    {
      "cell_type": "markdown",
      "source": [
        "# ***** PART 1 - **Separating the Dataset into Fraud and Normal**"
      ],
      "metadata": {
        "id": "7cOfunKHWUVb"
      }
    },
    {
      "cell_type": "code",
      "source": [
        "#Separating the dataset into 2 classes - Normal and Fraud\n",
        "\n",
        "fraud = df[df['Class']==1]\n",
        "normal = df[df['Class']==0]"
      ],
      "metadata": {
        "id": "SBSbSSQ7WBNL"
      },
      "execution_count": 139,
      "outputs": []
    },
    {
      "cell_type": "code",
      "source": [
        "print(fraud.shape, normal.shape)"
      ],
      "metadata": {
        "colab": {
          "base_uri": "https://localhost:8080/"
        },
        "id": "A8Z3pjreWGmD",
        "outputId": "fb04515d-9913-4ec0-c3d6-856adb7dc475"
      },
      "execution_count": 140,
      "outputs": [
        {
          "output_type": "stream",
          "name": "stdout",
          "text": [
            "(492, 31) (284315, 31)\n"
          ]
        }
      ]
    },
    {
      "cell_type": "code",
      "source": [
        "#let's analyse the difference between the normal amounts and fraudulent amounts\n",
        "\n",
        "normal.Amount.describe()\n",
        "#mean normal amount 88 euros\n",
        "#max is 25,691\n",
        "#min is 0"
      ],
      "metadata": {
        "colab": {
          "base_uri": "https://localhost:8080/"
        },
        "id": "ndgSWwltWHFj",
        "outputId": "0063ee7a-f8fc-4486-b7b2-dff573731fd0"
      },
      "execution_count": 141,
      "outputs": [
        {
          "output_type": "execute_result",
          "data": {
            "text/plain": [
              "count    284315.000000\n",
              "mean         88.291022\n",
              "std         250.105092\n",
              "min           0.000000\n",
              "25%           5.650000\n",
              "50%          22.000000\n",
              "75%          77.050000\n",
              "max       25691.160000\n",
              "Name: Amount, dtype: float64"
            ]
          },
          "metadata": {},
          "execution_count": 141
        }
      ]
    },
    {
      "cell_type": "code",
      "source": [
        "fraud.Amount.describe()\n",
        "#mean fradulent amount is 122 euro\n",
        "#max is 2,125.87 euros\n",
        "#min is 0"
      ],
      "metadata": {
        "colab": {
          "base_uri": "https://localhost:8080/"
        },
        "id": "vVXm4lDiWJRb",
        "outputId": "c65ed39d-b9c6-49d3-a289-c3609efd3f0f"
      },
      "execution_count": 142,
      "outputs": [
        {
          "output_type": "execute_result",
          "data": {
            "text/plain": [
              "count     492.000000\n",
              "mean      122.211321\n",
              "std       256.683288\n",
              "min         0.000000\n",
              "25%         1.000000\n",
              "50%         9.250000\n",
              "75%       105.890000\n",
              "max      2125.870000\n",
              "Name: Amount, dtype: float64"
            ]
          },
          "metadata": {},
          "execution_count": 142
        }
      ]
    },
    {
      "cell_type": "markdown",
      "source": [
        "# **Amount per Transaction by Class Type**"
      ],
      "metadata": {
        "id": "zb1IKKJRWcjd"
      }
    },
    {
      "cell_type": "code",
      "source": [
        "f, (ax1, ax2) = plt.subplots(2, 1, sharex=True)\n",
        "f.suptitle('Amount per transaction by class')\n",
        "\n",
        "bins= 100\n",
        "ax1.hist(fraud.Amount, bins=bins)\n",
        "ax1.set_title('Fraud')\n",
        "ax2.hist(normal.Amount, bins=bins)\n",
        "ax2.set_title('Normal')\n",
        "plt.xlabel('Time (seconds)')\n",
        "plt.ylabel('Amount(euros)')\n",
        "plt.xlim(0,20000)\n",
        "plt.yscale('log')\n",
        "plt.show();\n"
      ],
      "metadata": {
        "colab": {
          "base_uri": "https://localhost:8080/",
          "height": 308
        },
        "id": "sYenvHOUWPtY",
        "outputId": "e2534c77-c98e-4992-a723-95942e283101"
      },
      "execution_count": 143,
      "outputs": [
        {
          "output_type": "display_data",
          "data": {
            "text/plain": [
              "<Figure size 432x288 with 2 Axes>"
            ],
            "image/png": "[encoded data removed]"
          },
          "metadata": {
            "needs_background": "light"
          }
        }
      ]
    },
    {
      "cell_type": "markdown",
      "source": [
        "#Do the fradulent transactions occur during a specific timeframe?"
      ],
      "metadata": {
        "id": "-PJ60iQ5XTjq"
      }
    },
    {
      "cell_type": "code",
      "source": [
        "#Do the fradulent transactions occur during a specific timeframe?\n",
        "\n",
        "\n",
        "\n",
        "f, (ax1, ax2) = plt.subplots(2, 1, sharex=True)\n",
        "f.suptitle('Time of transaction vs Amount by class')\n",
        "ax1.scatter(fraud.Time, fraud.Amount)\n",
        "ax1.set_title('Fraud')\n",
        "ax2.scatter(normal.Time, normal.Amount)\n",
        "ax2.set_title('Normal')\n",
        "plt.xlabel('Time (in Seconds)')\n",
        "plt.ylabel('Amount (in euros')\n",
        "plt.show();\n"
      ],
      "metadata": {
        "colab": {
          "base_uri": "https://localhost:8080/",
          "height": 308
        },
        "id": "ntMs3_iSXMlR",
        "outputId": "49f0bd6e-4ef3-4363-c7bb-442f24cbd3ea"
      },
      "execution_count": 144,
      "outputs": [
        {
          "output_type": "display_data",
          "data": {
            "text/plain": [
              "<Figure size 432x288 with 2 Axes>"
            ],
            "image/png": "[encoded data removed]"
          },
          "metadata": {
            "needs_background": "light"
          }
        }
      ]
    },
    {
      "cell_type": "markdown",
      "source": [
        "# **Making a copy of the data **"
      ],
      "metadata": {
        "id": "_Fy_nmmR21Q6"
      }
    },
    {
      "cell_type": "code",
      "execution_count": 25,
      "metadata": {
        "id": "z_VFhIl7zSnJ"
      },
      "outputs": [],
      "source": [
        "data = df.copy()"
      ]
    },
    {
      "cell_type": "markdown",
      "source": [
        "# **Data Transformation**"
      ],
      "metadata": {
        "id": "RvVwUHyu25fn"
      }
    },
    {
      "cell_type": "markdown",
      "source": [
        "# ***** PART 2 - **Analysing the Dataset by separating the data into Day 1 and Day 2**"
      ],
      "metadata": {
        "id": "AYHkKFKEV2s-"
      }
    },
    {
      "cell_type": "markdown",
      "source": [
        "As Time is the duration in seconds from the first transaction, we will create a new feature to convert seconds to Date.\n",
        "\n",
        "We are also creating another column to distinguish the transactions from day 1 and day 2\n",
        "\n",
        "Time_new = Date\n",
        "Day = Day 1 or Day 2"
      ],
      "metadata": {
        "id": "eMxbEMGwC9Um"
      }
    },
    {
      "cell_type": "code",
      "execution_count": 26,
      "metadata": {
        "id": "8537OnE9zWWT"
      },
      "outputs": [],
      "source": [
        "data['Time_new'] = pd.to_datetime(data['Time'], unit='s')\n"
      ]
    },
    {
      "cell_type": "code",
      "execution_count": 27,
      "metadata": {
        "id": "Q1mxTOeTZ2OZ"
      },
      "outputs": [],
      "source": [
        "#To separate travel date to different columns -Date and Day as Time is in duration (seconds)\n",
        "data['Date'] = pd.to_datetime(data['Time_new']).dt.date\n",
        "data['Day'] = pd.to_datetime(data['Date']).dt.day"
      ]
    },
    {
      "cell_type": "code",
      "execution_count": 28,
      "metadata": {
        "colab": {
          "base_uri": "https://localhost:8080/",
          "height": 473
        },
        "id": "WHn70GyYkdkX",
        "outputId": "bbdc9c2c-80da-4fee-88f3-e7e2c243355a"
      },
      "outputs": [
        {
          "output_type": "execute_result",
          "data": {
            "text/plain": [
              "   Time        V1        V2        V3        V4        V5        V6        V7  \\\n",
              "0   0.0 -1.359807 -0.072781  2.536347  1.378155 -0.338321  0.462388  0.239599   \n",
              "1   0.0  1.191857  0.266151  0.166480  0.448154  0.060018 -0.082361 -0.078803   \n",
              "2   1.0 -1.358354 -1.340163  1.773209  0.379780 -0.503198  1.800499  0.791461   \n",
              "3   1.0 -0.966272 -0.185226  1.792993 -0.863291 -0.010309  1.247203  0.237609   \n",
              "4   2.0 -1.158233  0.877737  1.548718  0.403034 -0.407193  0.095921  0.592941   \n",
              "\n",
              "         V8        V9  ...       V24       V25       V26       V27       V28  \\\n",
              "0  0.098698  0.363787  ...  0.066928  0.128539 -0.189115  0.133558 -0.021053   \n",
              "1  0.085102 -0.255425  ... -0.339846  0.167170  0.125895 -0.008983  0.014724   \n",
              "2  0.247676 -1.514654  ... -0.689281 -0.327642 -0.139097 -0.055353 -0.059752   \n",
              "3  0.377436 -1.387024  ... -1.175575  0.647376 -0.221929  0.062723  0.061458   \n",
              "4 -0.270533  0.817739  ...  0.141267 -0.206010  0.502292  0.219422  0.215153   \n",
              "\n",
              "   Amount  Class            Time_new        Date  Day  \n",
              "0  149.62      0 1970-01-01 00:00:00  1970-01-01    1  \n",
              "1    2.69      0 1970-01-01 00:00:00  1970-01-01    1  \n",
              "2  378.66      0 1970-01-01 00:00:01  1970-01-01    1  \n",
              "3  123.50      0 1970-01-01 00:00:01  1970-01-01    1  \n",
              "4   69.99      0 1970-01-01 00:00:02  1970-01-01    1  \n",
              "\n",
              "[5 rows x 34 columns]"
            ],
            "text/html": [
              "\n",
              "  <div id=\"df-64d77f67-9b14-42bf-9f4e-9e62a633c563\">\n",
              "    <div class=\"colab-df-container\">\n",
              "      <div>\n",
              "<style scoped>\n",
              "    .dataframe tbody tr th:only-of-type {\n",
              "        vertical-align: middle;\n",
              "    }\n",
              "\n",
              "    .dataframe tbody tr th {\n",
              "        vertical-align: top;\n",
              "    }\n",
              "\n",
              "    .dataframe thead th {\n",
              "        text-align: right;\n",
              "    }\n",
              "</style>\n",
              "<table border=\"1\" class=\"dataframe\">\n",
              "  <thead>\n",
              "    <tr style=\"text-align: right;\">\n",
              "      <th></th>\n",
              "      <th>Time</th>\n",
              "      <th>V1</th>\n",
              "      <th>V2</th>\n",
              "      <th>V3</th>\n",
              "      <th>V4</th>\n",
              "      <th>V5</th>\n",
              "      <th>V6</th>\n",
              "      <th>V7</th>\n",
              "      <th>V8</th>\n",
              "      <th>V9</th>\n",
              "      <th>...</th>\n",
              "      <th>V24</th>\n",
              "      <th>V25</th>\n",
              "      <th>V26</th>\n",
              "      <th>V27</th>\n",
              "      <th>V28</th>\n",
              "      <th>Amount</th>\n",
              "      <th>Class</th>\n",
              "      <th>Time_new</th>\n",
              "      <th>Date</th>\n",
              "      <th>Day</th>\n",
              "    </tr>\n",
              "  </thead>\n",
              "  <tbody>\n",
              "    <tr>\n",
              "      <th>0</th>\n",
              "      <td>0.0</td>\n",
              "      <td>-1.359807</td>\n",
              "      <td>-0.072781</td>\n",
              "      <td>2.536347</td>\n",
              "      <td>1.378155</td>\n",
              "      <td>-0.338321</td>\n",
              "      <td>0.462388</td>\n",
              "      <td>0.239599</td>\n",
              "      <td>0.098698</td>\n",
              "      <td>0.363787</td>\n",
              "      <td>...</td>\n",
              "      <td>0.066928</td>\n",
              "      <td>0.128539</td>\n",
              "      <td>-0.189115</td>\n",
              "      <td>0.133558</td>\n",
              "      <td>-0.021053</td>\n",
              "      <td>149.62</td>\n",
              "      <td>0</td>\n",
              "      <td>1970-01-01 00:00:00</td>\n",
              "      <td>1970-01-01</td>\n",
              "      <td>1</td>\n",
              "    </tr>\n",
              "    <tr>\n",
              "      <th>1</th>\n",
              "      <td>0.0</td>\n",
              "      <td>1.191857</td>\n",
              "      <td>0.266151</td>\n",
              "      <td>0.166480</td>\n",
              "      <td>0.448154</td>\n",
              "      <td>0.060018</td>\n",
              "      <td>-0.082361</td>\n",
              "      <td>-0.078803</td>\n",
              "      <td>0.085102</td>\n",
              "      <td>-0.255425</td>\n",
              "      <td>...</td>\n",
              "      <td>-0.339846</td>\n",
              "      <td>0.167170</td>\n",
              "      <td>0.125895</td>\n",
              "      <td>-0.008983</td>\n",
              "      <td>0.014724</td>\n",
              "      <td>2.69</td>\n",
              "      <td>0</td>\n",
              "      <td>1970-01-01 00:00:00</td>\n",
              "      <td>1970-01-01</td>\n",
              "      <td>1</td>\n",
              "    </tr>\n",
              "    <tr>\n",
              "      <th>2</th>\n",
              "      <td>1.0</td>\n",
              "      <td>-1.358354</td>\n",
              "      <td>-1.340163</td>\n",
              "      <td>1.773209</td>\n",
              "      <td>0.379780</td>\n",
              "      <td>-0.503198</td>\n",
              "      <td>1.800499</td>\n",
              "      <td>0.791461</td>\n",
              "      <td>0.247676</td>\n",
              "      <td>-1.514654</td>\n",
              "      <td>...</td>\n",
              "      <td>-0.689281</td>\n",
              "      <td>-0.327642</td>\n",
              "      <td>-0.139097</td>\n",
              "      <td>-0.055353</td>\n",
              "      <td>-0.059752</td>\n",
              "      <td>378.66</td>\n",
              "      <td>0</td>\n",
              "      <td>1970-01-01 00:00:01</td>\n",
              "      <td>1970-01-01</td>\n",
              "      <td>1</td>\n",
              "    </tr>\n",
              "    <tr>\n",
              "      <th>3</th>\n",
              "      <td>1.0</td>\n",
              "      <td>-0.966272</td>\n",
              "      <td>-0.185226</td>\n",
              "      <td>1.792993</td>\n",
              "      <td>-0.863291</td>\n",
              "      <td>-0.010309</td>\n",
              "      <td>1.247203</td>\n",
              "      <td>0.237609</td>\n",
              "      <td>0.377436</td>\n",
              "      <td>-1.387024</td>\n",
              "      <td>...</td>\n",
              "      <td>-1.175575</td>\n",
              "      <td>0.647376</td>\n",
              "      <td>-0.221929</td>\n",
              "      <td>0.062723</td>\n",
              "      <td>0.061458</td>\n",
              "      <td>123.50</td>\n",
              "      <td>0</td>\n",
              "      <td>1970-01-01 00:00:01</td>\n",
              "      <td>1970-01-01</td>\n",
              "      <td>1</td>\n",
              "    </tr>\n",
              "    <tr>\n",
              "      <th>4</th>\n",
              "      <td>2.0</td>\n",
              "      <td>-1.158233</td>\n",
              "      <td>0.877737</td>\n",
              "      <td>1.548718</td>\n",
              "      <td>0.403034</td>\n",
              "      <td>-0.407193</td>\n",
              "      <td>0.095921</td>\n",
              "      <td>0.592941</td>\n",
              "      <td>-0.270533</td>\n",
              "      <td>0.817739</td>\n",
              "      <td>...</td>\n",
              "      <td>0.141267</td>\n",
              "      <td>-0.206010</td>\n",
              "      <td>0.502292</td>\n",
              "      <td>0.219422</td>\n",
              "      <td>0.215153</td>\n",
              "      <td>69.99</td>\n",
              "      <td>0</td>\n",
              "      <td>1970-01-01 00:00:02</td>\n",
              "      <td>1970-01-01</td>\n",
              "      <td>1</td>\n",
              "    </tr>\n",
              "  </tbody>\n",
              "</table>\n",
              "<p>5 rows × 34 columns</p>\n",
              "</div>\n",
              "      <button class=\"colab-df-convert\" onclick=\"convertToInteractive('df-64d77f67-9b14-42bf-9f4e-9e62a633c563')\"\n",
              "              title=\"Convert this dataframe to an interactive table.\"\n",
              "              style=\"display:none;\">\n",
              "        \n",
              "  <svg xmlns=\"http://www.w3.org/2000/svg\" height=\"24px\"viewBox=\"0 0 24 24\"\n",
              "       width=\"24px\">\n",
              "    <path d=\"M0 0h24v24H0V0z\" fill=\"none\"/>\n",
              "    <path d=\"M18.56 5.44l.94 2.06.94-2.06 2.06-.94-2.06-.94-.94-2.06-.94 2.06-2.06.94zm-11 1L8.5 8.5l.94-2.06 2.06-.94-2.06-.94L8.5 2.5l-.94 2.06-2.06.94zm10 10l.94 2.06.94-2.06 2.06-.94-2.06-.94-.94-2.06-.94 2.06-2.06.94z\"/><path d=\"M17.41 7.96l-1.37-1.37c-.4-.4-.92-.59-1.43-.59-.52 0-1.04.2-1.43.59L10.3 9.45l-7.72 7.72c-.78.78-.78 2.05 0 2.83L4 21.41c.39.39.9.59 1.41.59.51 0 1.02-.2 1.41-.59l7.78-7.78 2.81-2.81c.8-.78.8-2.07 0-2.86zM5.41 20L4 18.59l7.72-7.72 1.47 1.35L5.41 20z\"/>\n",
              "  </svg>\n",
              "      </button>\n",
              "      \n",
              "  <style>\n",
              "    .colab-df-container {\n",
              "      display:flex;\n",
              "      flex-wrap:wrap;\n",
              "      gap: 12px;\n",
              "    }\n",
              "\n",
              "    .colab-df-convert {\n",
              "      background-color: #E8F0FE;\n",
              "      border: none;\n",
              "      border-radius: 50%;\n",
              "      cursor: pointer;\n",
              "      display: none;\n",
              "      fill: #1967D2;\n",
              "      height: 32px;\n",
              "      padding: 0 0 0 0;\n",
              "      width: 32px;\n",
              "    }\n",
              "\n",
              "    .colab-df-convert:hover {\n",
              "      background-color: #E2EBFA;\n",
              "      box-shadow: 0px 1px 2px rgba(60, 64, 67, 0.3), 0px 1px 3px 1px rgba(60, 64, 67, 0.15);\n",
              "      fill: #174EA6;\n",
              "    }\n",
              "\n",
              "    [theme=dark] .colab-df-convert {\n",
              "      background-color: #3B4455;\n",
              "      fill: #D2E3FC;\n",
              "    }\n",
              "\n",
              "    [theme=dark] .colab-df-convert:hover {\n",
              "      background-color: #434B5C;\n",
              "      box-shadow: 0px 1px 3px 1px rgba(0, 0, 0, 0.15);\n",
              "      filter: drop-shadow(0px 1px 2px rgba(0, 0, 0, 0.3));\n",
              "      fill: #FFFFFF;\n",
              "    }\n",
              "  </style>\n",
              "\n",
              "      <script>\n",
              "        const buttonEl =\n",
              "          document.querySelector('#df-64d77f67-9b14-42bf-9f4e-9e62a633c563 button.colab-df-convert');\n",
              "        buttonEl.style.display =\n",
              "          google.colab.kernel.accessAllowed ? 'block' : 'none';\n",
              "\n",
              "        async function convertToInteractive(key) {\n",
              "          const element = document.querySelector('#df-64d77f67-9b14-42bf-9f4e-9e62a633c563');\n",
              "          const dataTable =\n",
              "            await google.colab.kernel.invokeFunction('convertToInteractive',\n",
              "                                                     [key], {});\n",
              "          if (!dataTable) return;\n",
              "\n",
              "          const docLinkHtml = 'Like what you see? Visit the ' +\n",
              "            '<a target=\"_blank\" href=https://colab.research.google.com/notebooks/data_table.ipynb>data table notebook</a>'\n",
              "            + ' to learn more about interactive tables.';\n",
              "          element.innerHTML = '';\n",
              "          dataTable['output_type'] = 'display_data';\n",
              "          await google.colab.output.renderOutput(dataTable, element);\n",
              "          const docLink = document.createElement('div');\n",
              "          docLink.innerHTML = docLinkHtml;\n",
              "          element.appendChild(docLink);\n",
              "        }\n",
              "      </script>\n",
              "    </div>\n",
              "  </div>\n",
              "  "
            ]
          },
          "metadata": {},
          "execution_count": 28
        }
      ],
      "source": [
        "data.head()"
      ]
    },
    {
      "cell_type": "markdown",
      "source": [
        "Separating the dataset into Day 1 and Day 2"
      ],
      "metadata": {
        "id": "d0ZZEM6c3F_0"
      }
    },
    {
      "cell_type": "markdown",
      "source": [
        "# **DATASET#1: Day 1 and Day 2 Datasets**"
      ],
      "metadata": {
        "id": "ez5BR_ShDVd1"
      }
    },
    {
      "cell_type": "code",
      "source": [
        "Day1 = data.loc[data.Day == 1]\n",
        "Day2 = data.loc[data.Day == 2]\n",
        "#Day 1 has 144786 rows × 34 columns\n",
        "#Day 2 has 140021 rows × 34 columns"
      ],
      "metadata": {
        "id": "MmLhnEJnzP6B"
      },
      "execution_count": 30,
      "outputs": []
    },
    {
      "cell_type": "markdown",
      "source": [
        "# **------> Day 1**"
      ],
      "metadata": {
        "id": "BRaHdKzM34Hy"
      }
    },
    {
      "cell_type": "markdown",
      "source": [
        "# **Frequency of normal and fraudulent transactions on Day 1**"
      ],
      "metadata": {
        "id": "ftx1NB933UGk"
      }
    },
    {
      "cell_type": "code",
      "source": [
        "\n",
        "# Frequency of normal and fraudulent transactions on Day 1\n",
        "df1 = sns.countplot(Day1['Class'])\n",
        "df1.set_xticklabels(['Normal','Fraud'])\n",
        "plt.show()\n",
        "\n",
        "print(pd.Series(Day1.Class).value_counts())\n",
        "plt.show()\n",
        "\n",
        "#In Day 1, there are 144,505 normal transactions and 281 fradulent transactions"
      ],
      "metadata": {
        "colab": {
          "base_uri": "https://localhost:8080/",
          "height": 333
        },
        "id": "ELXtn6Oo3cJr",
        "outputId": "f12063a0-16d5-4411-e16b-8aee71b6ec75"
      },
      "execution_count": 31,
      "outputs": [
        {
          "output_type": "display_data",
          "data": {
            "text/plain": [
              "<Figure size 432x288 with 1 Axes>"
            ],
            "image/png": "[encoded data removed]"
          },
          "metadata": {
            "needs_background": "light"
          }
        },
        {
          "output_type": "stream",
          "name": "stdout",
          "text": [
            "0    144505\n",
            "1       281\n",
            "Name: Class, dtype: int64\n"
          ]
        }
      ]
    },
    {
      "cell_type": "markdown",
      "source": [
        "# **Mean Amount of normal and fraudulent transactions on Day 1**"
      ],
      "metadata": {
        "id": "lZjQNelaB2e6"
      }
    },
    {
      "cell_type": "code",
      "source": [
        "#Average amount per class type in Day 1\n",
        "%matplotlib inline\n",
        "\n",
        "\n",
        "av_amount_per_class = Day1.groupby('Class').Amount.mean()\n",
        "\n",
        "#sort by amount\n",
        "av_amount_per_class.sort_values(inplace=True)\n",
        "\n",
        "x = av_amount_per_class.index.tolist()\n",
        "y = av_amount_per_class.values.tolist()\n",
        "\n",
        "#set figure size\n",
        "plt.figure(figsize=(14,8))\n",
        "\n",
        "#set title\n",
        "plt.title('Mean Amount per Class Type in Day 1')\n",
        "\n",
        "#set axis labels\n",
        "plt.xlabel('Class')\n",
        "plt.ylabel('Mean Transaction Amount')\n",
        "\n",
        "plt.xticks(labels=x, ticks=np.arange(len(x)))\n",
        "\n",
        "plt.bar(x,y, color =['magenta', 'orange']);"
      ],
      "metadata": {
        "colab": {
          "base_uri": "https://localhost:8080/",
          "height": 513
        },
        "id": "bTdYshIs_2Vh",
        "outputId": "6f931152-a2e9-4522-ca33-9f012803a41b"
      },
      "execution_count": 81,
      "outputs": [
        {
          "output_type": "display_data",
          "data": {
            "text/plain": [
              "<Figure size 1008x576 with 1 Axes>"
            ],
            "image/png": "[encoded data removed]"
          },
          "metadata": {
            "needs_background": "light"
          }
        }
      ]
    },
    {
      "cell_type": "markdown",
      "source": [
        "# **DATASET#2: Fraudulent transactions on Day 1 and Normal transactions on Day 1**"
      ],
      "metadata": {
        "id": "GrghQl5ZHKPk"
      }
    },
    {
      "cell_type": "code",
      "source": [
        "FraudDay1 = Day1.loc[Day1.Class == 1]\n",
        "NormalDay1 = Day1.loc[Day1.Class == 0]"
      ],
      "metadata": {
        "id": "IS26CGt2GsBn"
      },
      "execution_count": 86,
      "outputs": []
    },
    {
      "cell_type": "markdown",
      "source": [
        "# **Frequency of Fraudulent Transactions on Day 1**"
      ],
      "metadata": {
        "id": "AhGdIIC1EQ7p"
      }
    },
    {
      "cell_type": "code",
      "source": [
        "#title\n",
        "plt.title('Distribution of Fraudulent Transactions on Day 1')\n",
        "\n",
        "#x and y labels\n",
        "plt.xlabel('Fraudulent Transaction Amount')\n",
        "plt.ylabel('Frequency')\n",
        "\n",
        "#plot histogram\n",
        "plt.hist(FraudDay1['Amount'], bins=50, color='lightblue')\n"
      ],
      "metadata": {
        "colab": {
          "base_uri": "https://localhost:8080/",
          "height": 563
        },
        "id": "pHjANoS4EbQB",
        "outputId": "d82de830-9bde-448e-af72-50e092ff9473"
      },
      "execution_count": 95,
      "outputs": [
        {
          "output_type": "execute_result",
          "data": {
            "text/plain": [
              "(array([163.,  10.,  41.,  11.,   6.,   3.,   7.,   4.,   9.,   3.,   1.,\n",
              "          1.,   3.,   1.,   4.,   1.,   0.,   1.,   0.,   2.,   1.,   2.,\n",
              "          2.,   0.,   0.,   0.,   0.,   0.,   0.,   0.,   0.,   0.,   0.,\n",
              "          1.,   0.,   0.,   0.,   1.,   2.,   0.,   0.,   0.,   0.,   0.,\n",
              "          0.,   0.,   0.,   0.,   0.,   1.]),\n",
              " array([   0.    ,   36.1936,   72.3872,  108.5808,  144.7744,  180.968 ,\n",
              "         217.1616,  253.3552,  289.5488,  325.7424,  361.936 ,  398.1296,\n",
              "         434.3232,  470.5168,  506.7104,  542.904 ,  579.0976,  615.2912,\n",
              "         651.4848,  687.6784,  723.872 ,  760.0656,  796.2592,  832.4528,\n",
              "         868.6464,  904.84  ,  941.0336,  977.2272, 1013.4208, 1049.6144,\n",
              "        1085.808 , 1122.0016, 1158.1952, 1194.3888, 1230.5824, 1266.776 ,\n",
              "        1302.9696, 1339.1632, 1375.3568, 1411.5504, 1447.744 , 1483.9376,\n",
              "        1520.1312, 1556.3248, 1592.5184, 1628.712 , 1664.9056, 1701.0992,\n",
              "        1737.2928, 1773.4864, 1809.68  ]),\n",
              " <a list of 50 Patch objects>)"
            ]
          },
          "metadata": {},
          "execution_count": 95
        },
        {
          "output_type": "display_data",
          "data": {
            "text/plain": [
              "<Figure size 432x288 with 1 Axes>"
            ],
            "image/png": "[encoded data removed]"
          },
          "metadata": {
            "needs_background": "light"
          }
        }
      ]
    },
    {
      "cell_type": "markdown",
      "source": [
        "# **Boxplot showing Outliers of Fraudulent Transactions on Day 1**"
      ],
      "metadata": {
        "id": "UlrWIjMbKgY1"
      }
    },
    {
      "cell_type": "code",
      "source": [
        "data1 = FraudDay1['Amount']\n",
        "\n",
        "#create outlier point shape\n",
        "red_diamond = dict(markerfacecolor= 'r', marker='D')\n",
        "\n",
        "#set title\n",
        "plt.title('Distribution of Fraudulent Transactions on Day 1')\n",
        "\n",
        "#plot boxplot\n",
        "plt.boxplot(data1.values, labels=['Fraudulent Transactions'], flierprops = red_diamond);"
      ],
      "metadata": {
        "colab": {
          "base_uri": "https://localhost:8080/",
          "height": 281
        },
        "id": "pRJbSItAKl_W",
        "outputId": "e9e88c59-b788-4e2a-a3c1-db0ef0e25ad7"
      },
      "execution_count": 100,
      "outputs": [
        {
          "output_type": "display_data",
          "data": {
            "text/plain": [
              "<Figure size 432x288 with 1 Axes>"
            ],
            "image/png": "[encoded data removed]"
          },
          "metadata": {
            "needs_background": "light"
          }
        }
      ]
    },
    {
      "cell_type": "markdown",
      "source": [
        "# **Frequency of Normal Transactions on Day 1**"
      ],
      "metadata": {
        "id": "v8id2FT6JMts"
      }
    },
    {
      "cell_type": "code",
      "source": [
        "#title\n",
        "plt.title('Distribution of Normal Transactions on Day 1')\n",
        "\n",
        "#x and y labels\n",
        "plt.xlabel('Normal Transaction Amount')\n",
        "plt.ylabel('Frequency')\n",
        "\n",
        "#plot histogram\n",
        "plt.hist(NormalDay1['Amount'], bins=50, color='blue')\n"
      ],
      "metadata": {
        "colab": {
          "base_uri": "https://localhost:8080/",
          "height": 688
        },
        "id": "WydeG3PuGkzH",
        "outputId": "07a70ae9-e7ae-46f6-83dd-ccab3f060868"
      },
      "execution_count": 96,
      "outputs": [
        {
          "output_type": "execute_result",
          "data": {
            "text/plain": [
              "(array([1.37741e+05, 4.34600e+03, 1.26900e+03, 5.32000e+02, 2.50000e+02,\n",
              "        1.07000e+02, 8.00000e+01, 5.00000e+01, 3.50000e+01, 3.00000e+01,\n",
              "        2.60000e+01, 9.00000e+00, 3.00000e+00, 9.00000e+00, 3.00000e+00,\n",
              "        4.00000e+00, 2.00000e+00, 1.00000e+00, 1.00000e+00, 2.00000e+00,\n",
              "        1.00000e+00, 0.00000e+00, 1.00000e+00, 0.00000e+00, 0.00000e+00,\n",
              "        0.00000e+00, 0.00000e+00, 0.00000e+00, 0.00000e+00, 0.00000e+00,\n",
              "        1.00000e+00, 0.00000e+00, 1.00000e+00, 0.00000e+00, 0.00000e+00,\n",
              "        0.00000e+00, 0.00000e+00, 0.00000e+00, 0.00000e+00, 0.00000e+00,\n",
              "        0.00000e+00, 0.00000e+00, 0.00000e+00, 0.00000e+00, 0.00000e+00,\n",
              "        0.00000e+00, 0.00000e+00, 0.00000e+00, 0.00000e+00, 1.00000e+00]),\n",
              " array([    0.    ,   393.1306,   786.2612,  1179.3918,  1572.5224,\n",
              "         1965.653 ,  2358.7836,  2751.9142,  3145.0448,  3538.1754,\n",
              "         3931.306 ,  4324.4366,  4717.5672,  5110.6978,  5503.8284,\n",
              "         5896.959 ,  6290.0896,  6683.2202,  7076.3508,  7469.4814,\n",
              "         7862.612 ,  8255.7426,  8648.8732,  9042.0038,  9435.1344,\n",
              "         9828.265 , 10221.3956, 10614.5262, 11007.6568, 11400.7874,\n",
              "        11793.918 , 12187.0486, 12580.1792, 12973.3098, 13366.4404,\n",
              "        13759.571 , 14152.7016, 14545.8322, 14938.9628, 15332.0934,\n",
              "        15725.224 , 16118.3546, 16511.4852, 16904.6158, 17297.7464,\n",
              "        17690.877 , 18084.0076, 18477.1382, 18870.2688, 19263.3994,\n",
              "        19656.53  ]),\n",
              " <a list of 50 Patch objects>)"
            ]
          },
          "metadata": {},
          "execution_count": 96
        },
        {
          "output_type": "display_data",
          "data": {
            "text/plain": [
              "<Figure size 432x288 with 1 Axes>"
            ],
            "image/png": "[encoded data removed]"
          },
          "metadata": {
            "needs_background": "light"
          }
        }
      ]
    },
    {
      "cell_type": "markdown",
      "source": [
        "# **Boxplot showing Outliers of Normal Transactions on Day 1**"
      ],
      "metadata": {
        "id": "6IeEk9D6LuHE"
      }
    },
    {
      "cell_type": "code",
      "source": [
        "data2 = NormalDay1['Amount']\n",
        "\n",
        "#create outlier point shape\n",
        "red_diamond = dict(markerfacecolor= 'r', marker='D')\n",
        "\n",
        "#set title\n",
        "plt.title('Distribution of Normal Transactions on Day 1')\n",
        "\n",
        "#plot boxplot\n",
        "plt.boxplot(data2.values, labels=['Normal Transactions'], flierprops = red_diamond);"
      ],
      "metadata": {
        "colab": {
          "base_uri": "https://localhost:8080/",
          "height": 281
        },
        "id": "uiSlTTsjKfMy",
        "outputId": "0ef966ae-a370-40ee-c7b9-41729be10a49"
      },
      "execution_count": 103,
      "outputs": [
        {
          "output_type": "display_data",
          "data": {
            "text/plain": [
              "<Figure size 432x288 with 1 Axes>"
            ],
            "image/png": "[encoded data removed]"
          },
          "metadata": {
            "needs_background": "light"
          }
        }
      ]
    },
    {
      "cell_type": "markdown",
      "source": [
        "# **------> Day 2**"
      ],
      "metadata": {
        "id": "pmsee4IQ38J0"
      }
    },
    {
      "cell_type": "markdown",
      "source": [
        "# **Frequency of normal and fraudulent transactions on Day 2**"
      ],
      "metadata": {
        "id": "rm-j8Q41CQ_M"
      }
    },
    {
      "cell_type": "code",
      "source": [
        "# Frequency of Normal and Fraudulent transactions in Day 2\n",
        "df2 = sns.countplot(Day2['Class'])\n",
        "df2.set_xticklabels(['Normal','Fraud'])\n",
        "plt.show()\n",
        "\n",
        "print(pd.Series(Day2.Class).value_counts())\n",
        "plt.show()\n",
        "\n",
        "#In Day 2, there are 139,810 normal transactions and 211 fradulent transactions"
      ],
      "metadata": {
        "colab": {
          "base_uri": "https://localhost:8080/",
          "height": 388
        },
        "id": "9ASeAKgg37AS",
        "outputId": "83eb83c8-d656-44d4-94e4-f5f613c488f0"
      },
      "execution_count": 66,
      "outputs": [
        {
          "output_type": "stream",
          "name": "stderr",
          "text": [
            "/usr/local/lib/python3.7/dist-packages/seaborn/_decorators.py:43: FutureWarning: Pass the following variable as a keyword arg: x. From version 0.12, the only valid positional argument will be `data`, and passing other arguments without an explicit keyword will result in an error or misinterpretation.\n",
            "  FutureWarning\n"
          ]
        },
        {
          "output_type": "display_data",
          "data": {
            "text/plain": [
              "<Figure size 432x288 with 1 Axes>"
            ],
            "image/png": "[encoded data removed]"
          },
          "metadata": {
            "needs_background": "light"
          }
        },
        {
          "output_type": "stream",
          "name": "stdout",
          "text": [
            "0    139810\n",
            "1       211\n",
            "Name: Class, dtype: int64\n"
          ]
        }
      ]
    },
    {
      "cell_type": "markdown",
      "source": [
        "# **Mean amount of normal and fraudulent transactions on Day 2**"
      ],
      "metadata": {
        "id": "n82lvpIcCC-V"
      }
    },
    {
      "cell_type": "code",
      "source": [
        "#Average amount per class type in Day 2\n",
        "%matplotlib inline\n",
        "\n",
        "\n",
        "av_amount_per_class = Day2.groupby('Class').Amount.mean()\n",
        "\n",
        "#sort by amount\n",
        "av_amount_per_class.sort_values(inplace=True)\n",
        "\n",
        "x = av_amount_per_class.index.tolist()\n",
        "y = av_amount_per_class.values.tolist()\n",
        "\n",
        "#set figure size\n",
        "plt.figure(figsize=(14,8))\n",
        "\n",
        "#set title\n",
        "plt.title('Mean Amount per Class Type in Day 2')\n",
        "\n",
        "#set axis labels\n",
        "plt.xlabel('Class')\n",
        "plt.ylabel('Mean Transaction Amount')\n",
        "\n",
        "plt.xticks(labels=x, ticks=np.arange(len(x)))\n",
        "\n",
        "plt.bar(x,y, color =['magenta', 'orange']);"
      ],
      "metadata": {
        "colab": {
          "base_uri": "https://localhost:8080/",
          "height": 513
        },
        "id": "mTndJmQb_isV",
        "outputId": "0816f2a3-b253-4ac5-e770-d2d8a62ffb09"
      },
      "execution_count": 85,
      "outputs": [
        {
          "output_type": "display_data",
          "data": {
            "text/plain": [
              "<Figure size 1008x576 with 1 Axes>"
            ],
            "image/png": "[encoded data removed]"
          },
          "metadata": {
            "needs_background": "light"
          }
        }
      ]
    },
    {
      "cell_type": "markdown",
      "source": [
        "# **DATASET#3: Fraudulent transactions and Normal Transactions on Day 2**"
      ],
      "metadata": {
        "id": "-JxxHFzPJlck"
      }
    },
    {
      "cell_type": "code",
      "source": [
        "FraudDay2 = Day2.loc[Day2.Class == 1]\n",
        "NormalDay2 = Day2.loc[Day2.Class == 0]"
      ],
      "metadata": {
        "id": "WKBCyeyFJsGE"
      },
      "execution_count": 97,
      "outputs": []
    },
    {
      "cell_type": "markdown",
      "source": [
        "# **Frequency of Fraudulent Transactions on Day 2**"
      ],
      "metadata": {
        "id": "9r2eTawXJ0mG"
      }
    },
    {
      "cell_type": "code",
      "source": [
        "#title\n",
        "plt.title('Distribution of Fraudulent Transactions on Day 2')\n",
        "\n",
        "#x and y labels\n",
        "plt.xlabel('Fraudulent Transaction Amount')\n",
        "plt.ylabel('Frequency')\n",
        "\n",
        "#plot histogram\n",
        "plt.hist(FraudDay2['Amount'], bins=50, color='lightblue')"
      ],
      "metadata": {
        "colab": {
          "base_uri": "https://localhost:8080/",
          "height": 563
        },
        "id": "INpcC3DTJ0_O",
        "outputId": "7690e90f-33a2-4599-8e71-8bf90c9ee856"
      },
      "execution_count": 98,
      "outputs": [
        {
          "output_type": "execute_result",
          "data": {
            "text/plain": [
              "(array([131.,  19.,  14.,   5.,   7.,   3.,   3.,   4.,   5.,   1.,   1.,\n",
              "          1.,   0.,   2.,   3.,   1.,   1.,   3.,   0.,   1.,   0.,   1.,\n",
              "          0.,   1.,   0.,   1.,   0.,   0.,   0.,   0.,   0.,   1.,   0.,\n",
              "          0.,   0.,   1.,   0.,   0.,   0.,   0.,   0.,   0.,   0.,   0.,\n",
              "          0.,   0.,   0.,   0.,   0.,   1.]),\n",
              " array([   0.    ,   42.5174,   85.0348,  127.5522,  170.0696,  212.587 ,\n",
              "         255.1044,  297.6218,  340.1392,  382.6566,  425.174 ,  467.6914,\n",
              "         510.2088,  552.7262,  595.2436,  637.761 ,  680.2784,  722.7958,\n",
              "         765.3132,  807.8306,  850.348 ,  892.8654,  935.3828,  977.9002,\n",
              "        1020.4176, 1062.935 , 1105.4524, 1147.9698, 1190.4872, 1233.0046,\n",
              "        1275.522 , 1318.0394, 1360.5568, 1403.0742, 1445.5916, 1488.109 ,\n",
              "        1530.6264, 1573.1438, 1615.6612, 1658.1786, 1700.696 , 1743.2134,\n",
              "        1785.7308, 1828.2482, 1870.7656, 1913.283 , 1955.8004, 1998.3178,\n",
              "        2040.8352, 2083.3526, 2125.87  ]),\n",
              " <a list of 50 Patch objects>)"
            ]
          },
          "metadata": {},
          "execution_count": 98
        },
        {
          "output_type": "display_data",
          "data": {
            "text/plain": [
              "<Figure size 432x288 with 1 Axes>"
            ],
            "image/png": "[encoded data removed]"
          },
          "metadata": {
            "needs_background": "light"
          }
        }
      ]
    },
    {
      "cell_type": "markdown",
      "source": [
        "# **Boxplot showing Outliers of Fraudulent Transactions on Day 2**"
      ],
      "metadata": {
        "id": "7E1Q1U1FMazU"
      }
    },
    {
      "cell_type": "code",
      "source": [
        "data3 = FraudDay2['Amount']\n",
        "\n",
        "#create outlier point shape\n",
        "red_diamond = dict(markerfacecolor= 'r', marker='D')\n",
        "\n",
        "#set title\n",
        "plt.title('Distribution of Fraudulent Transactions on Day 2')\n",
        "\n",
        "#plot boxplot\n",
        "plt.boxplot(data3.values, labels=['Fraudulent Transactions'], flierprops = red_diamond);"
      ],
      "metadata": {
        "colab": {
          "base_uri": "https://localhost:8080/",
          "height": 281
        },
        "id": "TSTWX0cGMblk",
        "outputId": "f0510085-cd13-49bd-c764-5d78d72b1df6"
      },
      "execution_count": 105,
      "outputs": [
        {
          "output_type": "display_data",
          "data": {
            "text/plain": [
              "<Figure size 432x288 with 1 Axes>"
            ],
            "image/png": "[encoded data removed]"
          },
          "metadata": {
            "needs_background": "light"
          }
        }
      ]
    },
    {
      "cell_type": "markdown",
      "source": [
        "# **Frequency of Normal Transactions on Day 2**"
      ],
      "metadata": {
        "id": "uYzbzhxgJ8f8"
      }
    },
    {
      "cell_type": "code",
      "source": [
        "#title\n",
        "plt.title('Distribution of Normal Transactions on Day 1')\n",
        "\n",
        "#x and y labels\n",
        "plt.xlabel('Normal Transaction Amount')\n",
        "plt.ylabel('Frequency')\n",
        "\n",
        "#plot histogram\n",
        "plt.hist(NormalDay1['Amount'], bins=50, color='blue')\n"
      ],
      "metadata": {
        "colab": {
          "base_uri": "https://localhost:8080/",
          "height": 688
        },
        "id": "YD7IuCY0KEkA",
        "outputId": "bc3b07f7-8ae0-4d7e-eb80-24d956838889"
      },
      "execution_count": 99,
      "outputs": [
        {
          "output_type": "execute_result",
          "data": {
            "text/plain": [
              "(array([1.37741e+05, 4.34600e+03, 1.26900e+03, 5.32000e+02, 2.50000e+02,\n",
              "        1.07000e+02, 8.00000e+01, 5.00000e+01, 3.50000e+01, 3.00000e+01,\n",
              "        2.60000e+01, 9.00000e+00, 3.00000e+00, 9.00000e+00, 3.00000e+00,\n",
              "        4.00000e+00, 2.00000e+00, 1.00000e+00, 1.00000e+00, 2.00000e+00,\n",
              "        1.00000e+00, 0.00000e+00, 1.00000e+00, 0.00000e+00, 0.00000e+00,\n",
              "        0.00000e+00, 0.00000e+00, 0.00000e+00, 0.00000e+00, 0.00000e+00,\n",
              "        1.00000e+00, 0.00000e+00, 1.00000e+00, 0.00000e+00, 0.00000e+00,\n",
              "        0.00000e+00, 0.00000e+00, 0.00000e+00, 0.00000e+00, 0.00000e+00,\n",
              "        0.00000e+00, 0.00000e+00, 0.00000e+00, 0.00000e+00, 0.00000e+00,\n",
              "        0.00000e+00, 0.00000e+00, 0.00000e+00, 0.00000e+00, 1.00000e+00]),\n",
              " array([    0.    ,   393.1306,   786.2612,  1179.3918,  1572.5224,\n",
              "         1965.653 ,  2358.7836,  2751.9142,  3145.0448,  3538.1754,\n",
              "         3931.306 ,  4324.4366,  4717.5672,  5110.6978,  5503.8284,\n",
              "         5896.959 ,  6290.0896,  6683.2202,  7076.3508,  7469.4814,\n",
              "         7862.612 ,  8255.7426,  8648.8732,  9042.0038,  9435.1344,\n",
              "         9828.265 , 10221.3956, 10614.5262, 11007.6568, 11400.7874,\n",
              "        11793.918 , 12187.0486, 12580.1792, 12973.3098, 13366.4404,\n",
              "        13759.571 , 14152.7016, 14545.8322, 14938.9628, 15332.0934,\n",
              "        15725.224 , 16118.3546, 16511.4852, 16904.6158, 17297.7464,\n",
              "        17690.877 , 18084.0076, 18477.1382, 18870.2688, 19263.3994,\n",
              "        19656.53  ]),\n",
              " <a list of 50 Patch objects>)"
            ]
          },
          "metadata": {},
          "execution_count": 99
        },
        {
          "output_type": "display_data",
          "data": {
            "text/plain": [
              "<Figure size 432x288 with 1 Axes>"
            ],
            "image/png": "[encoded data removed]"
          },
          "metadata": {
            "needs_background": "light"
          }
        }
      ]
    },
    {
      "cell_type": "markdown",
      "source": [
        "# **Boxplot showing Outliers of Normal Transactions on Day 2**"
      ],
      "metadata": {
        "id": "wcWQqdnaMvZH"
      }
    },
    {
      "cell_type": "code",
      "source": [
        "data4 = NormalDay2['Amount']\n",
        "\n",
        "#create outlier point shape\n",
        "red_diamond = dict(markerfacecolor= 'r', marker='D')\n",
        "\n",
        "#set title\n",
        "plt.title('Distribution of Normal Transactions on Day 2')\n",
        "\n",
        "#plot boxplot\n",
        "plt.boxplot(data4.values, labels=['Normal Transactions'], flierprops = red_diamond);"
      ],
      "metadata": {
        "colab": {
          "base_uri": "https://localhost:8080/",
          "height": 281
        },
        "id": "BI4LVPQLMxBV",
        "outputId": "eb95d897-7004-40f0-c9d7-ba1e37e133a1"
      },
      "execution_count": 106,
      "outputs": [
        {
          "output_type": "display_data",
          "data": {
            "text/plain": [
              "<Figure size 432x288 with 1 Axes>"
            ],
            "image/png": "[encoded data removed]"
          },
          "metadata": {
            "needs_background": "light"
          }
        }
      ]
    },
    {
      "cell_type": "markdown",
      "source": [
        "#PART 3: **Multivariate Analysis : Analyzing the relationship between the variables**"
      ],
      "metadata": {
        "id": "9gEUZt4Bazbp"
      }
    },
    {
      "cell_type": "code",
      "source": [
        "#Correlation Matrix\n",
        "\n",
        "correlation_matrix = df.corr()\n",
        "fig = plt.figure(figsize=(12,9))\n",
        "sns.heatmap(correlation_matrix,vmax=0.8,square = True)\n",
        "plt.show()\n",
        "\n",
        "#Class has some correlations with V1,V3,V5,V7,V9,V10,V11,V12,V14,V16,V17,V18 features but not with time and amount"
      ],
      "metadata": {
        "colab": {
          "base_uri": "https://localhost:8080/",
          "height": 570
        },
        "id": "FJN9TWMca7d3",
        "outputId": "8b1f211d-6c90-40f7-9f06-05a2a941db0a"
      },
      "execution_count": 154,
      "outputs": [
        {
          "output_type": "display_data",
          "data": {
            "text/plain": [
              "<Figure size 864x648 with 2 Axes>"
            ],
            "image/png": "[encoded data removed]"
          },
          "metadata": {
            "needs_background": "light"
          }
        }
      ]
    },
    {
      "cell_type": "code",
      "source": [
        "data_edit = data.copy()"
      ],
      "metadata": {
        "id": "lNNomDZkgN1J"
      },
      "execution_count": 175,
      "outputs": []
    },
    {
      "cell_type": "code",
      "source": [
        "data_edit['Class'] = data_edit.Class.astype('category')"
      ],
      "metadata": {
        "id": "qAF98MDmgWJA"
      },
      "execution_count": 176,
      "outputs": []
    },
    {
      "cell_type": "code",
      "source": [
        "data_edit.info()"
      ],
      "metadata": {
        "colab": {
          "base_uri": "https://localhost:8080/"
        },
        "id": "Ht_GiJyZgQYC",
        "outputId": "f71613cc-3ef7-43c5-f567-75edb05a4acc"
      },
      "execution_count": 177,
      "outputs": [
        {
          "output_type": "stream",
          "name": "stdout",
          "text": [
            "<class 'pandas.core.frame.DataFrame'>\n",
            "RangeIndex: 284807 entries, 0 to 284806\n",
            "Data columns (total 34 columns):\n",
            " #   Column    Non-Null Count   Dtype         \n",
            "---  ------    --------------   -----         \n",
            " 0   Time      284807 non-null  float64       \n",
            " 1   V1        284807 non-null  float64       \n",
            " 2   V2        284807 non-null  float64       \n",
            " 3   V3        284807 non-null  float64       \n",
            " 4   V4        284807 non-null  float64       \n",
            " 5   V5        284807 non-null  float64       \n",
            " 6   V6        284807 non-null  float64       \n",
            " 7   V7        284807 non-null  float64       \n",
            " 8   V8        284807 non-null  float64       \n",
            " 9   V9        284807 non-null  float64       \n",
            " 10  V10       284807 non-null  float64       \n",
            " 11  V11       284807 non-null  float64       \n",
            " 12  V12       284807 non-null  float64       \n",
            " 13  V13       284807 non-null  float64       \n",
            " 14  V14       284807 non-null  float64       \n",
            " 15  V15       284807 non-null  float64       \n",
            " 16  V16       284807 non-null  float64       \n",
            " 17  V17       284807 non-null  float64       \n",
            " 18  V18       284807 non-null  float64       \n",
            " 19  V19       284807 non-null  float64       \n",
            " 20  V20       284807 non-null  float64       \n",
            " 21  V21       284807 non-null  float64       \n",
            " 22  V22       284807 non-null  float64       \n",
            " 23  V23       284807 non-null  float64       \n",
            " 24  V24       284807 non-null  float64       \n",
            " 25  V25       284807 non-null  float64       \n",
            " 26  V26       284807 non-null  float64       \n",
            " 27  V27       284807 non-null  float64       \n",
            " 28  V28       284807 non-null  float64       \n",
            " 29  Amount    284807 non-null  float64       \n",
            " 30  Class     284807 non-null  category      \n",
            " 31  Time_new  284807 non-null  datetime64[ns]\n",
            " 32  Date      284807 non-null  object        \n",
            " 33  Day       284807 non-null  int64         \n",
            "dtypes: category(1), datetime64[ns](1), float64(30), int64(1), object(1)\n",
            "memory usage: 72.0+ MB\n"
          ]
        }
      ]
    },
    {
      "cell_type": "code",
      "source": [
        "\n",
        "#sns.pairplot(data_edit, hue='Class', height=2.5);"
      ],
      "metadata": {
        "id": "ZPNvF7QMcz5p"
      },
      "execution_count": null,
      "outputs": []
    },
    {
      "cell_type": "markdown",
      "source": [
        "# **Detecting Multicollinearity using VIF(Variable Inflation Factors).**"
      ],
      "metadata": {
        "id": "50XWQGI2udgC"
      }
    },
    {
      "cell_type": "code",
      "source": [
        "df2 = df.copy()\n",
        "y = df2['Class'] \n",
        "X =df2[df2 != 'Class']"
      ],
      "metadata": {
        "id": "kCFK33bU9IzF"
      },
      "execution_count": 12,
      "outputs": []
    },
    {
      "cell_type": "code",
      "source": [
        "\n",
        "# Import library for VIF\n",
        "from statsmodels.stats.outliers_influence import variance_inflation_factor\n",
        "\n",
        "def calc_vif(X):\n",
        "\n",
        "    # Calculating VIF\n",
        "    vif = pd.DataFrame()\n",
        "    vif[\"variables\"] = X.columns\n",
        "    vif[\"VIF\"] = [variance_inflation_factor(X.values, i) for i in range(X.shape[1])]\n",
        "\n",
        "    return(vif)\n",
        "\n",
        "\n",
        "calc_vif(X)"
      ],
      "metadata": {
        "colab": {
          "base_uri": "https://localhost:8080/",
          "height": 1000
        },
        "id": "2d-W_4RGujIo",
        "outputId": "afbbc753-f661-4e9d-ca62-2add5f21d8ff"
      },
      "execution_count": 13,
      "outputs": [
        {
          "output_type": "execute_result",
          "data": {
            "text/plain": [
              "   variables        VIF\n",
              "0       Time   2.339858\n",
              "1         V1   1.638237\n",
              "2         V2   3.900804\n",
              "3         V3   1.321018\n",
              "4         V4   1.172479\n",
              "5         V5   2.764441\n",
              "6         V6   1.528629\n",
              "7         V7   2.603517\n",
              "8         V8   1.098591\n",
              "9         V9   1.037715\n",
              "10       V10   1.208870\n",
              "11       V11   1.080378\n",
              "12       V12   1.154440\n",
              "13       V13   1.003473\n",
              "14       V14   1.219562\n",
              "15       V15   1.014148\n",
              "16       V16   1.080994\n",
              "17       V17   1.227258\n",
              "18       V18   1.033900\n",
              "19       V19   1.040800\n",
              "20       V20   2.233935\n",
              "21       V21   1.103107\n",
              "22       V22   1.082408\n",
              "23       V23   1.149293\n",
              "24       V24   1.000773\n",
              "25       V25   1.013526\n",
              "26       V26   1.000539\n",
              "27       V27   1.009509\n",
              "28       V28   1.001595\n",
              "29    Amount  11.507919\n",
              "30     Class   2.093512"
            ],
            "text/html": [
              "\n",
              "  <div id=\"df-8f74ecb5-1739-4ef7-8d3b-15a347d41add\">\n",
              "    <div class=\"colab-df-container\">\n",
              "      <div>\n",
              "<style scoped>\n",
              "    .dataframe tbody tr th:only-of-type {\n",
              "        vertical-align: middle;\n",
              "    }\n",
              "\n",
              "    .dataframe tbody tr th {\n",
              "        vertical-align: top;\n",
              "    }\n",
              "\n",
              "    .dataframe thead th {\n",
              "        text-align: right;\n",
              "    }\n",
              "</style>\n",
              "<table border=\"1\" class=\"dataframe\">\n",
              "  <thead>\n",
              "    <tr style=\"text-align: right;\">\n",
              "      <th></th>\n",
              "      <th>variables</th>\n",
              "      <th>VIF</th>\n",
              "    </tr>\n",
              "  </thead>\n",
              "  <tbody>\n",
              "    <tr>\n",
              "      <th>0</th>\n",
              "      <td>Time</td>\n",
              "      <td>2.339858</td>\n",
              "    </tr>\n",
              "    <tr>\n",
              "      <th>1</th>\n",
              "      <td>V1</td>\n",
              "      <td>1.638237</td>\n",
              "    </tr>\n",
              "    <tr>\n",
              "      <th>2</th>\n",
              "      <td>V2</td>\n",
              "      <td>3.900804</td>\n",
              "    </tr>\n",
              "    <tr>\n",
              "      <th>3</th>\n",
              "      <td>V3</td>\n",
              "      <td>1.321018</td>\n",
              "    </tr>\n",
              "    <tr>\n",
              "      <th>4</th>\n",
              "      <td>V4</td>\n",
              "      <td>1.172479</td>\n",
              "    </tr>\n",
              "    <tr>\n",
              "      <th>5</th>\n",
              "      <td>V5</td>\n",
              "      <td>2.764441</td>\n",
              "    </tr>\n",
              "    <tr>\n",
              "      <th>6</th>\n",
              "      <td>V6</td>\n",
              "      <td>1.528629</td>\n",
              "    </tr>\n",
              "    <tr>\n",
              "      <th>7</th>\n",
              "      <td>V7</td>\n",
              "      <td>2.603517</td>\n",
              "    </tr>\n",
              "    <tr>\n",
              "      <th>8</th>\n",
              "      <td>V8</td>\n",
              "      <td>1.098591</td>\n",
              "    </tr>\n",
              "    <tr>\n",
              "      <th>9</th>\n",
              "      <td>V9</td>\n",
              "      <td>1.037715</td>\n",
              "    </tr>\n",
              "    <tr>\n",
              "      <th>10</th>\n",
              "      <td>V10</td>\n",
              "      <td>1.208870</td>\n",
              "    </tr>\n",
              "    <tr>\n",
              "      <th>11</th>\n",
              "      <td>V11</td>\n",
              "      <td>1.080378</td>\n",
              "    </tr>\n",
              "    <tr>\n",
              "      <th>12</th>\n",
              "      <td>V12</td>\n",
              "      <td>1.154440</td>\n",
              "    </tr>\n",
              "    <tr>\n",
              "      <th>13</th>\n",
              "      <td>V13</td>\n",
              "      <td>1.003473</td>\n",
              "    </tr>\n",
              "    <tr>\n",
              "      <th>14</th>\n",
              "      <td>V14</td>\n",
              "      <td>1.219562</td>\n",
              "    </tr>\n",
              "    <tr>\n",
              "      <th>15</th>\n",
              "      <td>V15</td>\n",
              "      <td>1.014148</td>\n",
              "    </tr>\n",
              "    <tr>\n",
              "      <th>16</th>\n",
              "      <td>V16</td>\n",
              "      <td>1.080994</td>\n",
              "    </tr>\n",
              "    <tr>\n",
              "      <th>17</th>\n",
              "      <td>V17</td>\n",
              "      <td>1.227258</td>\n",
              "    </tr>\n",
              "    <tr>\n",
              "      <th>18</th>\n",
              "      <td>V18</td>\n",
              "      <td>1.033900</td>\n",
              "    </tr>\n",
              "    <tr>\n",
              "      <th>19</th>\n",
              "      <td>V19</td>\n",
              "      <td>1.040800</td>\n",
              "    </tr>\n",
              "    <tr>\n",
              "      <th>20</th>\n",
              "      <td>V20</td>\n",
              "      <td>2.233935</td>\n",
              "    </tr>\n",
              "    <tr>\n",
              "      <th>21</th>\n",
              "      <td>V21</td>\n",
              "      <td>1.103107</td>\n",
              "    </tr>\n",
              "    <tr>\n",
              "      <th>22</th>\n",
              "      <td>V22</td>\n",
              "      <td>1.082408</td>\n",
              "    </tr>\n",
              "    <tr>\n",
              "      <th>23</th>\n",
              "      <td>V23</td>\n",
              "      <td>1.149293</td>\n",
              "    </tr>\n",
              "    <tr>\n",
              "      <th>24</th>\n",
              "      <td>V24</td>\n",
              "      <td>1.000773</td>\n",
              "    </tr>\n",
              "    <tr>\n",
              "      <th>25</th>\n",
              "      <td>V25</td>\n",
              "      <td>1.013526</td>\n",
              "    </tr>\n",
              "    <tr>\n",
              "      <th>26</th>\n",
              "      <td>V26</td>\n",
              "      <td>1.000539</td>\n",
              "    </tr>\n",
              "    <tr>\n",
              "      <th>27</th>\n",
              "      <td>V27</td>\n",
              "      <td>1.009509</td>\n",
              "    </tr>\n",
              "    <tr>\n",
              "      <th>28</th>\n",
              "      <td>V28</td>\n",
              "      <td>1.001595</td>\n",
              "    </tr>\n",
              "    <tr>\n",
              "      <th>29</th>\n",
              "      <td>Amount</td>\n",
              "      <td>11.507919</td>\n",
              "    </tr>\n",
              "    <tr>\n",
              "      <th>30</th>\n",
              "      <td>Class</td>\n",
              "      <td>2.093512</td>\n",
              "    </tr>\n",
              "  </tbody>\n",
              "</table>\n",
              "</div>\n",
              "      <button class=\"colab-df-convert\" onclick=\"convertToInteractive('df-8f74ecb5-1739-4ef7-8d3b-15a347d41add')\"\n",
              "              title=\"Convert this dataframe to an interactive table.\"\n",
              "              style=\"display:none;\">\n",
              "        \n",
              "  <svg xmlns=\"http://www.w3.org/2000/svg\" height=\"24px\"viewBox=\"0 0 24 24\"\n",
              "       width=\"24px\">\n",
              "    <path d=\"M0 0h24v24H0V0z\" fill=\"none\"/>\n",
              "    <path d=\"M18.56 5.44l.94 2.06.94-2.06 2.06-.94-2.06-.94-.94-2.06-.94 2.06-2.06.94zm-11 1L8.5 8.5l.94-2.06 2.06-.94-2.06-.94L8.5 2.5l-.94 2.06-2.06.94zm10 10l.94 2.06.94-2.06 2.06-.94-2.06-.94-.94-2.06-.94 2.06-2.06.94z\"/><path d=\"M17.41 7.96l-1.37-1.37c-.4-.4-.92-.59-1.43-.59-.52 0-1.04.2-1.43.59L10.3 9.45l-7.72 7.72c-.78.78-.78 2.05 0 2.83L4 21.41c.39.39.9.59 1.41.59.51 0 1.02-.2 1.41-.59l7.78-7.78 2.81-2.81c.8-.78.8-2.07 0-2.86zM5.41 20L4 18.59l7.72-7.72 1.47 1.35L5.41 20z\"/>\n",
              "  </svg>\n",
              "      </button>\n",
              "      \n",
              "  <style>\n",
              "    .colab-df-container {\n",
              "      display:flex;\n",
              "      flex-wrap:wrap;\n",
              "      gap: 12px;\n",
              "    }\n",
              "\n",
              "    .colab-df-convert {\n",
              "      background-color: #E8F0FE;\n",
              "      border: none;\n",
              "      border-radius: 50%;\n",
              "      cursor: pointer;\n",
              "      display: none;\n",
              "      fill: #1967D2;\n",
              "      height: 32px;\n",
              "      padding: 0 0 0 0;\n",
              "      width: 32px;\n",
              "    }\n",
              "\n",
              "    .colab-df-convert:hover {\n",
              "      background-color: #E2EBFA;\n",
              "      box-shadow: 0px 1px 2px rgba(60, 64, 67, 0.3), 0px 1px 3px 1px rgba(60, 64, 67, 0.15);\n",
              "      fill: #174EA6;\n",
              "    }\n",
              "\n",
              "    [theme=dark] .colab-df-convert {\n",
              "      background-color: #3B4455;\n",
              "      fill: #D2E3FC;\n",
              "    }\n",
              "\n",
              "    [theme=dark] .colab-df-convert:hover {\n",
              "      background-color: #434B5C;\n",
              "      box-shadow: 0px 1px 3px 1px rgba(0, 0, 0, 0.15);\n",
              "      filter: drop-shadow(0px 1px 2px rgba(0, 0, 0, 0.3));\n",
              "      fill: #FFFFFF;\n",
              "    }\n",
              "  </style>\n",
              "\n",
              "      <script>\n",
              "        const buttonEl =\n",
              "          document.querySelector('#df-8f74ecb5-1739-4ef7-8d3b-15a347d41add button.colab-df-convert');\n",
              "        buttonEl.style.display =\n",
              "          google.colab.kernel.accessAllowed ? 'block' : 'none';\n",
              "\n",
              "        async function convertToInteractive(key) {\n",
              "          const element = document.querySelector('#df-8f74ecb5-1739-4ef7-8d3b-15a347d41add');\n",
              "          const dataTable =\n",
              "            await google.colab.kernel.invokeFunction('convertToInteractive',\n",
              "                                                     [key], {});\n",
              "          if (!dataTable) return;\n",
              "\n",
              "          const docLinkHtml = 'Like what you see? Visit the ' +\n",
              "            '<a target=\"_blank\" href=https://colab.research.google.com/notebooks/data_table.ipynb>data table notebook</a>'\n",
              "            + ' to learn more about interactive tables.';\n",
              "          element.innerHTML = '';\n",
              "          dataTable['output_type'] = 'display_data';\n",
              "          await google.colab.output.renderOutput(dataTable, element);\n",
              "          const docLink = document.createElement('div');\n",
              "          docLink.innerHTML = docLinkHtml;\n",
              "          element.appendChild(docLink);\n",
              "        }\n",
              "      </script>\n",
              "    </div>\n",
              "  </div>\n",
              "  "
            ]
          },
          "metadata": {},
          "execution_count": 13
        }
      ]
    },
    {
      "cell_type": "markdown",
      "source": [
        "As Amount is the only variable with high multicollinearity, we won't drop it. Amount is an important feature which we cannot drop. The other features can be kept as they have low multicollinearity (below 5)\n",
        "\n",
        "\n",
        "\n",
        "0\tTime\t2.339858\n",
        "1\tV1\t1.638237\n",
        "2\tV2\t3.900804\n",
        "3\tV3\t1.321018\n",
        "4\tV4\t1.172479\n",
        "5\tV5\t2.764441\n",
        "6\tV6\t1.528629\n",
        "7\tV7\t2.603517\n",
        "8\tV8\t1.098591\n",
        "9\tV9\t1.037715\n",
        "10\tV10\t1.208870\n",
        "11\tV11\t1.080378\n",
        "12\tV12\t1.154440\n",
        "13\tV13\t1.003473\n",
        "14\tV14\t1.219562\n",
        "15\tV15\t1.014148\n",
        "16\tV16\t1.080994\n",
        "17\tV17\t1.227258\n",
        "18\tV18\t1.033900\n",
        "19\tV19\t1.040800\n",
        "20\tV20\t2.233935\n",
        "21\tV21\t1.103107\n",
        "22\tV22\t1.082408\n",
        "23\tV23\t1.149293\n",
        "24\tV24\t1.000773\n",
        "25\tV25\t1.013526\n",
        "26\tV26\t1.000539\n",
        "27\tV27\t1.009509\n",
        "28\tV28\t1.001595\n",
        "29\tAmount\t11.507919\n",
        "30\tClass\t2.093512\n",
        "\n",
        "\n"
      ],
      "metadata": {
        "id": "aZRJUuks-iKa"
      }
    },
    {
      "cell_type": "markdown",
      "source": [
        "# PART 4:**Feature selection - ANOVA**"
      ],
      "metadata": {
        "id": "znl5x23z5aF_"
      }
    },
    {
      "cell_type": "markdown",
      "metadata": {
        "id": "UCPWv_IUjn1G"
      },
      "source": [
        "Using Filter method,  ANOVA statistical test to determine relationship between categorical and numerical variables:\n",
        "\n",
        "Assumption(H0): There is no relationship between the variables (i.e. The average(mean) values of the numeric Predictor variable is the same for all the groups in the categorical Target variable)\n",
        "\n",
        "ANOVA Test result: Probability of H0 being true"
      ]
    },
    {
      "cell_type": "code",
      "source": [
        "import warnings\n",
        "warnings.filterwarnings(\"ignore\")\n",
        "\n",
        "#load libraries\n",
        "from sklearn.feature_selection import SelectKBest\n",
        "from sklearn.feature_selection import f_classif\n",
        "\n",
        "#load data\n",
        "df3 = df.copy()\n",
        "\n",
        "#create features and target\n",
        "target = df3['Class'] \n",
        "features_df = df3.drop(['Class'], axis=1) \n",
        "\n",
        "\n",
        "#Select features with best ANOVA F values - create selectKbest object\n",
        "selector = SelectKBest(f_classif, k=10)\n",
        "\n",
        "#Apply the selectkbest object to features and target\n",
        "selector.fit(features_df,target)\n",
        "\n",
        "# Get columns to keep and create new dataframe with those only\n",
        "cols = selector.get_support(indices=True)\n",
        "features_df_new = features_df.iloc[:,cols]\n",
        "\n",
        "#Show results\n",
        "print(\"Original amount of features:\", features_df.shape)\n",
        "print(\"Reduced amount of features:\", features_df_new .shape)\n"
      ],
      "metadata": {
        "colab": {
          "base_uri": "https://localhost:8080/"
        },
        "id": "lidsCv3c1F2M",
        "outputId": "724bb31b-1617-4e73-add3-c594a82a85f1"
      },
      "execution_count": 10,
      "outputs": [
        {
          "output_type": "stream",
          "name": "stdout",
          "text": [
            "Original amount of features: (284807, 30)\n",
            "Reduced amount of features: (284807, 10)\n"
          ]
        }
      ]
    },
    {
      "cell_type": "markdown",
      "source": [
        "**Selected the 10 best features using ANOVA test:  V3, V4, V7, V10, V11, V14, V16, V17, V18 **"
      ],
      "metadata": {
        "id": "4jlcQ8ArChAt"
      }
    },
    {
      "cell_type": "code",
      "source": [
        "features_df_new.head()"
      ],
      "metadata": {
        "colab": {
          "base_uri": "https://localhost:8080/",
          "height": 206
        },
        "id": "_ERsvZSMCVDb",
        "outputId": "fb64ec9c-f4b1-4ed3-d8aa-32af6293e015"
      },
      "execution_count": 12,
      "outputs": [
        {
          "output_type": "execute_result",
          "data": {
            "text/plain": [
              "         V3        V4        V7       V10       V11       V12       V14  \\\n",
              "0  2.536347  1.378155  0.239599  0.090794 -0.551600 -0.617801 -0.311169   \n",
              "1  0.166480  0.448154 -0.078803 -0.166974  1.612727  1.065235 -0.143772   \n",
              "2  1.773209  0.379780  0.791461  0.207643  0.624501  0.066084 -0.165946   \n",
              "3  1.792993 -0.863291  0.237609 -0.054952 -0.226487  0.178228 -0.287924   \n",
              "4  1.548718  0.403034  0.592941  0.753074 -0.822843  0.538196 -1.119670   \n",
              "\n",
              "        V16       V17       V18  \n",
              "0 -0.470401  0.207971  0.025791  \n",
              "1  0.463917 -0.114805 -0.183361  \n",
              "2 -2.890083  1.109969 -0.121359  \n",
              "3 -1.059647 -0.684093  1.965775  \n",
              "4 -0.451449 -0.237033 -0.038195  "
            ],
            "text/html": [
              "\n",
              "  <div id=\"df-d36936d9-afc9-43b1-8203-8cf2b3c88d92\">\n",
              "    <div class=\"colab-df-container\">\n",
              "      <div>\n",
              "<style scoped>\n",
              "    .dataframe tbody tr th:only-of-type {\n",
              "        vertical-align: middle;\n",
              "    }\n",
              "\n",
              "    .dataframe tbody tr th {\n",
              "        vertical-align: top;\n",
              "    }\n",
              "\n",
              "    .dataframe thead th {\n",
              "        text-align: right;\n",
              "    }\n",
              "</style>\n",
              "<table border=\"1\" class=\"dataframe\">\n",
              "  <thead>\n",
              "    <tr style=\"text-align: right;\">\n",
              "      <th></th>\n",
              "      <th>V3</th>\n",
              "      <th>V4</th>\n",
              "      <th>V7</th>\n",
              "      <th>V10</th>\n",
              "      <th>V11</th>\n",
              "      <th>V12</th>\n",
              "      <th>V14</th>\n",
              "      <th>V16</th>\n",
              "      <th>V17</th>\n",
              "      <th>V18</th>\n",
              "    </tr>\n",
              "  </thead>\n",
              "  <tbody>\n",
              "    <tr>\n",
              "      <th>0</th>\n",
              "      <td>2.536347</td>\n",
              "      <td>1.378155</td>\n",
              "      <td>0.239599</td>\n",
              "      <td>0.090794</td>\n",
              "      <td>-0.551600</td>\n",
              "      <td>-0.617801</td>\n",
              "      <td>-0.311169</td>\n",
              "      <td>-0.470401</td>\n",
              "      <td>0.207971</td>\n",
              "      <td>0.025791</td>\n",
              "    </tr>\n",
              "    <tr>\n",
              "      <th>1</th>\n",
              "      <td>0.166480</td>\n",
              "      <td>0.448154</td>\n",
              "      <td>-0.078803</td>\n",
              "      <td>-0.166974</td>\n",
              "      <td>1.612727</td>\n",
              "      <td>1.065235</td>\n",
              "      <td>-0.143772</td>\n",
              "      <td>0.463917</td>\n",
              "      <td>-0.114805</td>\n",
              "      <td>-0.183361</td>\n",
              "    </tr>\n",
              "    <tr>\n",
              "      <th>2</th>\n",
              "      <td>1.773209</td>\n",
              "      <td>0.379780</td>\n",
              "      <td>0.791461</td>\n",
              "      <td>0.207643</td>\n",
              "      <td>0.624501</td>\n",
              "      <td>0.066084</td>\n",
              "      <td>-0.165946</td>\n",
              "      <td>-2.890083</td>\n",
              "      <td>1.109969</td>\n",
              "      <td>-0.121359</td>\n",
              "    </tr>\n",
              "    <tr>\n",
              "      <th>3</th>\n",
              "      <td>1.792993</td>\n",
              "      <td>-0.863291</td>\n",
              "      <td>0.237609</td>\n",
              "      <td>-0.054952</td>\n",
              "      <td>-0.226487</td>\n",
              "      <td>0.178228</td>\n",
              "      <td>-0.287924</td>\n",
              "      <td>-1.059647</td>\n",
              "      <td>-0.684093</td>\n",
              "      <td>1.965775</td>\n",
              "    </tr>\n",
              "    <tr>\n",
              "      <th>4</th>\n",
              "      <td>1.548718</td>\n",
              "      <td>0.403034</td>\n",
              "      <td>0.592941</td>\n",
              "      <td>0.753074</td>\n",
              "      <td>-0.822843</td>\n",
              "      <td>0.538196</td>\n",
              "      <td>-1.119670</td>\n",
              "      <td>-0.451449</td>\n",
              "      <td>-0.237033</td>\n",
              "      <td>-0.038195</td>\n",
              "    </tr>\n",
              "  </tbody>\n",
              "</table>\n",
              "</div>\n",
              "      <button class=\"colab-df-convert\" onclick=\"convertToInteractive('df-d36936d9-afc9-43b1-8203-8cf2b3c88d92')\"\n",
              "              title=\"Convert this dataframe to an interactive table.\"\n",
              "              style=\"display:none;\">\n",
              "        \n",
              "  <svg xmlns=\"http://www.w3.org/2000/svg\" height=\"24px\"viewBox=\"0 0 24 24\"\n",
              "       width=\"24px\">\n",
              "    <path d=\"M0 0h24v24H0V0z\" fill=\"none\"/>\n",
              "    <path d=\"M18.56 5.44l.94 2.06.94-2.06 2.06-.94-2.06-.94-.94-2.06-.94 2.06-2.06.94zm-11 1L8.5 8.5l.94-2.06 2.06-.94-2.06-.94L8.5 2.5l-.94 2.06-2.06.94zm10 10l.94 2.06.94-2.06 2.06-.94-2.06-.94-.94-2.06-.94 2.06-2.06.94z\"/><path d=\"M17.41 7.96l-1.37-1.37c-.4-.4-.92-.59-1.43-.59-.52 0-1.04.2-1.43.59L10.3 9.45l-7.72 7.72c-.78.78-.78 2.05 0 2.83L4 21.41c.39.39.9.59 1.41.59.51 0 1.02-.2 1.41-.59l7.78-7.78 2.81-2.81c.8-.78.8-2.07 0-2.86zM5.41 20L4 18.59l7.72-7.72 1.47 1.35L5.41 20z\"/>\n",
              "  </svg>\n",
              "      </button>\n",
              "      \n",
              "  <style>\n",
              "    .colab-df-container {\n",
              "      display:flex;\n",
              "      flex-wrap:wrap;\n",
              "      gap: 12px;\n",
              "    }\n",
              "\n",
              "    .colab-df-convert {\n",
              "      background-color: #E8F0FE;\n",
              "      border: none;\n",
              "      border-radius: 50%;\n",
              "      cursor: pointer;\n",
              "      display: none;\n",
              "      fill: #1967D2;\n",
              "      height: 32px;\n",
              "      padding: 0 0 0 0;\n",
              "      width: 32px;\n",
              "    }\n",
              "\n",
              "    .colab-df-convert:hover {\n",
              "      background-color: #E2EBFA;\n",
              "      box-shadow: 0px 1px 2px rgba(60, 64, 67, 0.3), 0px 1px 3px 1px rgba(60, 64, 67, 0.15);\n",
              "      fill: #174EA6;\n",
              "    }\n",
              "\n",
              "    [theme=dark] .colab-df-convert {\n",
              "      background-color: #3B4455;\n",
              "      fill: #D2E3FC;\n",
              "    }\n",
              "\n",
              "    [theme=dark] .colab-df-convert:hover {\n",
              "      background-color: #434B5C;\n",
              "      box-shadow: 0px 1px 3px 1px rgba(0, 0, 0, 0.15);\n",
              "      filter: drop-shadow(0px 1px 2px rgba(0, 0, 0, 0.3));\n",
              "      fill: #FFFFFF;\n",
              "    }\n",
              "  </style>\n",
              "\n",
              "      <script>\n",
              "        const buttonEl =\n",
              "          document.querySelector('#df-d36936d9-afc9-43b1-8203-8cf2b3c88d92 button.colab-df-convert');\n",
              "        buttonEl.style.display =\n",
              "          google.colab.kernel.accessAllowed ? 'block' : 'none';\n",
              "\n",
              "        async function convertToInteractive(key) {\n",
              "          const element = document.querySelector('#df-d36936d9-afc9-43b1-8203-8cf2b3c88d92');\n",
              "          const dataTable =\n",
              "            await google.colab.kernel.invokeFunction('convertToInteractive',\n",
              "                                                     [key], {});\n",
              "          if (!dataTable) return;\n",
              "\n",
              "          const docLinkHtml = 'Like what you see? Visit the ' +\n",
              "            '<a target=\"_blank\" href=https://colab.research.google.com/notebooks/data_table.ipynb>data table notebook</a>'\n",
              "            + ' to learn more about interactive tables.';\n",
              "          element.innerHTML = '';\n",
              "          dataTable['output_type'] = 'display_data';\n",
              "          await google.colab.output.renderOutput(dataTable, element);\n",
              "          const docLink = document.createElement('div');\n",
              "          docLink.innerHTML = docLinkHtml;\n",
              "          element.appendChild(docLink);\n",
              "        }\n",
              "      </script>\n",
              "    </div>\n",
              "  </div>\n",
              "  "
            ]
          },
          "metadata": {},
          "execution_count": 12
        }
      ]
    },
    {
      "cell_type": "markdown",
      "source": [
        "#Part 5-  **Seggregating the variables - dependent & independent per Day 1 and Day 2**"
      ],
      "metadata": {
        "id": "RIMqNWocHoyQ"
      }
    },
    {
      "cell_type": "code",
      "source": [
        "df_1 = Day1.copy()\n",
        "df_2 = Day2.copy()"
      ],
      "metadata": {
        "id": "Nwz7bhlgPdeP"
      },
      "execution_count": 32,
      "outputs": []
    },
    {
      "cell_type": "markdown",
      "source": [
        "# **Train Test Split**"
      ],
      "metadata": {
        "id": "JDZqg4ppWmSv"
      }
    },
    {
      "cell_type": "markdown",
      "source": [
        "# **TRAIN SET - DAY 1**"
      ],
      "metadata": {
        "id": "NtCknLoKSwvN"
      }
    },
    {
      "cell_type": "code",
      "source": [
        "\n",
        "y1 = df_1['Class']\n",
        "x1 = df_1.drop(['Class','Time_new','Date','Day','Time', 'V1', 'V2', 'V5', 'V6', 'V8', 'V9', 'V13', 'V15', 'V19', 'V20', 'V21', 'V22', 'V23', 'V24', 'V25', 'V26', 'V27', 'V28', 'Amount'], axis=1)"
      ],
      "metadata": {
        "id": "4b_s-u1_MhJR"
      },
      "execution_count": 40,
      "outputs": []
    },
    {
      "cell_type": "code",
      "source": [
        "#Distribution in training set\n",
        "y1.value_counts(normalize=True)\n"
      ],
      "metadata": {
        "colab": {
          "base_uri": "https://localhost:8080/"
        },
        "id": "ktmN_LCKWpRV",
        "outputId": "ad2242cc-43c9-4452-aa64-2a10f6797e3f"
      },
      "execution_count": 52,
      "outputs": [
        {
          "output_type": "execute_result",
          "data": {
            "text/plain": [
              "0    0.998059\n",
              "1    0.001941\n",
              "Name: Class, dtype: float64"
            ]
          },
          "metadata": {},
          "execution_count": 52
        }
      ]
    },
    {
      "cell_type": "code",
      "source": [
        "#shape of training set\n",
        "y1.shape, x1.shape"
      ],
      "metadata": {
        "colab": {
          "base_uri": "https://localhost:8080/"
        },
        "id": "tptI2hGLXmAw",
        "outputId": "f800d011-3c0b-45ec-d215-bab831db9832"
      },
      "execution_count": 54,
      "outputs": [
        {
          "output_type": "execute_result",
          "data": {
            "text/plain": [
              "((144786,), (144786, 10))"
            ]
          },
          "metadata": {},
          "execution_count": 54
        }
      ]
    },
    {
      "cell_type": "markdown",
      "source": [
        "# **TEST SET - DAY 2**"
      ],
      "metadata": {
        "id": "e6WHuVFSSx-3"
      }
    },
    {
      "cell_type": "code",
      "source": [
        "y2 = df_2['Class']\n",
        "x2 = df_2.drop(['Class','Time_new','Date','Day','Time', 'V1', 'V2', 'V5', 'V6', 'V8', 'V9', 'V13', 'V15', 'V19', 'V20', 'V21', 'V22', 'V23', 'V24', 'V25', 'V26', 'V27', 'V28', 'Amount'], axis=1)"
      ],
      "metadata": {
        "id": "6aUp6Bo0RSn8"
      },
      "execution_count": 41,
      "outputs": []
    },
    {
      "cell_type": "code",
      "source": [
        "#Distribution in testing/validation set\n",
        "y2.value_counts(normalize=True)"
      ],
      "metadata": {
        "colab": {
          "base_uri": "https://localhost:8080/"
        },
        "id": "Cd6aUPNBW1sS",
        "outputId": "f61f400d-74b9-4561-8bdd-ab77c3976c58"
      },
      "execution_count": 53,
      "outputs": [
        {
          "output_type": "execute_result",
          "data": {
            "text/plain": [
              "0    0.998493\n",
              "1    0.001507\n",
              "Name: Class, dtype: float64"
            ]
          },
          "metadata": {},
          "execution_count": 53
        }
      ]
    },
    {
      "cell_type": "code",
      "source": [
        "#shape of testing set\n",
        "x2.shape, y2.shape"
      ],
      "metadata": {
        "colab": {
          "base_uri": "https://localhost:8080/"
        },
        "id": "FpD3bKvHXtjc",
        "outputId": "7206bd47-ebc5-4825-cc5c-28b918252d60"
      },
      "execution_count": 55,
      "outputs": [
        {
          "output_type": "execute_result",
          "data": {
            "text/plain": [
              "((140021, 10), (140021,))"
            ]
          },
          "metadata": {},
          "execution_count": 55
        }
      ]
    },
    {
      "cell_type": "markdown",
      "source": [
        "# Due to class imbalance, upsample the data to balance the dataset. Note: do not apply on testing set as there will be knowledge leak"
      ],
      "metadata": {
        "id": "NsTToe5AhlVY"
      }
    },
    {
      "cell_type": "code",
      "source": [
        "from sklearn.utils import resample"
      ],
      "metadata": {
        "id": "fBl48YvPiVmV"
      },
      "execution_count": 90,
      "outputs": []
    },
    {
      "cell_type": "code",
      "source": [
        "df_1.head()"
      ],
      "metadata": {
        "colab": {
          "base_uri": "https://localhost:8080/",
          "height": 473
        },
        "id": "OPbG6_Tliybj",
        "outputId": "a5a0878a-3889-478d-c443-22e2d8c5c6b9"
      },
      "execution_count": 95,
      "outputs": [
        {
          "output_type": "execute_result",
          "data": {
            "text/plain": [
              "   Time        V1        V2        V3        V4        V5        V6        V7  \\\n",
              "0   0.0 -1.359807 -0.072781  2.536347  1.378155 -0.338321  0.462388  0.239599   \n",
              "1   0.0  1.191857  0.266151  0.166480  0.448154  0.060018 -0.082361 -0.078803   \n",
              "2   1.0 -1.358354 -1.340163  1.773209  0.379780 -0.503198  1.800499  0.791461   \n",
              "3   1.0 -0.966272 -0.185226  1.792993 -0.863291 -0.010309  1.247203  0.237609   \n",
              "4   2.0 -1.158233  0.877737  1.548718  0.403034 -0.407193  0.095921  0.592941   \n",
              "\n",
              "         V8        V9  ...       V24       V25       V26       V27       V28  \\\n",
              "0  0.098698  0.363787  ...  0.066928  0.128539 -0.189115  0.133558 -0.021053   \n",
              "1  0.085102 -0.255425  ... -0.339846  0.167170  0.125895 -0.008983  0.014724   \n",
              "2  0.247676 -1.514654  ... -0.689281 -0.327642 -0.139097 -0.055353 -0.059752   \n",
              "3  0.377436 -1.387024  ... -1.175575  0.647376 -0.221929  0.062723  0.061458   \n",
              "4 -0.270533  0.817739  ...  0.141267 -0.206010  0.502292  0.219422  0.215153   \n",
              "\n",
              "   Amount  Class            Time_new        Date  Day  \n",
              "0  149.62      0 1970-01-01 00:00:00  1970-01-01    1  \n",
              "1    2.69      0 1970-01-01 00:00:00  1970-01-01    1  \n",
              "2  378.66      0 1970-01-01 00:00:01  1970-01-01    1  \n",
              "3  123.50      0 1970-01-01 00:00:01  1970-01-01    1  \n",
              "4   69.99      0 1970-01-01 00:00:02  1970-01-01    1  \n",
              "\n",
              "[5 rows x 34 columns]"
            ],
            "text/html": [
              "\n",
              "  <div id=\"df-1e10d7cd-b7b0-4fef-9f52-2306129f9aa9\">\n",
              "    <div class=\"colab-df-container\">\n",
              "      <div>\n",
              "<style scoped>\n",
              "    .dataframe tbody tr th:only-of-type {\n",
              "        vertical-align: middle;\n",
              "    }\n",
              "\n",
              "    .dataframe tbody tr th {\n",
              "        vertical-align: top;\n",
              "    }\n",
              "\n",
              "    .dataframe thead th {\n",
              "        text-align: right;\n",
              "    }\n",
              "</style>\n",
              "<table border=\"1\" class=\"dataframe\">\n",
              "  <thead>\n",
              "    <tr style=\"text-align: right;\">\n",
              "      <th></th>\n",
              "      <th>Time</th>\n",
              "      <th>V1</th>\n",
              "      <th>V2</th>\n",
              "      <th>V3</th>\n",
              "      <th>V4</th>\n",
              "      <th>V5</th>\n",
              "      <th>V6</th>\n",
              "      <th>V7</th>\n",
              "      <th>V8</th>\n",
              "      <th>V9</th>\n",
              "      <th>...</th>\n",
              "      <th>V24</th>\n",
              "      <th>V25</th>\n",
              "      <th>V26</th>\n",
              "      <th>V27</th>\n",
              "      <th>V28</th>\n",
              "      <th>Amount</th>\n",
              "      <th>Class</th>\n",
              "      <th>Time_new</th>\n",
              "      <th>Date</th>\n",
              "      <th>Day</th>\n",
              "    </tr>\n",
              "  </thead>\n",
              "  <tbody>\n",
              "    <tr>\n",
              "      <th>0</th>\n",
              "      <td>0.0</td>\n",
              "      <td>-1.359807</td>\n",
              "      <td>-0.072781</td>\n",
              "      <td>2.536347</td>\n",
              "      <td>1.378155</td>\n",
              "      <td>-0.338321</td>\n",
              "      <td>0.462388</td>\n",
              "      <td>0.239599</td>\n",
              "      <td>0.098698</td>\n",
              "      <td>0.363787</td>\n",
              "      <td>...</td>\n",
              "      <td>0.066928</td>\n",
              "      <td>0.128539</td>\n",
              "      <td>-0.189115</td>\n",
              "      <td>0.133558</td>\n",
              "      <td>-0.021053</td>\n",
              "      <td>149.62</td>\n",
              "      <td>0</td>\n",
              "      <td>1970-01-01 00:00:00</td>\n",
              "      <td>1970-01-01</td>\n",
              "      <td>1</td>\n",
              "    </tr>\n",
              "    <tr>\n",
              "      <th>1</th>\n",
              "      <td>0.0</td>\n",
              "      <td>1.191857</td>\n",
              "      <td>0.266151</td>\n",
              "      <td>0.166480</td>\n",
              "      <td>0.448154</td>\n",
              "      <td>0.060018</td>\n",
              "      <td>-0.082361</td>\n",
              "      <td>-0.078803</td>\n",
              "      <td>0.085102</td>\n",
              "      <td>-0.255425</td>\n",
              "      <td>...</td>\n",
              "      <td>-0.339846</td>\n",
              "      <td>0.167170</td>\n",
              "      <td>0.125895</td>\n",
              "      <td>-0.008983</td>\n",
              "      <td>0.014724</td>\n",
              "      <td>2.69</td>\n",
              "      <td>0</td>\n",
              "      <td>1970-01-01 00:00:00</td>\n",
              "      <td>1970-01-01</td>\n",
              "      <td>1</td>\n",
              "    </tr>\n",
              "    <tr>\n",
              "      <th>2</th>\n",
              "      <td>1.0</td>\n",
              "      <td>-1.358354</td>\n",
              "      <td>-1.340163</td>\n",
              "      <td>1.773209</td>\n",
              "      <td>0.379780</td>\n",
              "      <td>-0.503198</td>\n",
              "      <td>1.800499</td>\n",
              "      <td>0.791461</td>\n",
              "      <td>0.247676</td>\n",
              "      <td>-1.514654</td>\n",
              "      <td>...</td>\n",
              "      <td>-0.689281</td>\n",
              "      <td>-0.327642</td>\n",
              "      <td>-0.139097</td>\n",
              "      <td>-0.055353</td>\n",
              "      <td>-0.059752</td>\n",
              "      <td>378.66</td>\n",
              "      <td>0</td>\n",
              "      <td>1970-01-01 00:00:01</td>\n",
              "      <td>1970-01-01</td>\n",
              "      <td>1</td>\n",
              "    </tr>\n",
              "    <tr>\n",
              "      <th>3</th>\n",
              "      <td>1.0</td>\n",
              "      <td>-0.966272</td>\n",
              "      <td>-0.185226</td>\n",
              "      <td>1.792993</td>\n",
              "      <td>-0.863291</td>\n",
              "      <td>-0.010309</td>\n",
              "      <td>1.247203</td>\n",
              "      <td>0.237609</td>\n",
              "      <td>0.377436</td>\n",
              "      <td>-1.387024</td>\n",
              "      <td>...</td>\n",
              "      <td>-1.175575</td>\n",
              "      <td>0.647376</td>\n",
              "      <td>-0.221929</td>\n",
              "      <td>0.062723</td>\n",
              "      <td>0.061458</td>\n",
              "      <td>123.50</td>\n",
              "      <td>0</td>\n",
              "      <td>1970-01-01 00:00:01</td>\n",
              "      <td>1970-01-01</td>\n",
              "      <td>1</td>\n",
              "    </tr>\n",
              "    <tr>\n",
              "      <th>4</th>\n",
              "      <td>2.0</td>\n",
              "      <td>-1.158233</td>\n",
              "      <td>0.877737</td>\n",
              "      <td>1.548718</td>\n",
              "      <td>0.403034</td>\n",
              "      <td>-0.407193</td>\n",
              "      <td>0.095921</td>\n",
              "      <td>0.592941</td>\n",
              "      <td>-0.270533</td>\n",
              "      <td>0.817739</td>\n",
              "      <td>...</td>\n",
              "      <td>0.141267</td>\n",
              "      <td>-0.206010</td>\n",
              "      <td>0.502292</td>\n",
              "      <td>0.219422</td>\n",
              "      <td>0.215153</td>\n",
              "      <td>69.99</td>\n",
              "      <td>0</td>\n",
              "      <td>1970-01-01 00:00:02</td>\n",
              "      <td>1970-01-01</td>\n",
              "      <td>1</td>\n",
              "    </tr>\n",
              "  </tbody>\n",
              "</table>\n",
              "<p>5 rows × 34 columns</p>\n",
              "</div>\n",
              "      <button class=\"colab-df-convert\" onclick=\"convertToInteractive('df-1e10d7cd-b7b0-4fef-9f52-2306129f9aa9')\"\n",
              "              title=\"Convert this dataframe to an interactive table.\"\n",
              "              style=\"display:none;\">\n",
              "        \n",
              "  <svg xmlns=\"http://www.w3.org/2000/svg\" height=\"24px\"viewBox=\"0 0 24 24\"\n",
              "       width=\"24px\">\n",
              "    <path d=\"M0 0h24v24H0V0z\" fill=\"none\"/>\n",
              "    <path d=\"M18.56 5.44l.94 2.06.94-2.06 2.06-.94-2.06-.94-.94-2.06-.94 2.06-2.06.94zm-11 1L8.5 8.5l.94-2.06 2.06-.94-2.06-.94L8.5 2.5l-.94 2.06-2.06.94zm10 10l.94 2.06.94-2.06 2.06-.94-2.06-.94-.94-2.06-.94 2.06-2.06.94z\"/><path d=\"M17.41 7.96l-1.37-1.37c-.4-.4-.92-.59-1.43-.59-.52 0-1.04.2-1.43.59L10.3 9.45l-7.72 7.72c-.78.78-.78 2.05 0 2.83L4 21.41c.39.39.9.59 1.41.59.51 0 1.02-.2 1.41-.59l7.78-7.78 2.81-2.81c.8-.78.8-2.07 0-2.86zM5.41 20L4 18.59l7.72-7.72 1.47 1.35L5.41 20z\"/>\n",
              "  </svg>\n",
              "      </button>\n",
              "      \n",
              "  <style>\n",
              "    .colab-df-container {\n",
              "      display:flex;\n",
              "      flex-wrap:wrap;\n",
              "      gap: 12px;\n",
              "    }\n",
              "\n",
              "    .colab-df-convert {\n",
              "      background-color: #E8F0FE;\n",
              "      border: none;\n",
              "      border-radius: 50%;\n",
              "      cursor: pointer;\n",
              "      display: none;\n",
              "      fill: #1967D2;\n",
              "      height: 32px;\n",
              "      padding: 0 0 0 0;\n",
              "      width: 32px;\n",
              "    }\n",
              "\n",
              "    .colab-df-convert:hover {\n",
              "      background-color: #E2EBFA;\n",
              "      box-shadow: 0px 1px 2px rgba(60, 64, 67, 0.3), 0px 1px 3px 1px rgba(60, 64, 67, 0.15);\n",
              "      fill: #174EA6;\n",
              "    }\n",
              "\n",
              "    [theme=dark] .colab-df-convert {\n",
              "      background-color: #3B4455;\n",
              "      fill: #D2E3FC;\n",
              "    }\n",
              "\n",
              "    [theme=dark] .colab-df-convert:hover {\n",
              "      background-color: #434B5C;\n",
              "      box-shadow: 0px 1px 3px 1px rgba(0, 0, 0, 0.15);\n",
              "      filter: drop-shadow(0px 1px 2px rgba(0, 0, 0, 0.3));\n",
              "      fill: #FFFFFF;\n",
              "    }\n",
              "  </style>\n",
              "\n",
              "      <script>\n",
              "        const buttonEl =\n",
              "          document.querySelector('#df-1e10d7cd-b7b0-4fef-9f52-2306129f9aa9 button.colab-df-convert');\n",
              "        buttonEl.style.display =\n",
              "          google.colab.kernel.accessAllowed ? 'block' : 'none';\n",
              "\n",
              "        async function convertToInteractive(key) {\n",
              "          const element = document.querySelector('#df-1e10d7cd-b7b0-4fef-9f52-2306129f9aa9');\n",
              "          const dataTable =\n",
              "            await google.colab.kernel.invokeFunction('convertToInteractive',\n",
              "                                                     [key], {});\n",
              "          if (!dataTable) return;\n",
              "\n",
              "          const docLinkHtml = 'Like what you see? Visit the ' +\n",
              "            '<a target=\"_blank\" href=https://colab.research.google.com/notebooks/data_table.ipynb>data table notebook</a>'\n",
              "            + ' to learn more about interactive tables.';\n",
              "          element.innerHTML = '';\n",
              "          dataTable['output_type'] = 'display_data';\n",
              "          await google.colab.output.renderOutput(dataTable, element);\n",
              "          const docLink = document.createElement('div');\n",
              "          docLink.innerHTML = docLinkHtml;\n",
              "          element.appendChild(docLink);\n",
              "        }\n",
              "      </script>\n",
              "    </div>\n",
              "  </div>\n",
              "  "
            ]
          },
          "metadata": {},
          "execution_count": 95
        }
      ]
    },
    {
      "cell_type": "code",
      "source": [
        "#create two different dataframe of majority and minority class \n",
        "df_majority = df_1[(df_1['Class']==0)] \n",
        "df_minority = df_1[(df_1['Class']==1)] "
      ],
      "metadata": {
        "id": "0G4BKL4DipU0"
      },
      "execution_count": 94,
      "outputs": []
    },
    {
      "cell_type": "code",
      "source": [
        "df_majority.shape\n"
      ],
      "metadata": {
        "colab": {
          "base_uri": "https://localhost:8080/"
        },
        "id": "5Yr0Ay4VjEFu",
        "outputId": "6091ea00-1def-4563-b033-ed4f45282e7a"
      },
      "execution_count": 96,
      "outputs": [
        {
          "output_type": "execute_result",
          "data": {
            "text/plain": [
              "(144505, 34)"
            ]
          },
          "metadata": {},
          "execution_count": 96
        }
      ]
    },
    {
      "cell_type": "code",
      "source": [
        "df_minority.shape"
      ],
      "metadata": {
        "colab": {
          "base_uri": "https://localhost:8080/"
        },
        "id": "IVpovZd-jGfO",
        "outputId": "3c9a36cc-a083-403c-bb04-4edfe6d3c1a8"
      },
      "execution_count": 97,
      "outputs": [
        {
          "output_type": "execute_result",
          "data": {
            "text/plain": [
              "(281, 34)"
            ]
          },
          "metadata": {},
          "execution_count": 97
        }
      ]
    },
    {
      "cell_type": "code",
      "source": [
        "# upsample minority class\n",
        "df_minority_upsampled = resample(df_minority, \n",
        "                                 replace=True,    # sample with replacement\n",
        "                                 n_samples= 144505, # to match majority class\n",
        "                                 random_state=42)  # reproducible results\n"
      ],
      "metadata": {
        "id": "-Lur55oohnry"
      },
      "execution_count": 98,
      "outputs": []
    },
    {
      "cell_type": "code",
      "source": [
        "# Combine majority class with upsampled minority class\n",
        "df_upsampled = pd.concat([df_minority_upsampled, df_majority])"
      ],
      "metadata": {
        "id": "6HEicIcGjCd1"
      },
      "execution_count": 99,
      "outputs": []
    },
    {
      "cell_type": "code",
      "source": [
        "#display new class counts\n",
        "df_upsampled['Class'].value_counts()"
      ],
      "metadata": {
        "colab": {
          "base_uri": "https://localhost:8080/"
        },
        "id": "_vvZ8vD4jY4A",
        "outputId": "0534a5e2-1f19-4449-f960-a07fa9e88890"
      },
      "execution_count": 100,
      "outputs": [
        {
          "output_type": "execute_result",
          "data": {
            "text/plain": [
              "1    144505\n",
              "0    144505\n",
              "Name: Class, dtype: int64"
            ]
          },
          "metadata": {},
          "execution_count": 100
        }
      ]
    },
    {
      "cell_type": "code",
      "source": [
        "sns.countplot(df_upsampled['Class'])"
      ],
      "metadata": {
        "colab": {
          "base_uri": "https://localhost:8080/",
          "height": 297
        },
        "id": "VmijwlHpjmP8",
        "outputId": "9f5961e5-6bfa-4edb-e7db-3281dac1ddeb"
      },
      "execution_count": 101,
      "outputs": [
        {
          "output_type": "execute_result",
          "data": {
            "text/plain": [
              "<matplotlib.axes._subplots.AxesSubplot at 0x7f936e3f0790>"
            ]
          },
          "metadata": {},
          "execution_count": 101
        },
        {
          "output_type": "display_data",
          "data": {
            "text/plain": [
              "<Figure size 432x288 with 1 Axes>"
            ],
            "image/png": "[encoded data removed]"
          },
          "metadata": {
            "needs_background": "light"
          }
        }
      ]
    },
    {
      "cell_type": "code",
      "source": [
        "df_upsampled.head()"
      ],
      "metadata": {
        "colab": {
          "base_uri": "https://localhost:8080/",
          "height": 473
        },
        "id": "PkmUht7kkW6f",
        "outputId": "656aa498-dc7e-44fb-db57-24cfc250b9dd"
      },
      "execution_count": 103,
      "outputs": [
        {
          "output_type": "execute_result",
          "data": {
            "text/plain": [
              "           Time         V1         V2         V3        V4         V5  \\\n",
              "33276   37167.0  -7.923891  -5.198360  -3.000024  4.420666   2.272194   \n",
              "142557  84789.0  -1.430864  -0.802529   1.123320  0.389760  -0.281214   \n",
              "41395   40662.0  -4.446847  -0.014793  -5.126307  6.945130   5.269255   \n",
              "15781   27219.0 -25.266355  14.323254 -26.823673  6.349248 -18.664251   \n",
              "77348   57007.0  -1.271244   2.462675  -2.851395  2.324480  -1.372245   \n",
              "\n",
              "              V6         V7         V8        V9  ...       V24       V25  \\\n",
              "33276  -3.394483  -5.283435   0.131619  0.658176  ...  0.410170 -1.167660   \n",
              "142557 -0.055123   1.326232   0.195700 -0.546890  ...  0.114963  0.156365   \n",
              "41395  -4.297177  -2.591242   0.342671 -3.880663  ... -0.401236  0.856124   \n",
              "15781  -4.647403 -17.971212  16.633103 -3.768351  ...  0.156667  1.768192   \n",
              "77348  -0.948196  -3.065234   1.166927 -2.268771  ... -0.523582  0.224228   \n",
              "\n",
              "             V26       V27       V28  Amount  Class            Time_new  \\\n",
              "33276   0.520508  1.937421 -1.552593   12.31      1 1970-01-01 10:19:27   \n",
              "142557 -0.619437 -0.120351  0.035594  354.33      1 1970-01-01 23:33:09   \n",
              "41395   0.661272  0.492560  0.971834    1.00      1 1970-01-01 11:17:42   \n",
              "15781  -0.219916  1.411855  0.414656   99.99      1 1970-01-01 07:33:39   \n",
              "77348   0.756335  0.632800  0.250187    0.01      1 1970-01-01 15:50:07   \n",
              "\n",
              "              Date  Day  \n",
              "33276   1970-01-01    1  \n",
              "142557  1970-01-01    1  \n",
              "41395   1970-01-01    1  \n",
              "15781   1970-01-01    1  \n",
              "77348   1970-01-01    1  \n",
              "\n",
              "[5 rows x 34 columns]"
            ],
            "text/html": [
              "\n",
              "  <div id=\"df-aae45888-3413-4742-81e5-67914b7c60b8\">\n",
              "    <div class=\"colab-df-container\">\n",
              "      <div>\n",
              "<style scoped>\n",
              "    .dataframe tbody tr th:only-of-type {\n",
              "        vertical-align: middle;\n",
              "    }\n",
              "\n",
              "    .dataframe tbody tr th {\n",
              "        vertical-align: top;\n",
              "    }\n",
              "\n",
              "    .dataframe thead th {\n",
              "        text-align: right;\n",
              "    }\n",
              "</style>\n",
              "<table border=\"1\" class=\"dataframe\">\n",
              "  <thead>\n",
              "    <tr style=\"text-align: right;\">\n",
              "      <th></th>\n",
              "      <th>Time</th>\n",
              "      <th>V1</th>\n",
              "      <th>V2</th>\n",
              "      <th>V3</th>\n",
              "      <th>V4</th>\n",
              "      <th>V5</th>\n",
              "      <th>V6</th>\n",
              "      <th>V7</th>\n",
              "      <th>V8</th>\n",
              "      <th>V9</th>\n",
              "      <th>...</th>\n",
              "      <th>V24</th>\n",
              "      <th>V25</th>\n",
              "      <th>V26</th>\n",
              "      <th>V27</th>\n",
              "      <th>V28</th>\n",
              "      <th>Amount</th>\n",
              "      <th>Class</th>\n",
              "      <th>Time_new</th>\n",
              "      <th>Date</th>\n",
              "      <th>Day</th>\n",
              "    </tr>\n",
              "  </thead>\n",
              "  <tbody>\n",
              "    <tr>\n",
              "      <th>33276</th>\n",
              "      <td>37167.0</td>\n",
              "      <td>-7.923891</td>\n",
              "      <td>-5.198360</td>\n",
              "      <td>-3.000024</td>\n",
              "      <td>4.420666</td>\n",
              "      <td>2.272194</td>\n",
              "      <td>-3.394483</td>\n",
              "      <td>-5.283435</td>\n",
              "      <td>0.131619</td>\n",
              "      <td>0.658176</td>\n",
              "      <td>...</td>\n",
              "      <td>0.410170</td>\n",
              "      <td>-1.167660</td>\n",
              "      <td>0.520508</td>\n",
              "      <td>1.937421</td>\n",
              "      <td>-1.552593</td>\n",
              "      <td>12.31</td>\n",
              "      <td>1</td>\n",
              "      <td>1970-01-01 10:19:27</td>\n",
              "      <td>1970-01-01</td>\n",
              "      <td>1</td>\n",
              "    </tr>\n",
              "    <tr>\n",
              "      <th>142557</th>\n",
              "      <td>84789.0</td>\n",
              "      <td>-1.430864</td>\n",
              "      <td>-0.802529</td>\n",
              "      <td>1.123320</td>\n",
              "      <td>0.389760</td>\n",
              "      <td>-0.281214</td>\n",
              "      <td>-0.055123</td>\n",
              "      <td>1.326232</td>\n",
              "      <td>0.195700</td>\n",
              "      <td>-0.546890</td>\n",
              "      <td>...</td>\n",
              "      <td>0.114963</td>\n",
              "      <td>0.156365</td>\n",
              "      <td>-0.619437</td>\n",
              "      <td>-0.120351</td>\n",
              "      <td>0.035594</td>\n",
              "      <td>354.33</td>\n",
              "      <td>1</td>\n",
              "      <td>1970-01-01 23:33:09</td>\n",
              "      <td>1970-01-01</td>\n",
              "      <td>1</td>\n",
              "    </tr>\n",
              "    <tr>\n",
              "      <th>41395</th>\n",
              "      <td>40662.0</td>\n",
              "      <td>-4.446847</td>\n",
              "      <td>-0.014793</td>\n",
              "      <td>-5.126307</td>\n",
              "      <td>6.945130</td>\n",
              "      <td>5.269255</td>\n",
              "      <td>-4.297177</td>\n",
              "      <td>-2.591242</td>\n",
              "      <td>0.342671</td>\n",
              "      <td>-3.880663</td>\n",
              "      <td>...</td>\n",
              "      <td>-0.401236</td>\n",
              "      <td>0.856124</td>\n",
              "      <td>0.661272</td>\n",
              "      <td>0.492560</td>\n",
              "      <td>0.971834</td>\n",
              "      <td>1.00</td>\n",
              "      <td>1</td>\n",
              "      <td>1970-01-01 11:17:42</td>\n",
              "      <td>1970-01-01</td>\n",
              "      <td>1</td>\n",
              "    </tr>\n",
              "    <tr>\n",
              "      <th>15781</th>\n",
              "      <td>27219.0</td>\n",
              "      <td>-25.266355</td>\n",
              "      <td>14.323254</td>\n",
              "      <td>-26.823673</td>\n",
              "      <td>6.349248</td>\n",
              "      <td>-18.664251</td>\n",
              "      <td>-4.647403</td>\n",
              "      <td>-17.971212</td>\n",
              "      <td>16.633103</td>\n",
              "      <td>-3.768351</td>\n",
              "      <td>...</td>\n",
              "      <td>0.156667</td>\n",
              "      <td>1.768192</td>\n",
              "      <td>-0.219916</td>\n",
              "      <td>1.411855</td>\n",
              "      <td>0.414656</td>\n",
              "      <td>99.99</td>\n",
              "      <td>1</td>\n",
              "      <td>1970-01-01 07:33:39</td>\n",
              "      <td>1970-01-01</td>\n",
              "      <td>1</td>\n",
              "    </tr>\n",
              "    <tr>\n",
              "      <th>77348</th>\n",
              "      <td>57007.0</td>\n",
              "      <td>-1.271244</td>\n",
              "      <td>2.462675</td>\n",
              "      <td>-2.851395</td>\n",
              "      <td>2.324480</td>\n",
              "      <td>-1.372245</td>\n",
              "      <td>-0.948196</td>\n",
              "      <td>-3.065234</td>\n",
              "      <td>1.166927</td>\n",
              "      <td>-2.268771</td>\n",
              "      <td>...</td>\n",
              "      <td>-0.523582</td>\n",
              "      <td>0.224228</td>\n",
              "      <td>0.756335</td>\n",
              "      <td>0.632800</td>\n",
              "      <td>0.250187</td>\n",
              "      <td>0.01</td>\n",
              "      <td>1</td>\n",
              "      <td>1970-01-01 15:50:07</td>\n",
              "      <td>1970-01-01</td>\n",
              "      <td>1</td>\n",
              "    </tr>\n",
              "  </tbody>\n",
              "</table>\n",
              "<p>5 rows × 34 columns</p>\n",
              "</div>\n",
              "      <button class=\"colab-df-convert\" onclick=\"convertToInteractive('df-aae45888-3413-4742-81e5-67914b7c60b8')\"\n",
              "              title=\"Convert this dataframe to an interactive table.\"\n",
              "              style=\"display:none;\">\n",
              "        \n",
              "  <svg xmlns=\"http://www.w3.org/2000/svg\" height=\"24px\"viewBox=\"0 0 24 24\"\n",
              "       width=\"24px\">\n",
              "    <path d=\"M0 0h24v24H0V0z\" fill=\"none\"/>\n",
              "    <path d=\"M18.56 5.44l.94 2.06.94-2.06 2.06-.94-2.06-.94-.94-2.06-.94 2.06-2.06.94zm-11 1L8.5 8.5l.94-2.06 2.06-.94-2.06-.94L8.5 2.5l-.94 2.06-2.06.94zm10 10l.94 2.06.94-2.06 2.06-.94-2.06-.94-.94-2.06-.94 2.06-2.06.94z\"/><path d=\"M17.41 7.96l-1.37-1.37c-.4-.4-.92-.59-1.43-.59-.52 0-1.04.2-1.43.59L10.3 9.45l-7.72 7.72c-.78.78-.78 2.05 0 2.83L4 21.41c.39.39.9.59 1.41.59.51 0 1.02-.2 1.41-.59l7.78-7.78 2.81-2.81c.8-.78.8-2.07 0-2.86zM5.41 20L4 18.59l7.72-7.72 1.47 1.35L5.41 20z\"/>\n",
              "  </svg>\n",
              "      </button>\n",
              "      \n",
              "  <style>\n",
              "    .colab-df-container {\n",
              "      display:flex;\n",
              "      flex-wrap:wrap;\n",
              "      gap: 12px;\n",
              "    }\n",
              "\n",
              "    .colab-df-convert {\n",
              "      background-color: #E8F0FE;\n",
              "      border: none;\n",
              "      border-radius: 50%;\n",
              "      cursor: pointer;\n",
              "      display: none;\n",
              "      fill: #1967D2;\n",
              "      height: 32px;\n",
              "      padding: 0 0 0 0;\n",
              "      width: 32px;\n",
              "    }\n",
              "\n",
              "    .colab-df-convert:hover {\n",
              "      background-color: #E2EBFA;\n",
              "      box-shadow: 0px 1px 2px rgba(60, 64, 67, 0.3), 0px 1px 3px 1px rgba(60, 64, 67, 0.15);\n",
              "      fill: #174EA6;\n",
              "    }\n",
              "\n",
              "    [theme=dark] .colab-df-convert {\n",
              "      background-color: #3B4455;\n",
              "      fill: #D2E3FC;\n",
              "    }\n",
              "\n",
              "    [theme=dark] .colab-df-convert:hover {\n",
              "      background-color: #434B5C;\n",
              "      box-shadow: 0px 1px 3px 1px rgba(0, 0, 0, 0.15);\n",
              "      filter: drop-shadow(0px 1px 2px rgba(0, 0, 0, 0.3));\n",
              "      fill: #FFFFFF;\n",
              "    }\n",
              "  </style>\n",
              "\n",
              "      <script>\n",
              "        const buttonEl =\n",
              "          document.querySelector('#df-aae45888-3413-4742-81e5-67914b7c60b8 button.colab-df-convert');\n",
              "        buttonEl.style.display =\n",
              "          google.colab.kernel.accessAllowed ? 'block' : 'none';\n",
              "\n",
              "        async function convertToInteractive(key) {\n",
              "          const element = document.querySelector('#df-aae45888-3413-4742-81e5-67914b7c60b8');\n",
              "          const dataTable =\n",
              "            await google.colab.kernel.invokeFunction('convertToInteractive',\n",
              "                                                     [key], {});\n",
              "          if (!dataTable) return;\n",
              "\n",
              "          const docLinkHtml = 'Like what you see? Visit the ' +\n",
              "            '<a target=\"_blank\" href=https://colab.research.google.com/notebooks/data_table.ipynb>data table notebook</a>'\n",
              "            + ' to learn more about interactive tables.';\n",
              "          element.innerHTML = '';\n",
              "          dataTable['output_type'] = 'display_data';\n",
              "          await google.colab.output.renderOutput(dataTable, element);\n",
              "          const docLink = document.createElement('div');\n",
              "          docLink.innerHTML = docLinkHtml;\n",
              "          element.appendChild(docLink);\n",
              "        }\n",
              "      </script>\n",
              "    </div>\n",
              "  </div>\n",
              "  "
            ]
          },
          "metadata": {},
          "execution_count": 103
        }
      ]
    },
    {
      "cell_type": "markdown",
      "source": [
        "# **New TRAIN SET (UPSAMPLED - DAY 1)**"
      ],
      "metadata": {
        "id": "fdfkIS58kfc3"
      }
    },
    {
      "cell_type": "code",
      "source": [
        "\n",
        "y1 = df_upsampled['Class']\n",
        "x1 = df_upsampled.drop(['Class','Time_new','Date','Day','Time', 'V1', 'V2', 'V5', 'V6', 'V8', 'V9', 'V13', 'V15', 'V19', 'V20', 'V21', 'V22', 'V23', 'V24', 'V25', 'V26', 'V27', 'V28', 'Amount'], axis=1)"
      ],
      "metadata": {
        "id": "HjujXnrHkad6"
      },
      "execution_count": 104,
      "outputs": []
    },
    {
      "cell_type": "markdown",
      "source": [
        "# **SAME TEST SET (DAY 2)**"
      ],
      "metadata": {
        "id": "YMA4TY5Mkoqm"
      }
    },
    {
      "cell_type": "code",
      "source": [
        "y2 = df_2['Class']\n",
        "x2 = df_2.drop(['Class','Time_new','Date','Day','Time', 'V1', 'V2', 'V5', 'V6', 'V8', 'V9', 'V13', 'V15', 'V19', 'V20', 'V21', 'V22', 'V23', 'V24', 'V25', 'V26', 'V27', 'V28', 'Amount'], axis=1)"
      ],
      "metadata": {
        "id": "6XALg8Zikr7O"
      },
      "execution_count": 105,
      "outputs": []
    },
    {
      "cell_type": "markdown",
      "source": [
        "# **Predict Day 2 (test) from Day 1(train) Dataset**"
      ],
      "metadata": {
        "id": "izHmIcoRPW8z"
      }
    },
    {
      "cell_type": "markdown",
      "metadata": {
        "id": "5Q6kTDS6zRX5"
      },
      "source": [
        "# **Decision Tree Classifier**"
      ]
    },
    {
      "cell_type": "code",
      "source": [
        "#import the decision tree classifier\n",
        "from sklearn.tree import DecisionTreeClassifier\n"
      ],
      "metadata": {
        "id": "ZuC84JQWVGbN"
      },
      "execution_count": 106,
      "outputs": []
    },
    {
      "cell_type": "code",
      "source": [
        "#creating the decision tree function\n",
        "dt_model = DecisionTreeClassifier(random_state=10)"
      ],
      "metadata": {
        "id": "iNwra3rKX-zr"
      },
      "execution_count": 107,
      "outputs": []
    },
    {
      "cell_type": "code",
      "source": [
        "#fitting the model\n",
        "dt_model.fit(x1, y1)"
      ],
      "metadata": {
        "colab": {
          "base_uri": "https://localhost:8080/"
        },
        "id": "QukxxS9nYVAd",
        "outputId": "435927a8-7731-41ea-a022-f180486f9029"
      },
      "execution_count": 108,
      "outputs": [
        {
          "output_type": "execute_result",
          "data": {
            "text/plain": [
              "DecisionTreeClassifier(random_state=10)"
            ]
          },
          "metadata": {},
          "execution_count": 108
        }
      ]
    },
    {
      "cell_type": "code",
      "source": [
        "#checking the training score\n",
        "dt_model.score(x1,y1)"
      ],
      "metadata": {
        "colab": {
          "base_uri": "https://localhost:8080/"
        },
        "id": "_w31ux5bYdWV",
        "outputId": "cf44e62d-c431-4db7-f99a-fd8af64e2ffd"
      },
      "execution_count": 109,
      "outputs": [
        {
          "output_type": "execute_result",
          "data": {
            "text/plain": [
              "1.0"
            ]
          },
          "metadata": {},
          "execution_count": 109
        }
      ]
    },
    {
      "cell_type": "code",
      "source": [
        "#checking the testing score\n",
        "dt_model.score(x2,y2)"
      ],
      "metadata": {
        "colab": {
          "base_uri": "https://localhost:8080/"
        },
        "id": "DWe994JXYmRy",
        "outputId": "3af84a47-6128-4d1c-a36f-b15dde366a1f"
      },
      "execution_count": 110,
      "outputs": [
        {
          "output_type": "execute_result",
          "data": {
            "text/plain": [
              "0.9986787696131295"
            ]
          },
          "metadata": {},
          "execution_count": 110
        }
      ]
    },
    {
      "cell_type": "code",
      "source": [
        "#predict on testing set\n",
        "dt_model.predict(x2)"
      ],
      "metadata": {
        "colab": {
          "base_uri": "https://localhost:8080/"
        },
        "id": "_Jtv3akAYzEj",
        "outputId": "708f3411-1861-471b-98f9-29802f42884f"
      },
      "execution_count": 111,
      "outputs": [
        {
          "output_type": "execute_result",
          "data": {
            "text/plain": [
              "array([0, 0, 0, ..., 0, 0, 0])"
            ]
          },
          "metadata": {},
          "execution_count": 111
        }
      ]
    },
    {
      "cell_type": "code",
      "source": [
        "dt_model.predict_proba(x2)"
      ],
      "metadata": {
        "colab": {
          "base_uri": "https://localhost:8080/"
        },
        "id": "FnOjoFkLY91c",
        "outputId": "5d5ccab1-6cbd-49e7-f6b6-9dccefc2bb97"
      },
      "execution_count": 112,
      "outputs": [
        {
          "output_type": "execute_result",
          "data": {
            "text/plain": [
              "array([[1., 0.],\n",
              "       [1., 0.],\n",
              "       [1., 0.],\n",
              "       ...,\n",
              "       [1., 0.],\n",
              "       [1., 0.],\n",
              "       [1., 0.]])"
            ]
          },
          "metadata": {},
          "execution_count": 112
        }
      ]
    },
    {
      "cell_type": "code",
      "source": [
        "y_pred = dt_model.predict_proba(x2)[:,1]"
      ],
      "metadata": {
        "id": "eJeYnj3dZIpk"
      },
      "execution_count": 113,
      "outputs": []
    },
    {
      "cell_type": "code",
      "source": [
        "new_y = []\n",
        "for i in range (len(y_pred)):\n",
        "  if y_pred[i]<0.6:\n",
        "    new_y.append(0)\n",
        "  else:\n",
        "    new_y.append(1)"
      ],
      "metadata": {
        "id": "15OHJCghZVWC"
      },
      "execution_count": 114,
      "outputs": []
    },
    {
      "cell_type": "markdown",
      "source": [
        "# **EVALUATION METRICS - DECISION TREE CLASSIFIER**"
      ],
      "metadata": {
        "id": "4j7CggCPk7JF"
      }
    },
    {
      "cell_type": "code",
      "source": [
        "from sklearn.metrics import accuracy_score"
      ],
      "metadata": {
        "id": "k79pLA4NZrrR"
      },
      "execution_count": 116,
      "outputs": []
    },
    {
      "cell_type": "code",
      "source": [
        "accuracy_score(y2, new_y)"
      ],
      "metadata": {
        "colab": {
          "base_uri": "https://localhost:8080/"
        },
        "id": "WvhCLQxNZvb3",
        "outputId": "70b6722a-b9b7-448e-e159-e2a58a0773a5"
      },
      "execution_count": 117,
      "outputs": [
        {
          "output_type": "execute_result",
          "data": {
            "text/plain": [
              "0.9986787696131295"
            ]
          },
          "metadata": {},
          "execution_count": 117
        }
      ]
    },
    {
      "cell_type": "code",
      "source": [
        "from sklearn.metrics import confusion_matrix\n",
        "cf=confusion_matrix(y2, new_y)\n",
        "print (\"Confusion Matrix\")\n",
        "print(cf)\n",
        "tn, fp, fn, tp=cf.ravel()\n",
        "print (\"TP: \", tp,\", FP: \", fp,\", TN: \", tn,\", FN:\", fn)"
      ],
      "metadata": {
        "colab": {
          "base_uri": "https://localhost:8080/"
        },
        "id": "f9d9odPphFj0",
        "outputId": "483f5979-b500-44c6-d086-31107420054c"
      },
      "execution_count": 122,
      "outputs": [
        {
          "output_type": "stream",
          "name": "stdout",
          "text": [
            "Confusion Matrix\n",
            "[[139689    121]\n",
            " [    64    147]]\n",
            "TP:  147 , FP:  121 , TN:  139689 , FN: 64\n"
          ]
        }
      ]
    },
    {
      "cell_type": "code",
      "source": [
        "#print precision, recall, and accuracy from the perspective of each of the class (0 and 1 for German dataset)\n",
        "from sklearn.metrics import classification_report\n",
        "from sklearn import metrics\n",
        "\n",
        "print(classification_report(y2, new_y))"
      ],
      "metadata": {
        "colab": {
          "base_uri": "https://localhost:8080/"
        },
        "id": "zvWvy8gRhN5b",
        "outputId": "17a8d8c8-be25-4e96-e643-92bc7e6b8ed8"
      },
      "execution_count": 123,
      "outputs": [
        {
          "output_type": "stream",
          "name": "stdout",
          "text": [
            "              precision    recall  f1-score   support\n",
            "\n",
            "           0       1.00      1.00      1.00    139810\n",
            "           1       0.55      0.70      0.61       211\n",
            "\n",
            "    accuracy                           1.00    140021\n",
            "   macro avg       0.77      0.85      0.81    140021\n",
            "weighted avg       1.00      1.00      1.00    140021\n",
            "\n"
          ]
        }
      ]
    },
    {
      "cell_type": "markdown",
      "source": [
        "# **Changing the max_depth**"
      ],
      "metadata": {
        "id": "DTWPZmPebOhb"
      }
    },
    {
      "cell_type": "code",
      "source": [
        "train_accuracy = []\n",
        "validation_accuracy = []\n",
        "for depth in range (1,10):\n",
        "  dt_model = DecisionTreeClassifier(max_depth=depth, random_state = 10)\n",
        "  dt_model.fit(x1,y1)\n",
        "  train_accuracy.append(dt_model.score(x1,y1))\n",
        "  validation_accuracy.append(dt_model.score(x2,y2))"
      ],
      "metadata": {
        "id": "2s-p6nMWbQO2"
      },
      "execution_count": 124,
      "outputs": []
    },
    {
      "cell_type": "code",
      "source": [
        "frame = pd.DataFrame({'max_depth':range(1,10), 'train_acc':train_accuracy, 'valid_acc':validation_accuracy})\n",
        "frame.head()"
      ],
      "metadata": {
        "colab": {
          "base_uri": "https://localhost:8080/",
          "height": 206
        },
        "id": "RDadQnqcb74x",
        "outputId": "1243156f-2df8-4d42-b9dd-d46d25e1572b"
      },
      "execution_count": 127,
      "outputs": [
        {
          "output_type": "execute_result",
          "data": {
            "text/plain": [
              "   max_depth  train_acc  valid_acc\n",
              "0          1   0.930328   0.948272\n",
              "1          2   0.930328   0.948272\n",
              "2          3   0.944203   0.890159\n",
              "3          4   0.954669   0.917884\n",
              "4          5   0.960382   0.982267"
            ],
            "text/html": [
              "\n",
              "  <div id=\"df-cf66453d-0c6d-4b88-a068-c552fcce9468\">\n",
              "    <div class=\"colab-df-container\">\n",
              "      <div>\n",
              "<style scoped>\n",
              "    .dataframe tbody tr th:only-of-type {\n",
              "        vertical-align: middle;\n",
              "    }\n",
              "\n",
              "    .dataframe tbody tr th {\n",
              "        vertical-align: top;\n",
              "    }\n",
              "\n",
              "    .dataframe thead th {\n",
              "        text-align: right;\n",
              "    }\n",
              "</style>\n",
              "<table border=\"1\" class=\"dataframe\">\n",
              "  <thead>\n",
              "    <tr style=\"text-align: right;\">\n",
              "      <th></th>\n",
              "      <th>max_depth</th>\n",
              "      <th>train_acc</th>\n",
              "      <th>valid_acc</th>\n",
              "    </tr>\n",
              "  </thead>\n",
              "  <tbody>\n",
              "    <tr>\n",
              "      <th>0</th>\n",
              "      <td>1</td>\n",
              "      <td>0.930328</td>\n",
              "      <td>0.948272</td>\n",
              "    </tr>\n",
              "    <tr>\n",
              "      <th>1</th>\n",
              "      <td>2</td>\n",
              "      <td>0.930328</td>\n",
              "      <td>0.948272</td>\n",
              "    </tr>\n",
              "    <tr>\n",
              "      <th>2</th>\n",
              "      <td>3</td>\n",
              "      <td>0.944203</td>\n",
              "      <td>0.890159</td>\n",
              "    </tr>\n",
              "    <tr>\n",
              "      <th>3</th>\n",
              "      <td>4</td>\n",
              "      <td>0.954669</td>\n",
              "      <td>0.917884</td>\n",
              "    </tr>\n",
              "    <tr>\n",
              "      <th>4</th>\n",
              "      <td>5</td>\n",
              "      <td>0.960382</td>\n",
              "      <td>0.982267</td>\n",
              "    </tr>\n",
              "  </tbody>\n",
              "</table>\n",
              "</div>\n",
              "      <button class=\"colab-df-convert\" onclick=\"convertToInteractive('df-cf66453d-0c6d-4b88-a068-c552fcce9468')\"\n",
              "              title=\"Convert this dataframe to an interactive table.\"\n",
              "              style=\"display:none;\">\n",
              "        \n",
              "  <svg xmlns=\"http://www.w3.org/2000/svg\" height=\"24px\"viewBox=\"0 0 24 24\"\n",
              "       width=\"24px\">\n",
              "    <path d=\"M0 0h24v24H0V0z\" fill=\"none\"/>\n",
              "    <path d=\"M18.56 5.44l.94 2.06.94-2.06 2.06-.94-2.06-.94-.94-2.06-.94 2.06-2.06.94zm-11 1L8.5 8.5l.94-2.06 2.06-.94-2.06-.94L8.5 2.5l-.94 2.06-2.06.94zm10 10l.94 2.06.94-2.06 2.06-.94-2.06-.94-.94-2.06-.94 2.06-2.06.94z\"/><path d=\"M17.41 7.96l-1.37-1.37c-.4-.4-.92-.59-1.43-.59-.52 0-1.04.2-1.43.59L10.3 9.45l-7.72 7.72c-.78.78-.78 2.05 0 2.83L4 21.41c.39.39.9.59 1.41.59.51 0 1.02-.2 1.41-.59l7.78-7.78 2.81-2.81c.8-.78.8-2.07 0-2.86zM5.41 20L4 18.59l7.72-7.72 1.47 1.35L5.41 20z\"/>\n",
              "  </svg>\n",
              "      </button>\n",
              "      \n",
              "  <style>\n",
              "    .colab-df-container {\n",
              "      display:flex;\n",
              "      flex-wrap:wrap;\n",
              "      gap: 12px;\n",
              "    }\n",
              "\n",
              "    .colab-df-convert {\n",
              "      background-color: #E8F0FE;\n",
              "      border: none;\n",
              "      border-radius: 50%;\n",
              "      cursor: pointer;\n",
              "      display: none;\n",
              "      fill: #1967D2;\n",
              "      height: 32px;\n",
              "      padding: 0 0 0 0;\n",
              "      width: 32px;\n",
              "    }\n",
              "\n",
              "    .colab-df-convert:hover {\n",
              "      background-color: #E2EBFA;\n",
              "      box-shadow: 0px 1px 2px rgba(60, 64, 67, 0.3), 0px 1px 3px 1px rgba(60, 64, 67, 0.15);\n",
              "      fill: #174EA6;\n",
              "    }\n",
              "\n",
              "    [theme=dark] .colab-df-convert {\n",
              "      background-color: #3B4455;\n",
              "      fill: #D2E3FC;\n",
              "    }\n",
              "\n",
              "    [theme=dark] .colab-df-convert:hover {\n",
              "      background-color: #434B5C;\n",
              "      box-shadow: 0px 1px 3px 1px rgba(0, 0, 0, 0.15);\n",
              "      filter: drop-shadow(0px 1px 2px rgba(0, 0, 0, 0.3));\n",
              "      fill: #FFFFFF;\n",
              "    }\n",
              "  </style>\n",
              "\n",
              "      <script>\n",
              "        const buttonEl =\n",
              "          document.querySelector('#df-cf66453d-0c6d-4b88-a068-c552fcce9468 button.colab-df-convert');\n",
              "        buttonEl.style.display =\n",
              "          google.colab.kernel.accessAllowed ? 'block' : 'none';\n",
              "\n",
              "        async function convertToInteractive(key) {\n",
              "          const element = document.querySelector('#df-cf66453d-0c6d-4b88-a068-c552fcce9468');\n",
              "          const dataTable =\n",
              "            await google.colab.kernel.invokeFunction('convertToInteractive',\n",
              "                                                     [key], {});\n",
              "          if (!dataTable) return;\n",
              "\n",
              "          const docLinkHtml = 'Like what you see? Visit the ' +\n",
              "            '<a target=\"_blank\" href=https://colab.research.google.com/notebooks/data_table.ipynb>data table notebook</a>'\n",
              "            + ' to learn more about interactive tables.';\n",
              "          element.innerHTML = '';\n",
              "          dataTable['output_type'] = 'display_data';\n",
              "          await google.colab.output.renderOutput(dataTable, element);\n",
              "          const docLink = document.createElement('div');\n",
              "          docLink.innerHTML = docLinkHtml;\n",
              "          element.appendChild(docLink);\n",
              "        }\n",
              "      </script>\n",
              "    </div>\n",
              "  </div>\n",
              "  "
            ]
          },
          "metadata": {},
          "execution_count": 127
        }
      ]
    },
    {
      "cell_type": "code",
      "source": [
        "plt.figure(figsize=(12,6))\n",
        "plt.plot(frame['max_depth'], frame['train_acc'], marker='o')\n",
        "plt.plot(frame['max_depth'], frame['valid_acc'], marker='o')\n",
        "plt.xlabel('Depth of tree')\n",
        "plt.ylabel('performance')\n",
        "plt.legend()"
      ],
      "metadata": {
        "colab": {
          "base_uri": "https://localhost:8080/",
          "height": 424
        },
        "id": "D_qitBg5dAAK",
        "outputId": "e1db2f26-c03e-4e81-e8e3-87c67ecb3a6b"
      },
      "execution_count": 126,
      "outputs": [
        {
          "output_type": "stream",
          "name": "stderr",
          "text": [
            "No handles with labels found to put in legend.\n"
          ]
        },
        {
          "output_type": "execute_result",
          "data": {
            "text/plain": [
              "<matplotlib.legend.Legend at 0x7f936e371e90>"
            ]
          },
          "metadata": {},
          "execution_count": 126
        },
        {
          "output_type": "display_data",
          "data": {
            "text/plain": [
              "<Figure size 864x432 with 1 Axes>"
            ],
            "image/png": "[encoded data removed]"
          },
          "metadata": {
            "needs_background": "light"
          }
        }
      ]
    },
    {
      "cell_type": "code",
      "source": [
        "dt_model = DecisionTreeClassifier(max_depth=9, max_leaf_nodes=25, random_state=10)"
      ],
      "metadata": {
        "id": "9YuJJm_ndn4c"
      },
      "execution_count": 128,
      "outputs": []
    },
    {
      "cell_type": "code",
      "source": [
        "#fitting the model\n",
        "dt_model.fit(x1,y1)"
      ],
      "metadata": {
        "colab": {
          "base_uri": "https://localhost:8080/"
        },
        "id": "5-jazZfNd95u",
        "outputId": "d5f8de1e-9f8b-4f1a-83a8-5e0fcd10d313"
      },
      "execution_count": 129,
      "outputs": [
        {
          "output_type": "execute_result",
          "data": {
            "text/plain": [
              "DecisionTreeClassifier(max_depth=9, max_leaf_nodes=25, random_state=10)"
            ]
          },
          "metadata": {},
          "execution_count": 129
        }
      ]
    },
    {
      "cell_type": "code",
      "source": [
        "#training score\n",
        "dt_model.score(x1,y1)"
      ],
      "metadata": {
        "colab": {
          "base_uri": "https://localhost:8080/"
        },
        "id": "_G1HDPdkeB8J",
        "outputId": "2f6a4179-d80b-46dd-b2d5-95c134f53d32"
      },
      "execution_count": 130,
      "outputs": [
        {
          "output_type": "execute_result",
          "data": {
            "text/plain": [
              "0.97727068267534"
            ]
          },
          "metadata": {},
          "execution_count": 130
        }
      ]
    },
    {
      "cell_type": "code",
      "source": [
        "#validation score\n",
        "dt_model.score(x2,y2)"
      ],
      "metadata": {
        "colab": {
          "base_uri": "https://localhost:8080/"
        },
        "id": "84bsKnmAeF8z",
        "outputId": "d4123e78-959c-4084-ff4b-2c2f01d98277"
      },
      "execution_count": 131,
      "outputs": [
        {
          "output_type": "execute_result",
          "data": {
            "text/plain": [
              "0.9599488648131351"
            ]
          },
          "metadata": {},
          "execution_count": 131
        }
      ]
    },
    {
      "cell_type": "code",
      "source": [
        "from sklearn import tree\n"
      ],
      "metadata": {
        "id": "bcIuDXR8eN0M"
      },
      "execution_count": 132,
      "outputs": []
    },
    {
      "cell_type": "code",
      "source": [
        "!pip install graphviz"
      ],
      "metadata": {
        "colab": {
          "base_uri": "https://localhost:8080/"
        },
        "id": "wccwAlZVeUBT",
        "outputId": "d7c0fc98-549c-4e00-bb4d-f5cf6ff0ab8c"
      },
      "execution_count": 80,
      "outputs": [
        {
          "output_type": "stream",
          "name": "stdout",
          "text": [
            "Looking in indexes: https://pypi.org/simple, https://us-python.pkg.dev/colab-wheels/public/simple/\n",
            "Requirement already satisfied: graphviz in /usr/local/lib/python3.7/dist-packages (0.10.1)\n"
          ]
        }
      ]
    },
    {
      "cell_type": "code",
      "source": [
        "decision_tree = tree.export_graphviz(dt_model, out_file='tree.dot', feature_names=x1.columns, max_depth=9, filled=True)"
      ],
      "metadata": {
        "id": "hCNrZxdaeXEK"
      },
      "execution_count": 134,
      "outputs": []
    },
    {
      "cell_type": "code",
      "source": [
        "!dot -Tpng tree.dot -o tree.png"
      ],
      "metadata": {
        "id": "fX5ByXzgevUr"
      },
      "execution_count": 83,
      "outputs": []
    },
    {
      "cell_type": "code",
      "source": [
        "image = plt.imread('tree.png')\n",
        "plt.figure(figsize=(15,15))\n",
        "plt.imshow(image)"
      ],
      "metadata": {
        "colab": {
          "base_uri": "https://localhost:8080/",
          "height": 597
        },
        "id": "QVMTvfCTe74x",
        "outputId": "0026e68c-27cc-4828-834d-8cb0ea187092"
      },
      "execution_count": 135,
      "outputs": [
        {
          "output_type": "execute_result",
          "data": {
            "text/plain": [
              "<matplotlib.image.AxesImage at 0x7f936e2a0710>"
            ]
          },
          "metadata": {},
          "execution_count": 135
        },
        {
          "output_type": "display_data",
          "data": {
            "text/plain": [
              "<Figure size 1080x1080 with 1 Axes>"
            ],
            "image/png": "[encoded data removed]"
          },
          "metadata": {
            "needs_background": "light"
          }
        }
      ]
    }
  ],
  "metadata": {
    "colab": {
      "collapsed_sections": [],
      "name": "Model Jul 3 2022 - Shaleena Ramanah.ipynb",
      "provenance": [],
      "toc_visible": true,
      "authorship_tag": "ABX9TyPR/fmGAxRw+If0UX8Y6+Js",
      "include_colab_link": true
    },
    "kernelspec": {
      "display_name": "Python 3",
      "name": "python3"
    },
    "language_info": {
      "name": "python"
    }
  },
  "nbformat": 4,
  "nbformat_minor": 0
}