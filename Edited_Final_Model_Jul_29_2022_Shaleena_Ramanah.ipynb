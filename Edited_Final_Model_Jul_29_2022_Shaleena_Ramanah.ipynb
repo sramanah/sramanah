{
  "cells": [
    {
      "cell_type": "markdown",
      "metadata": {
        "id": "view-in-github",
        "colab_type": "text"
      },
      "source": [
        "<a href=\"https://colab.research.google.com/github/sramanah/sramanah/blob/main/Edited_Final_Model_Jul_29_2022_Shaleena_Ramanah.ipynb\" target=\"_parent\"><img src=\"https://colab.research.google.com/assets/colab-badge.svg\" alt=\"Open In Colab\"/></a>"
      ]
    },
    {
      "cell_type": "markdown",
      "metadata": {
        "id": "BpD3ehdlMKut"
      },
      "source": [
        "# **Detecting Credit Card Fraud using a Hybrid Approach**\n",
        "\n",
        "by Shaleena Ramanah"
      ]
    },
    {
      "cell_type": "markdown",
      "metadata": {
        "id": "nED1xxEY2mEN"
      },
      "source": [
        "# **Installing necessary packages**"
      ]
    },
    {
      "cell_type": "code",
      "execution_count": 2,
      "metadata": {
        "id": "HbR1DMWxc6rD"
      },
      "outputs": [],
      "source": [
        "import numpy as np \n",
        "import pandas as pd \n",
        "import matplotlib.pyplot as plt\n",
        "%matplotlib inline\n",
        "import seaborn as sns\n",
        "import sklearn\n",
        "import scipy"
      ]
    },
    {
      "cell_type": "markdown",
      "metadata": {
        "id": "ZjNpmznC2uIT"
      },
      "source": [
        "# **Uploading the data**"
      ]
    },
    {
      "cell_type": "code",
      "execution_count": 3,
      "metadata": {
        "colab": {
          "base_uri": "https://localhost:8080/",
          "height": 74,
          "resources": {
            "http://localhost:8080/nbextensions/google.colab/files.js": {
              "data": "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",
              "headers": [
                [
                  "content-type",
                  "application/javascript"
                ]
              ],
              "ok": true,
              "status": 200,
              "status_text": ""
            }
          }
        },
        "id": "SlxboYMRdEba",
        "outputId": "b6eecdf8-ad64-43ef-97a3-7b54e19db432"
      },
      "outputs": [
        {
          "output_type": "display_data",
          "data": {
            "text/plain": [
              "<IPython.core.display.HTML object>"
            ],
            "text/html": [
              "\n",
              "     <input type=\"file\" id=\"files-709569e9-0445-4daa-8b99-7c226c12cd4f\" name=\"files[]\" multiple disabled\n",
              "        style=\"border:none\" />\n",
              "     <output id=\"result-709569e9-0445-4daa-8b99-7c226c12cd4f\">\n",
              "      Upload widget is only available when the cell has been executed in the\n",
              "      current browser session. Please rerun this cell to enable.\n",
              "      </output>\n",
              "      <script src=\"/nbextensions/google.colab/files.js\"></script> "
            ]
          },
          "metadata": {}
        },
        {
          "output_type": "stream",
          "name": "stdout",
          "text": [
            "Saving creditcard.csv to creditcard (1).csv\n"
          ]
        }
      ],
      "source": [
        "from google.colab import files\n",
        "uploaded = files.upload()"
      ]
    },
    {
      "cell_type": "markdown",
      "metadata": {
        "id": "E_9wrzQ72pmZ"
      },
      "source": [
        "# **Convert to dataframe**"
      ]
    },
    {
      "cell_type": "code",
      "execution_count": 4,
      "metadata": {
        "id": "gksC63bwftJG"
      },
      "outputs": [],
      "source": [
        "#converting csv file to panda\n",
        "df =pd.read_csv(\"creditcard.csv\")"
      ]
    },
    {
      "cell_type": "markdown",
      "metadata": {
        "id": "wpyUEQ5ACdI1"
      },
      "source": [
        "# **31 features, 284807 instances. No missing values**"
      ]
    },
    {
      "cell_type": "code",
      "execution_count": 5,
      "metadata": {
        "colab": {
          "base_uri": "https://localhost:8080/"
        },
        "id": "RqAgQh_jySFc",
        "outputId": "28d6fd1e-c6dd-44a3-908d-f6b906fe94ec"
      },
      "outputs": [
        {
          "output_type": "stream",
          "name": "stdout",
          "text": [
            "<class 'pandas.core.frame.DataFrame'>\n",
            "RangeIndex: 284807 entries, 0 to 284806\n",
            "Data columns (total 31 columns):\n",
            " #   Column  Non-Null Count   Dtype  \n",
            "---  ------  --------------   -----  \n",
            " 0   Time    284807 non-null  float64\n",
            " 1   V1      284807 non-null  float64\n",
            " 2   V2      284807 non-null  float64\n",
            " 3   V3      284807 non-null  float64\n",
            " 4   V4      284807 non-null  float64\n",
            " 5   V5      284807 non-null  float64\n",
            " 6   V6      284807 non-null  float64\n",
            " 7   V7      284807 non-null  float64\n",
            " 8   V8      284807 non-null  float64\n",
            " 9   V9      284807 non-null  float64\n",
            " 10  V10     284807 non-null  float64\n",
            " 11  V11     284807 non-null  float64\n",
            " 12  V12     284807 non-null  float64\n",
            " 13  V13     284807 non-null  float64\n",
            " 14  V14     284807 non-null  float64\n",
            " 15  V15     284807 non-null  float64\n",
            " 16  V16     284807 non-null  float64\n",
            " 17  V17     284807 non-null  float64\n",
            " 18  V18     284807 non-null  float64\n",
            " 19  V19     284807 non-null  float64\n",
            " 20  V20     284807 non-null  float64\n",
            " 21  V21     284807 non-null  float64\n",
            " 22  V22     284807 non-null  float64\n",
            " 23  V23     284807 non-null  float64\n",
            " 24  V24     284807 non-null  float64\n",
            " 25  V25     284807 non-null  float64\n",
            " 26  V26     284807 non-null  float64\n",
            " 27  V27     284807 non-null  float64\n",
            " 28  V28     284807 non-null  float64\n",
            " 29  Amount  284807 non-null  float64\n",
            " 30  Class   284807 non-null  int64  \n",
            "dtypes: float64(30), int64(1)\n",
            "memory usage: 67.4 MB\n"
          ]
        }
      ],
      "source": [
        "df.info()\n",
        "#284807 instances\n",
        "#31 columns"
      ]
    },
    {
      "cell_type": "code",
      "execution_count": 14,
      "metadata": {
        "colab": {
          "base_uri": "https://localhost:8080/"
        },
        "id": "Cho34RVLOMb-",
        "outputId": "eee51e62-7c1e-4909-c24b-9e518c1b6d51"
      },
      "outputs": [
        {
          "output_type": "execute_result",
          "data": {
            "text/plain": [
              "Time      0\n",
              "V1        0\n",
              "V2        0\n",
              "V3        0\n",
              "V4        0\n",
              "V5        0\n",
              "V6        0\n",
              "V7        0\n",
              "V8        0\n",
              "V9        0\n",
              "V10       0\n",
              "V11       0\n",
              "V12       0\n",
              "V13       0\n",
              "V14       0\n",
              "V15       0\n",
              "V16       0\n",
              "V17       0\n",
              "V18       0\n",
              "V19       0\n",
              "V20       0\n",
              "V21       0\n",
              "V22       0\n",
              "V23       0\n",
              "V24       0\n",
              "V25       0\n",
              "V26       0\n",
              "V27       0\n",
              "V28       0\n",
              "Amount    0\n",
              "Class     0\n",
              "dtype: int64"
            ]
          },
          "metadata": {},
          "execution_count": 14
        }
      ],
      "source": [
        "#no missing values\n",
        "df.isnull().sum()"
      ]
    },
    {
      "cell_type": "markdown",
      "metadata": {
        "id": "UTg_XCJoCnyx"
      },
      "source": [
        "# **Categorical features (Class) vs Numerical features(Time, Amount, V1-V28)**\n",
        "\n"
      ]
    },
    {
      "cell_type": "code",
      "execution_count": 6,
      "metadata": {
        "colab": {
          "base_uri": "https://localhost:8080/"
        },
        "id": "RJUY3IIv4TNP",
        "outputId": "fe10136f-50c4-4bbc-d66e-c7140a524d44"
      },
      "outputs": [
        {
          "output_type": "execute_result",
          "data": {
            "text/plain": [
              "Time      124592\n",
              "V1        275663\n",
              "V2        275663\n",
              "V3        275663\n",
              "V4        275663\n",
              "V5        275663\n",
              "V6        275663\n",
              "V7        275663\n",
              "V8        275663\n",
              "V9        275663\n",
              "V10       275663\n",
              "V11       275663\n",
              "V12       275663\n",
              "V13       275663\n",
              "V14       275663\n",
              "V15       275663\n",
              "V16       275663\n",
              "V17       275663\n",
              "V18       275663\n",
              "V19       275663\n",
              "V20       275663\n",
              "V21       275663\n",
              "V22       275663\n",
              "V23       275663\n",
              "V24       275663\n",
              "V25       275663\n",
              "V26       275663\n",
              "V27       275663\n",
              "V28       275663\n",
              "Amount     32767\n",
              "Class          2\n",
              "dtype: int64"
            ]
          },
          "metadata": {},
          "execution_count": 6
        }
      ],
      "source": [
        "# Finding unique values for each column in order to identify categorical and numeric variables\n",
        "\n",
        "# Usually if the numer of unique values are less than 20, the variable is likely to be categorical, otherwise it is continuous\n",
        "df.nunique()"
      ]
    },
    {
      "cell_type": "markdown",
      "metadata": {
        "id": "ZOCUu13IplZQ"
      },
      "source": [
        "# **Univariate Analysis**"
      ]
    },
    {
      "cell_type": "code",
      "execution_count": 15,
      "metadata": {
        "colab": {
          "base_uri": "https://localhost:8080/",
          "height": 394
        },
        "id": "YgPbQehBpjgm",
        "outputId": "e9cf58ff-9c09-4bb7-829e-14a136df9b7d"
      },
      "outputs": [
        {
          "output_type": "execute_result",
          "data": {
            "text/plain": [
              "                Time            V1            V2            V3            V4  \\\n",
              "count  284807.000000  2.848070e+05  2.848070e+05  2.848070e+05  2.848070e+05   \n",
              "mean    94813.859575  1.168375e-15  3.416908e-16 -1.379537e-15  2.074095e-15   \n",
              "std     47488.145955  1.958696e+00  1.651309e+00  1.516255e+00  1.415869e+00   \n",
              "min         0.000000 -5.640751e+01 -7.271573e+01 -4.832559e+01 -5.683171e+00   \n",
              "25%     54201.500000 -9.203734e-01 -5.985499e-01 -8.903648e-01 -8.486401e-01   \n",
              "50%     84692.000000  1.810880e-02  6.548556e-02  1.798463e-01 -1.984653e-02   \n",
              "75%    139320.500000  1.315642e+00  8.037239e-01  1.027196e+00  7.433413e-01   \n",
              "max    172792.000000  2.454930e+00  2.205773e+01  9.382558e+00  1.687534e+01   \n",
              "\n",
              "                 V5            V6            V7            V8            V9  \\\n",
              "count  2.848070e+05  2.848070e+05  2.848070e+05  2.848070e+05  2.848070e+05   \n",
              "mean   9.604066e-16  1.487313e-15 -5.556467e-16  1.213481e-16 -2.406331e-15   \n",
              "std    1.380247e+00  1.332271e+00  1.237094e+00  1.194353e+00  1.098632e+00   \n",
              "min   -1.137433e+02 -2.616051e+01 -4.355724e+01 -7.321672e+01 -1.343407e+01   \n",
              "25%   -6.915971e-01 -7.682956e-01 -5.540759e-01 -2.086297e-01 -6.430976e-01   \n",
              "50%   -5.433583e-02 -2.741871e-01  4.010308e-02  2.235804e-02 -5.142873e-02   \n",
              "75%    6.119264e-01  3.985649e-01  5.704361e-01  3.273459e-01  5.971390e-01   \n",
              "max    3.480167e+01  7.330163e+01  1.205895e+02  2.000721e+01  1.559499e+01   \n",
              "\n",
              "       ...           V21           V22           V23           V24  \\\n",
              "count  ...  2.848070e+05  2.848070e+05  2.848070e+05  2.848070e+05   \n",
              "mean   ...  1.654067e-16 -3.568593e-16  2.578648e-16  4.473266e-15   \n",
              "std    ...  7.345240e-01  7.257016e-01  6.244603e-01  6.056471e-01   \n",
              "min    ... -3.483038e+01 -1.093314e+01 -4.480774e+01 -2.836627e+00   \n",
              "25%    ... -2.283949e-01 -5.423504e-01 -1.618463e-01 -3.545861e-01   \n",
              "50%    ... -2.945017e-02  6.781943e-03 -1.119293e-02  4.097606e-02   \n",
              "75%    ...  1.863772e-01  5.285536e-01  1.476421e-01  4.395266e-01   \n",
              "max    ...  2.720284e+01  1.050309e+01  2.252841e+01  4.584549e+00   \n",
              "\n",
              "                V25           V26           V27           V28         Amount  \\\n",
              "count  2.848070e+05  2.848070e+05  2.848070e+05  2.848070e+05  284807.000000   \n",
              "mean   5.340915e-16  1.683437e-15 -3.660091e-16 -1.227390e-16      88.349619   \n",
              "std    5.212781e-01  4.822270e-01  4.036325e-01  3.300833e-01     250.120109   \n",
              "min   -1.029540e+01 -2.604551e+00 -2.256568e+01 -1.543008e+01       0.000000   \n",
              "25%   -3.171451e-01 -3.269839e-01 -7.083953e-02 -5.295979e-02       5.600000   \n",
              "50%    1.659350e-02 -5.213911e-02  1.342146e-03  1.124383e-02      22.000000   \n",
              "75%    3.507156e-01  2.409522e-01  9.104512e-02  7.827995e-02      77.165000   \n",
              "max    7.519589e+00  3.517346e+00  3.161220e+01  3.384781e+01   25691.160000   \n",
              "\n",
              "               Class  \n",
              "count  284807.000000  \n",
              "mean        0.001727  \n",
              "std         0.041527  \n",
              "min         0.000000  \n",
              "25%         0.000000  \n",
              "50%         0.000000  \n",
              "75%         0.000000  \n",
              "max         1.000000  \n",
              "\n",
              "[8 rows x 31 columns]"
            ],
            "text/html": [
              "\n",
              "  <div id=\"df-3b21f7f4-e10f-4e36-8817-a5636d99454a\">\n",
              "    <div class=\"colab-df-container\">\n",
              "      <div>\n",
              "<style scoped>\n",
              "    .dataframe tbody tr th:only-of-type {\n",
              "        vertical-align: middle;\n",
              "    }\n",
              "\n",
              "    .dataframe tbody tr th {\n",
              "        vertical-align: top;\n",
              "    }\n",
              "\n",
              "    .dataframe thead th {\n",
              "        text-align: right;\n",
              "    }\n",
              "</style>\n",
              "<table border=\"1\" class=\"dataframe\">\n",
              "  <thead>\n",
              "    <tr style=\"text-align: right;\">\n",
              "      <th></th>\n",
              "      <th>Time</th>\n",
              "      <th>V1</th>\n",
              "      <th>V2</th>\n",
              "      <th>V3</th>\n",
              "      <th>V4</th>\n",
              "      <th>V5</th>\n",
              "      <th>V6</th>\n",
              "      <th>V7</th>\n",
              "      <th>V8</th>\n",
              "      <th>V9</th>\n",
              "      <th>...</th>\n",
              "      <th>V21</th>\n",
              "      <th>V22</th>\n",
              "      <th>V23</th>\n",
              "      <th>V24</th>\n",
              "      <th>V25</th>\n",
              "      <th>V26</th>\n",
              "      <th>V27</th>\n",
              "      <th>V28</th>\n",
              "      <th>Amount</th>\n",
              "      <th>Class</th>\n",
              "    </tr>\n",
              "  </thead>\n",
              "  <tbody>\n",
              "    <tr>\n",
              "      <th>count</th>\n",
              "      <td>284807.000000</td>\n",
              "      <td>2.848070e+05</td>\n",
              "      <td>2.848070e+05</td>\n",
              "      <td>2.848070e+05</td>\n",
              "      <td>2.848070e+05</td>\n",
              "      <td>2.848070e+05</td>\n",
              "      <td>2.848070e+05</td>\n",
              "      <td>2.848070e+05</td>\n",
              "      <td>2.848070e+05</td>\n",
              "      <td>2.848070e+05</td>\n",
              "      <td>...</td>\n",
              "      <td>2.848070e+05</td>\n",
              "      <td>2.848070e+05</td>\n",
              "      <td>2.848070e+05</td>\n",
              "      <td>2.848070e+05</td>\n",
              "      <td>2.848070e+05</td>\n",
              "      <td>2.848070e+05</td>\n",
              "      <td>2.848070e+05</td>\n",
              "      <td>2.848070e+05</td>\n",
              "      <td>284807.000000</td>\n",
              "      <td>284807.000000</td>\n",
              "    </tr>\n",
              "    <tr>\n",
              "      <th>mean</th>\n",
              "      <td>94813.859575</td>\n",
              "      <td>1.168375e-15</td>\n",
              "      <td>3.416908e-16</td>\n",
              "      <td>-1.379537e-15</td>\n",
              "      <td>2.074095e-15</td>\n",
              "      <td>9.604066e-16</td>\n",
              "      <td>1.487313e-15</td>\n",
              "      <td>-5.556467e-16</td>\n",
              "      <td>1.213481e-16</td>\n",
              "      <td>-2.406331e-15</td>\n",
              "      <td>...</td>\n",
              "      <td>1.654067e-16</td>\n",
              "      <td>-3.568593e-16</td>\n",
              "      <td>2.578648e-16</td>\n",
              "      <td>4.473266e-15</td>\n",
              "      <td>5.340915e-16</td>\n",
              "      <td>1.683437e-15</td>\n",
              "      <td>-3.660091e-16</td>\n",
              "      <td>-1.227390e-16</td>\n",
              "      <td>88.349619</td>\n",
              "      <td>0.001727</td>\n",
              "    </tr>\n",
              "    <tr>\n",
              "      <th>std</th>\n",
              "      <td>47488.145955</td>\n",
              "      <td>1.958696e+00</td>\n",
              "      <td>1.651309e+00</td>\n",
              "      <td>1.516255e+00</td>\n",
              "      <td>1.415869e+00</td>\n",
              "      <td>1.380247e+00</td>\n",
              "      <td>1.332271e+00</td>\n",
              "      <td>1.237094e+00</td>\n",
              "      <td>1.194353e+00</td>\n",
              "      <td>1.098632e+00</td>\n",
              "      <td>...</td>\n",
              "      <td>7.345240e-01</td>\n",
              "      <td>7.257016e-01</td>\n",
              "      <td>6.244603e-01</td>\n",
              "      <td>6.056471e-01</td>\n",
              "      <td>5.212781e-01</td>\n",
              "      <td>4.822270e-01</td>\n",
              "      <td>4.036325e-01</td>\n",
              "      <td>3.300833e-01</td>\n",
              "      <td>250.120109</td>\n",
              "      <td>0.041527</td>\n",
              "    </tr>\n",
              "    <tr>\n",
              "      <th>min</th>\n",
              "      <td>0.000000</td>\n",
              "      <td>-5.640751e+01</td>\n",
              "      <td>-7.271573e+01</td>\n",
              "      <td>-4.832559e+01</td>\n",
              "      <td>-5.683171e+00</td>\n",
              "      <td>-1.137433e+02</td>\n",
              "      <td>-2.616051e+01</td>\n",
              "      <td>-4.355724e+01</td>\n",
              "      <td>-7.321672e+01</td>\n",
              "      <td>-1.343407e+01</td>\n",
              "      <td>...</td>\n",
              "      <td>-3.483038e+01</td>\n",
              "      <td>-1.093314e+01</td>\n",
              "      <td>-4.480774e+01</td>\n",
              "      <td>-2.836627e+00</td>\n",
              "      <td>-1.029540e+01</td>\n",
              "      <td>-2.604551e+00</td>\n",
              "      <td>-2.256568e+01</td>\n",
              "      <td>-1.543008e+01</td>\n",
              "      <td>0.000000</td>\n",
              "      <td>0.000000</td>\n",
              "    </tr>\n",
              "    <tr>\n",
              "      <th>25%</th>\n",
              "      <td>54201.500000</td>\n",
              "      <td>-9.203734e-01</td>\n",
              "      <td>-5.985499e-01</td>\n",
              "      <td>-8.903648e-01</td>\n",
              "      <td>-8.486401e-01</td>\n",
              "      <td>-6.915971e-01</td>\n",
              "      <td>-7.682956e-01</td>\n",
              "      <td>-5.540759e-01</td>\n",
              "      <td>-2.086297e-01</td>\n",
              "      <td>-6.430976e-01</td>\n",
              "      <td>...</td>\n",
              "      <td>-2.283949e-01</td>\n",
              "      <td>-5.423504e-01</td>\n",
              "      <td>-1.618463e-01</td>\n",
              "      <td>-3.545861e-01</td>\n",
              "      <td>-3.171451e-01</td>\n",
              "      <td>-3.269839e-01</td>\n",
              "      <td>-7.083953e-02</td>\n",
              "      <td>-5.295979e-02</td>\n",
              "      <td>5.600000</td>\n",
              "      <td>0.000000</td>\n",
              "    </tr>\n",
              "    <tr>\n",
              "      <th>50%</th>\n",
              "      <td>84692.000000</td>\n",
              "      <td>1.810880e-02</td>\n",
              "      <td>6.548556e-02</td>\n",
              "      <td>1.798463e-01</td>\n",
              "      <td>-1.984653e-02</td>\n",
              "      <td>-5.433583e-02</td>\n",
              "      <td>-2.741871e-01</td>\n",
              "      <td>4.010308e-02</td>\n",
              "      <td>2.235804e-02</td>\n",
              "      <td>-5.142873e-02</td>\n",
              "      <td>...</td>\n",
              "      <td>-2.945017e-02</td>\n",
              "      <td>6.781943e-03</td>\n",
              "      <td>-1.119293e-02</td>\n",
              "      <td>4.097606e-02</td>\n",
              "      <td>1.659350e-02</td>\n",
              "      <td>-5.213911e-02</td>\n",
              "      <td>1.342146e-03</td>\n",
              "      <td>1.124383e-02</td>\n",
              "      <td>22.000000</td>\n",
              "      <td>0.000000</td>\n",
              "    </tr>\n",
              "    <tr>\n",
              "      <th>75%</th>\n",
              "      <td>139320.500000</td>\n",
              "      <td>1.315642e+00</td>\n",
              "      <td>8.037239e-01</td>\n",
              "      <td>1.027196e+00</td>\n",
              "      <td>7.433413e-01</td>\n",
              "      <td>6.119264e-01</td>\n",
              "      <td>3.985649e-01</td>\n",
              "      <td>5.704361e-01</td>\n",
              "      <td>3.273459e-01</td>\n",
              "      <td>5.971390e-01</td>\n",
              "      <td>...</td>\n",
              "      <td>1.863772e-01</td>\n",
              "      <td>5.285536e-01</td>\n",
              "      <td>1.476421e-01</td>\n",
              "      <td>4.395266e-01</td>\n",
              "      <td>3.507156e-01</td>\n",
              "      <td>2.409522e-01</td>\n",
              "      <td>9.104512e-02</td>\n",
              "      <td>7.827995e-02</td>\n",
              "      <td>77.165000</td>\n",
              "      <td>0.000000</td>\n",
              "    </tr>\n",
              "    <tr>\n",
              "      <th>max</th>\n",
              "      <td>172792.000000</td>\n",
              "      <td>2.454930e+00</td>\n",
              "      <td>2.205773e+01</td>\n",
              "      <td>9.382558e+00</td>\n",
              "      <td>1.687534e+01</td>\n",
              "      <td>3.480167e+01</td>\n",
              "      <td>7.330163e+01</td>\n",
              "      <td>1.205895e+02</td>\n",
              "      <td>2.000721e+01</td>\n",
              "      <td>1.559499e+01</td>\n",
              "      <td>...</td>\n",
              "      <td>2.720284e+01</td>\n",
              "      <td>1.050309e+01</td>\n",
              "      <td>2.252841e+01</td>\n",
              "      <td>4.584549e+00</td>\n",
              "      <td>7.519589e+00</td>\n",
              "      <td>3.517346e+00</td>\n",
              "      <td>3.161220e+01</td>\n",
              "      <td>3.384781e+01</td>\n",
              "      <td>25691.160000</td>\n",
              "      <td>1.000000</td>\n",
              "    </tr>\n",
              "  </tbody>\n",
              "</table>\n",
              "<p>8 rows × 31 columns</p>\n",
              "</div>\n",
              "      <button class=\"colab-df-convert\" onclick=\"convertToInteractive('df-3b21f7f4-e10f-4e36-8817-a5636d99454a')\"\n",
              "              title=\"Convert this dataframe to an interactive table.\"\n",
              "              style=\"display:none;\">\n",
              "        \n",
              "  <svg xmlns=\"http://www.w3.org/2000/svg\" height=\"24px\"viewBox=\"0 0 24 24\"\n",
              "       width=\"24px\">\n",
              "    <path d=\"M0 0h24v24H0V0z\" fill=\"none\"/>\n",
              "    <path d=\"M18.56 5.44l.94 2.06.94-2.06 2.06-.94-2.06-.94-.94-2.06-.94 2.06-2.06.94zm-11 1L8.5 8.5l.94-2.06 2.06-.94-2.06-.94L8.5 2.5l-.94 2.06-2.06.94zm10 10l.94 2.06.94-2.06 2.06-.94-2.06-.94-.94-2.06-.94 2.06-2.06.94z\"/><path d=\"M17.41 7.96l-1.37-1.37c-.4-.4-.92-.59-1.43-.59-.52 0-1.04.2-1.43.59L10.3 9.45l-7.72 7.72c-.78.78-.78 2.05 0 2.83L4 21.41c.39.39.9.59 1.41.59.51 0 1.02-.2 1.41-.59l7.78-7.78 2.81-2.81c.8-.78.8-2.07 0-2.86zM5.41 20L4 18.59l7.72-7.72 1.47 1.35L5.41 20z\"/>\n",
              "  </svg>\n",
              "      </button>\n",
              "      \n",
              "  <style>\n",
              "    .colab-df-container {\n",
              "      display:flex;\n",
              "      flex-wrap:wrap;\n",
              "      gap: 12px;\n",
              "    }\n",
              "\n",
              "    .colab-df-convert {\n",
              "      background-color: #E8F0FE;\n",
              "      border: none;\n",
              "      border-radius: 50%;\n",
              "      cursor: pointer;\n",
              "      display: none;\n",
              "      fill: #1967D2;\n",
              "      height: 32px;\n",
              "      padding: 0 0 0 0;\n",
              "      width: 32px;\n",
              "    }\n",
              "\n",
              "    .colab-df-convert:hover {\n",
              "      background-color: #E2EBFA;\n",
              "      box-shadow: 0px 1px 2px rgba(60, 64, 67, 0.3), 0px 1px 3px 1px rgba(60, 64, 67, 0.15);\n",
              "      fill: #174EA6;\n",
              "    }\n",
              "\n",
              "    [theme=dark] .colab-df-convert {\n",
              "      background-color: #3B4455;\n",
              "      fill: #D2E3FC;\n",
              "    }\n",
              "\n",
              "    [theme=dark] .colab-df-convert:hover {\n",
              "      background-color: #434B5C;\n",
              "      box-shadow: 0px 1px 3px 1px rgba(0, 0, 0, 0.15);\n",
              "      filter: drop-shadow(0px 1px 2px rgba(0, 0, 0, 0.3));\n",
              "      fill: #FFFFFF;\n",
              "    }\n",
              "  </style>\n",
              "\n",
              "      <script>\n",
              "        const buttonEl =\n",
              "          document.querySelector('#df-3b21f7f4-e10f-4e36-8817-a5636d99454a button.colab-df-convert');\n",
              "        buttonEl.style.display =\n",
              "          google.colab.kernel.accessAllowed ? 'block' : 'none';\n",
              "\n",
              "        async function convertToInteractive(key) {\n",
              "          const element = document.querySelector('#df-3b21f7f4-e10f-4e36-8817-a5636d99454a');\n",
              "          const dataTable =\n",
              "            await google.colab.kernel.invokeFunction('convertToInteractive',\n",
              "                                                     [key], {});\n",
              "          if (!dataTable) return;\n",
              "\n",
              "          const docLinkHtml = 'Like what you see? Visit the ' +\n",
              "            '<a target=\"_blank\" href=https://colab.research.google.com/notebooks/data_table.ipynb>data table notebook</a>'\n",
              "            + ' to learn more about interactive tables.';\n",
              "          element.innerHTML = '';\n",
              "          dataTable['output_type'] = 'display_data';\n",
              "          await google.colab.output.renderOutput(dataTable, element);\n",
              "          const docLink = document.createElement('div');\n",
              "          docLink.innerHTML = docLinkHtml;\n",
              "          element.appendChild(docLink);\n",
              "        }\n",
              "      </script>\n",
              "    </div>\n",
              "  </div>\n",
              "  "
            ]
          },
          "metadata": {},
          "execution_count": 15
        }
      ],
      "source": [
        "df.describe()"
      ]
    },
    {
      "cell_type": "markdown",
      "metadata": {
        "id": "DwSUwEzE4fdS"
      },
      "source": [
        "# **Visualize distribution of Continuous Variables**"
      ]
    },
    {
      "cell_type": "code",
      "execution_count": 8,
      "metadata": {
        "colab": {
          "base_uri": "https://localhost:8080/",
          "height": 1000
        },
        "id": "YEzZhl4N4dFC",
        "outputId": "923b7327-cfdf-430a-be26-5628b72cb6eb"
      },
      "outputs": [
        {
          "output_type": "execute_result",
          "data": {
            "text/plain": [
              "array([[<matplotlib.axes._subplots.AxesSubplot object at 0x7efc760bcd50>,\n",
              "        <matplotlib.axes._subplots.AxesSubplot object at 0x7efc7601a490>,\n",
              "        <matplotlib.axes._subplots.AxesSubplot object at 0x7efc75fd3a90>,\n",
              "        <matplotlib.axes._subplots.AxesSubplot object at 0x7efc75f950d0>,\n",
              "        <matplotlib.axes._subplots.AxesSubplot object at 0x7efc75f4c6d0>,\n",
              "        <matplotlib.axes._subplots.AxesSubplot object at 0x7efc75f81cd0>],\n",
              "       [<matplotlib.axes._subplots.AxesSubplot object at 0x7efc75ec5390>,\n",
              "        <matplotlib.axes._subplots.AxesSubplot object at 0x7efc75efd8d0>,\n",
              "        <matplotlib.axes._subplots.AxesSubplot object at 0x7efc75efd910>,\n",
              "        <matplotlib.axes._subplots.AxesSubplot object at 0x7efc75ebf050>,\n",
              "        <matplotlib.axes._subplots.AxesSubplot object at 0x7efc75e2cb50>,\n",
              "        <matplotlib.axes._subplots.AxesSubplot object at 0x7efc75dee190>],\n",
              "       [<matplotlib.axes._subplots.AxesSubplot object at 0x7efc75da4790>,\n",
              "        <matplotlib.axes._subplots.AxesSubplot object at 0x7efc75d5cd90>,\n",
              "        <matplotlib.axes._subplots.AxesSubplot object at 0x7efc75d1f3d0>,\n",
              "        <matplotlib.axes._subplots.AxesSubplot object at 0x7efc75cd59d0>,\n",
              "        <matplotlib.axes._subplots.AxesSubplot object at 0x7efc75d02b10>,\n",
              "        <matplotlib.axes._subplots.AxesSubplot object at 0x7efc75c4f610>],\n",
              "       [<matplotlib.axes._subplots.AxesSubplot object at 0x7efc75c05c10>,\n",
              "        <matplotlib.axes._subplots.AxesSubplot object at 0x7efc75bc9250>,\n",
              "        <matplotlib.axes._subplots.AxesSubplot object at 0x7efc75c00850>,\n",
              "        <matplotlib.axes._subplots.AxesSubplot object at 0x7efc75bb5e50>,\n",
              "        <matplotlib.axes._subplots.AxesSubplot object at 0x7efc75b79490>,\n",
              "        <matplotlib.axes._subplots.AxesSubplot object at 0x7efc75b2ea90>],\n",
              "       [<matplotlib.axes._subplots.AxesSubplot object at 0x7efc75af20d0>,\n",
              "        <matplotlib.axes._subplots.AxesSubplot object at 0x7efc75aa76d0>,\n",
              "        <matplotlib.axes._subplots.AxesSubplot object at 0x7efc75a5ecd0>,\n",
              "        <matplotlib.axes._subplots.AxesSubplot object at 0x7efc75a23310>,\n",
              "        <matplotlib.axes._subplots.AxesSubplot object at 0x7efc759d8910>,\n",
              "        <matplotlib.axes._subplots.AxesSubplot object at 0x7efc7598ff10>],\n",
              "       [<matplotlib.axes._subplots.AxesSubplot object at 0x7efc75949f10>,\n",
              "        <matplotlib.axes._subplots.AxesSubplot object at 0x7efc7590a450>,\n",
              "        <matplotlib.axes._subplots.AxesSubplot object at 0x7efc75941950>,\n",
              "        <matplotlib.axes._subplots.AxesSubplot object at 0x7efc758f9e50>,\n",
              "        <matplotlib.axes._subplots.AxesSubplot object at 0x7efc758be390>,\n",
              "        <matplotlib.axes._subplots.AxesSubplot object at 0x7efc75872890>]],\n",
              "      dtype=object)"
            ]
          },
          "metadata": {},
          "execution_count": 8
        },
        {
          "output_type": "display_data",
          "data": {
            "text/plain": [
              "<Figure size 1296x720 with 36 Axes>"
            ],
            "image/png": "[encoded data removed]"
          },
          "metadata": {
            "needs_background": "light"
          }
        }
      ],
      "source": [
        "# Plotting histograms of continuous variables\n",
        "\n",
        "df.hist(figsize=(18,10))"
      ]
    },
    {
      "cell_type": "markdown",
      "metadata": {
        "id": "BZD-34jXprWk"
      },
      "source": [
        "# **Bivariate Analysis**"
      ]
    },
    {
      "cell_type": "markdown",
      "metadata": {
        "id": "7cOfunKHWUVb"
      },
      "source": [
        "# ***** PART 1 - **Separating the Dataset into Fraud and Normal**"
      ]
    },
    {
      "cell_type": "code",
      "execution_count": 6,
      "metadata": {
        "id": "SBSbSSQ7WBNL"
      },
      "outputs": [],
      "source": [
        "#Separating the dataset into 2 classes - Normal and Fraud\n",
        "\n",
        "fraud = df[df['Class']==1]\n",
        "normal = df[df['Class']==0]"
      ]
    },
    {
      "cell_type": "code",
      "execution_count": 17,
      "metadata": {
        "colab": {
          "base_uri": "https://localhost:8080/"
        },
        "id": "A8Z3pjreWGmD",
        "outputId": "daf7f3f5-1000-4b3c-921f-c223af81de32"
      },
      "outputs": [
        {
          "output_type": "stream",
          "name": "stdout",
          "text": [
            "(492, 31) (284315, 31)\n"
          ]
        }
      ],
      "source": [
        "print(fraud.shape, normal.shape)"
      ]
    },
    {
      "cell_type": "code",
      "execution_count": 11,
      "metadata": {
        "colab": {
          "base_uri": "https://localhost:8080/"
        },
        "id": "ndgSWwltWHFj",
        "outputId": "6a0acadd-8391-4aa8-f57e-20764b155160"
      },
      "outputs": [
        {
          "output_type": "execute_result",
          "data": {
            "text/plain": [
              "count    284315.000000\n",
              "mean         88.291022\n",
              "std         250.105092\n",
              "min           0.000000\n",
              "25%           5.650000\n",
              "50%          22.000000\n",
              "75%          77.050000\n",
              "max       25691.160000\n",
              "Name: Amount, dtype: float64"
            ]
          },
          "metadata": {},
          "execution_count": 11
        }
      ],
      "source": [
        "#let's analyse the difference between the normal amounts and fraudulent amounts\n",
        "\n",
        "normal.Amount.describe()\n",
        "#mean normal amount 88 euros\n",
        "#max is 25,691\n",
        "#min is 0"
      ]
    },
    {
      "cell_type": "code",
      "execution_count": null,
      "metadata": {
        "colab": {
          "background_save": true
        },
        "id": "vVXm4lDiWJRb"
      },
      "outputs": [],
      "source": [
        "fraud.Amount.describe()\n",
        "#mean fradulent amount is 122 euro\n",
        "#max is 2,125.87 euros\n",
        "#min is 0"
      ]
    },
    {
      "cell_type": "markdown",
      "metadata": {
        "id": "-PJ60iQ5XTjq"
      },
      "source": [
        "#Do the fradulent transactions occur during a specific timeframe?"
      ]
    },
    {
      "cell_type": "code",
      "execution_count": 12,
      "metadata": {
        "colab": {
          "base_uri": "https://localhost:8080/",
          "height": 308
        },
        "id": "ntMs3_iSXMlR",
        "outputId": "9e027775-2488-41a9-a668-83ff9a9ba2ac"
      },
      "outputs": [
        {
          "output_type": "display_data",
          "data": {
            "text/plain": [
              "<Figure size 432x288 with 2 Axes>"
            ],
            "image/png": "[encoded data removed]"
          },
          "metadata": {
            "needs_background": "light"
          }
        }
      ],
      "source": [
        "#Do the fradulent transactions occur during a specific timeframe?\n",
        "\n",
        "\n",
        "\n",
        "f, (ax1, ax2) = plt.subplots(2, 1, sharex=True)\n",
        "f.suptitle('Time of transaction vs Amount by class')\n",
        "ax1.scatter(fraud.Time, fraud.Amount)\n",
        "ax1.set_title('Fraud')\n",
        "ax2.scatter(normal.Time, normal.Amount)\n",
        "ax2.set_title('Normal')\n",
        "plt.xlabel('Time (in Seconds)')\n",
        "plt.ylabel('Amount (in euros')\n",
        "plt.show();\n"
      ]
    },
    {
      "cell_type": "markdown",
      "metadata": {
        "id": "_Fy_nmmR21Q6"
      },
      "source": [
        "# **Making a copy of the data **"
      ]
    },
    {
      "cell_type": "code",
      "execution_count": 7,
      "metadata": {
        "id": "z_VFhIl7zSnJ"
      },
      "outputs": [],
      "source": [
        "data = df.copy()"
      ]
    },
    {
      "cell_type": "markdown",
      "metadata": {
        "id": "RvVwUHyu25fn"
      },
      "source": [
        "# **Data Transformation**"
      ]
    },
    {
      "cell_type": "markdown",
      "metadata": {
        "id": "AYHkKFKEV2s-"
      },
      "source": [
        "#***** PART 2 - **Analysing the Dataset by separating the data into Day 1 and Day 2**"
      ]
    },
    {
      "cell_type": "markdown",
      "metadata": {
        "id": "eMxbEMGwC9Um"
      },
      "source": [
        "As Time is the duration in seconds from the first transaction, we will create a new feature to convert seconds to Date.\n",
        "\n",
        "We are also creating another column to distinguish the transactions from day 1 and day 2\n",
        "\n",
        "Time_new = Date\n",
        "Day = Day 1 or Day 2"
      ]
    },
    {
      "cell_type": "code",
      "execution_count": 8,
      "metadata": {
        "id": "8537OnE9zWWT"
      },
      "outputs": [],
      "source": [
        "data['Time_new'] = pd.to_datetime(data['Time'], unit='s')\n"
      ]
    },
    {
      "cell_type": "code",
      "execution_count": 9,
      "metadata": {
        "id": "Q1mxTOeTZ2OZ"
      },
      "outputs": [],
      "source": [
        "#To separate travel date to different columns -Date and Day as Time is in duration (seconds)\n",
        "data['Date'] = pd.to_datetime(data['Time_new']).dt.date\n",
        "data['Day'] = pd.to_datetime(data['Date']).dt.day"
      ]
    },
    {
      "cell_type": "code",
      "execution_count": 10,
      "metadata": {
        "colab": {
          "base_uri": "https://localhost:8080/",
          "height": 473
        },
        "id": "WHn70GyYkdkX",
        "outputId": "c2f2a125-9fbb-452a-b180-92f2e4e33a82"
      },
      "outputs": [
        {
          "output_type": "execute_result",
          "data": {
            "text/plain": [
              "   Time        V1        V2        V3        V4        V5        V6        V7  \\\n",
              "0   0.0 -1.359807 -0.072781  2.536347  1.378155 -0.338321  0.462388  0.239599   \n",
              "1   0.0  1.191857  0.266151  0.166480  0.448154  0.060018 -0.082361 -0.078803   \n",
              "2   1.0 -1.358354 -1.340163  1.773209  0.379780 -0.503198  1.800499  0.791461   \n",
              "3   1.0 -0.966272 -0.185226  1.792993 -0.863291 -0.010309  1.247203  0.237609   \n",
              "4   2.0 -1.158233  0.877737  1.548718  0.403034 -0.407193  0.095921  0.592941   \n",
              "\n",
              "         V8        V9  ...       V24       V25       V26       V27       V28  \\\n",
              "0  0.098698  0.363787  ...  0.066928  0.128539 -0.189115  0.133558 -0.021053   \n",
              "1  0.085102 -0.255425  ... -0.339846  0.167170  0.125895 -0.008983  0.014724   \n",
              "2  0.247676 -1.514654  ... -0.689281 -0.327642 -0.139097 -0.055353 -0.059752   \n",
              "3  0.377436 -1.387024  ... -1.175575  0.647376 -0.221929  0.062723  0.061458   \n",
              "4 -0.270533  0.817739  ...  0.141267 -0.206010  0.502292  0.219422  0.215153   \n",
              "\n",
              "   Amount  Class            Time_new        Date  Day  \n",
              "0  149.62      0 1970-01-01 00:00:00  1970-01-01    1  \n",
              "1    2.69      0 1970-01-01 00:00:00  1970-01-01    1  \n",
              "2  378.66      0 1970-01-01 00:00:01  1970-01-01    1  \n",
              "3  123.50      0 1970-01-01 00:00:01  1970-01-01    1  \n",
              "4   69.99      0 1970-01-01 00:00:02  1970-01-01    1  \n",
              "\n",
              "[5 rows x 34 columns]"
            ],
            "text/html": [
              "\n",
              "  <div id=\"df-208018c8-79b0-4f72-96b4-d11c096e3bb1\">\n",
              "    <div class=\"colab-df-container\">\n",
              "      <div>\n",
              "<style scoped>\n",
              "    .dataframe tbody tr th:only-of-type {\n",
              "        vertical-align: middle;\n",
              "    }\n",
              "\n",
              "    .dataframe tbody tr th {\n",
              "        vertical-align: top;\n",
              "    }\n",
              "\n",
              "    .dataframe thead th {\n",
              "        text-align: right;\n",
              "    }\n",
              "</style>\n",
              "<table border=\"1\" class=\"dataframe\">\n",
              "  <thead>\n",
              "    <tr style=\"text-align: right;\">\n",
              "      <th></th>\n",
              "      <th>Time</th>\n",
              "      <th>V1</th>\n",
              "      <th>V2</th>\n",
              "      <th>V3</th>\n",
              "      <th>V4</th>\n",
              "      <th>V5</th>\n",
              "      <th>V6</th>\n",
              "      <th>V7</th>\n",
              "      <th>V8</th>\n",
              "      <th>V9</th>\n",
              "      <th>...</th>\n",
              "      <th>V24</th>\n",
              "      <th>V25</th>\n",
              "      <th>V26</th>\n",
              "      <th>V27</th>\n",
              "      <th>V28</th>\n",
              "      <th>Amount</th>\n",
              "      <th>Class</th>\n",
              "      <th>Time_new</th>\n",
              "      <th>Date</th>\n",
              "      <th>Day</th>\n",
              "    </tr>\n",
              "  </thead>\n",
              "  <tbody>\n",
              "    <tr>\n",
              "      <th>0</th>\n",
              "      <td>0.0</td>\n",
              "      <td>-1.359807</td>\n",
              "      <td>-0.072781</td>\n",
              "      <td>2.536347</td>\n",
              "      <td>1.378155</td>\n",
              "      <td>-0.338321</td>\n",
              "      <td>0.462388</td>\n",
              "      <td>0.239599</td>\n",
              "      <td>0.098698</td>\n",
              "      <td>0.363787</td>\n",
              "      <td>...</td>\n",
              "      <td>0.066928</td>\n",
              "      <td>0.128539</td>\n",
              "      <td>-0.189115</td>\n",
              "      <td>0.133558</td>\n",
              "      <td>-0.021053</td>\n",
              "      <td>149.62</td>\n",
              "      <td>0</td>\n",
              "      <td>1970-01-01 00:00:00</td>\n",
              "      <td>1970-01-01</td>\n",
              "      <td>1</td>\n",
              "    </tr>\n",
              "    <tr>\n",
              "      <th>1</th>\n",
              "      <td>0.0</td>\n",
              "      <td>1.191857</td>\n",
              "      <td>0.266151</td>\n",
              "      <td>0.166480</td>\n",
              "      <td>0.448154</td>\n",
              "      <td>0.060018</td>\n",
              "      <td>-0.082361</td>\n",
              "      <td>-0.078803</td>\n",
              "      <td>0.085102</td>\n",
              "      <td>-0.255425</td>\n",
              "      <td>...</td>\n",
              "      <td>-0.339846</td>\n",
              "      <td>0.167170</td>\n",
              "      <td>0.125895</td>\n",
              "      <td>-0.008983</td>\n",
              "      <td>0.014724</td>\n",
              "      <td>2.69</td>\n",
              "      <td>0</td>\n",
              "      <td>1970-01-01 00:00:00</td>\n",
              "      <td>1970-01-01</td>\n",
              "      <td>1</td>\n",
              "    </tr>\n",
              "    <tr>\n",
              "      <th>2</th>\n",
              "      <td>1.0</td>\n",
              "      <td>-1.358354</td>\n",
              "      <td>-1.340163</td>\n",
              "      <td>1.773209</td>\n",
              "      <td>0.379780</td>\n",
              "      <td>-0.503198</td>\n",
              "      <td>1.800499</td>\n",
              "      <td>0.791461</td>\n",
              "      <td>0.247676</td>\n",
              "      <td>-1.514654</td>\n",
              "      <td>...</td>\n",
              "      <td>-0.689281</td>\n",
              "      <td>-0.327642</td>\n",
              "      <td>-0.139097</td>\n",
              "      <td>-0.055353</td>\n",
              "      <td>-0.059752</td>\n",
              "      <td>378.66</td>\n",
              "      <td>0</td>\n",
              "      <td>1970-01-01 00:00:01</td>\n",
              "      <td>1970-01-01</td>\n",
              "      <td>1</td>\n",
              "    </tr>\n",
              "    <tr>\n",
              "      <th>3</th>\n",
              "      <td>1.0</td>\n",
              "      <td>-0.966272</td>\n",
              "      <td>-0.185226</td>\n",
              "      <td>1.792993</td>\n",
              "      <td>-0.863291</td>\n",
              "      <td>-0.010309</td>\n",
              "      <td>1.247203</td>\n",
              "      <td>0.237609</td>\n",
              "      <td>0.377436</td>\n",
              "      <td>-1.387024</td>\n",
              "      <td>...</td>\n",
              "      <td>-1.175575</td>\n",
              "      <td>0.647376</td>\n",
              "      <td>-0.221929</td>\n",
              "      <td>0.062723</td>\n",
              "      <td>0.061458</td>\n",
              "      <td>123.50</td>\n",
              "      <td>0</td>\n",
              "      <td>1970-01-01 00:00:01</td>\n",
              "      <td>1970-01-01</td>\n",
              "      <td>1</td>\n",
              "    </tr>\n",
              "    <tr>\n",
              "      <th>4</th>\n",
              "      <td>2.0</td>\n",
              "      <td>-1.158233</td>\n",
              "      <td>0.877737</td>\n",
              "      <td>1.548718</td>\n",
              "      <td>0.403034</td>\n",
              "      <td>-0.407193</td>\n",
              "      <td>0.095921</td>\n",
              "      <td>0.592941</td>\n",
              "      <td>-0.270533</td>\n",
              "      <td>0.817739</td>\n",
              "      <td>...</td>\n",
              "      <td>0.141267</td>\n",
              "      <td>-0.206010</td>\n",
              "      <td>0.502292</td>\n",
              "      <td>0.219422</td>\n",
              "      <td>0.215153</td>\n",
              "      <td>69.99</td>\n",
              "      <td>0</td>\n",
              "      <td>1970-01-01 00:00:02</td>\n",
              "      <td>1970-01-01</td>\n",
              "      <td>1</td>\n",
              "    </tr>\n",
              "  </tbody>\n",
              "</table>\n",
              "<p>5 rows × 34 columns</p>\n",
              "</div>\n",
              "      <button class=\"colab-df-convert\" onclick=\"convertToInteractive('df-208018c8-79b0-4f72-96b4-d11c096e3bb1')\"\n",
              "              title=\"Convert this dataframe to an interactive table.\"\n",
              "              style=\"display:none;\">\n",
              "        \n",
              "  <svg xmlns=\"http://www.w3.org/2000/svg\" height=\"24px\"viewBox=\"0 0 24 24\"\n",
              "       width=\"24px\">\n",
              "    <path d=\"M0 0h24v24H0V0z\" fill=\"none\"/>\n",
              "    <path d=\"M18.56 5.44l.94 2.06.94-2.06 2.06-.94-2.06-.94-.94-2.06-.94 2.06-2.06.94zm-11 1L8.5 8.5l.94-2.06 2.06-.94-2.06-.94L8.5 2.5l-.94 2.06-2.06.94zm10 10l.94 2.06.94-2.06 2.06-.94-2.06-.94-.94-2.06-.94 2.06-2.06.94z\"/><path d=\"M17.41 7.96l-1.37-1.37c-.4-.4-.92-.59-1.43-.59-.52 0-1.04.2-1.43.59L10.3 9.45l-7.72 7.72c-.78.78-.78 2.05 0 2.83L4 21.41c.39.39.9.59 1.41.59.51 0 1.02-.2 1.41-.59l7.78-7.78 2.81-2.81c.8-.78.8-2.07 0-2.86zM5.41 20L4 18.59l7.72-7.72 1.47 1.35L5.41 20z\"/>\n",
              "  </svg>\n",
              "      </button>\n",
              "      \n",
              "  <style>\n",
              "    .colab-df-container {\n",
              "      display:flex;\n",
              "      flex-wrap:wrap;\n",
              "      gap: 12px;\n",
              "    }\n",
              "\n",
              "    .colab-df-convert {\n",
              "      background-color: #E8F0FE;\n",
              "      border: none;\n",
              "      border-radius: 50%;\n",
              "      cursor: pointer;\n",
              "      display: none;\n",
              "      fill: #1967D2;\n",
              "      height: 32px;\n",
              "      padding: 0 0 0 0;\n",
              "      width: 32px;\n",
              "    }\n",
              "\n",
              "    .colab-df-convert:hover {\n",
              "      background-color: #E2EBFA;\n",
              "      box-shadow: 0px 1px 2px rgba(60, 64, 67, 0.3), 0px 1px 3px 1px rgba(60, 64, 67, 0.15);\n",
              "      fill: #174EA6;\n",
              "    }\n",
              "\n",
              "    [theme=dark] .colab-df-convert {\n",
              "      background-color: #3B4455;\n",
              "      fill: #D2E3FC;\n",
              "    }\n",
              "\n",
              "    [theme=dark] .colab-df-convert:hover {\n",
              "      background-color: #434B5C;\n",
              "      box-shadow: 0px 1px 3px 1px rgba(0, 0, 0, 0.15);\n",
              "      filter: drop-shadow(0px 1px 2px rgba(0, 0, 0, 0.3));\n",
              "      fill: #FFFFFF;\n",
              "    }\n",
              "  </style>\n",
              "\n",
              "      <script>\n",
              "        const buttonEl =\n",
              "          document.querySelector('#df-208018c8-79b0-4f72-96b4-d11c096e3bb1 button.colab-df-convert');\n",
              "        buttonEl.style.display =\n",
              "          google.colab.kernel.accessAllowed ? 'block' : 'none';\n",
              "\n",
              "        async function convertToInteractive(key) {\n",
              "          const element = document.querySelector('#df-208018c8-79b0-4f72-96b4-d11c096e3bb1');\n",
              "          const dataTable =\n",
              "            await google.colab.kernel.invokeFunction('convertToInteractive',\n",
              "                                                     [key], {});\n",
              "          if (!dataTable) return;\n",
              "\n",
              "          const docLinkHtml = 'Like what you see? Visit the ' +\n",
              "            '<a target=\"_blank\" href=https://colab.research.google.com/notebooks/data_table.ipynb>data table notebook</a>'\n",
              "            + ' to learn more about interactive tables.';\n",
              "          element.innerHTML = '';\n",
              "          dataTable['output_type'] = 'display_data';\n",
              "          await google.colab.output.renderOutput(dataTable, element);\n",
              "          const docLink = document.createElement('div');\n",
              "          docLink.innerHTML = docLinkHtml;\n",
              "          element.appendChild(docLink);\n",
              "        }\n",
              "      </script>\n",
              "    </div>\n",
              "  </div>\n",
              "  "
            ]
          },
          "metadata": {},
          "execution_count": 10
        }
      ],
      "source": [
        "data.head()"
      ]
    },
    {
      "cell_type": "markdown",
      "metadata": {
        "id": "d0ZZEM6c3F_0"
      },
      "source": [
        "Separating the dataset into Day 1 and Day 2"
      ]
    },
    {
      "cell_type": "markdown",
      "metadata": {
        "id": "ez5BR_ShDVd1"
      },
      "source": [
        "# **DATASET#1: Day 1 and Day 2 Datasets**"
      ]
    },
    {
      "cell_type": "code",
      "execution_count": 11,
      "metadata": {
        "id": "MmLhnEJnzP6B"
      },
      "outputs": [],
      "source": [
        "Day1 = data.loc[data.Day == 1]\n",
        "Day2 = data.loc[data.Day == 2]\n",
        "#Day 1 has 144786 rows × 34 columns\n",
        "#Day 2 has 140021 rows × 34 columns"
      ]
    },
    {
      "cell_type": "markdown",
      "metadata": {
        "id": "BRaHdKzM34Hy"
      },
      "source": [
        "# **------> Day 1**"
      ]
    },
    {
      "cell_type": "markdown",
      "metadata": {
        "id": "ftx1NB933UGk"
      },
      "source": [
        "# **Frequency of normal and fraudulent transactions on Day 1**"
      ]
    },
    {
      "cell_type": "code",
      "execution_count": 18,
      "metadata": {
        "colab": {
          "base_uri": "https://localhost:8080/",
          "height": 388
        },
        "id": "ELXtn6Oo3cJr",
        "outputId": "528e0152-d6a9-4c67-d156-55e2b668130f"
      },
      "outputs": [
        {
          "output_type": "stream",
          "name": "stderr",
          "text": [
            "/usr/local/lib/python3.7/dist-packages/seaborn/_decorators.py:43: FutureWarning: Pass the following variable as a keyword arg: x. From version 0.12, the only valid positional argument will be `data`, and passing other arguments without an explicit keyword will result in an error or misinterpretation.\n",
            "  FutureWarning\n"
          ]
        },
        {
          "output_type": "display_data",
          "data": {
            "text/plain": [
              "<Figure size 432x288 with 1 Axes>"
            ],
            "image/png": "[encoded data removed]"
          },
          "metadata": {
            "needs_background": "light"
          }
        },
        {
          "output_type": "stream",
          "name": "stdout",
          "text": [
            "0    144505\n",
            "1       281\n",
            "Name: Class, dtype: int64\n"
          ]
        }
      ],
      "source": [
        "\n",
        "# Frequency of normal and fraudulent transactions on Day 1\n",
        "df1 = sns.countplot(Day1['Class'])\n",
        "df1.set_xticklabels(['Normal','Fraud'])\n",
        "plt.show()\n",
        "\n",
        "print(pd.Series(Day1.Class).value_counts())\n",
        "plt.show()\n",
        "\n",
        "#In Day 1, there are 144,505 normal transactions and 281 fradulent transactions"
      ]
    },
    {
      "cell_type": "markdown",
      "metadata": {
        "id": "lZjQNelaB2e6"
      },
      "source": [
        "# **Mean Amount of normal and fraudulent transactions on Day 1**"
      ]
    },
    {
      "cell_type": "code",
      "execution_count": 19,
      "metadata": {
        "colab": {
          "base_uri": "https://localhost:8080/",
          "height": 513
        },
        "id": "bTdYshIs_2Vh",
        "outputId": "3a134edc-204a-4f91-c280-ac76adb273ec"
      },
      "outputs": [
        {
          "output_type": "display_data",
          "data": {
            "text/plain": [
              "<Figure size 1008x576 with 1 Axes>"
            ],
            "image/png": "[encoded data removed]"
          },
          "metadata": {
            "needs_background": "light"
          }
        }
      ],
      "source": [
        "#Average amount per class type in Day 1\n",
        "%matplotlib inline\n",
        "\n",
        "\n",
        "av_amount_per_class = Day1.groupby('Class').Amount.mean()\n",
        "\n",
        "#sort by amount\n",
        "av_amount_per_class.sort_values(inplace=True)\n",
        "\n",
        "x = av_amount_per_class.index.tolist()\n",
        "y = av_amount_per_class.values.tolist()\n",
        "\n",
        "#set figure size\n",
        "plt.figure(figsize=(14,8))\n",
        "\n",
        "#set title\n",
        "plt.title('Mean Amount per Class Type in Day 1')\n",
        "\n",
        "#set axis labels\n",
        "plt.xlabel('Class')\n",
        "plt.ylabel('Mean Transaction Amount')\n",
        "\n",
        "plt.xticks(labels=x, ticks=np.arange(len(x)))\n",
        "\n",
        "plt.bar(x,y, color =['green', 'orange']);"
      ]
    },
    {
      "cell_type": "markdown",
      "metadata": {
        "id": "GrghQl5ZHKPk"
      },
      "source": [
        "# **DATASET#2: Fraudulent transactions on Day 1 and Normal transactions on Day 1**"
      ]
    },
    {
      "cell_type": "code",
      "execution_count": 12,
      "metadata": {
        "id": "IS26CGt2GsBn"
      },
      "outputs": [],
      "source": [
        "FraudDay1 = Day1.loc[Day1.Class == 1]\n",
        "NormalDay1 = Day1.loc[Day1.Class == 0]"
      ]
    },
    {
      "cell_type": "code",
      "execution_count": 24,
      "metadata": {
        "colab": {
          "base_uri": "https://localhost:8080/"
        },
        "id": "bSS-nZTw-Imn",
        "outputId": "ea422560-bd99-49d3-dc78-7a91a0912a1e"
      },
      "outputs": [
        {
          "output_type": "execute_result",
          "data": {
            "text/plain": [
              "(281, 34)"
            ]
          },
          "metadata": {},
          "execution_count": 24
        }
      ],
      "source": [
        "FraudDay1.shape"
      ]
    },
    {
      "cell_type": "markdown",
      "metadata": {
        "id": "AhGdIIC1EQ7p"
      },
      "source": [
        "# **Frequency of Fraudulent Transactions on Day 1**"
      ]
    },
    {
      "cell_type": "code",
      "execution_count": 22,
      "metadata": {
        "colab": {
          "base_uri": "https://localhost:8080/",
          "height": 563
        },
        "id": "pHjANoS4EbQB",
        "outputId": "547e921a-2cf2-42ed-c03a-88c7eabdce36"
      },
      "outputs": [
        {
          "output_type": "execute_result",
          "data": {
            "text/plain": [
              "(array([163.,  10.,  41.,  11.,   6.,   3.,   7.,   4.,   9.,   3.,   1.,\n",
              "          1.,   3.,   1.,   4.,   1.,   0.,   1.,   0.,   2.,   1.,   2.,\n",
              "          2.,   0.,   0.,   0.,   0.,   0.,   0.,   0.,   0.,   0.,   0.,\n",
              "          1.,   0.,   0.,   0.,   1.,   2.,   0.,   0.,   0.,   0.,   0.,\n",
              "          0.,   0.,   0.,   0.,   0.,   1.]),\n",
              " array([   0.    ,   36.1936,   72.3872,  108.5808,  144.7744,  180.968 ,\n",
              "         217.1616,  253.3552,  289.5488,  325.7424,  361.936 ,  398.1296,\n",
              "         434.3232,  470.5168,  506.7104,  542.904 ,  579.0976,  615.2912,\n",
              "         651.4848,  687.6784,  723.872 ,  760.0656,  796.2592,  832.4528,\n",
              "         868.6464,  904.84  ,  941.0336,  977.2272, 1013.4208, 1049.6144,\n",
              "        1085.808 , 1122.0016, 1158.1952, 1194.3888, 1230.5824, 1266.776 ,\n",
              "        1302.9696, 1339.1632, 1375.3568, 1411.5504, 1447.744 , 1483.9376,\n",
              "        1520.1312, 1556.3248, 1592.5184, 1628.712 , 1664.9056, 1701.0992,\n",
              "        1737.2928, 1773.4864, 1809.68  ]),\n",
              " <a list of 50 Patch objects>)"
            ]
          },
          "metadata": {},
          "execution_count": 22
        },
        {
          "output_type": "display_data",
          "data": {
            "text/plain": [
              "<Figure size 432x288 with 1 Axes>"
            ],
            "image/png": "[encoded data removed]"
          },
          "metadata": {
            "needs_background": "light"
          }
        }
      ],
      "source": [
        "#title\n",
        "plt.title('Distribution of Fraudulent Transactions on Day 1')\n",
        "\n",
        "#x and y labels\n",
        "plt.xlabel('Fraudulent Transaction Amount')\n",
        "plt.ylabel('Frequency')\n",
        "\n",
        "#plot histogram\n",
        "plt.hist(FraudDay1['Amount'], bins=50, color='lightblue')\n"
      ]
    },
    {
      "cell_type": "markdown",
      "metadata": {
        "id": "UlrWIjMbKgY1"
      },
      "source": [
        "# **Boxplot showing Outliers of Fraudulent Transactions on Day 1**"
      ]
    },
    {
      "cell_type": "code",
      "execution_count": 23,
      "metadata": {
        "colab": {
          "base_uri": "https://localhost:8080/",
          "height": 281
        },
        "id": "pRJbSItAKl_W",
        "outputId": "19653720-8366-4300-ce3e-febccf84686d"
      },
      "outputs": [
        {
          "output_type": "display_data",
          "data": {
            "text/plain": [
              "<Figure size 432x288 with 1 Axes>"
            ],
            "image/png": "[encoded data removed]"
          },
          "metadata": {
            "needs_background": "light"
          }
        }
      ],
      "source": [
        "data1 = FraudDay1['Amount']\n",
        "\n",
        "#create outlier point shape\n",
        "red_diamond = dict(markerfacecolor= 'r', marker='D')\n",
        "\n",
        "#set title\n",
        "plt.title('Distribution of Fraudulent Transactions on Day 1')\n",
        "\n",
        "#plot boxplot\n",
        "plt.boxplot(data1.values, labels=['Fraudulent Transactions'], flierprops = red_diamond);"
      ]
    },
    {
      "cell_type": "markdown",
      "metadata": {
        "id": "v8id2FT6JMts"
      },
      "source": [
        "# **Frequency of Normal Transactions on Day 1**"
      ]
    },
    {
      "cell_type": "code",
      "execution_count": 24,
      "metadata": {
        "colab": {
          "base_uri": "https://localhost:8080/",
          "height": 688
        },
        "id": "WydeG3PuGkzH",
        "outputId": "995155de-285c-447c-bee6-9d323c4709ce"
      },
      "outputs": [
        {
          "output_type": "execute_result",
          "data": {
            "text/plain": [
              "(array([1.37741e+05, 4.34600e+03, 1.26900e+03, 5.32000e+02, 2.50000e+02,\n",
              "        1.07000e+02, 8.00000e+01, 5.00000e+01, 3.50000e+01, 3.00000e+01,\n",
              "        2.60000e+01, 9.00000e+00, 3.00000e+00, 9.00000e+00, 3.00000e+00,\n",
              "        4.00000e+00, 2.00000e+00, 1.00000e+00, 1.00000e+00, 2.00000e+00,\n",
              "        1.00000e+00, 0.00000e+00, 1.00000e+00, 0.00000e+00, 0.00000e+00,\n",
              "        0.00000e+00, 0.00000e+00, 0.00000e+00, 0.00000e+00, 0.00000e+00,\n",
              "        1.00000e+00, 0.00000e+00, 1.00000e+00, 0.00000e+00, 0.00000e+00,\n",
              "        0.00000e+00, 0.00000e+00, 0.00000e+00, 0.00000e+00, 0.00000e+00,\n",
              "        0.00000e+00, 0.00000e+00, 0.00000e+00, 0.00000e+00, 0.00000e+00,\n",
              "        0.00000e+00, 0.00000e+00, 0.00000e+00, 0.00000e+00, 1.00000e+00]),\n",
              " array([    0.    ,   393.1306,   786.2612,  1179.3918,  1572.5224,\n",
              "         1965.653 ,  2358.7836,  2751.9142,  3145.0448,  3538.1754,\n",
              "         3931.306 ,  4324.4366,  4717.5672,  5110.6978,  5503.8284,\n",
              "         5896.959 ,  6290.0896,  6683.2202,  7076.3508,  7469.4814,\n",
              "         7862.612 ,  8255.7426,  8648.8732,  9042.0038,  9435.1344,\n",
              "         9828.265 , 10221.3956, 10614.5262, 11007.6568, 11400.7874,\n",
              "        11793.918 , 12187.0486, 12580.1792, 12973.3098, 13366.4404,\n",
              "        13759.571 , 14152.7016, 14545.8322, 14938.9628, 15332.0934,\n",
              "        15725.224 , 16118.3546, 16511.4852, 16904.6158, 17297.7464,\n",
              "        17690.877 , 18084.0076, 18477.1382, 18870.2688, 19263.3994,\n",
              "        19656.53  ]),\n",
              " <a list of 50 Patch objects>)"
            ]
          },
          "metadata": {},
          "execution_count": 24
        },
        {
          "output_type": "display_data",
          "data": {
            "text/plain": [
              "<Figure size 432x288 with 1 Axes>"
            ],
            "image/png": "[encoded data removed]"
          },
          "metadata": {
            "needs_background": "light"
          }
        }
      ],
      "source": [
        "#title\n",
        "plt.title('Distribution of Normal Transactions on Day 1')\n",
        "\n",
        "#x and y labels\n",
        "plt.xlabel('Normal Transaction Amount')\n",
        "plt.ylabel('Frequency')\n",
        "\n",
        "#plot histogram\n",
        "plt.hist(NormalDay1['Amount'], bins=50, color='blue')\n"
      ]
    },
    {
      "cell_type": "markdown",
      "metadata": {
        "id": "6IeEk9D6LuHE"
      },
      "source": [
        "# **Boxplot showing Outliers of Normal Transactions on Day 1**"
      ]
    },
    {
      "cell_type": "code",
      "execution_count": null,
      "metadata": {
        "colab": {
          "background_save": true
        },
        "id": "uiSlTTsjKfMy"
      },
      "outputs": [],
      "source": [
        "data2 = NormalDay1['Amount']\n",
        "\n",
        "#create outlier point shape\n",
        "red_diamond = dict(markerfacecolor= 'r', marker='D')\n",
        "\n",
        "#set title\n",
        "plt.title('Distribution of Normal Transactions on Day 1')\n",
        "\n",
        "#plot boxplot\n",
        "plt.boxplot(data2.values, labels=['Normal Transactions'], flierprops = red_diamond);"
      ]
    },
    {
      "cell_type": "markdown",
      "metadata": {
        "id": "pmsee4IQ38J0"
      },
      "source": [
        "# **------> Day 2**"
      ]
    },
    {
      "cell_type": "markdown",
      "metadata": {
        "id": "rm-j8Q41CQ_M"
      },
      "source": [
        "# **Frequency of normal and fraudulent transactions on Day 2**"
      ]
    },
    {
      "cell_type": "code",
      "execution_count": 25,
      "metadata": {
        "colab": {
          "base_uri": "https://localhost:8080/",
          "height": 388
        },
        "id": "9ASeAKgg37AS",
        "outputId": "aa29d63a-0980-4c41-b4b9-0e7f93bdb3a2"
      },
      "outputs": [
        {
          "output_type": "stream",
          "name": "stderr",
          "text": [
            "/usr/local/lib/python3.7/dist-packages/seaborn/_decorators.py:43: FutureWarning: Pass the following variable as a keyword arg: x. From version 0.12, the only valid positional argument will be `data`, and passing other arguments without an explicit keyword will result in an error or misinterpretation.\n",
            "  FutureWarning\n"
          ]
        },
        {
          "output_type": "display_data",
          "data": {
            "text/plain": [
              "<Figure size 432x288 with 1 Axes>"
            ],
            "image/png": "[encoded data removed]"
          },
          "metadata": {
            "needs_background": "light"
          }
        },
        {
          "output_type": "stream",
          "name": "stdout",
          "text": [
            "0    139810\n",
            "1       211\n",
            "Name: Class, dtype: int64\n"
          ]
        }
      ],
      "source": [
        "# Frequency of Normal and Fraudulent transactions in Day 2\n",
        "df2 = sns.countplot(Day2['Class'])\n",
        "df2.set_xticklabels(['Normal','Fraud'])\n",
        "plt.show()\n",
        "\n",
        "print(pd.Series(Day2.Class).value_counts())\n",
        "plt.show()\n",
        "\n",
        "#In Day 2, there are 139,810 normal transactions and 211 fradulent transactions"
      ]
    },
    {
      "cell_type": "markdown",
      "metadata": {
        "id": "n82lvpIcCC-V"
      },
      "source": [
        "# **Mean amount of normal and fraudulent transactions on Day 2**"
      ]
    },
    {
      "cell_type": "code",
      "execution_count": 26,
      "metadata": {
        "colab": {
          "base_uri": "https://localhost:8080/",
          "height": 513
        },
        "id": "mTndJmQb_isV",
        "outputId": "9e65fcfd-1dd2-4d77-bc66-68602f3bf730"
      },
      "outputs": [
        {
          "output_type": "display_data",
          "data": {
            "text/plain": [
              "<Figure size 1008x576 with 1 Axes>"
            ],
            "image/png": "[encoded data removed]"
          },
          "metadata": {
            "needs_background": "light"
          }
        }
      ],
      "source": [
        "#Average amount per class type in Day 2\n",
        "%matplotlib inline\n",
        "\n",
        "\n",
        "av_amount_per_class = Day2.groupby('Class').Amount.mean()\n",
        "\n",
        "#sort by amount\n",
        "av_amount_per_class.sort_values(inplace=True)\n",
        "\n",
        "x = av_amount_per_class.index.tolist()\n",
        "y = av_amount_per_class.values.tolist()\n",
        "\n",
        "#set figure size\n",
        "plt.figure(figsize=(14,8))\n",
        "\n",
        "#set title\n",
        "plt.title('Mean Amount per Class Type in Day 2')\n",
        "\n",
        "#set axis labels\n",
        "plt.xlabel('Class')\n",
        "plt.ylabel('Mean Transaction Amount')\n",
        "\n",
        "plt.xticks(labels=x, ticks=np.arange(len(x)))\n",
        "\n",
        "plt.bar(x,y, color =['green', 'orange']);"
      ]
    },
    {
      "cell_type": "markdown",
      "metadata": {
        "id": "-JxxHFzPJlck"
      },
      "source": [
        "# **DATASET#3: Fraudulent transactions and Normal Transactions on Day 2**"
      ]
    },
    {
      "cell_type": "code",
      "execution_count": null,
      "metadata": {
        "id": "WKBCyeyFJsGE"
      },
      "outputs": [],
      "source": [
        "FraudDay2 = Day2.loc[Day2.Class == 1]\n",
        "NormalDay2 = Day2.loc[Day2.Class == 0]"
      ]
    },
    {
      "cell_type": "markdown",
      "metadata": {
        "id": "9r2eTawXJ0mG"
      },
      "source": [
        "# **Frequency of Fraudulent Transactions on Day 2**"
      ]
    },
    {
      "cell_type": "code",
      "execution_count": 28,
      "metadata": {
        "colab": {
          "base_uri": "https://localhost:8080/",
          "height": 563
        },
        "id": "INpcC3DTJ0_O",
        "outputId": "f666aea3-8bf8-4a07-ce16-4acd6b252cba"
      },
      "outputs": [
        {
          "output_type": "execute_result",
          "data": {
            "text/plain": [
              "(array([131.,  19.,  14.,   5.,   7.,   3.,   3.,   4.,   5.,   1.,   1.,\n",
              "          1.,   0.,   2.,   3.,   1.,   1.,   3.,   0.,   1.,   0.,   1.,\n",
              "          0.,   1.,   0.,   1.,   0.,   0.,   0.,   0.,   0.,   1.,   0.,\n",
              "          0.,   0.,   1.,   0.,   0.,   0.,   0.,   0.,   0.,   0.,   0.,\n",
              "          0.,   0.,   0.,   0.,   0.,   1.]),\n",
              " array([   0.    ,   42.5174,   85.0348,  127.5522,  170.0696,  212.587 ,\n",
              "         255.1044,  297.6218,  340.1392,  382.6566,  425.174 ,  467.6914,\n",
              "         510.2088,  552.7262,  595.2436,  637.761 ,  680.2784,  722.7958,\n",
              "         765.3132,  807.8306,  850.348 ,  892.8654,  935.3828,  977.9002,\n",
              "        1020.4176, 1062.935 , 1105.4524, 1147.9698, 1190.4872, 1233.0046,\n",
              "        1275.522 , 1318.0394, 1360.5568, 1403.0742, 1445.5916, 1488.109 ,\n",
              "        1530.6264, 1573.1438, 1615.6612, 1658.1786, 1700.696 , 1743.2134,\n",
              "        1785.7308, 1828.2482, 1870.7656, 1913.283 , 1955.8004, 1998.3178,\n",
              "        2040.8352, 2083.3526, 2125.87  ]),\n",
              " <a list of 50 Patch objects>)"
            ]
          },
          "metadata": {},
          "execution_count": 28
        },
        {
          "output_type": "display_data",
          "data": {
            "text/plain": [
              "<Figure size 432x288 with 1 Axes>"
            ],
            "image/png": "[encoded data removed]"
          },
          "metadata": {
            "needs_background": "light"
          }
        }
      ],
      "source": [
        "#title\n",
        "plt.title('Distribution of Fraudulent Transactions on Day 2')\n",
        "\n",
        "#x and y labels\n",
        "plt.xlabel('Fraudulent Transaction Amount')\n",
        "plt.ylabel('Frequency')\n",
        "\n",
        "#plot histogram\n",
        "plt.hist(FraudDay2['Amount'], bins=50, color='lightblue')"
      ]
    },
    {
      "cell_type": "markdown",
      "metadata": {
        "id": "7E1Q1U1FMazU"
      },
      "source": [
        "# **Boxplot showing Outliers of Fraudulent Transactions on Day 2**"
      ]
    },
    {
      "cell_type": "code",
      "execution_count": 29,
      "metadata": {
        "colab": {
          "base_uri": "https://localhost:8080/",
          "height": 281
        },
        "id": "TSTWX0cGMblk",
        "outputId": "cd8d7ae7-7845-4d6e-a5ff-5bb0487ff323"
      },
      "outputs": [
        {
          "output_type": "display_data",
          "data": {
            "text/plain": [
              "<Figure size 432x288 with 1 Axes>"
            ],
            "image/png": "[encoded data removed]"
          },
          "metadata": {
            "needs_background": "light"
          }
        }
      ],
      "source": [
        "data3 = FraudDay2['Amount']\n",
        "\n",
        "#create outlier point shape\n",
        "red_diamond = dict(markerfacecolor= 'r', marker='D')\n",
        "\n",
        "#set title\n",
        "plt.title('Distribution of Fraudulent Transactions on Day 2')\n",
        "\n",
        "#plot boxplot\n",
        "plt.boxplot(data3.values, labels=['Fraudulent Transactions'], flierprops = red_diamond);"
      ]
    },
    {
      "cell_type": "markdown",
      "metadata": {
        "id": "uYzbzhxgJ8f8"
      },
      "source": [
        "# **Frequency of Normal Transactions on Day 2**"
      ]
    },
    {
      "cell_type": "code",
      "execution_count": 30,
      "metadata": {
        "colab": {
          "base_uri": "https://localhost:8080/",
          "height": 688
        },
        "id": "YD7IuCY0KEkA",
        "outputId": "20940114-f575-4967-c367-2e49490193bb"
      },
      "outputs": [
        {
          "output_type": "execute_result",
          "data": {
            "text/plain": [
              "(array([1.37741e+05, 4.34600e+03, 1.26900e+03, 5.32000e+02, 2.50000e+02,\n",
              "        1.07000e+02, 8.00000e+01, 5.00000e+01, 3.50000e+01, 3.00000e+01,\n",
              "        2.60000e+01, 9.00000e+00, 3.00000e+00, 9.00000e+00, 3.00000e+00,\n",
              "        4.00000e+00, 2.00000e+00, 1.00000e+00, 1.00000e+00, 2.00000e+00,\n",
              "        1.00000e+00, 0.00000e+00, 1.00000e+00, 0.00000e+00, 0.00000e+00,\n",
              "        0.00000e+00, 0.00000e+00, 0.00000e+00, 0.00000e+00, 0.00000e+00,\n",
              "        1.00000e+00, 0.00000e+00, 1.00000e+00, 0.00000e+00, 0.00000e+00,\n",
              "        0.00000e+00, 0.00000e+00, 0.00000e+00, 0.00000e+00, 0.00000e+00,\n",
              "        0.00000e+00, 0.00000e+00, 0.00000e+00, 0.00000e+00, 0.00000e+00,\n",
              "        0.00000e+00, 0.00000e+00, 0.00000e+00, 0.00000e+00, 1.00000e+00]),\n",
              " array([    0.    ,   393.1306,   786.2612,  1179.3918,  1572.5224,\n",
              "         1965.653 ,  2358.7836,  2751.9142,  3145.0448,  3538.1754,\n",
              "         3931.306 ,  4324.4366,  4717.5672,  5110.6978,  5503.8284,\n",
              "         5896.959 ,  6290.0896,  6683.2202,  7076.3508,  7469.4814,\n",
              "         7862.612 ,  8255.7426,  8648.8732,  9042.0038,  9435.1344,\n",
              "         9828.265 , 10221.3956, 10614.5262, 11007.6568, 11400.7874,\n",
              "        11793.918 , 12187.0486, 12580.1792, 12973.3098, 13366.4404,\n",
              "        13759.571 , 14152.7016, 14545.8322, 14938.9628, 15332.0934,\n",
              "        15725.224 , 16118.3546, 16511.4852, 16904.6158, 17297.7464,\n",
              "        17690.877 , 18084.0076, 18477.1382, 18870.2688, 19263.3994,\n",
              "        19656.53  ]),\n",
              " <a list of 50 Patch objects>)"
            ]
          },
          "metadata": {},
          "execution_count": 30
        },
        {
          "output_type": "display_data",
          "data": {
            "text/plain": [
              "<Figure size 432x288 with 1 Axes>"
            ],
            "image/png": "[encoded data removed]"
          },
          "metadata": {
            "needs_background": "light"
          }
        }
      ],
      "source": [
        "#title\n",
        "plt.title('Distribution of Normal Transactions on Day 1')\n",
        "\n",
        "#x and y labels\n",
        "plt.xlabel('Normal Transaction Amount')\n",
        "plt.ylabel('Frequency')\n",
        "\n",
        "#plot histogram\n",
        "plt.hist(NormalDay1['Amount'], bins=50, color='blue')\n"
      ]
    },
    {
      "cell_type": "markdown",
      "metadata": {
        "id": "wcWQqdnaMvZH"
      },
      "source": [
        "# **Boxplot showing Outliers of Normal Transactions on Day 2**"
      ]
    },
    {
      "cell_type": "code",
      "execution_count": 31,
      "metadata": {
        "colab": {
          "base_uri": "https://localhost:8080/",
          "height": 281
        },
        "id": "BI4LVPQLMxBV",
        "outputId": "a5e42f69-b1a4-43e9-b76b-3b8ec42293f1"
      },
      "outputs": [
        {
          "output_type": "display_data",
          "data": {
            "text/plain": [
              "<Figure size 432x288 with 1 Axes>"
            ],
            "image/png": "[encoded data removed]"
          },
          "metadata": {
            "needs_background": "light"
          }
        }
      ],
      "source": [
        "data4 = NormalDay2['Amount']\n",
        "\n",
        "#create outlier point shape\n",
        "red_diamond = dict(markerfacecolor= 'r', marker='D')\n",
        "\n",
        "#set title\n",
        "plt.title('Distribution of Normal Transactions on Day 2')\n",
        "\n",
        "#plot boxplot\n",
        "plt.boxplot(data4.values, labels=['Normal Transactions'], flierprops = red_diamond);"
      ]
    },
    {
      "cell_type": "markdown",
      "metadata": {
        "id": "9gEUZt4Bazbp"
      },
      "source": [
        "#****PART 3: **Multivariate Analysis : Analyzing the relationship between the variables**"
      ]
    },
    {
      "cell_type": "code",
      "execution_count": 32,
      "metadata": {
        "colab": {
          "base_uri": "https://localhost:8080/",
          "height": 570
        },
        "id": "FJN9TWMca7d3",
        "outputId": "a85328eb-62e6-4334-b8c4-6138aebc9c3d"
      },
      "outputs": [
        {
          "output_type": "display_data",
          "data": {
            "text/plain": [
              "<Figure size 864x648 with 2 Axes>"
            ],
            "image/png": "[encoded data removed]"
          },
          "metadata": {
            "needs_background": "light"
          }
        }
      ],
      "source": [
        "#Correlation Matrix\n",
        "\n",
        "correlation_matrix = df.corr()\n",
        "fig = plt.figure(figsize=(12,9))\n",
        "sns.heatmap(correlation_matrix,vmax=0.8,square = True)\n",
        "plt.show()\n",
        "\n",
        "#Class has some correlations with V1,V3,V5,V7,V9,V10,V11,V12,V14,V16,V17,V18 features but not with time and amount"
      ]
    },
    {
      "cell_type": "code",
      "execution_count": 33,
      "metadata": {
        "colab": {
          "base_uri": "https://localhost:8080/"
        },
        "id": "qQCD7KR7JCv5",
        "outputId": "242e2f98-88d5-4ac5-b3d8-2bf5690e7de9"
      },
      "outputs": [
        {
          "output_type": "execute_result",
          "data": {
            "text/plain": [
              "Class     1.000000\n",
              "V11       0.154876\n",
              "V4        0.133447\n",
              "V2        0.091289\n",
              "V21       0.040413\n",
              "V19       0.034783\n",
              "V20       0.020090\n",
              "V8        0.019875\n",
              "V27       0.017580\n",
              "V28       0.009536\n",
              "Amount    0.005632\n",
              "V26       0.004455\n",
              "V25       0.003308\n",
              "V22       0.000805\n",
              "V23      -0.002685\n",
              "V15      -0.004223\n",
              "V13      -0.004570\n",
              "V24      -0.007221\n",
              "Time     -0.012323\n",
              "V6       -0.043643\n",
              "V5       -0.094974\n",
              "V9       -0.097733\n",
              "V1       -0.101347\n",
              "V18      -0.111485\n",
              "V7       -0.187257\n",
              "V3       -0.192961\n",
              "V16      -0.196539\n",
              "V10      -0.216883\n",
              "V12      -0.260593\n",
              "V14      -0.302544\n",
              "V17      -0.326481\n",
              "Name: Class, dtype: float64"
            ]
          },
          "metadata": {},
          "execution_count": 33
        }
      ],
      "source": [
        "correlation_matrix[\"Class\"].sort_values(ascending=False)"
      ]
    },
    {
      "cell_type": "code",
      "execution_count": 13,
      "metadata": {
        "id": "lNNomDZkgN1J"
      },
      "outputs": [],
      "source": [
        "data_edit = data.copy()"
      ]
    },
    {
      "cell_type": "code",
      "execution_count": 14,
      "metadata": {
        "id": "qAF98MDmgWJA"
      },
      "outputs": [],
      "source": [
        "data_edit['Class'] = data_edit.Class.astype('category')"
      ]
    },
    {
      "cell_type": "code",
      "execution_count": 15,
      "metadata": {
        "colab": {
          "base_uri": "https://localhost:8080/"
        },
        "id": "Ht_GiJyZgQYC",
        "outputId": "bd9dbb77-c381-4688-ff35-3bea7231588c"
      },
      "outputs": [
        {
          "output_type": "stream",
          "name": "stdout",
          "text": [
            "<class 'pandas.core.frame.DataFrame'>\n",
            "RangeIndex: 284807 entries, 0 to 284806\n",
            "Data columns (total 34 columns):\n",
            " #   Column    Non-Null Count   Dtype         \n",
            "---  ------    --------------   -----         \n",
            " 0   Time      284807 non-null  float64       \n",
            " 1   V1        284807 non-null  float64       \n",
            " 2   V2        284807 non-null  float64       \n",
            " 3   V3        284807 non-null  float64       \n",
            " 4   V4        284807 non-null  float64       \n",
            " 5   V5        284807 non-null  float64       \n",
            " 6   V6        284807 non-null  float64       \n",
            " 7   V7        284807 non-null  float64       \n",
            " 8   V8        284807 non-null  float64       \n",
            " 9   V9        284807 non-null  float64       \n",
            " 10  V10       284807 non-null  float64       \n",
            " 11  V11       284807 non-null  float64       \n",
            " 12  V12       284807 non-null  float64       \n",
            " 13  V13       284807 non-null  float64       \n",
            " 14  V14       284807 non-null  float64       \n",
            " 15  V15       284807 non-null  float64       \n",
            " 16  V16       284807 non-null  float64       \n",
            " 17  V17       284807 non-null  float64       \n",
            " 18  V18       284807 non-null  float64       \n",
            " 19  V19       284807 non-null  float64       \n",
            " 20  V20       284807 non-null  float64       \n",
            " 21  V21       284807 non-null  float64       \n",
            " 22  V22       284807 non-null  float64       \n",
            " 23  V23       284807 non-null  float64       \n",
            " 24  V24       284807 non-null  float64       \n",
            " 25  V25       284807 non-null  float64       \n",
            " 26  V26       284807 non-null  float64       \n",
            " 27  V27       284807 non-null  float64       \n",
            " 28  V28       284807 non-null  float64       \n",
            " 29  Amount    284807 non-null  float64       \n",
            " 30  Class     284807 non-null  category      \n",
            " 31  Time_new  284807 non-null  datetime64[ns]\n",
            " 32  Date      284807 non-null  object        \n",
            " 33  Day       284807 non-null  int64         \n",
            "dtypes: category(1), datetime64[ns](1), float64(30), int64(1), object(1)\n",
            "memory usage: 72.0+ MB\n"
          ]
        }
      ],
      "source": [
        "data_edit.info()"
      ]
    },
    {
      "cell_type": "markdown",
      "metadata": {
        "id": "50XWQGI2udgC"
      },
      "source": [
        "# **Detecting Multicollinearity using VIF(Variable Inflation Factors).**"
      ]
    },
    {
      "cell_type": "code",
      "execution_count": 16,
      "metadata": {
        "id": "kCFK33bU9IzF"
      },
      "outputs": [],
      "source": [
        "df2 = df.copy()\n",
        "y = df2['Class'] \n",
        "X =df2[df2 != 'Class']"
      ]
    },
    {
      "cell_type": "code",
      "execution_count": 38,
      "metadata": {
        "colab": {
          "base_uri": "https://localhost:8080/",
          "height": 1000
        },
        "id": "2d-W_4RGujIo",
        "outputId": "39756e64-9669-4e30-9f10-8847efef4f29"
      },
      "outputs": [
        {
          "output_type": "stream",
          "name": "stderr",
          "text": [
            "/usr/local/lib/python3.7/dist-packages/statsmodels/tools/_testing.py:19: FutureWarning: pandas.util.testing is deprecated. Use the functions in the public API at pandas.testing instead.\n",
            "  import pandas.util.testing as tm\n"
          ]
        },
        {
          "output_type": "execute_result",
          "data": {
            "text/plain": [
              "   variables        VIF\n",
              "0       Time   2.339858\n",
              "1         V1   1.638237\n",
              "2         V2   3.900804\n",
              "3         V3   1.321018\n",
              "4         V4   1.172479\n",
              "5         V5   2.764441\n",
              "6         V6   1.528629\n",
              "7         V7   2.603517\n",
              "8         V8   1.098591\n",
              "9         V9   1.037715\n",
              "10       V10   1.208870\n",
              "11       V11   1.080378\n",
              "12       V12   1.154440\n",
              "13       V13   1.003473\n",
              "14       V14   1.219562\n",
              "15       V15   1.014148\n",
              "16       V16   1.080994\n",
              "17       V17   1.227258\n",
              "18       V18   1.033900\n",
              "19       V19   1.040800\n",
              "20       V20   2.233935\n",
              "21       V21   1.103107\n",
              "22       V22   1.082408\n",
              "23       V23   1.149293\n",
              "24       V24   1.000773\n",
              "25       V25   1.013526\n",
              "26       V26   1.000539\n",
              "27       V27   1.009509\n",
              "28       V28   1.001595\n",
              "29    Amount  11.507919\n",
              "30     Class   2.093512"
            ],
            "text/html": [
              "\n",
              "  <div id=\"df-e5a909e7-3219-4480-aca0-bbed27d94e2c\">\n",
              "    <div class=\"colab-df-container\">\n",
              "      <div>\n",
              "<style scoped>\n",
              "    .dataframe tbody tr th:only-of-type {\n",
              "        vertical-align: middle;\n",
              "    }\n",
              "\n",
              "    .dataframe tbody tr th {\n",
              "        vertical-align: top;\n",
              "    }\n",
              "\n",
              "    .dataframe thead th {\n",
              "        text-align: right;\n",
              "    }\n",
              "</style>\n",
              "<table border=\"1\" class=\"dataframe\">\n",
              "  <thead>\n",
              "    <tr style=\"text-align: right;\">\n",
              "      <th></th>\n",
              "      <th>variables</th>\n",
              "      <th>VIF</th>\n",
              "    </tr>\n",
              "  </thead>\n",
              "  <tbody>\n",
              "    <tr>\n",
              "      <th>0</th>\n",
              "      <td>Time</td>\n",
              "      <td>2.339858</td>\n",
              "    </tr>\n",
              "    <tr>\n",
              "      <th>1</th>\n",
              "      <td>V1</td>\n",
              "      <td>1.638237</td>\n",
              "    </tr>\n",
              "    <tr>\n",
              "      <th>2</th>\n",
              "      <td>V2</td>\n",
              "      <td>3.900804</td>\n",
              "    </tr>\n",
              "    <tr>\n",
              "      <th>3</th>\n",
              "      <td>V3</td>\n",
              "      <td>1.321018</td>\n",
              "    </tr>\n",
              "    <tr>\n",
              "      <th>4</th>\n",
              "      <td>V4</td>\n",
              "      <td>1.172479</td>\n",
              "    </tr>\n",
              "    <tr>\n",
              "      <th>5</th>\n",
              "      <td>V5</td>\n",
              "      <td>2.764441</td>\n",
              "    </tr>\n",
              "    <tr>\n",
              "      <th>6</th>\n",
              "      <td>V6</td>\n",
              "      <td>1.528629</td>\n",
              "    </tr>\n",
              "    <tr>\n",
              "      <th>7</th>\n",
              "      <td>V7</td>\n",
              "      <td>2.603517</td>\n",
              "    </tr>\n",
              "    <tr>\n",
              "      <th>8</th>\n",
              "      <td>V8</td>\n",
              "      <td>1.098591</td>\n",
              "    </tr>\n",
              "    <tr>\n",
              "      <th>9</th>\n",
              "      <td>V9</td>\n",
              "      <td>1.037715</td>\n",
              "    </tr>\n",
              "    <tr>\n",
              "      <th>10</th>\n",
              "      <td>V10</td>\n",
              "      <td>1.208870</td>\n",
              "    </tr>\n",
              "    <tr>\n",
              "      <th>11</th>\n",
              "      <td>V11</td>\n",
              "      <td>1.080378</td>\n",
              "    </tr>\n",
              "    <tr>\n",
              "      <th>12</th>\n",
              "      <td>V12</td>\n",
              "      <td>1.154440</td>\n",
              "    </tr>\n",
              "    <tr>\n",
              "      <th>13</th>\n",
              "      <td>V13</td>\n",
              "      <td>1.003473</td>\n",
              "    </tr>\n",
              "    <tr>\n",
              "      <th>14</th>\n",
              "      <td>V14</td>\n",
              "      <td>1.219562</td>\n",
              "    </tr>\n",
              "    <tr>\n",
              "      <th>15</th>\n",
              "      <td>V15</td>\n",
              "      <td>1.014148</td>\n",
              "    </tr>\n",
              "    <tr>\n",
              "      <th>16</th>\n",
              "      <td>V16</td>\n",
              "      <td>1.080994</td>\n",
              "    </tr>\n",
              "    <tr>\n",
              "      <th>17</th>\n",
              "      <td>V17</td>\n",
              "      <td>1.227258</td>\n",
              "    </tr>\n",
              "    <tr>\n",
              "      <th>18</th>\n",
              "      <td>V18</td>\n",
              "      <td>1.033900</td>\n",
              "    </tr>\n",
              "    <tr>\n",
              "      <th>19</th>\n",
              "      <td>V19</td>\n",
              "      <td>1.040800</td>\n",
              "    </tr>\n",
              "    <tr>\n",
              "      <th>20</th>\n",
              "      <td>V20</td>\n",
              "      <td>2.233935</td>\n",
              "    </tr>\n",
              "    <tr>\n",
              "      <th>21</th>\n",
              "      <td>V21</td>\n",
              "      <td>1.103107</td>\n",
              "    </tr>\n",
              "    <tr>\n",
              "      <th>22</th>\n",
              "      <td>V22</td>\n",
              "      <td>1.082408</td>\n",
              "    </tr>\n",
              "    <tr>\n",
              "      <th>23</th>\n",
              "      <td>V23</td>\n",
              "      <td>1.149293</td>\n",
              "    </tr>\n",
              "    <tr>\n",
              "      <th>24</th>\n",
              "      <td>V24</td>\n",
              "      <td>1.000773</td>\n",
              "    </tr>\n",
              "    <tr>\n",
              "      <th>25</th>\n",
              "      <td>V25</td>\n",
              "      <td>1.013526</td>\n",
              "    </tr>\n",
              "    <tr>\n",
              "      <th>26</th>\n",
              "      <td>V26</td>\n",
              "      <td>1.000539</td>\n",
              "    </tr>\n",
              "    <tr>\n",
              "      <th>27</th>\n",
              "      <td>V27</td>\n",
              "      <td>1.009509</td>\n",
              "    </tr>\n",
              "    <tr>\n",
              "      <th>28</th>\n",
              "      <td>V28</td>\n",
              "      <td>1.001595</td>\n",
              "    </tr>\n",
              "    <tr>\n",
              "      <th>29</th>\n",
              "      <td>Amount</td>\n",
              "      <td>11.507919</td>\n",
              "    </tr>\n",
              "    <tr>\n",
              "      <th>30</th>\n",
              "      <td>Class</td>\n",
              "      <td>2.093512</td>\n",
              "    </tr>\n",
              "  </tbody>\n",
              "</table>\n",
              "</div>\n",
              "      <button class=\"colab-df-convert\" onclick=\"convertToInteractive('df-e5a909e7-3219-4480-aca0-bbed27d94e2c')\"\n",
              "              title=\"Convert this dataframe to an interactive table.\"\n",
              "              style=\"display:none;\">\n",
              "        \n",
              "  <svg xmlns=\"http://www.w3.org/2000/svg\" height=\"24px\"viewBox=\"0 0 24 24\"\n",
              "       width=\"24px\">\n",
              "    <path d=\"M0 0h24v24H0V0z\" fill=\"none\"/>\n",
              "    <path d=\"M18.56 5.44l.94 2.06.94-2.06 2.06-.94-2.06-.94-.94-2.06-.94 2.06-2.06.94zm-11 1L8.5 8.5l.94-2.06 2.06-.94-2.06-.94L8.5 2.5l-.94 2.06-2.06.94zm10 10l.94 2.06.94-2.06 2.06-.94-2.06-.94-.94-2.06-.94 2.06-2.06.94z\"/><path d=\"M17.41 7.96l-1.37-1.37c-.4-.4-.92-.59-1.43-.59-.52 0-1.04.2-1.43.59L10.3 9.45l-7.72 7.72c-.78.78-.78 2.05 0 2.83L4 21.41c.39.39.9.59 1.41.59.51 0 1.02-.2 1.41-.59l7.78-7.78 2.81-2.81c.8-.78.8-2.07 0-2.86zM5.41 20L4 18.59l7.72-7.72 1.47 1.35L5.41 20z\"/>\n",
              "  </svg>\n",
              "      </button>\n",
              "      \n",
              "  <style>\n",
              "    .colab-df-container {\n",
              "      display:flex;\n",
              "      flex-wrap:wrap;\n",
              "      gap: 12px;\n",
              "    }\n",
              "\n",
              "    .colab-df-convert {\n",
              "      background-color: #E8F0FE;\n",
              "      border: none;\n",
              "      border-radius: 50%;\n",
              "      cursor: pointer;\n",
              "      display: none;\n",
              "      fill: #1967D2;\n",
              "      height: 32px;\n",
              "      padding: 0 0 0 0;\n",
              "      width: 32px;\n",
              "    }\n",
              "\n",
              "    .colab-df-convert:hover {\n",
              "      background-color: #E2EBFA;\n",
              "      box-shadow: 0px 1px 2px rgba(60, 64, 67, 0.3), 0px 1px 3px 1px rgba(60, 64, 67, 0.15);\n",
              "      fill: #174EA6;\n",
              "    }\n",
              "\n",
              "    [theme=dark] .colab-df-convert {\n",
              "      background-color: #3B4455;\n",
              "      fill: #D2E3FC;\n",
              "    }\n",
              "\n",
              "    [theme=dark] .colab-df-convert:hover {\n",
              "      background-color: #434B5C;\n",
              "      box-shadow: 0px 1px 3px 1px rgba(0, 0, 0, 0.15);\n",
              "      filter: drop-shadow(0px 1px 2px rgba(0, 0, 0, 0.3));\n",
              "      fill: #FFFFFF;\n",
              "    }\n",
              "  </style>\n",
              "\n",
              "      <script>\n",
              "        const buttonEl =\n",
              "          document.querySelector('#df-e5a909e7-3219-4480-aca0-bbed27d94e2c button.colab-df-convert');\n",
              "        buttonEl.style.display =\n",
              "          google.colab.kernel.accessAllowed ? 'block' : 'none';\n",
              "\n",
              "        async function convertToInteractive(key) {\n",
              "          const element = document.querySelector('#df-e5a909e7-3219-4480-aca0-bbed27d94e2c');\n",
              "          const dataTable =\n",
              "            await google.colab.kernel.invokeFunction('convertToInteractive',\n",
              "                                                     [key], {});\n",
              "          if (!dataTable) return;\n",
              "\n",
              "          const docLinkHtml = 'Like what you see? Visit the ' +\n",
              "            '<a target=\"_blank\" href=https://colab.research.google.com/notebooks/data_table.ipynb>data table notebook</a>'\n",
              "            + ' to learn more about interactive tables.';\n",
              "          element.innerHTML = '';\n",
              "          dataTable['output_type'] = 'display_data';\n",
              "          await google.colab.output.renderOutput(dataTable, element);\n",
              "          const docLink = document.createElement('div');\n",
              "          docLink.innerHTML = docLinkHtml;\n",
              "          element.appendChild(docLink);\n",
              "        }\n",
              "      </script>\n",
              "    </div>\n",
              "  </div>\n",
              "  "
            ]
          },
          "metadata": {},
          "execution_count": 38
        }
      ],
      "source": [
        "\n",
        "# Import library for VIF\n",
        "from statsmodels.stats.outliers_influence import variance_inflation_factor\n",
        "\n",
        "def calc_vif(X):\n",
        "\n",
        "    # Calculating VIF\n",
        "    vif = pd.DataFrame()\n",
        "    vif[\"variables\"] = X.columns\n",
        "    vif[\"VIF\"] = [variance_inflation_factor(X.values, i) for i in range(X.shape[1])]\n",
        "\n",
        "    return(vif)\n",
        "\n",
        "\n",
        "calc_vif(X)"
      ]
    },
    {
      "cell_type": "markdown",
      "metadata": {
        "id": "aZRJUuks-iKa"
      },
      "source": [
        "As Amount is the only variable with high multicollinearity, we won't drop it. Amount is an important feature which we cannot drop. The other features can be kept as they have low multicollinearity (below 5)\n",
        "\n",
        "\n",
        "\n",
        "0\tTime\t2.339858\n",
        "1\tV1\t1.638237\n",
        "2\tV2\t3.900804\n",
        "3\tV3\t1.321018\n",
        "4\tV4\t1.172479\n",
        "5\tV5\t2.764441\n",
        "6\tV6\t1.528629\n",
        "7\tV7\t2.603517\n",
        "8\tV8\t1.098591\n",
        "9\tV9\t1.037715\n",
        "10\tV10\t1.208870\n",
        "11\tV11\t1.080378\n",
        "12\tV12\t1.154440\n",
        "13\tV13\t1.003473\n",
        "14\tV14\t1.219562\n",
        "15\tV15\t1.014148\n",
        "16\tV16\t1.080994\n",
        "17\tV17\t1.227258\n",
        "18\tV18\t1.033900\n",
        "19\tV19\t1.040800\n",
        "20\tV20\t2.233935\n",
        "21\tV21\t1.103107\n",
        "22\tV22\t1.082408\n",
        "23\tV23\t1.149293\n",
        "24\tV24\t1.000773\n",
        "25\tV25\t1.013526\n",
        "26\tV26\t1.000539\n",
        "27\tV27\t1.009509\n",
        "28\tV28\t1.001595\n",
        "29\tAmount\t11.507919\n",
        "30\tClass\t2.093512\n",
        "\n",
        "\n"
      ]
    },
    {
      "cell_type": "markdown",
      "metadata": {
        "id": "znl5x23z5aF_"
      },
      "source": [
        "#**** PART 4:**Feature selection**"
      ]
    },
    {
      "cell_type": "markdown",
      "metadata": {
        "id": "GKrZRcotm_PS"
      },
      "source": [
        "# **(A) FILTER METHOD - PARAMETRIC TEST - ANOVA**"
      ]
    },
    {
      "cell_type": "markdown",
      "metadata": {
        "id": "UCPWv_IUjn1G"
      },
      "source": [
        "Using Filter method,  ANOVA statistical test to determine relationship between categorical and numerical variables:\n",
        "\n",
        "Assumption(H0): There is no relationship between the variables (i.e. The average(mean) values of the numeric Predictor variable is the same for all the groups in the categorical Target variable)\n",
        "\n",
        "ANOVA Test result: Probability of H0 being true"
      ]
    },
    {
      "cell_type": "code",
      "execution_count": 157,
      "metadata": {
        "colab": {
          "base_uri": "https://localhost:8080/"
        },
        "id": "lidsCv3c1F2M",
        "outputId": "b71e6697-053c-4ec1-a9de-8a051ede5c3f"
      },
      "outputs": [
        {
          "output_type": "stream",
          "name": "stdout",
          "text": [
            "Original amount of features: (284807, 30)\n",
            "Reduced amount of features: (284807, 10)\n"
          ]
        }
      ],
      "source": [
        "import warnings\n",
        "warnings.filterwarnings(\"ignore\")\n",
        "\n",
        "#load libraries\n",
        "from sklearn.feature_selection import SelectKBest\n",
        "from sklearn.feature_selection import f_classif\n",
        "\n",
        "#load data\n",
        "df3 = df.copy()\n",
        "\n",
        "#create features and target\n",
        "target = df3['Class'] \n",
        "features_df = df3.drop(['Class'], axis=1) \n",
        "\n",
        "\n",
        "#Select features with best ANOVA F values - create selectKbest object\n",
        "selector = SelectKBest(f_classif, k=10)\n",
        "\n",
        "#Apply the selectkbest object to features and target\n",
        "selector.fit(features_df,target)\n",
        "\n",
        "# Get columns to keep and create new dataframe with those only\n",
        "cols = selector.get_support(indices=True)\n",
        "features_df_new = features_df.iloc[:,cols]\n",
        "\n",
        "#Show results\n",
        "print(\"Original amount of features:\", features_df.shape)\n",
        "print(\"Reduced amount of features:\", features_df_new .shape)\n"
      ]
    },
    {
      "cell_type": "markdown",
      "metadata": {
        "id": "4jlcQ8ArChAt"
      },
      "source": [
        "**Selected the 10 best features using ANOVA test:  V3, V4, V7, V10, V11, V12, V14, V16, V17, V18 **\n",
        "\n",
        "We will also keep **Amount** as we are dealing with fraudulent transactions and it cannot be dropped."
      ]
    },
    {
      "cell_type": "code",
      "execution_count": 158,
      "metadata": {
        "colab": {
          "base_uri": "https://localhost:8080/",
          "height": 206
        },
        "id": "_ERsvZSMCVDb",
        "outputId": "05e113e4-4573-407f-8343-824348efea97"
      },
      "outputs": [
        {
          "output_type": "execute_result",
          "data": {
            "text/plain": [
              "         V3        V4        V7       V10       V11       V12       V14  \\\n",
              "0  2.536347  1.378155  0.239599  0.090794 -0.551600 -0.617801 -0.311169   \n",
              "1  0.166480  0.448154 -0.078803 -0.166974  1.612727  1.065235 -0.143772   \n",
              "2  1.773209  0.379780  0.791461  0.207643  0.624501  0.066084 -0.165946   \n",
              "3  1.792993 -0.863291  0.237609 -0.054952 -0.226487  0.178228 -0.287924   \n",
              "4  1.548718  0.403034  0.592941  0.753074 -0.822843  0.538196 -1.119670   \n",
              "\n",
              "        V16       V17       V18  \n",
              "0 -0.470401  0.207971  0.025791  \n",
              "1  0.463917 -0.114805 -0.183361  \n",
              "2 -2.890083  1.109969 -0.121359  \n",
              "3 -1.059647 -0.684093  1.965775  \n",
              "4 -0.451449 -0.237033 -0.038195  "
            ],
            "text/html": [
              "\n",
              "  <div id=\"df-2b8ea79b-6816-4c61-a173-8a63e9dcbc7f\">\n",
              "    <div class=\"colab-df-container\">\n",
              "      <div>\n",
              "<style scoped>\n",
              "    .dataframe tbody tr th:only-of-type {\n",
              "        vertical-align: middle;\n",
              "    }\n",
              "\n",
              "    .dataframe tbody tr th {\n",
              "        vertical-align: top;\n",
              "    }\n",
              "\n",
              "    .dataframe thead th {\n",
              "        text-align: right;\n",
              "    }\n",
              "</style>\n",
              "<table border=\"1\" class=\"dataframe\">\n",
              "  <thead>\n",
              "    <tr style=\"text-align: right;\">\n",
              "      <th></th>\n",
              "      <th>V3</th>\n",
              "      <th>V4</th>\n",
              "      <th>V7</th>\n",
              "      <th>V10</th>\n",
              "      <th>V11</th>\n",
              "      <th>V12</th>\n",
              "      <th>V14</th>\n",
              "      <th>V16</th>\n",
              "      <th>V17</th>\n",
              "      <th>V18</th>\n",
              "    </tr>\n",
              "  </thead>\n",
              "  <tbody>\n",
              "    <tr>\n",
              "      <th>0</th>\n",
              "      <td>2.536347</td>\n",
              "      <td>1.378155</td>\n",
              "      <td>0.239599</td>\n",
              "      <td>0.090794</td>\n",
              "      <td>-0.551600</td>\n",
              "      <td>-0.617801</td>\n",
              "      <td>-0.311169</td>\n",
              "      <td>-0.470401</td>\n",
              "      <td>0.207971</td>\n",
              "      <td>0.025791</td>\n",
              "    </tr>\n",
              "    <tr>\n",
              "      <th>1</th>\n",
              "      <td>0.166480</td>\n",
              "      <td>0.448154</td>\n",
              "      <td>-0.078803</td>\n",
              "      <td>-0.166974</td>\n",
              "      <td>1.612727</td>\n",
              "      <td>1.065235</td>\n",
              "      <td>-0.143772</td>\n",
              "      <td>0.463917</td>\n",
              "      <td>-0.114805</td>\n",
              "      <td>-0.183361</td>\n",
              "    </tr>\n",
              "    <tr>\n",
              "      <th>2</th>\n",
              "      <td>1.773209</td>\n",
              "      <td>0.379780</td>\n",
              "      <td>0.791461</td>\n",
              "      <td>0.207643</td>\n",
              "      <td>0.624501</td>\n",
              "      <td>0.066084</td>\n",
              "      <td>-0.165946</td>\n",
              "      <td>-2.890083</td>\n",
              "      <td>1.109969</td>\n",
              "      <td>-0.121359</td>\n",
              "    </tr>\n",
              "    <tr>\n",
              "      <th>3</th>\n",
              "      <td>1.792993</td>\n",
              "      <td>-0.863291</td>\n",
              "      <td>0.237609</td>\n",
              "      <td>-0.054952</td>\n",
              "      <td>-0.226487</td>\n",
              "      <td>0.178228</td>\n",
              "      <td>-0.287924</td>\n",
              "      <td>-1.059647</td>\n",
              "      <td>-0.684093</td>\n",
              "      <td>1.965775</td>\n",
              "    </tr>\n",
              "    <tr>\n",
              "      <th>4</th>\n",
              "      <td>1.548718</td>\n",
              "      <td>0.403034</td>\n",
              "      <td>0.592941</td>\n",
              "      <td>0.753074</td>\n",
              "      <td>-0.822843</td>\n",
              "      <td>0.538196</td>\n",
              "      <td>-1.119670</td>\n",
              "      <td>-0.451449</td>\n",
              "      <td>-0.237033</td>\n",
              "      <td>-0.038195</td>\n",
              "    </tr>\n",
              "  </tbody>\n",
              "</table>\n",
              "</div>\n",
              "      <button class=\"colab-df-convert\" onclick=\"convertToInteractive('df-2b8ea79b-6816-4c61-a173-8a63e9dcbc7f')\"\n",
              "              title=\"Convert this dataframe to an interactive table.\"\n",
              "              style=\"display:none;\">\n",
              "        \n",
              "  <svg xmlns=\"http://www.w3.org/2000/svg\" height=\"24px\"viewBox=\"0 0 24 24\"\n",
              "       width=\"24px\">\n",
              "    <path d=\"M0 0h24v24H0V0z\" fill=\"none\"/>\n",
              "    <path d=\"M18.56 5.44l.94 2.06.94-2.06 2.06-.94-2.06-.94-.94-2.06-.94 2.06-2.06.94zm-11 1L8.5 8.5l.94-2.06 2.06-.94-2.06-.94L8.5 2.5l-.94 2.06-2.06.94zm10 10l.94 2.06.94-2.06 2.06-.94-2.06-.94-.94-2.06-.94 2.06-2.06.94z\"/><path d=\"M17.41 7.96l-1.37-1.37c-.4-.4-.92-.59-1.43-.59-.52 0-1.04.2-1.43.59L10.3 9.45l-7.72 7.72c-.78.78-.78 2.05 0 2.83L4 21.41c.39.39.9.59 1.41.59.51 0 1.02-.2 1.41-.59l7.78-7.78 2.81-2.81c.8-.78.8-2.07 0-2.86zM5.41 20L4 18.59l7.72-7.72 1.47 1.35L5.41 20z\"/>\n",
              "  </svg>\n",
              "      </button>\n",
              "      \n",
              "  <style>\n",
              "    .colab-df-container {\n",
              "      display:flex;\n",
              "      flex-wrap:wrap;\n",
              "      gap: 12px;\n",
              "    }\n",
              "\n",
              "    .colab-df-convert {\n",
              "      background-color: #E8F0FE;\n",
              "      border: none;\n",
              "      border-radius: 50%;\n",
              "      cursor: pointer;\n",
              "      display: none;\n",
              "      fill: #1967D2;\n",
              "      height: 32px;\n",
              "      padding: 0 0 0 0;\n",
              "      width: 32px;\n",
              "    }\n",
              "\n",
              "    .colab-df-convert:hover {\n",
              "      background-color: #E2EBFA;\n",
              "      box-shadow: 0px 1px 2px rgba(60, 64, 67, 0.3), 0px 1px 3px 1px rgba(60, 64, 67, 0.15);\n",
              "      fill: #174EA6;\n",
              "    }\n",
              "\n",
              "    [theme=dark] .colab-df-convert {\n",
              "      background-color: #3B4455;\n",
              "      fill: #D2E3FC;\n",
              "    }\n",
              "\n",
              "    [theme=dark] .colab-df-convert:hover {\n",
              "      background-color: #434B5C;\n",
              "      box-shadow: 0px 1px 3px 1px rgba(0, 0, 0, 0.15);\n",
              "      filter: drop-shadow(0px 1px 2px rgba(0, 0, 0, 0.3));\n",
              "      fill: #FFFFFF;\n",
              "    }\n",
              "  </style>\n",
              "\n",
              "      <script>\n",
              "        const buttonEl =\n",
              "          document.querySelector('#df-2b8ea79b-6816-4c61-a173-8a63e9dcbc7f button.colab-df-convert');\n",
              "        buttonEl.style.display =\n",
              "          google.colab.kernel.accessAllowed ? 'block' : 'none';\n",
              "\n",
              "        async function convertToInteractive(key) {\n",
              "          const element = document.querySelector('#df-2b8ea79b-6816-4c61-a173-8a63e9dcbc7f');\n",
              "          const dataTable =\n",
              "            await google.colab.kernel.invokeFunction('convertToInteractive',\n",
              "                                                     [key], {});\n",
              "          if (!dataTable) return;\n",
              "\n",
              "          const docLinkHtml = 'Like what you see? Visit the ' +\n",
              "            '<a target=\"_blank\" href=https://colab.research.google.com/notebooks/data_table.ipynb>data table notebook</a>'\n",
              "            + ' to learn more about interactive tables.';\n",
              "          element.innerHTML = '';\n",
              "          dataTable['output_type'] = 'display_data';\n",
              "          await google.colab.output.renderOutput(dataTable, element);\n",
              "          const docLink = document.createElement('div');\n",
              "          docLink.innerHTML = docLinkHtml;\n",
              "          element.appendChild(docLink);\n",
              "        }\n",
              "      </script>\n",
              "    </div>\n",
              "  </div>\n",
              "  "
            ]
          },
          "metadata": {},
          "execution_count": 158
        }
      ],
      "source": [
        "features_df_new.head()"
      ]
    },
    {
      "cell_type": "markdown",
      "metadata": {
        "id": "i35t7O30wPkR"
      },
      "source": [
        "# **(B) NON PARAMETRIC TEST - Mutual Information**"
      ]
    },
    {
      "cell_type": "code",
      "source": [
        "import warnings\n",
        "warnings.filterwarnings(\"ignore\")\n",
        "\n",
        "#load libraries\n",
        "from sklearn.feature_selection import SelectKBest\n",
        "from sklearn.feature_selection import mutual_info_classif\n",
        "\n",
        "#load data\n",
        "df4 = df.copy()\n",
        "\n",
        "#create features and target\n",
        "target = df4['Class'] \n",
        "features_df = df4.drop(['Class'], axis=1) \n",
        "\n",
        "\n",
        "#Select features with best ANOVA F values - create selectKbest object\n",
        "selector = SelectKBest(mutual_info_classif, k=10)\n",
        "\n",
        "#Apply the selectkbest object to features and target\n",
        "selector.fit(features_df,target)\n",
        "\n",
        "# Get columns to keep and create new dataframe with those only\n",
        "cols = selector.get_support(indices=True)\n",
        "features_df_new = features_df.iloc[:,cols]\n",
        "\n",
        "#Show results\n",
        "print(\"Original amount of features:\", features_df.shape)\n",
        "print(\"Reduced amount of features:\", features_df_new .shape)\n"
      ],
      "metadata": {
        "colab": {
          "base_uri": "https://localhost:8080/"
        },
        "id": "-_jf0YGDwCcb",
        "outputId": "7c57d35a-4095-4a21-bafb-b3bfd2ec32fd"
      },
      "execution_count": 159,
      "outputs": [
        {
          "output_type": "stream",
          "name": "stdout",
          "text": [
            "Original amount of features: (284807, 30)\n",
            "Reduced amount of features: (284807, 10)\n"
          ]
        }
      ]
    },
    {
      "cell_type": "code",
      "source": [
        "features_df_new.head()"
      ],
      "metadata": {
        "colab": {
          "base_uri": "https://localhost:8080/",
          "height": 206
        },
        "id": "CY42nHwFxfAr",
        "outputId": "93504c20-cae3-46ad-f308-7b13e166db04"
      },
      "execution_count": 160,
      "outputs": [
        {
          "output_type": "execute_result",
          "data": {
            "text/plain": [
              "         V3        V4        V9       V10       V11       V12       V14  \\\n",
              "0  2.536347  1.378155  0.363787  0.090794 -0.551600 -0.617801 -0.311169   \n",
              "1  0.166480  0.448154 -0.255425 -0.166974  1.612727  1.065235 -0.143772   \n",
              "2  1.773209  0.379780 -1.514654  0.207643  0.624501  0.066084 -0.165946   \n",
              "3  1.792993 -0.863291 -1.387024 -0.054952 -0.226487  0.178228 -0.287924   \n",
              "4  1.548718  0.403034  0.817739  0.753074 -0.822843  0.538196 -1.119670   \n",
              "\n",
              "        V16       V17       V18  \n",
              "0 -0.470401  0.207971  0.025791  \n",
              "1  0.463917 -0.114805 -0.183361  \n",
              "2 -2.890083  1.109969 -0.121359  \n",
              "3 -1.059647 -0.684093  1.965775  \n",
              "4 -0.451449 -0.237033 -0.038195  "
            ],
            "text/html": [
              "\n",
              "  <div id=\"df-021e4fea-4d52-4543-b04a-e920ae661151\">\n",
              "    <div class=\"colab-df-container\">\n",
              "      <div>\n",
              "<style scoped>\n",
              "    .dataframe tbody tr th:only-of-type {\n",
              "        vertical-align: middle;\n",
              "    }\n",
              "\n",
              "    .dataframe tbody tr th {\n",
              "        vertical-align: top;\n",
              "    }\n",
              "\n",
              "    .dataframe thead th {\n",
              "        text-align: right;\n",
              "    }\n",
              "</style>\n",
              "<table border=\"1\" class=\"dataframe\">\n",
              "  <thead>\n",
              "    <tr style=\"text-align: right;\">\n",
              "      <th></th>\n",
              "      <th>V3</th>\n",
              "      <th>V4</th>\n",
              "      <th>V9</th>\n",
              "      <th>V10</th>\n",
              "      <th>V11</th>\n",
              "      <th>V12</th>\n",
              "      <th>V14</th>\n",
              "      <th>V16</th>\n",
              "      <th>V17</th>\n",
              "      <th>V18</th>\n",
              "    </tr>\n",
              "  </thead>\n",
              "  <tbody>\n",
              "    <tr>\n",
              "      <th>0</th>\n",
              "      <td>2.536347</td>\n",
              "      <td>1.378155</td>\n",
              "      <td>0.363787</td>\n",
              "      <td>0.090794</td>\n",
              "      <td>-0.551600</td>\n",
              "      <td>-0.617801</td>\n",
              "      <td>-0.311169</td>\n",
              "      <td>-0.470401</td>\n",
              "      <td>0.207971</td>\n",
              "      <td>0.025791</td>\n",
              "    </tr>\n",
              "    <tr>\n",
              "      <th>1</th>\n",
              "      <td>0.166480</td>\n",
              "      <td>0.448154</td>\n",
              "      <td>-0.255425</td>\n",
              "      <td>-0.166974</td>\n",
              "      <td>1.612727</td>\n",
              "      <td>1.065235</td>\n",
              "      <td>-0.143772</td>\n",
              "      <td>0.463917</td>\n",
              "      <td>-0.114805</td>\n",
              "      <td>-0.183361</td>\n",
              "    </tr>\n",
              "    <tr>\n",
              "      <th>2</th>\n",
              "      <td>1.773209</td>\n",
              "      <td>0.379780</td>\n",
              "      <td>-1.514654</td>\n",
              "      <td>0.207643</td>\n",
              "      <td>0.624501</td>\n",
              "      <td>0.066084</td>\n",
              "      <td>-0.165946</td>\n",
              "      <td>-2.890083</td>\n",
              "      <td>1.109969</td>\n",
              "      <td>-0.121359</td>\n",
              "    </tr>\n",
              "    <tr>\n",
              "      <th>3</th>\n",
              "      <td>1.792993</td>\n",
              "      <td>-0.863291</td>\n",
              "      <td>-1.387024</td>\n",
              "      <td>-0.054952</td>\n",
              "      <td>-0.226487</td>\n",
              "      <td>0.178228</td>\n",
              "      <td>-0.287924</td>\n",
              "      <td>-1.059647</td>\n",
              "      <td>-0.684093</td>\n",
              "      <td>1.965775</td>\n",
              "    </tr>\n",
              "    <tr>\n",
              "      <th>4</th>\n",
              "      <td>1.548718</td>\n",
              "      <td>0.403034</td>\n",
              "      <td>0.817739</td>\n",
              "      <td>0.753074</td>\n",
              "      <td>-0.822843</td>\n",
              "      <td>0.538196</td>\n",
              "      <td>-1.119670</td>\n",
              "      <td>-0.451449</td>\n",
              "      <td>-0.237033</td>\n",
              "      <td>-0.038195</td>\n",
              "    </tr>\n",
              "  </tbody>\n",
              "</table>\n",
              "</div>\n",
              "      <button class=\"colab-df-convert\" onclick=\"convertToInteractive('df-021e4fea-4d52-4543-b04a-e920ae661151')\"\n",
              "              title=\"Convert this dataframe to an interactive table.\"\n",
              "              style=\"display:none;\">\n",
              "        \n",
              "  <svg xmlns=\"http://www.w3.org/2000/svg\" height=\"24px\"viewBox=\"0 0 24 24\"\n",
              "       width=\"24px\">\n",
              "    <path d=\"M0 0h24v24H0V0z\" fill=\"none\"/>\n",
              "    <path d=\"M18.56 5.44l.94 2.06.94-2.06 2.06-.94-2.06-.94-.94-2.06-.94 2.06-2.06.94zm-11 1L8.5 8.5l.94-2.06 2.06-.94-2.06-.94L8.5 2.5l-.94 2.06-2.06.94zm10 10l.94 2.06.94-2.06 2.06-.94-2.06-.94-.94-2.06-.94 2.06-2.06.94z\"/><path d=\"M17.41 7.96l-1.37-1.37c-.4-.4-.92-.59-1.43-.59-.52 0-1.04.2-1.43.59L10.3 9.45l-7.72 7.72c-.78.78-.78 2.05 0 2.83L4 21.41c.39.39.9.59 1.41.59.51 0 1.02-.2 1.41-.59l7.78-7.78 2.81-2.81c.8-.78.8-2.07 0-2.86zM5.41 20L4 18.59l7.72-7.72 1.47 1.35L5.41 20z\"/>\n",
              "  </svg>\n",
              "      </button>\n",
              "      \n",
              "  <style>\n",
              "    .colab-df-container {\n",
              "      display:flex;\n",
              "      flex-wrap:wrap;\n",
              "      gap: 12px;\n",
              "    }\n",
              "\n",
              "    .colab-df-convert {\n",
              "      background-color: #E8F0FE;\n",
              "      border: none;\n",
              "      border-radius: 50%;\n",
              "      cursor: pointer;\n",
              "      display: none;\n",
              "      fill: #1967D2;\n",
              "      height: 32px;\n",
              "      padding: 0 0 0 0;\n",
              "      width: 32px;\n",
              "    }\n",
              "\n",
              "    .colab-df-convert:hover {\n",
              "      background-color: #E2EBFA;\n",
              "      box-shadow: 0px 1px 2px rgba(60, 64, 67, 0.3), 0px 1px 3px 1px rgba(60, 64, 67, 0.15);\n",
              "      fill: #174EA6;\n",
              "    }\n",
              "\n",
              "    [theme=dark] .colab-df-convert {\n",
              "      background-color: #3B4455;\n",
              "      fill: #D2E3FC;\n",
              "    }\n",
              "\n",
              "    [theme=dark] .colab-df-convert:hover {\n",
              "      background-color: #434B5C;\n",
              "      box-shadow: 0px 1px 3px 1px rgba(0, 0, 0, 0.15);\n",
              "      filter: drop-shadow(0px 1px 2px rgba(0, 0, 0, 0.3));\n",
              "      fill: #FFFFFF;\n",
              "    }\n",
              "  </style>\n",
              "\n",
              "      <script>\n",
              "        const buttonEl =\n",
              "          document.querySelector('#df-021e4fea-4d52-4543-b04a-e920ae661151 button.colab-df-convert');\n",
              "        buttonEl.style.display =\n",
              "          google.colab.kernel.accessAllowed ? 'block' : 'none';\n",
              "\n",
              "        async function convertToInteractive(key) {\n",
              "          const element = document.querySelector('#df-021e4fea-4d52-4543-b04a-e920ae661151');\n",
              "          const dataTable =\n",
              "            await google.colab.kernel.invokeFunction('convertToInteractive',\n",
              "                                                     [key], {});\n",
              "          if (!dataTable) return;\n",
              "\n",
              "          const docLinkHtml = 'Like what you see? Visit the ' +\n",
              "            '<a target=\"_blank\" href=https://colab.research.google.com/notebooks/data_table.ipynb>data table notebook</a>'\n",
              "            + ' to learn more about interactive tables.';\n",
              "          element.innerHTML = '';\n",
              "          dataTable['output_type'] = 'display_data';\n",
              "          await google.colab.output.renderOutput(dataTable, element);\n",
              "          const docLink = document.createElement('div');\n",
              "          docLink.innerHTML = docLinkHtml;\n",
              "          element.appendChild(docLink);\n",
              "        }\n",
              "      </script>\n",
              "    </div>\n",
              "  </div>\n",
              "  "
            ]
          },
          "metadata": {},
          "execution_count": 160
        }
      ]
    },
    {
      "cell_type": "markdown",
      "source": [
        "**Selected the 10 best features using Mutual Information:  V3, V4, V9, V10, V11, V12, V14, V16, V17, V18 **\n",
        "\n",
        "We will also keep **Amount** as we are dealing with fraudulent transactions and it cannot be dropped."
      ],
      "metadata": {
        "id": "n9K1afwqyFl7"
      }
    },
    {
      "cell_type": "markdown",
      "source": [
        "I did try Kruskal Wallis test for all of the features. H0 was rejected for all of them as p value was less than 0.5"
      ],
      "metadata": {
        "id": "jlAkVXJftpGH"
      }
    },
    {
      "cell_type": "code",
      "execution_count": 30,
      "metadata": {
        "colab": {
          "base_uri": "https://localhost:8080/",
          "height": 1000
        },
        "id": "ZLq2JzA1wYn6",
        "outputId": "73a91877-b9e2-42c6-ad9f-a46b299e70fe"
      },
      "outputs": [
        {
          "output_type": "stream",
          "name": "stdout",
          "text": [
            "Looking in indexes: https://pypi.org/simple, https://us-python.pkg.dev/colab-wheels/public/simple/\n",
            "Collecting pingouin\n",
            "  Downloading pingouin-0.5.2.tar.gz (185 kB)\n",
            "\u001b[K     |████████████████████████████████| 185 kB 4.9 MB/s \n",
            "\u001b[?25hRequirement already satisfied: numpy>=1.19 in /usr/local/lib/python3.7/dist-packages (from pingouin) (1.21.6)\n",
            "Requirement already satisfied: scipy>=1.7 in /usr/local/lib/python3.7/dist-packages (from pingouin) (1.7.3)\n",
            "Requirement already satisfied: pandas>=1.0 in /usr/local/lib/python3.7/dist-packages (from pingouin) (1.3.5)\n",
            "Requirement already satisfied: matplotlib>=3.0.2 in /usr/local/lib/python3.7/dist-packages (from pingouin) (3.2.2)\n",
            "Requirement already satisfied: seaborn>=0.11 in /usr/local/lib/python3.7/dist-packages (from pingouin) (0.11.2)\n",
            "Collecting statsmodels>=0.13\n",
            "  Downloading statsmodels-0.13.2-cp37-cp37m-manylinux_2_17_x86_64.manylinux2014_x86_64.whl (9.8 MB)\n",
            "\u001b[K     |████████████████████████████████| 9.8 MB 10.9 MB/s \n",
            "\u001b[?25hRequirement already satisfied: scikit-learn<1.1.0 in /usr/local/lib/python3.7/dist-packages (from pingouin) (1.0.2)\n",
            "Collecting pandas_flavor>=0.2.0\n",
            "  Downloading pandas_flavor-0.3.0-py3-none-any.whl (6.3 kB)\n",
            "Collecting outdated\n",
            "  Downloading outdated-0.2.1-py3-none-any.whl (7.5 kB)\n",
            "Requirement already satisfied: tabulate in /usr/local/lib/python3.7/dist-packages (from pingouin) (0.8.10)\n",
            "Requirement already satisfied: cycler>=0.10 in /usr/local/lib/python3.7/dist-packages (from matplotlib>=3.0.2->pingouin) (0.11.0)\n",
            "Requirement already satisfied: python-dateutil>=2.1 in /usr/local/lib/python3.7/dist-packages (from matplotlib>=3.0.2->pingouin) (2.8.2)\n",
            "Requirement already satisfied: pyparsing!=2.0.4,!=2.1.2,!=2.1.6,>=2.0.1 in /usr/local/lib/python3.7/dist-packages (from matplotlib>=3.0.2->pingouin) (3.0.9)\n",
            "Requirement already satisfied: kiwisolver>=1.0.1 in /usr/local/lib/python3.7/dist-packages (from matplotlib>=3.0.2->pingouin) (1.4.4)\n",
            "Requirement already satisfied: typing-extensions in /usr/local/lib/python3.7/dist-packages (from kiwisolver>=1.0.1->matplotlib>=3.0.2->pingouin) (4.1.1)\n",
            "Requirement already satisfied: pytz>=2017.3 in /usr/local/lib/python3.7/dist-packages (from pandas>=1.0->pingouin) (2022.1)\n",
            "Collecting pandas_flavor>=0.2.0\n",
            "  Downloading pandas_flavor-0.2.0-py2.py3-none-any.whl (6.6 kB)\n",
            "Requirement already satisfied: xarray in /usr/local/lib/python3.7/dist-packages (from pandas_flavor>=0.2.0->pingouin) (0.20.2)\n",
            "Requirement already satisfied: six>=1.5 in /usr/local/lib/python3.7/dist-packages (from python-dateutil>=2.1->matplotlib>=3.0.2->pingouin) (1.15.0)\n",
            "Requirement already satisfied: joblib>=0.11 in /usr/local/lib/python3.7/dist-packages (from scikit-learn<1.1.0->pingouin) (1.1.0)\n",
            "Requirement already satisfied: threadpoolctl>=2.0.0 in /usr/local/lib/python3.7/dist-packages (from scikit-learn<1.1.0->pingouin) (3.1.0)\n",
            "Requirement already satisfied: patsy>=0.5.2 in /usr/local/lib/python3.7/dist-packages (from statsmodels>=0.13->pingouin) (0.5.2)\n",
            "Requirement already satisfied: packaging>=21.3 in /usr/local/lib/python3.7/dist-packages (from statsmodels>=0.13->pingouin) (21.3)\n",
            "Requirement already satisfied: requests in /usr/local/lib/python3.7/dist-packages (from outdated->pingouin) (2.23.0)\n",
            "Collecting littleutils\n",
            "  Downloading littleutils-0.2.2.tar.gz (6.6 kB)\n",
            "Requirement already satisfied: chardet<4,>=3.0.2 in /usr/local/lib/python3.7/dist-packages (from requests->outdated->pingouin) (3.0.4)\n",
            "Requirement already satisfied: certifi>=2017.4.17 in /usr/local/lib/python3.7/dist-packages (from requests->outdated->pingouin) (2022.6.15)\n",
            "Requirement already satisfied: idna<3,>=2.5 in /usr/local/lib/python3.7/dist-packages (from requests->outdated->pingouin) (2.10)\n",
            "Requirement already satisfied: urllib3!=1.25.0,!=1.25.1,<1.26,>=1.21.1 in /usr/local/lib/python3.7/dist-packages (from requests->outdated->pingouin) (1.24.3)\n",
            "Requirement already satisfied: importlib-metadata in /usr/local/lib/python3.7/dist-packages (from xarray->pandas_flavor>=0.2.0->pingouin) (4.12.0)\n",
            "Requirement already satisfied: zipp>=0.5 in /usr/local/lib/python3.7/dist-packages (from importlib-metadata->xarray->pandas_flavor>=0.2.0->pingouin) (3.8.1)\n",
            "Building wheels for collected packages: pingouin, littleutils\n",
            "  Building wheel for pingouin (setup.py) ... \u001b[?25l\u001b[?25hdone\n",
            "  Created wheel for pingouin: filename=pingouin-0.5.2-py3-none-any.whl size=196206 sha256=019f8bf6b1c51bab42da0f843adb6a4a328d5d41ad8d300ae1579d36ec6edba4\n",
            "  Stored in directory: /root/.cache/pip/wheels/11/5a/63/a6d32fc26fa462c731f65480bfb98ff7bd39b8ebcb4bc6c2fe\n",
            "  Building wheel for littleutils (setup.py) ... \u001b[?25l\u001b[?25hdone\n",
            "  Created wheel for littleutils: filename=littleutils-0.2.2-py3-none-any.whl size=7048 sha256=11605e74b7b886c57894d3f09479fc84a6d9feb567b972f6e02e46acb23f9c8c\n",
            "  Stored in directory: /root/.cache/pip/wheels/d6/64/cd/32819b511a488e4993f2fab909a95330289c3f4e0f6ef4676d\n",
            "Successfully built pingouin littleutils\n",
            "Installing collected packages: littleutils, statsmodels, pandas-flavor, outdated, pingouin\n",
            "  Attempting uninstall: statsmodels\n",
            "    Found existing installation: statsmodels 0.10.2\n",
            "    Uninstalling statsmodels-0.10.2:\n",
            "      Successfully uninstalled statsmodels-0.10.2\n",
            "Successfully installed littleutils-0.2.2 outdated-0.2.1 pandas-flavor-0.2.0 pingouin-0.5.2 statsmodels-0.13.2\n"
          ]
        },
        {
          "output_type": "display_data",
          "data": {
            "application/vnd.colab-display-data+json": {
              "pip_warning": {
                "packages": [
                  "statsmodels"
                ]
              }
            }
          },
          "metadata": {}
        }
      ],
      "source": [
        "#!pip install pingouin"
      ]
    },
    {
      "cell_type": "code",
      "source": [
        "df5 = df.copy()\n",
        "y = df5['Class'] \n",
        "X =df5[df5 != 'Class']"
      ],
      "metadata": {
        "id": "Dp4WfUugL8H7"
      },
      "execution_count": 154,
      "outputs": []
    },
    {
      "cell_type": "code",
      "source": [
        "#V1\n",
        "#kruskal(df5, dv= 'Class', between = \"V1\")\n",
        "#Kruskal-Wallis H test resulted as p < .05 which indicates that H0 is rejected. \n",
        "#There is a significant difference between the 2 groups\n"
      ],
      "metadata": {
        "colab": {
          "base_uri": "https://localhost:8080/",
          "height": 81
        },
        "id": "B0GQJhTMV5pZ",
        "outputId": "6715f1ec-c28b-4548-c5ad-82563d5722b7"
      },
      "execution_count": 73,
      "outputs": [
        {
          "output_type": "execute_result",
          "data": {
            "text/plain": [
              "        Source   ddof1         H         p-unc\n",
              "Kruskal     V1  275662  284806.0  1.932176e-34"
            ],
            "text/html": [
              "\n",
              "  <div id=\"df-eea6cf7d-df34-4541-94ee-550ef3ef8353\">\n",
              "    <div class=\"colab-df-container\">\n",
              "      <div>\n",
              "<style scoped>\n",
              "    .dataframe tbody tr th:only-of-type {\n",
              "        vertical-align: middle;\n",
              "    }\n",
              "\n",
              "    .dataframe tbody tr th {\n",
              "        vertical-align: top;\n",
              "    }\n",
              "\n",
              "    .dataframe thead th {\n",
              "        text-align: right;\n",
              "    }\n",
              "</style>\n",
              "<table border=\"1\" class=\"dataframe\">\n",
              "  <thead>\n",
              "    <tr style=\"text-align: right;\">\n",
              "      <th></th>\n",
              "      <th>Source</th>\n",
              "      <th>ddof1</th>\n",
              "      <th>H</th>\n",
              "      <th>p-unc</th>\n",
              "    </tr>\n",
              "  </thead>\n",
              "  <tbody>\n",
              "    <tr>\n",
              "      <th>Kruskal</th>\n",
              "      <td>V1</td>\n",
              "      <td>275662</td>\n",
              "      <td>284806.0</td>\n",
              "      <td>1.932176e-34</td>\n",
              "    </tr>\n",
              "  </tbody>\n",
              "</table>\n",
              "</div>\n",
              "      <button class=\"colab-df-convert\" onclick=\"convertToInteractive('df-eea6cf7d-df34-4541-94ee-550ef3ef8353')\"\n",
              "              title=\"Convert this dataframe to an interactive table.\"\n",
              "              style=\"display:none;\">\n",
              "        \n",
              "  <svg xmlns=\"http://www.w3.org/2000/svg\" height=\"24px\"viewBox=\"0 0 24 24\"\n",
              "       width=\"24px\">\n",
              "    <path d=\"M0 0h24v24H0V0z\" fill=\"none\"/>\n",
              "    <path d=\"M18.56 5.44l.94 2.06.94-2.06 2.06-.94-2.06-.94-.94-2.06-.94 2.06-2.06.94zm-11 1L8.5 8.5l.94-2.06 2.06-.94-2.06-.94L8.5 2.5l-.94 2.06-2.06.94zm10 10l.94 2.06.94-2.06 2.06-.94-2.06-.94-.94-2.06-.94 2.06-2.06.94z\"/><path d=\"M17.41 7.96l-1.37-1.37c-.4-.4-.92-.59-1.43-.59-.52 0-1.04.2-1.43.59L10.3 9.45l-7.72 7.72c-.78.78-.78 2.05 0 2.83L4 21.41c.39.39.9.59 1.41.59.51 0 1.02-.2 1.41-.59l7.78-7.78 2.81-2.81c.8-.78.8-2.07 0-2.86zM5.41 20L4 18.59l7.72-7.72 1.47 1.35L5.41 20z\"/>\n",
              "  </svg>\n",
              "      </button>\n",
              "      \n",
              "  <style>\n",
              "    .colab-df-container {\n",
              "      display:flex;\n",
              "      flex-wrap:wrap;\n",
              "      gap: 12px;\n",
              "    }\n",
              "\n",
              "    .colab-df-convert {\n",
              "      background-color: #E8F0FE;\n",
              "      border: none;\n",
              "      border-radius: 50%;\n",
              "      cursor: pointer;\n",
              "      display: none;\n",
              "      fill: #1967D2;\n",
              "      height: 32px;\n",
              "      padding: 0 0 0 0;\n",
              "      width: 32px;\n",
              "    }\n",
              "\n",
              "    .colab-df-convert:hover {\n",
              "      background-color: #E2EBFA;\n",
              "      box-shadow: 0px 1px 2px rgba(60, 64, 67, 0.3), 0px 1px 3px 1px rgba(60, 64, 67, 0.15);\n",
              "      fill: #174EA6;\n",
              "    }\n",
              "\n",
              "    [theme=dark] .colab-df-convert {\n",
              "      background-color: #3B4455;\n",
              "      fill: #D2E3FC;\n",
              "    }\n",
              "\n",
              "    [theme=dark] .colab-df-convert:hover {\n",
              "      background-color: #434B5C;\n",
              "      box-shadow: 0px 1px 3px 1px rgba(0, 0, 0, 0.15);\n",
              "      filter: drop-shadow(0px 1px 2px rgba(0, 0, 0, 0.3));\n",
              "      fill: #FFFFFF;\n",
              "    }\n",
              "  </style>\n",
              "\n",
              "      <script>\n",
              "        const buttonEl =\n",
              "          document.querySelector('#df-eea6cf7d-df34-4541-94ee-550ef3ef8353 button.colab-df-convert');\n",
              "        buttonEl.style.display =\n",
              "          google.colab.kernel.accessAllowed ? 'block' : 'none';\n",
              "\n",
              "        async function convertToInteractive(key) {\n",
              "          const element = document.querySelector('#df-eea6cf7d-df34-4541-94ee-550ef3ef8353');\n",
              "          const dataTable =\n",
              "            await google.colab.kernel.invokeFunction('convertToInteractive',\n",
              "                                                     [key], {});\n",
              "          if (!dataTable) return;\n",
              "\n",
              "          const docLinkHtml = 'Like what you see? Visit the ' +\n",
              "            '<a target=\"_blank\" href=https://colab.research.google.com/notebooks/data_table.ipynb>data table notebook</a>'\n",
              "            + ' to learn more about interactive tables.';\n",
              "          element.innerHTML = '';\n",
              "          dataTable['output_type'] = 'display_data';\n",
              "          await google.colab.output.renderOutput(dataTable, element);\n",
              "          const docLink = document.createElement('div');\n",
              "          docLink.innerHTML = docLinkHtml;\n",
              "          element.appendChild(docLink);\n",
              "        }\n",
              "      </script>\n",
              "    </div>\n",
              "  </div>\n",
              "  "
            ]
          },
          "metadata": {},
          "execution_count": 73
        }
      ]
    },
    {
      "cell_type": "code",
      "source": [
        "#V2\n",
        "\n",
        "#kruskal(df3, dv= 'Class', between = 'V2')\n",
        "#Kruskal-Wallis H test resulted as p < .05 which indicates that H0 is rejected. \n",
        "#There is a significant difference between the 2 groups"
      ],
      "metadata": {
        "colab": {
          "base_uri": "https://localhost:8080/",
          "height": 81
        },
        "id": "Elq6JeHSmYGH",
        "outputId": "e1522dd8-b2f9-4ea9-df86-c27829919bf4"
      },
      "execution_count": 117,
      "outputs": [
        {
          "output_type": "execute_result",
          "data": {
            "text/plain": [
              "        Source   ddof1         H         p-unc\n",
              "Kruskal     V2  275662  284806.0  1.932176e-34"
            ],
            "text/html": [
              "\n",
              "  <div id=\"df-5dfd824d-2e4a-40ba-8246-d03130506748\">\n",
              "    <div class=\"colab-df-container\">\n",
              "      <div>\n",
              "<style scoped>\n",
              "    .dataframe tbody tr th:only-of-type {\n",
              "        vertical-align: middle;\n",
              "    }\n",
              "\n",
              "    .dataframe tbody tr th {\n",
              "        vertical-align: top;\n",
              "    }\n",
              "\n",
              "    .dataframe thead th {\n",
              "        text-align: right;\n",
              "    }\n",
              "</style>\n",
              "<table border=\"1\" class=\"dataframe\">\n",
              "  <thead>\n",
              "    <tr style=\"text-align: right;\">\n",
              "      <th></th>\n",
              "      <th>Source</th>\n",
              "      <th>ddof1</th>\n",
              "      <th>H</th>\n",
              "      <th>p-unc</th>\n",
              "    </tr>\n",
              "  </thead>\n",
              "  <tbody>\n",
              "    <tr>\n",
              "      <th>Kruskal</th>\n",
              "      <td>V2</td>\n",
              "      <td>275662</td>\n",
              "      <td>284806.0</td>\n",
              "      <td>1.932176e-34</td>\n",
              "    </tr>\n",
              "  </tbody>\n",
              "</table>\n",
              "</div>\n",
              "      <button class=\"colab-df-convert\" onclick=\"convertToInteractive('df-5dfd824d-2e4a-40ba-8246-d03130506748')\"\n",
              "              title=\"Convert this dataframe to an interactive table.\"\n",
              "              style=\"display:none;\">\n",
              "        \n",
              "  <svg xmlns=\"http://www.w3.org/2000/svg\" height=\"24px\"viewBox=\"0 0 24 24\"\n",
              "       width=\"24px\">\n",
              "    <path d=\"M0 0h24v24H0V0z\" fill=\"none\"/>\n",
              "    <path d=\"M18.56 5.44l.94 2.06.94-2.06 2.06-.94-2.06-.94-.94-2.06-.94 2.06-2.06.94zm-11 1L8.5 8.5l.94-2.06 2.06-.94-2.06-.94L8.5 2.5l-.94 2.06-2.06.94zm10 10l.94 2.06.94-2.06 2.06-.94-2.06-.94-.94-2.06-.94 2.06-2.06.94z\"/><path d=\"M17.41 7.96l-1.37-1.37c-.4-.4-.92-.59-1.43-.59-.52 0-1.04.2-1.43.59L10.3 9.45l-7.72 7.72c-.78.78-.78 2.05 0 2.83L4 21.41c.39.39.9.59 1.41.59.51 0 1.02-.2 1.41-.59l7.78-7.78 2.81-2.81c.8-.78.8-2.07 0-2.86zM5.41 20L4 18.59l7.72-7.72 1.47 1.35L5.41 20z\"/>\n",
              "  </svg>\n",
              "      </button>\n",
              "      \n",
              "  <style>\n",
              "    .colab-df-container {\n",
              "      display:flex;\n",
              "      flex-wrap:wrap;\n",
              "      gap: 12px;\n",
              "    }\n",
              "\n",
              "    .colab-df-convert {\n",
              "      background-color: #E8F0FE;\n",
              "      border: none;\n",
              "      border-radius: 50%;\n",
              "      cursor: pointer;\n",
              "      display: none;\n",
              "      fill: #1967D2;\n",
              "      height: 32px;\n",
              "      padding: 0 0 0 0;\n",
              "      width: 32px;\n",
              "    }\n",
              "\n",
              "    .colab-df-convert:hover {\n",
              "      background-color: #E2EBFA;\n",
              "      box-shadow: 0px 1px 2px rgba(60, 64, 67, 0.3), 0px 1px 3px 1px rgba(60, 64, 67, 0.15);\n",
              "      fill: #174EA6;\n",
              "    }\n",
              "\n",
              "    [theme=dark] .colab-df-convert {\n",
              "      background-color: #3B4455;\n",
              "      fill: #D2E3FC;\n",
              "    }\n",
              "\n",
              "    [theme=dark] .colab-df-convert:hover {\n",
              "      background-color: #434B5C;\n",
              "      box-shadow: 0px 1px 3px 1px rgba(0, 0, 0, 0.15);\n",
              "      filter: drop-shadow(0px 1px 2px rgba(0, 0, 0, 0.3));\n",
              "      fill: #FFFFFF;\n",
              "    }\n",
              "  </style>\n",
              "\n",
              "      <script>\n",
              "        const buttonEl =\n",
              "          document.querySelector('#df-5dfd824d-2e4a-40ba-8246-d03130506748 button.colab-df-convert');\n",
              "        buttonEl.style.display =\n",
              "          google.colab.kernel.accessAllowed ? 'block' : 'none';\n",
              "\n",
              "        async function convertToInteractive(key) {\n",
              "          const element = document.querySelector('#df-5dfd824d-2e4a-40ba-8246-d03130506748');\n",
              "          const dataTable =\n",
              "            await google.colab.kernel.invokeFunction('convertToInteractive',\n",
              "                                                     [key], {});\n",
              "          if (!dataTable) return;\n",
              "\n",
              "          const docLinkHtml = 'Like what you see? Visit the ' +\n",
              "            '<a target=\"_blank\" href=https://colab.research.google.com/notebooks/data_table.ipynb>data table notebook</a>'\n",
              "            + ' to learn more about interactive tables.';\n",
              "          element.innerHTML = '';\n",
              "          dataTable['output_type'] = 'display_data';\n",
              "          await google.colab.output.renderOutput(dataTable, element);\n",
              "          const docLink = document.createElement('div');\n",
              "          docLink.innerHTML = docLinkHtml;\n",
              "          element.appendChild(docLink);\n",
              "        }\n",
              "      </script>\n",
              "    </div>\n",
              "  </div>\n",
              "  "
            ]
          },
          "metadata": {},
          "execution_count": 117
        }
      ]
    },
    {
      "cell_type": "markdown",
      "source": [
        "## **FEATURE SELECTION:**\n",
        "\n",
        "Including Amount\n",
        "\n",
        "FROM ANOVA:  V3, V4, V7, V10, V11, V12, V14, V16, V17, V18 \n",
        "\n",
        "FROM MUTUAL INFORMATION: V3, V4, V9, V10, V11, V12, V14, V16, V17, V18\n",
        "\n",
        "BASED ON BOTH TESTS, FEATURES SELECTED:\n",
        "**V3, V4, V7, V9, V10, V11, V12, V14, V17, V18, Amount**"
      ],
      "metadata": {
        "id": "My3BpHFvyoe2"
      }
    },
    {
      "cell_type": "markdown",
      "metadata": {
        "id": "RijfT85pHilP"
      },
      "source": [
        "# **DATASET #4 - FEATURE SELECTION**"
      ]
    },
    {
      "cell_type": "markdown",
      "metadata": {
        "id": "RIMqNWocHoyQ"
      },
      "source": [
        "#**** Part 5  **DIVIDING THE DATASET - FEATURES SELECTED (X AND Y VARIABLES PER DAY 1 and DAY 2**"
      ]
    },
    {
      "cell_type": "code",
      "execution_count": 161,
      "metadata": {
        "id": "1VkDGovGLscz"
      },
      "outputs": [],
      "source": [
        "df1 = Day1.drop(['Time_new', 'Date', 'Day'], axis=1)\n",
        "df2 = Day2.drop(['Time_new', 'Date', 'Day'], axis=1)"
      ]
    },
    {
      "cell_type": "code",
      "execution_count": 162,
      "metadata": {
        "colab": {
          "base_uri": "https://localhost:8080/"
        },
        "id": "lMJwJ3GTLPSo",
        "outputId": "9bb9a49c-1c0c-46c4-8c7d-a8cbe2c33fdb"
      },
      "outputs": [
        {
          "output_type": "stream",
          "name": "stdout",
          "text": [
            "<class 'pandas.core.frame.DataFrame'>\n",
            "Int64Index: 140021 entries, 144786 to 284806\n",
            "Data columns (total 31 columns):\n",
            " #   Column  Non-Null Count   Dtype  \n",
            "---  ------  --------------   -----  \n",
            " 0   Time    140021 non-null  float64\n",
            " 1   V1      140021 non-null  float64\n",
            " 2   V2      140021 non-null  float64\n",
            " 3   V3      140021 non-null  float64\n",
            " 4   V4      140021 non-null  float64\n",
            " 5   V5      140021 non-null  float64\n",
            " 6   V6      140021 non-null  float64\n",
            " 7   V7      140021 non-null  float64\n",
            " 8   V8      140021 non-null  float64\n",
            " 9   V9      140021 non-null  float64\n",
            " 10  V10     140021 non-null  float64\n",
            " 11  V11     140021 non-null  float64\n",
            " 12  V12     140021 non-null  float64\n",
            " 13  V13     140021 non-null  float64\n",
            " 14  V14     140021 non-null  float64\n",
            " 15  V15     140021 non-null  float64\n",
            " 16  V16     140021 non-null  float64\n",
            " 17  V17     140021 non-null  float64\n",
            " 18  V18     140021 non-null  float64\n",
            " 19  V19     140021 non-null  float64\n",
            " 20  V20     140021 non-null  float64\n",
            " 21  V21     140021 non-null  float64\n",
            " 22  V22     140021 non-null  float64\n",
            " 23  V23     140021 non-null  float64\n",
            " 24  V24     140021 non-null  float64\n",
            " 25  V25     140021 non-null  float64\n",
            " 26  V26     140021 non-null  float64\n",
            " 27  V27     140021 non-null  float64\n",
            " 28  V28     140021 non-null  float64\n",
            " 29  Amount  140021 non-null  float64\n",
            " 30  Class   140021 non-null  int64  \n",
            "dtypes: float64(30), int64(1)\n",
            "memory usage: 34.2 MB\n"
          ]
        }
      ],
      "source": [
        "df2.info()"
      ]
    },
    {
      "cell_type": "code",
      "execution_count": 164,
      "metadata": {
        "id": "Nwz7bhlgPdeP"
      },
      "outputs": [],
      "source": [
        "df_1 = df1.copy()\n",
        "df_2 = df2.copy()"
      ]
    },
    {
      "cell_type": "code",
      "execution_count": 165,
      "metadata": {
        "colab": {
          "base_uri": "https://localhost:8080/",
          "height": 297
        },
        "id": "VqENOZRzEbTT",
        "outputId": "7e1cc021-3458-43f0-b292-1f89708ddd6c"
      },
      "outputs": [
        {
          "output_type": "execute_result",
          "data": {
            "text/plain": [
              "<matplotlib.axes._subplots.AxesSubplot at 0x7f550afab450>"
            ]
          },
          "metadata": {},
          "execution_count": 165
        },
        {
          "output_type": "display_data",
          "data": {
            "text/plain": [
              "<Figure size 432x288 with 1 Axes>"
            ],
            "image/png": "[encoded data removed]"
          },
          "metadata": {
            "needs_background": "light"
          }
        }
      ],
      "source": [
        "sns.countplot(df_1['Class'])"
      ]
    },
    {
      "cell_type": "markdown",
      "metadata": {
        "id": "JDZqg4ppWmSv"
      },
      "source": [
        "# **TRAIN TEST SPLIT - FEATURE SELECTION**"
      ]
    },
    {
      "cell_type": "markdown",
      "metadata": {
        "id": "NtCknLoKSwvN"
      },
      "source": [
        "# **TRAIN SET - DAY 1 - FEATURE SELECTION**"
      ]
    },
    {
      "cell_type": "code",
      "execution_count": 166,
      "metadata": {
        "id": "4b_s-u1_MhJR"
      },
      "outputs": [],
      "source": [
        "y1 = df_1['Class']\n",
        "x1 = df_1.drop(['Class','Time','V1', 'V2','V5', 'V6','V8', 'V13', 'V15','V16', 'V19', 'V20', 'V21', 'V22', 'V23', 'V24', 'V25', 'V26', 'V27', 'V28'], axis=1)"
      ]
    },
    {
      "cell_type": "code",
      "execution_count": 167,
      "metadata": {
        "colab": {
          "base_uri": "https://localhost:8080/",
          "height": 206
        },
        "id": "qP1e9BrSnlep",
        "outputId": "8ee54dac-a8fa-4388-be1e-00b3b98a6419"
      },
      "outputs": [
        {
          "output_type": "execute_result",
          "data": {
            "text/plain": [
              "         V3        V4        V7        V9       V10       V11       V12  \\\n",
              "0  2.536347  1.378155  0.239599  0.363787  0.090794 -0.551600 -0.617801   \n",
              "1  0.166480  0.448154 -0.078803 -0.255425 -0.166974  1.612727  1.065235   \n",
              "2  1.773209  0.379780  0.791461 -1.514654  0.207643  0.624501  0.066084   \n",
              "3  1.792993 -0.863291  0.237609 -1.387024 -0.054952 -0.226487  0.178228   \n",
              "4  1.548718  0.403034  0.592941  0.817739  0.753074 -0.822843  0.538196   \n",
              "\n",
              "        V14       V17       V18  Amount  \n",
              "0 -0.311169  0.207971  0.025791  149.62  \n",
              "1 -0.143772 -0.114805 -0.183361    2.69  \n",
              "2 -0.165946  1.109969 -0.121359  378.66  \n",
              "3 -0.287924 -0.684093  1.965775  123.50  \n",
              "4 -1.119670 -0.237033 -0.038195   69.99  "
            ],
            "text/html": [
              "\n",
              "  <div id=\"df-95ac058d-a6a2-4dc8-955d-e7ac311905ad\">\n",
              "    <div class=\"colab-df-container\">\n",
              "      <div>\n",
              "<style scoped>\n",
              "    .dataframe tbody tr th:only-of-type {\n",
              "        vertical-align: middle;\n",
              "    }\n",
              "\n",
              "    .dataframe tbody tr th {\n",
              "        vertical-align: top;\n",
              "    }\n",
              "\n",
              "    .dataframe thead th {\n",
              "        text-align: right;\n",
              "    }\n",
              "</style>\n",
              "<table border=\"1\" class=\"dataframe\">\n",
              "  <thead>\n",
              "    <tr style=\"text-align: right;\">\n",
              "      <th></th>\n",
              "      <th>V3</th>\n",
              "      <th>V4</th>\n",
              "      <th>V7</th>\n",
              "      <th>V9</th>\n",
              "      <th>V10</th>\n",
              "      <th>V11</th>\n",
              "      <th>V12</th>\n",
              "      <th>V14</th>\n",
              "      <th>V17</th>\n",
              "      <th>V18</th>\n",
              "      <th>Amount</th>\n",
              "    </tr>\n",
              "  </thead>\n",
              "  <tbody>\n",
              "    <tr>\n",
              "      <th>0</th>\n",
              "      <td>2.536347</td>\n",
              "      <td>1.378155</td>\n",
              "      <td>0.239599</td>\n",
              "      <td>0.363787</td>\n",
              "      <td>0.090794</td>\n",
              "      <td>-0.551600</td>\n",
              "      <td>-0.617801</td>\n",
              "      <td>-0.311169</td>\n",
              "      <td>0.207971</td>\n",
              "      <td>0.025791</td>\n",
              "      <td>149.62</td>\n",
              "    </tr>\n",
              "    <tr>\n",
              "      <th>1</th>\n",
              "      <td>0.166480</td>\n",
              "      <td>0.448154</td>\n",
              "      <td>-0.078803</td>\n",
              "      <td>-0.255425</td>\n",
              "      <td>-0.166974</td>\n",
              "      <td>1.612727</td>\n",
              "      <td>1.065235</td>\n",
              "      <td>-0.143772</td>\n",
              "      <td>-0.114805</td>\n",
              "      <td>-0.183361</td>\n",
              "      <td>2.69</td>\n",
              "    </tr>\n",
              "    <tr>\n",
              "      <th>2</th>\n",
              "      <td>1.773209</td>\n",
              "      <td>0.379780</td>\n",
              "      <td>0.791461</td>\n",
              "      <td>-1.514654</td>\n",
              "      <td>0.207643</td>\n",
              "      <td>0.624501</td>\n",
              "      <td>0.066084</td>\n",
              "      <td>-0.165946</td>\n",
              "      <td>1.109969</td>\n",
              "      <td>-0.121359</td>\n",
              "      <td>378.66</td>\n",
              "    </tr>\n",
              "    <tr>\n",
              "      <th>3</th>\n",
              "      <td>1.792993</td>\n",
              "      <td>-0.863291</td>\n",
              "      <td>0.237609</td>\n",
              "      <td>-1.387024</td>\n",
              "      <td>-0.054952</td>\n",
              "      <td>-0.226487</td>\n",
              "      <td>0.178228</td>\n",
              "      <td>-0.287924</td>\n",
              "      <td>-0.684093</td>\n",
              "      <td>1.965775</td>\n",
              "      <td>123.50</td>\n",
              "    </tr>\n",
              "    <tr>\n",
              "      <th>4</th>\n",
              "      <td>1.548718</td>\n",
              "      <td>0.403034</td>\n",
              "      <td>0.592941</td>\n",
              "      <td>0.817739</td>\n",
              "      <td>0.753074</td>\n",
              "      <td>-0.822843</td>\n",
              "      <td>0.538196</td>\n",
              "      <td>-1.119670</td>\n",
              "      <td>-0.237033</td>\n",
              "      <td>-0.038195</td>\n",
              "      <td>69.99</td>\n",
              "    </tr>\n",
              "  </tbody>\n",
              "</table>\n",
              "</div>\n",
              "      <button class=\"colab-df-convert\" onclick=\"convertToInteractive('df-95ac058d-a6a2-4dc8-955d-e7ac311905ad')\"\n",
              "              title=\"Convert this dataframe to an interactive table.\"\n",
              "              style=\"display:none;\">\n",
              "        \n",
              "  <svg xmlns=\"http://www.w3.org/2000/svg\" height=\"24px\"viewBox=\"0 0 24 24\"\n",
              "       width=\"24px\">\n",
              "    <path d=\"M0 0h24v24H0V0z\" fill=\"none\"/>\n",
              "    <path d=\"M18.56 5.44l.94 2.06.94-2.06 2.06-.94-2.06-.94-.94-2.06-.94 2.06-2.06.94zm-11 1L8.5 8.5l.94-2.06 2.06-.94-2.06-.94L8.5 2.5l-.94 2.06-2.06.94zm10 10l.94 2.06.94-2.06 2.06-.94-2.06-.94-.94-2.06-.94 2.06-2.06.94z\"/><path d=\"M17.41 7.96l-1.37-1.37c-.4-.4-.92-.59-1.43-.59-.52 0-1.04.2-1.43.59L10.3 9.45l-7.72 7.72c-.78.78-.78 2.05 0 2.83L4 21.41c.39.39.9.59 1.41.59.51 0 1.02-.2 1.41-.59l7.78-7.78 2.81-2.81c.8-.78.8-2.07 0-2.86zM5.41 20L4 18.59l7.72-7.72 1.47 1.35L5.41 20z\"/>\n",
              "  </svg>\n",
              "      </button>\n",
              "      \n",
              "  <style>\n",
              "    .colab-df-container {\n",
              "      display:flex;\n",
              "      flex-wrap:wrap;\n",
              "      gap: 12px;\n",
              "    }\n",
              "\n",
              "    .colab-df-convert {\n",
              "      background-color: #E8F0FE;\n",
              "      border: none;\n",
              "      border-radius: 50%;\n",
              "      cursor: pointer;\n",
              "      display: none;\n",
              "      fill: #1967D2;\n",
              "      height: 32px;\n",
              "      padding: 0 0 0 0;\n",
              "      width: 32px;\n",
              "    }\n",
              "\n",
              "    .colab-df-convert:hover {\n",
              "      background-color: #E2EBFA;\n",
              "      box-shadow: 0px 1px 2px rgba(60, 64, 67, 0.3), 0px 1px 3px 1px rgba(60, 64, 67, 0.15);\n",
              "      fill: #174EA6;\n",
              "    }\n",
              "\n",
              "    [theme=dark] .colab-df-convert {\n",
              "      background-color: #3B4455;\n",
              "      fill: #D2E3FC;\n",
              "    }\n",
              "\n",
              "    [theme=dark] .colab-df-convert:hover {\n",
              "      background-color: #434B5C;\n",
              "      box-shadow: 0px 1px 3px 1px rgba(0, 0, 0, 0.15);\n",
              "      filter: drop-shadow(0px 1px 2px rgba(0, 0, 0, 0.3));\n",
              "      fill: #FFFFFF;\n",
              "    }\n",
              "  </style>\n",
              "\n",
              "      <script>\n",
              "        const buttonEl =\n",
              "          document.querySelector('#df-95ac058d-a6a2-4dc8-955d-e7ac311905ad button.colab-df-convert');\n",
              "        buttonEl.style.display =\n",
              "          google.colab.kernel.accessAllowed ? 'block' : 'none';\n",
              "\n",
              "        async function convertToInteractive(key) {\n",
              "          const element = document.querySelector('#df-95ac058d-a6a2-4dc8-955d-e7ac311905ad');\n",
              "          const dataTable =\n",
              "            await google.colab.kernel.invokeFunction('convertToInteractive',\n",
              "                                                     [key], {});\n",
              "          if (!dataTable) return;\n",
              "\n",
              "          const docLinkHtml = 'Like what you see? Visit the ' +\n",
              "            '<a target=\"_blank\" href=https://colab.research.google.com/notebooks/data_table.ipynb>data table notebook</a>'\n",
              "            + ' to learn more about interactive tables.';\n",
              "          element.innerHTML = '';\n",
              "          dataTable['output_type'] = 'display_data';\n",
              "          await google.colab.output.renderOutput(dataTable, element);\n",
              "          const docLink = document.createElement('div');\n",
              "          docLink.innerHTML = docLinkHtml;\n",
              "          element.appendChild(docLink);\n",
              "        }\n",
              "      </script>\n",
              "    </div>\n",
              "  </div>\n",
              "  "
            ]
          },
          "metadata": {},
          "execution_count": 167
        }
      ],
      "source": [
        "x1.head()"
      ]
    },
    {
      "cell_type": "code",
      "execution_count": 168,
      "metadata": {
        "colab": {
          "base_uri": "https://localhost:8080/"
        },
        "id": "ktmN_LCKWpRV",
        "outputId": "9ba0816e-ba66-4d63-f69b-cc92c2ee3320"
      },
      "outputs": [
        {
          "output_type": "execute_result",
          "data": {
            "text/plain": [
              "0    0.998059\n",
              "1    0.001941\n",
              "Name: Class, dtype: float64"
            ]
          },
          "metadata": {},
          "execution_count": 168
        }
      ],
      "source": [
        "#Distribution in training set\n",
        "y1.value_counts(normalize=True)\n"
      ]
    },
    {
      "cell_type": "code",
      "execution_count": 169,
      "metadata": {
        "colab": {
          "base_uri": "https://localhost:8080/"
        },
        "id": "tptI2hGLXmAw",
        "outputId": "7a8d61fb-691f-42b3-9dfc-4da95bb8cff3"
      },
      "outputs": [
        {
          "output_type": "execute_result",
          "data": {
            "text/plain": [
              "((144786,), (144786, 11))"
            ]
          },
          "metadata": {},
          "execution_count": 169
        }
      ],
      "source": [
        "#shape of training set\n",
        "y1.shape, x1.shape"
      ]
    },
    {
      "cell_type": "markdown",
      "metadata": {
        "id": "e6WHuVFSSx-3"
      },
      "source": [
        "# **TEST SET - DAY 2 **"
      ]
    },
    {
      "cell_type": "code",
      "execution_count": 170,
      "metadata": {
        "id": "6aUp6Bo0RSn8"
      },
      "outputs": [],
      "source": [
        "y2 = df_2['Class']\n",
        "x2 = df_2.drop(['Class','Time','V1', 'V2','V5', 'V6','V8', 'V13', 'V15','V16', 'V19', 'V20', 'V21', 'V22', 'V23', 'V24', 'V25', 'V26', 'V27', 'V28'], axis=1)"
      ]
    },
    {
      "cell_type": "code",
      "execution_count": 171,
      "metadata": {
        "colab": {
          "base_uri": "https://localhost:8080/"
        },
        "id": "Cd6aUPNBW1sS",
        "outputId": "efaf5a4d-d579-4dc5-bb13-912dd5232ce5"
      },
      "outputs": [
        {
          "output_type": "execute_result",
          "data": {
            "text/plain": [
              "0    0.998493\n",
              "1    0.001507\n",
              "Name: Class, dtype: float64"
            ]
          },
          "metadata": {},
          "execution_count": 171
        }
      ],
      "source": [
        "#Distribution in testing/validation set\n",
        "y2.value_counts(normalize=True)"
      ]
    },
    {
      "cell_type": "code",
      "execution_count": 172,
      "metadata": {
        "colab": {
          "base_uri": "https://localhost:8080/"
        },
        "id": "FpD3bKvHXtjc",
        "outputId": "7b2d7b43-a3ee-413f-9c9f-396fe678c915"
      },
      "outputs": [
        {
          "output_type": "execute_result",
          "data": {
            "text/plain": [
              "((140021, 11), (140021,))"
            ]
          },
          "metadata": {},
          "execution_count": 172
        }
      ],
      "source": [
        "#shape of testing set\n",
        "x2.shape, y2.shape"
      ]
    },
    {
      "cell_type": "markdown",
      "metadata": {
        "id": "NsTToe5AhlVY"
      },
      "source": [
        "# Due to class imbalance, upsample the data to balance the dataset. Note: do not apply on testing set as there will be knowledge leak"
      ]
    },
    {
      "cell_type": "markdown",
      "metadata": {
        "id": "a7ds5kyVF73q"
      },
      "source": [
        "# **option 1 - upsample**"
      ]
    },
    {
      "cell_type": "code",
      "execution_count": 173,
      "metadata": {
        "id": "fBl48YvPiVmV"
      },
      "outputs": [],
      "source": [
        "from sklearn.utils import resample"
      ]
    },
    {
      "cell_type": "code",
      "execution_count": 174,
      "metadata": {
        "colab": {
          "base_uri": "https://localhost:8080/",
          "height": 300
        },
        "id": "OPbG6_Tliybj",
        "outputId": "948be9f9-9c81-4af0-f5df-9c07a5a1d57e"
      },
      "outputs": [
        {
          "output_type": "execute_result",
          "data": {
            "text/plain": [
              "   Time        V1        V2        V3        V4        V5        V6        V7  \\\n",
              "0   0.0 -1.359807 -0.072781  2.536347  1.378155 -0.338321  0.462388  0.239599   \n",
              "1   0.0  1.191857  0.266151  0.166480  0.448154  0.060018 -0.082361 -0.078803   \n",
              "2   1.0 -1.358354 -1.340163  1.773209  0.379780 -0.503198  1.800499  0.791461   \n",
              "3   1.0 -0.966272 -0.185226  1.792993 -0.863291 -0.010309  1.247203  0.237609   \n",
              "4   2.0 -1.158233  0.877737  1.548718  0.403034 -0.407193  0.095921  0.592941   \n",
              "\n",
              "         V8        V9  ...       V21       V22       V23       V24       V25  \\\n",
              "0  0.098698  0.363787  ... -0.018307  0.277838 -0.110474  0.066928  0.128539   \n",
              "1  0.085102 -0.255425  ... -0.225775 -0.638672  0.101288 -0.339846  0.167170   \n",
              "2  0.247676 -1.514654  ...  0.247998  0.771679  0.909412 -0.689281 -0.327642   \n",
              "3  0.377436 -1.387024  ... -0.108300  0.005274 -0.190321 -1.175575  0.647376   \n",
              "4 -0.270533  0.817739  ... -0.009431  0.798278 -0.137458  0.141267 -0.206010   \n",
              "\n",
              "        V26       V27       V28  Amount  Class  \n",
              "0 -0.189115  0.133558 -0.021053  149.62      0  \n",
              "1  0.125895 -0.008983  0.014724    2.69      0  \n",
              "2 -0.139097 -0.055353 -0.059752  378.66      0  \n",
              "3 -0.221929  0.062723  0.061458  123.50      0  \n",
              "4  0.502292  0.219422  0.215153   69.99      0  \n",
              "\n",
              "[5 rows x 31 columns]"
            ],
            "text/html": [
              "\n",
              "  <div id=\"df-353edef9-9b84-49fc-ba02-4391d460a831\">\n",
              "    <div class=\"colab-df-container\">\n",
              "      <div>\n",
              "<style scoped>\n",
              "    .dataframe tbody tr th:only-of-type {\n",
              "        vertical-align: middle;\n",
              "    }\n",
              "\n",
              "    .dataframe tbody tr th {\n",
              "        vertical-align: top;\n",
              "    }\n",
              "\n",
              "    .dataframe thead th {\n",
              "        text-align: right;\n",
              "    }\n",
              "</style>\n",
              "<table border=\"1\" class=\"dataframe\">\n",
              "  <thead>\n",
              "    <tr style=\"text-align: right;\">\n",
              "      <th></th>\n",
              "      <th>Time</th>\n",
              "      <th>V1</th>\n",
              "      <th>V2</th>\n",
              "      <th>V3</th>\n",
              "      <th>V4</th>\n",
              "      <th>V5</th>\n",
              "      <th>V6</th>\n",
              "      <th>V7</th>\n",
              "      <th>V8</th>\n",
              "      <th>V9</th>\n",
              "      <th>...</th>\n",
              "      <th>V21</th>\n",
              "      <th>V22</th>\n",
              "      <th>V23</th>\n",
              "      <th>V24</th>\n",
              "      <th>V25</th>\n",
              "      <th>V26</th>\n",
              "      <th>V27</th>\n",
              "      <th>V28</th>\n",
              "      <th>Amount</th>\n",
              "      <th>Class</th>\n",
              "    </tr>\n",
              "  </thead>\n",
              "  <tbody>\n",
              "    <tr>\n",
              "      <th>0</th>\n",
              "      <td>0.0</td>\n",
              "      <td>-1.359807</td>\n",
              "      <td>-0.072781</td>\n",
              "      <td>2.536347</td>\n",
              "      <td>1.378155</td>\n",
              "      <td>-0.338321</td>\n",
              "      <td>0.462388</td>\n",
              "      <td>0.239599</td>\n",
              "      <td>0.098698</td>\n",
              "      <td>0.363787</td>\n",
              "      <td>...</td>\n",
              "      <td>-0.018307</td>\n",
              "      <td>0.277838</td>\n",
              "      <td>-0.110474</td>\n",
              "      <td>0.066928</td>\n",
              "      <td>0.128539</td>\n",
              "      <td>-0.189115</td>\n",
              "      <td>0.133558</td>\n",
              "      <td>-0.021053</td>\n",
              "      <td>149.62</td>\n",
              "      <td>0</td>\n",
              "    </tr>\n",
              "    <tr>\n",
              "      <th>1</th>\n",
              "      <td>0.0</td>\n",
              "      <td>1.191857</td>\n",
              "      <td>0.266151</td>\n",
              "      <td>0.166480</td>\n",
              "      <td>0.448154</td>\n",
              "      <td>0.060018</td>\n",
              "      <td>-0.082361</td>\n",
              "      <td>-0.078803</td>\n",
              "      <td>0.085102</td>\n",
              "      <td>-0.255425</td>\n",
              "      <td>...</td>\n",
              "      <td>-0.225775</td>\n",
              "      <td>-0.638672</td>\n",
              "      <td>0.101288</td>\n",
              "      <td>-0.339846</td>\n",
              "      <td>0.167170</td>\n",
              "      <td>0.125895</td>\n",
              "      <td>-0.008983</td>\n",
              "      <td>0.014724</td>\n",
              "      <td>2.69</td>\n",
              "      <td>0</td>\n",
              "    </tr>\n",
              "    <tr>\n",
              "      <th>2</th>\n",
              "      <td>1.0</td>\n",
              "      <td>-1.358354</td>\n",
              "      <td>-1.340163</td>\n",
              "      <td>1.773209</td>\n",
              "      <td>0.379780</td>\n",
              "      <td>-0.503198</td>\n",
              "      <td>1.800499</td>\n",
              "      <td>0.791461</td>\n",
              "      <td>0.247676</td>\n",
              "      <td>-1.514654</td>\n",
              "      <td>...</td>\n",
              "      <td>0.247998</td>\n",
              "      <td>0.771679</td>\n",
              "      <td>0.909412</td>\n",
              "      <td>-0.689281</td>\n",
              "      <td>-0.327642</td>\n",
              "      <td>-0.139097</td>\n",
              "      <td>-0.055353</td>\n",
              "      <td>-0.059752</td>\n",
              "      <td>378.66</td>\n",
              "      <td>0</td>\n",
              "    </tr>\n",
              "    <tr>\n",
              "      <th>3</th>\n",
              "      <td>1.0</td>\n",
              "      <td>-0.966272</td>\n",
              "      <td>-0.185226</td>\n",
              "      <td>1.792993</td>\n",
              "      <td>-0.863291</td>\n",
              "      <td>-0.010309</td>\n",
              "      <td>1.247203</td>\n",
              "      <td>0.237609</td>\n",
              "      <td>0.377436</td>\n",
              "      <td>-1.387024</td>\n",
              "      <td>...</td>\n",
              "      <td>-0.108300</td>\n",
              "      <td>0.005274</td>\n",
              "      <td>-0.190321</td>\n",
              "      <td>-1.175575</td>\n",
              "      <td>0.647376</td>\n",
              "      <td>-0.221929</td>\n",
              "      <td>0.062723</td>\n",
              "      <td>0.061458</td>\n",
              "      <td>123.50</td>\n",
              "      <td>0</td>\n",
              "    </tr>\n",
              "    <tr>\n",
              "      <th>4</th>\n",
              "      <td>2.0</td>\n",
              "      <td>-1.158233</td>\n",
              "      <td>0.877737</td>\n",
              "      <td>1.548718</td>\n",
              "      <td>0.403034</td>\n",
              "      <td>-0.407193</td>\n",
              "      <td>0.095921</td>\n",
              "      <td>0.592941</td>\n",
              "      <td>-0.270533</td>\n",
              "      <td>0.817739</td>\n",
              "      <td>...</td>\n",
              "      <td>-0.009431</td>\n",
              "      <td>0.798278</td>\n",
              "      <td>-0.137458</td>\n",
              "      <td>0.141267</td>\n",
              "      <td>-0.206010</td>\n",
              "      <td>0.502292</td>\n",
              "      <td>0.219422</td>\n",
              "      <td>0.215153</td>\n",
              "      <td>69.99</td>\n",
              "      <td>0</td>\n",
              "    </tr>\n",
              "  </tbody>\n",
              "</table>\n",
              "<p>5 rows × 31 columns</p>\n",
              "</div>\n",
              "      <button class=\"colab-df-convert\" onclick=\"convertToInteractive('df-353edef9-9b84-49fc-ba02-4391d460a831')\"\n",
              "              title=\"Convert this dataframe to an interactive table.\"\n",
              "              style=\"display:none;\">\n",
              "        \n",
              "  <svg xmlns=\"http://www.w3.org/2000/svg\" height=\"24px\"viewBox=\"0 0 24 24\"\n",
              "       width=\"24px\">\n",
              "    <path d=\"M0 0h24v24H0V0z\" fill=\"none\"/>\n",
              "    <path d=\"M18.56 5.44l.94 2.06.94-2.06 2.06-.94-2.06-.94-.94-2.06-.94 2.06-2.06.94zm-11 1L8.5 8.5l.94-2.06 2.06-.94-2.06-.94L8.5 2.5l-.94 2.06-2.06.94zm10 10l.94 2.06.94-2.06 2.06-.94-2.06-.94-.94-2.06-.94 2.06-2.06.94z\"/><path d=\"M17.41 7.96l-1.37-1.37c-.4-.4-.92-.59-1.43-.59-.52 0-1.04.2-1.43.59L10.3 9.45l-7.72 7.72c-.78.78-.78 2.05 0 2.83L4 21.41c.39.39.9.59 1.41.59.51 0 1.02-.2 1.41-.59l7.78-7.78 2.81-2.81c.8-.78.8-2.07 0-2.86zM5.41 20L4 18.59l7.72-7.72 1.47 1.35L5.41 20z\"/>\n",
              "  </svg>\n",
              "      </button>\n",
              "      \n",
              "  <style>\n",
              "    .colab-df-container {\n",
              "      display:flex;\n",
              "      flex-wrap:wrap;\n",
              "      gap: 12px;\n",
              "    }\n",
              "\n",
              "    .colab-df-convert {\n",
              "      background-color: #E8F0FE;\n",
              "      border: none;\n",
              "      border-radius: 50%;\n",
              "      cursor: pointer;\n",
              "      display: none;\n",
              "      fill: #1967D2;\n",
              "      height: 32px;\n",
              "      padding: 0 0 0 0;\n",
              "      width: 32px;\n",
              "    }\n",
              "\n",
              "    .colab-df-convert:hover {\n",
              "      background-color: #E2EBFA;\n",
              "      box-shadow: 0px 1px 2px rgba(60, 64, 67, 0.3), 0px 1px 3px 1px rgba(60, 64, 67, 0.15);\n",
              "      fill: #174EA6;\n",
              "    }\n",
              "\n",
              "    [theme=dark] .colab-df-convert {\n",
              "      background-color: #3B4455;\n",
              "      fill: #D2E3FC;\n",
              "    }\n",
              "\n",
              "    [theme=dark] .colab-df-convert:hover {\n",
              "      background-color: #434B5C;\n",
              "      box-shadow: 0px 1px 3px 1px rgba(0, 0, 0, 0.15);\n",
              "      filter: drop-shadow(0px 1px 2px rgba(0, 0, 0, 0.3));\n",
              "      fill: #FFFFFF;\n",
              "    }\n",
              "  </style>\n",
              "\n",
              "      <script>\n",
              "        const buttonEl =\n",
              "          document.querySelector('#df-353edef9-9b84-49fc-ba02-4391d460a831 button.colab-df-convert');\n",
              "        buttonEl.style.display =\n",
              "          google.colab.kernel.accessAllowed ? 'block' : 'none';\n",
              "\n",
              "        async function convertToInteractive(key) {\n",
              "          const element = document.querySelector('#df-353edef9-9b84-49fc-ba02-4391d460a831');\n",
              "          const dataTable =\n",
              "            await google.colab.kernel.invokeFunction('convertToInteractive',\n",
              "                                                     [key], {});\n",
              "          if (!dataTable) return;\n",
              "\n",
              "          const docLinkHtml = 'Like what you see? Visit the ' +\n",
              "            '<a target=\"_blank\" href=https://colab.research.google.com/notebooks/data_table.ipynb>data table notebook</a>'\n",
              "            + ' to learn more about interactive tables.';\n",
              "          element.innerHTML = '';\n",
              "          dataTable['output_type'] = 'display_data';\n",
              "          await google.colab.output.renderOutput(dataTable, element);\n",
              "          const docLink = document.createElement('div');\n",
              "          docLink.innerHTML = docLinkHtml;\n",
              "          element.appendChild(docLink);\n",
              "        }\n",
              "      </script>\n",
              "    </div>\n",
              "  </div>\n",
              "  "
            ]
          },
          "metadata": {},
          "execution_count": 174
        }
      ],
      "source": [
        "df_1.head()"
      ]
    },
    {
      "cell_type": "code",
      "execution_count": 175,
      "metadata": {
        "id": "0G4BKL4DipU0"
      },
      "outputs": [],
      "source": [
        "#create two different dataframe of majority and minority class \n",
        "df_majority = df_1[(df_1['Class']==0)] \n",
        "df_minority = df_1[(df_1['Class']==1)] "
      ]
    },
    {
      "cell_type": "code",
      "execution_count": 176,
      "metadata": {
        "colab": {
          "base_uri": "https://localhost:8080/"
        },
        "id": "5Yr0Ay4VjEFu",
        "outputId": "98ae2d8c-191b-47b5-dad3-d102fc53d421"
      },
      "outputs": [
        {
          "output_type": "execute_result",
          "data": {
            "text/plain": [
              "(144505, 31)"
            ]
          },
          "metadata": {},
          "execution_count": 176
        }
      ],
      "source": [
        "df_majority.shape\n"
      ]
    },
    {
      "cell_type": "code",
      "execution_count": 177,
      "metadata": {
        "colab": {
          "base_uri": "https://localhost:8080/"
        },
        "id": "IVpovZd-jGfO",
        "outputId": "6cb29c33-40bd-4e51-be1d-eb41e947a6a4"
      },
      "outputs": [
        {
          "output_type": "execute_result",
          "data": {
            "text/plain": [
              "(281, 31)"
            ]
          },
          "metadata": {},
          "execution_count": 177
        }
      ],
      "source": [
        "df_minority.shape"
      ]
    },
    {
      "cell_type": "code",
      "execution_count": 178,
      "metadata": {
        "id": "-Lur55oohnry"
      },
      "outputs": [],
      "source": [
        "# upsample minority class\n",
        "df_minority_upsampled = resample(df_minority, \n",
        "                                 replace=True,    # sample with replacement\n",
        "                                 n_samples= 144505, # to match majority class\n",
        "                                 random_state=42)  # reproducible results\n"
      ]
    },
    {
      "cell_type": "code",
      "execution_count": 179,
      "metadata": {
        "id": "6HEicIcGjCd1"
      },
      "outputs": [],
      "source": [
        "# Combine majority class with upsampled minority class\n",
        "df_upsampled = pd.concat([df_minority_upsampled, df_majority])"
      ]
    },
    {
      "cell_type": "code",
      "execution_count": 180,
      "metadata": {
        "colab": {
          "base_uri": "https://localhost:8080/"
        },
        "id": "_vvZ8vD4jY4A",
        "outputId": "0df6555e-4f15-4c42-f24b-8a7ddc84acf0"
      },
      "outputs": [
        {
          "output_type": "execute_result",
          "data": {
            "text/plain": [
              "1    144505\n",
              "0    144505\n",
              "Name: Class, dtype: int64"
            ]
          },
          "metadata": {},
          "execution_count": 180
        }
      ],
      "source": [
        "#display new class counts\n",
        "df_upsampled['Class'].value_counts()"
      ]
    },
    {
      "cell_type": "code",
      "execution_count": 181,
      "metadata": {
        "colab": {
          "base_uri": "https://localhost:8080/",
          "height": 297
        },
        "id": "VmijwlHpjmP8",
        "outputId": "75841eed-064c-4643-cfe5-5fde633aa18b"
      },
      "outputs": [
        {
          "output_type": "execute_result",
          "data": {
            "text/plain": [
              "<matplotlib.axes._subplots.AxesSubplot at 0x7f550a0fafd0>"
            ]
          },
          "metadata": {},
          "execution_count": 181
        },
        {
          "output_type": "display_data",
          "data": {
            "text/plain": [
              "<Figure size 432x288 with 1 Axes>"
            ],
            "image/png": "[encoded data removed]"
          },
          "metadata": {
            "needs_background": "light"
          }
        }
      ],
      "source": [
        "sns.countplot(df_upsampled['Class'])"
      ]
    },
    {
      "cell_type": "markdown",
      "metadata": {
        "id": "fdfkIS58kfc3"
      },
      "source": [
        "# **New TRAIN SET (UPSAMPLED & FEATURE SELECTION - DAY 1)**"
      ]
    },
    {
      "cell_type": "code",
      "execution_count": 182,
      "metadata": {
        "id": "HjujXnrHkad6"
      },
      "outputs": [],
      "source": [
        "y1 = df_upsampled['Class']\n",
        "x1 = df_upsampled.drop(['Class','Time','V1', 'V2','V5', 'V6','V8', 'V13', 'V15','V16', 'V19', 'V20', 'V21', 'V22', 'V23', 'V24', 'V25', 'V26', 'V27', 'V28'], axis=1)"
      ]
    },
    {
      "cell_type": "markdown",
      "metadata": {
        "id": "YMA4TY5Mkoqm"
      },
      "source": [
        "# **SAME TEST SET (DAY 2), no upsampling done**"
      ]
    },
    {
      "cell_type": "code",
      "execution_count": 183,
      "metadata": {
        "id": "6XALg8Zikr7O"
      },
      "outputs": [],
      "source": [
        "y2 = df_2['Class']\n",
        "x2 = df_2.drop(['Class','Time','V1', 'V2','V5', 'V6','V8', 'V13', 'V15','V16', 'V19', 'V20', 'V21', 'V22', 'V23', 'V24', 'V25', 'V26', 'V27', 'V28'], axis=1)"
      ]
    },
    {
      "cell_type": "markdown",
      "metadata": {
        "id": "jFqvvNJpDCGp"
      },
      "source": [
        "# **** DATASET #5 BASELINE TRAIN SET - DAY 1****"
      ]
    },
    {
      "cell_type": "markdown",
      "metadata": {
        "id": "AaY3woesPSkJ"
      },
      "source": [
        "**BASELINE Train set - upsampled**"
      ]
    },
    {
      "cell_type": "code",
      "execution_count": 184,
      "metadata": {
        "id": "o3USk-LhDOAM"
      },
      "outputs": [],
      "source": [
        "bday1 = df_upsampled.copy()"
      ]
    },
    {
      "cell_type": "code",
      "execution_count": 185,
      "metadata": {
        "id": "HBShy9icIxHe"
      },
      "outputs": [],
      "source": [
        "b_y1 = bday1['Class']\n",
        "b_x1 = bday1.drop(['Class'], axis=1)"
      ]
    },
    {
      "cell_type": "code",
      "execution_count": 186,
      "metadata": {
        "colab": {
          "base_uri": "https://localhost:8080/"
        },
        "id": "xaM1L6pYJTsL",
        "outputId": "297b080b-1e02-441f-85b3-1aa90ef0a358"
      },
      "outputs": [
        {
          "output_type": "execute_result",
          "data": {
            "text/plain": [
              "1    0.5\n",
              "0    0.5\n",
              "Name: Class, dtype: float64"
            ]
          },
          "metadata": {},
          "execution_count": 186
        }
      ],
      "source": [
        "#Distribution in training set\n",
        "b_y1.value_counts(normalize=True)"
      ]
    },
    {
      "cell_type": "code",
      "execution_count": 187,
      "metadata": {
        "colab": {
          "base_uri": "https://localhost:8080/",
          "height": 297
        },
        "id": "Rvle4yujNOKN",
        "outputId": "3dac8729-ead2-4872-a43d-56e9ff2ad540"
      },
      "outputs": [
        {
          "output_type": "execute_result",
          "data": {
            "text/plain": [
              "<matplotlib.axes._subplots.AxesSubplot at 0x7f550a0c0f90>"
            ]
          },
          "metadata": {},
          "execution_count": 187
        },
        {
          "output_type": "display_data",
          "data": {
            "text/plain": [
              "<Figure size 432x288 with 1 Axes>"
            ],
            "image/png": "[encoded data removed]"
          },
          "metadata": {
            "needs_background": "light"
          }
        }
      ],
      "source": [
        "sns.countplot(bday1['Class'])"
      ]
    },
    {
      "cell_type": "markdown",
      "metadata": {
        "id": "LeMvWMcKx7H6"
      },
      "source": [
        "# **BASELINE TEST SET**"
      ]
    },
    {
      "cell_type": "code",
      "execution_count": 188,
      "metadata": {
        "id": "WvtotI8AyFip"
      },
      "outputs": [],
      "source": [
        "bday2 = df_2.copy()"
      ]
    },
    {
      "cell_type": "code",
      "execution_count": 189,
      "metadata": {
        "id": "MMPffOJ7x57r"
      },
      "outputs": [],
      "source": [
        "b_y2 = bday2['Class']\n",
        "b_x2 = bday2.drop(['Class'], axis=1)"
      ]
    },
    {
      "cell_type": "markdown",
      "metadata": {
        "id": "Ni2_eIw9Bj1o"
      },
      "source": [
        "# ** **PART 6: PREDICTIVE MODELING**"
      ]
    },
    {
      "cell_type": "markdown",
      "metadata": {
        "id": "izHmIcoRPW8z"
      },
      "source": [
        "# *Predict Day 2 (test) from Day 1(train) Dataset*"
      ]
    },
    {
      "cell_type": "markdown",
      "metadata": {
        "id": "5Q6kTDS6zRX5"
      },
      "source": [
        "# ** ****** (1) Decision Tree Classifier****** **"
      ]
    },
    {
      "cell_type": "markdown",
      "metadata": {
        "id": "N0zi8sxHDUsR"
      },
      "source": [
        "# **(A) FEATURE SELECTION - FILTER METHOD**"
      ]
    },
    {
      "cell_type": "code",
      "execution_count": 191,
      "metadata": {
        "id": "ZuC84JQWVGbN"
      },
      "outputs": [],
      "source": [
        "#import the decision tree classifier\n",
        "from sklearn.tree import DecisionTreeClassifier\n"
      ]
    },
    {
      "cell_type": "code",
      "execution_count": 192,
      "metadata": {
        "id": "iNwra3rKX-zr"
      },
      "outputs": [],
      "source": [
        "#creating the decision tree function\n",
        "dt_model = DecisionTreeClassifier(random_state=45, max_depth=5)"
      ]
    },
    {
      "cell_type": "code",
      "execution_count": 193,
      "metadata": {
        "colab": {
          "base_uri": "https://localhost:8080/"
        },
        "id": "QukxxS9nYVAd",
        "outputId": "85111703-6256-4def-84d3-39a467909ed3"
      },
      "outputs": [
        {
          "output_type": "stream",
          "name": "stdout",
          "text": [
            "CPU times: user 1.55 s, sys: 13.8 ms, total: 1.56 s\n",
            "Wall time: 1.56 s\n"
          ]
        },
        {
          "output_type": "execute_result",
          "data": {
            "text/plain": [
              "DecisionTreeClassifier(max_depth=5, random_state=45)"
            ]
          },
          "metadata": {},
          "execution_count": 193
        }
      ],
      "source": [
        "%%time\n",
        "#fitting the model\n",
        "dt_model.fit(x1,y1)"
      ]
    },
    {
      "cell_type": "code",
      "execution_count": 194,
      "metadata": {
        "colab": {
          "base_uri": "https://localhost:8080/"
        },
        "id": "xRs3LTH4qCJD",
        "outputId": "769670af-1417-459d-cc92-7d54cf0fd3c4"
      },
      "outputs": [
        {
          "output_type": "execute_result",
          "data": {
            "text/plain": [
              "0.9615272827929829"
            ]
          },
          "metadata": {},
          "execution_count": 194
        }
      ],
      "source": [
        "#checking the training score\n",
        "dt_model.score(x1,y1)"
      ]
    },
    {
      "cell_type": "code",
      "execution_count": 195,
      "metadata": {
        "id": "_Jtv3akAYzEj"
      },
      "outputs": [],
      "source": [
        "#predict on testing set\n",
        "y_pred = dt_model.predict(x2)"
      ]
    },
    {
      "cell_type": "markdown",
      "metadata": {
        "id": "4j7CggCPk7JF"
      },
      "source": [
        "# **Evaluation metrics - Filter**"
      ]
    },
    {
      "cell_type": "code",
      "execution_count": 196,
      "metadata": {
        "id": "k79pLA4NZrrR"
      },
      "outputs": [],
      "source": [
        "from sklearn.metrics import accuracy_score"
      ]
    },
    {
      "cell_type": "code",
      "execution_count": 197,
      "metadata": {
        "colab": {
          "base_uri": "https://localhost:8080/"
        },
        "id": "WvhCLQxNZvb3",
        "outputId": "55819b1c-cddf-49b4-a3c6-7edb76536752"
      },
      "outputs": [
        {
          "output_type": "execute_result",
          "data": {
            "text/plain": [
              "0.9819955578091858"
            ]
          },
          "metadata": {},
          "execution_count": 197
        }
      ],
      "source": [
        "accuracy_score(y2, y_pred)"
      ]
    },
    {
      "cell_type": "code",
      "execution_count": 198,
      "metadata": {
        "colab": {
          "base_uri": "https://localhost:8080/"
        },
        "id": "Hye0rt6oDdzx",
        "outputId": "fbab9a15-45a5-4c94-d48c-ba3061738fab"
      },
      "outputs": [
        {
          "output_type": "execute_result",
          "data": {
            "text/plain": [
              "(140021,)"
            ]
          },
          "metadata": {},
          "execution_count": 198
        }
      ],
      "source": [
        "y_pred.shape"
      ]
    },
    {
      "cell_type": "code",
      "execution_count": 199,
      "metadata": {
        "colab": {
          "base_uri": "https://localhost:8080/"
        },
        "id": "f9d9odPphFj0",
        "outputId": "745e3ac0-f496-4748-d2ec-aeda6cc74af4"
      },
      "outputs": [
        {
          "output_type": "stream",
          "name": "stdout",
          "text": [
            "Confusion Matrix\n",
            "[[137323   2487]\n",
            " [    34    177]]\n",
            "TP:  177 , FP:  2487 , TN:  137323 , FN: 34\n"
          ]
        }
      ],
      "source": [
        "from sklearn.metrics import confusion_matrix\n",
        "cf=confusion_matrix(y2, y_pred)\n",
        "print (\"Confusion Matrix\")\n",
        "print(cf)\n",
        "tn, fp, fn, tp=cf.ravel()\n",
        "print (\"TP: \", tp,\", FP: \", fp,\", TN: \", tn,\", FN:\", fn)"
      ]
    },
    {
      "cell_type": "code",
      "execution_count": 200,
      "metadata": {
        "colab": {
          "base_uri": "https://localhost:8080/"
        },
        "id": "zvWvy8gRhN5b",
        "outputId": "576f58b5-d3cd-4fe0-b3c0-2a5e8523b0d4"
      },
      "outputs": [
        {
          "output_type": "stream",
          "name": "stdout",
          "text": [
            "              precision    recall  f1-score   support\n",
            "\n",
            "           0       1.00      0.98      0.99    139810\n",
            "           1       0.07      0.84      0.12       211\n",
            "\n",
            "    accuracy                           0.98    140021\n",
            "   macro avg       0.53      0.91      0.56    140021\n",
            "weighted avg       1.00      0.98      0.99    140021\n",
            "\n"
          ]
        }
      ],
      "source": [
        "#print precision, recall, and accuracy from the perspective of each of the class \n",
        "from sklearn.metrics import classification_report\n",
        "from sklearn import metrics\n",
        "\n",
        "print(classification_report(y2, y_pred))"
      ]
    },
    {
      "cell_type": "code",
      "execution_count": 201,
      "metadata": {
        "colab": {
          "base_uri": "https://localhost:8080/"
        },
        "id": "yiFof8FBgYVc",
        "outputId": "bcf4aae8-fe30-4627-f721-3311544f5c8a"
      },
      "outputs": [
        {
          "output_type": "execute_result",
          "data": {
            "text/plain": [
              "{'ccp_alpha': 0.0,\n",
              " 'class_weight': None,\n",
              " 'criterion': 'gini',\n",
              " 'max_depth': 5,\n",
              " 'max_features': None,\n",
              " 'max_leaf_nodes': None,\n",
              " 'min_impurity_decrease': 0.0,\n",
              " 'min_samples_leaf': 1,\n",
              " 'min_samples_split': 2,\n",
              " 'min_weight_fraction_leaf': 0.0,\n",
              " 'random_state': 45,\n",
              " 'splitter': 'best'}"
            ]
          },
          "metadata": {},
          "execution_count": 201
        }
      ],
      "source": [
        "dt_model.get_params()"
      ]
    },
    {
      "cell_type": "markdown",
      "metadata": {
        "id": "5kyM_pGHoz3Z"
      },
      "source": [
        "# **(B) FEATURE SELECTION - WRAPPER METHOD**"
      ]
    },
    {
      "cell_type": "code",
      "execution_count": 202,
      "metadata": {
        "colab": {
          "base_uri": "https://localhost:8080/"
        },
        "id": "BIYKELHGQTFk",
        "outputId": "f8403f70-e991-4f57-e91f-c745010834e7"
      },
      "outputs": [
        {
          "output_type": "stream",
          "name": "stdout",
          "text": [
            "Looking in indexes: https://pypi.org/simple, https://us-python.pkg.dev/colab-wheels/public/simple/\n",
            "Requirement already satisfied: mlxtend in /usr/local/lib/python3.7/dist-packages (0.14.0)\n",
            "Requirement already satisfied: scikit-learn>=0.18 in /usr/local/lib/python3.7/dist-packages (from mlxtend) (1.0.2)\n",
            "Requirement already satisfied: setuptools in /usr/local/lib/python3.7/dist-packages (from mlxtend) (57.4.0)\n",
            "Requirement already satisfied: numpy>=1.10.4 in /usr/local/lib/python3.7/dist-packages (from mlxtend) (1.21.6)\n",
            "Requirement already satisfied: scipy>=0.17 in /usr/local/lib/python3.7/dist-packages (from mlxtend) (1.7.3)\n",
            "Requirement already satisfied: matplotlib>=1.5.1 in /usr/local/lib/python3.7/dist-packages (from mlxtend) (3.2.2)\n",
            "Requirement already satisfied: pandas>=0.17.1 in /usr/local/lib/python3.7/dist-packages (from mlxtend) (1.3.5)\n",
            "Requirement already satisfied: kiwisolver>=1.0.1 in /usr/local/lib/python3.7/dist-packages (from matplotlib>=1.5.1->mlxtend) (1.4.4)\n",
            "Requirement already satisfied: pyparsing!=2.0.4,!=2.1.2,!=2.1.6,>=2.0.1 in /usr/local/lib/python3.7/dist-packages (from matplotlib>=1.5.1->mlxtend) (3.0.9)\n",
            "Requirement already satisfied: cycler>=0.10 in /usr/local/lib/python3.7/dist-packages (from matplotlib>=1.5.1->mlxtend) (0.11.0)\n",
            "Requirement already satisfied: python-dateutil>=2.1 in /usr/local/lib/python3.7/dist-packages (from matplotlib>=1.5.1->mlxtend) (2.8.2)\n",
            "Requirement already satisfied: typing-extensions in /usr/local/lib/python3.7/dist-packages (from kiwisolver>=1.0.1->matplotlib>=1.5.1->mlxtend) (4.1.1)\n",
            "Requirement already satisfied: pytz>=2017.3 in /usr/local/lib/python3.7/dist-packages (from pandas>=0.17.1->mlxtend) (2022.1)\n",
            "Requirement already satisfied: six>=1.5 in /usr/local/lib/python3.7/dist-packages (from python-dateutil>=2.1->matplotlib>=1.5.1->mlxtend) (1.15.0)\n",
            "Requirement already satisfied: joblib>=0.11 in /usr/local/lib/python3.7/dist-packages (from scikit-learn>=0.18->mlxtend) (1.1.0)\n",
            "Requirement already satisfied: threadpoolctl>=2.0.0 in /usr/local/lib/python3.7/dist-packages (from scikit-learn>=0.18->mlxtend) (3.1.0)\n"
          ]
        }
      ],
      "source": [
        "!pip install mlxtend\n"
      ]
    },
    {
      "cell_type": "code",
      "execution_count": 203,
      "metadata": {
        "id": "PHo97jfCVozq"
      },
      "outputs": [],
      "source": [
        "import sys\n",
        "#sys.modules['sklearn.externals.six'] = six\n",
        "\n",
        "import joblib\n",
        "sys.modules['sklearn.externals.joblib'] = joblib"
      ]
    },
    {
      "cell_type": "code",
      "execution_count": 204,
      "metadata": {
        "colab": {
          "base_uri": "https://localhost:8080/"
        },
        "id": "R3cAOSVBQVR5",
        "outputId": "1919341b-f4de-4476-ac27-604994a9204f"
      },
      "outputs": [
        {
          "output_type": "stream",
          "name": "stderr",
          "text": [
            "[Parallel(n_jobs=1)]: Using backend SequentialBackend with 1 concurrent workers.\n",
            "[Parallel(n_jobs=1)]: Done   1 out of   1 | elapsed:    1.0s remaining:    0.0s\n",
            "[Parallel(n_jobs=1)]: Done  11 out of  11 | elapsed:   24.0s finished\n",
            "\n",
            "[2022-07-30 15:57:29] Features: 1/5 -- score: 0.9422338327393515[Parallel(n_jobs=1)]: Using backend SequentialBackend with 1 concurrent workers.\n",
            "[Parallel(n_jobs=1)]: Done   1 out of   1 | elapsed:    2.9s remaining:    0.0s\n",
            "[Parallel(n_jobs=1)]: Done  10 out of  10 | elapsed:   18.2s finished\n",
            "\n",
            "[2022-07-30 15:57:47] Features: 2/5 -- score: 0.9553648662676032[Parallel(n_jobs=1)]: Using backend SequentialBackend with 1 concurrent workers.\n",
            "[Parallel(n_jobs=1)]: Done   1 out of   1 | elapsed:    1.9s remaining:    0.0s\n",
            "[Parallel(n_jobs=1)]: Done   9 out of   9 | elapsed:   17.0s finished\n",
            "\n",
            "[2022-07-30 15:58:04] Features: 3/5 -- score: 0.9559254005051729[Parallel(n_jobs=1)]: Using backend SequentialBackend with 1 concurrent workers.\n",
            "[Parallel(n_jobs=1)]: Done   1 out of   1 | elapsed:    2.5s remaining:    0.0s\n",
            "[Parallel(n_jobs=1)]: Done   8 out of   8 | elapsed:   19.9s finished\n",
            "\n",
            "[2022-07-30 15:58:24] Features: 4/5 -- score: 0.9583059409709007[Parallel(n_jobs=1)]: Using backend SequentialBackend with 1 concurrent workers.\n",
            "[Parallel(n_jobs=1)]: Done   1 out of   1 | elapsed:    3.0s remaining:    0.0s\n"
          ]
        },
        {
          "output_type": "stream",
          "name": "stdout",
          "text": [
            "CPU times: user 1min 32s, sys: 313 ms, total: 1min 32s\n",
            "Wall time: 1min 40s\n"
          ]
        },
        {
          "output_type": "stream",
          "name": "stderr",
          "text": [
            "[Parallel(n_jobs=1)]: Done   7 out of   7 | elapsed:   21.1s finished\n",
            "\n",
            "[2022-07-30 15:58:45] Features: 5/5 -- score: 0.9588145738901769"
          ]
        }
      ],
      "source": [
        "%%time\n",
        "from mlxtend.feature_selection import SequentialFeatureSelector as sfs\n",
        "from sklearn.tree import DecisionTreeClassifier\n",
        "\n",
        "\n",
        "# Build DT classifier to use in feature selection\n",
        "clf = DecisionTreeClassifier(random_state=45, max_depth=5)\n",
        "\n",
        "# Build step forward feature selection\n",
        "sfs1 = sfs(clf,\n",
        "           k_features=5,\n",
        "           forward=True,\n",
        "           floating=False,\n",
        "           verbose=2,\n",
        "           scoring='accuracy',\n",
        "           cv=5)\n",
        "\n",
        "# Perform SFFS\n",
        "sfs1 = sfs1.fit(x1, y1)"
      ]
    },
    {
      "cell_type": "code",
      "execution_count": 206,
      "metadata": {
        "colab": {
          "base_uri": "https://localhost:8080/"
        },
        "id": "wqV6ZeYWYMUq",
        "outputId": "cd58e356-b2cb-44f5-b727-e2a1c169f13d"
      },
      "outputs": [
        {
          "output_type": "execute_result",
          "data": {
            "text/plain": [
              "('V4', 'V10', 'V12', 'V14', 'V17')"
            ]
          },
          "metadata": {},
          "execution_count": 206
        }
      ],
      "source": [
        "# Which features?\n",
        "\n",
        "sfs1.k_feature_names_\n",
        "#('V4', 'V10', 'V12', 'V14', 'V17')\n",
        "#we will still keep amount"
      ]
    },
    {
      "cell_type": "code",
      "execution_count": 223,
      "metadata": {
        "id": "6yb708uDYrn8"
      },
      "outputs": [],
      "source": [
        "#new wrapper feature set\n",
        "\n",
        "wx1 = x1[['V4', 'V10', 'V12', 'V14', 'V17', 'Amount']]\n",
        "wx2 = x2[['V4', 'V10', 'V12', 'V14', 'V17', 'Amount']]"
      ]
    },
    {
      "cell_type": "code",
      "execution_count": 224,
      "metadata": {
        "colab": {
          "base_uri": "https://localhost:8080/"
        },
        "id": "XaRPmXJhQZ6A",
        "outputId": "62d55eea-121e-48f3-b746-53b34283c7bd"
      },
      "outputs": [
        {
          "output_type": "stream",
          "name": "stdout",
          "text": [
            "CPU times: user 1.18 s, sys: 5.49 ms, total: 1.18 s\n",
            "Wall time: 1.27 s\n"
          ]
        }
      ],
      "source": [
        "%%time\n",
        "# Build full model with selected features\n",
        "clf = DecisionTreeClassifier(random_state=45, max_depth=5)\n",
        "clf.fit(wx1, y1)\n"
      ]
    },
    {
      "cell_type": "code",
      "execution_count": 225,
      "metadata": {
        "id": "6o3R0UZzX-X5"
      },
      "outputs": [],
      "source": [
        "#predict training set\n",
        "y_train_pred = clf.predict(wx1)\n"
      ]
    },
    {
      "cell_type": "code",
      "execution_count": 226,
      "metadata": {
        "id": "RWZpA6M9ZWD6"
      },
      "outputs": [],
      "source": [
        "#predict testing set\n",
        "y_test_pred = clf.predict(wx2)"
      ]
    },
    {
      "cell_type": "markdown",
      "metadata": {
        "id": "3G7j4hQrZ7Tg"
      },
      "source": [
        "# **Evaluation metrics- Wrapper**"
      ]
    },
    {
      "cell_type": "code",
      "execution_count": 227,
      "metadata": {
        "colab": {
          "base_uri": "https://localhost:8080/"
        },
        "id": "FrS7Zm8RaAK-",
        "outputId": "357b3dd6-23af-4972-89f8-af33f996f4f5"
      },
      "outputs": [
        {
          "output_type": "stream",
          "name": "stdout",
          "text": [
            "              precision    recall  f1-score   support\n",
            "\n",
            "           0       1.00      0.98      0.99    139810\n",
            "           1       0.06      0.85      0.11       211\n",
            "\n",
            "    accuracy                           0.98    140021\n",
            "   macro avg       0.53      0.91      0.55    140021\n",
            "weighted avg       1.00      0.98      0.99    140021\n",
            "\n"
          ]
        }
      ],
      "source": [
        "#print precision, recall, and accuracy from the perspective of each of the class \n",
        "from sklearn.metrics import classification_report\n",
        "from sklearn import metrics\n",
        "\n",
        "print(classification_report(y2, y_test_pred))"
      ]
    },
    {
      "cell_type": "code",
      "source": [
        "from sklearn.metrics import confusion_matrix\n",
        "cf=confusion_matrix(y2, y_test_pred)\n",
        "print (\"Confusion Matrix\")\n",
        "print(cf)\n",
        "tn, fp, fn, tp=cf.ravel()\n",
        "print (\"TP: \", tp,\", FP: \", fp,\", TN: \", tn,\", FN:\", fn)"
      ],
      "metadata": {
        "colab": {
          "base_uri": "https://localhost:8080/"
        },
        "id": "vqS0CNWg5d0X",
        "outputId": "dc6c9114-a9cf-4026-9899-5fd624bb5d0a"
      },
      "execution_count": 228,
      "outputs": [
        {
          "output_type": "stream",
          "name": "stdout",
          "text": [
            "Confusion Matrix\n",
            "[[137001   2809]\n",
            " [    32    179]]\n",
            "TP:  179 , FP:  2809 , TN:  137001 , FN: 32\n"
          ]
        }
      ]
    },
    {
      "cell_type": "markdown",
      "metadata": {
        "id": "TmRHMw6dQrsh"
      },
      "source": [
        "# **(C) PARAMETER TUNING**"
      ]
    },
    {
      "cell_type": "code",
      "execution_count": 212,
      "metadata": {
        "colab": {
          "base_uri": "https://localhost:8080/"
        },
        "id": "FBxmpJH6Armd",
        "outputId": "67f4abb2-a22b-4c42-cf7b-89ff7c7f4abb"
      },
      "outputs": [
        {
          "output_type": "stream",
          "name": "stdout",
          "text": [
            "Tuned Decision Tree Parameters: {'criterion': 'entropy', 'max_depth': 5, 'max_features': 2, 'min_samples_leaf': 2, 'random_state': 9}\n",
            "Best score is 0.9583509221134218\n",
            "CPU times: user 18.6 s, sys: 53.8 ms, total: 18.7 s\n",
            "Wall time: 18.6 s\n"
          ]
        }
      ],
      "source": [
        "%%time\n",
        "from scipy.stats import randint\n",
        "from sklearn.tree import DecisionTreeClassifier\n",
        "from sklearn.model_selection import RandomizedSearchCV\n",
        "  \n",
        "# Creating the hyperparameter grid \n",
        "param_dist = {\"max_depth\": range(2,8),\n",
        "              \"max_features\": randint(2, 6),\n",
        "              \"min_samples_leaf\": randint(1, 4),\n",
        "              \"random_state\": randint(1,10),\n",
        "              \"criterion\": [\"gini\", \"entropy\"]}\n",
        "  \n",
        "# Instantiating Decision Tree classifier\n",
        "tree = DecisionTreeClassifier()\n",
        "  \n",
        "# Instantiating RandomizedSearchCV object\n",
        "tree_cv = RandomizedSearchCV(tree, param_dist, cv = 5)\n",
        "  \n",
        "tree_cv.fit(wx1, y1)\n",
        "  \n",
        "# Print the tuned parameters and score\n",
        "print(\"Tuned Decision Tree Parameters: {}\".format(tree_cv.best_params_))\n",
        "print(\"Best score is {}\".format(tree_cv.best_score_))"
      ]
    },
    {
      "cell_type": "code",
      "execution_count": null,
      "metadata": {
        "colab": {
          "background_save": true
        },
        "id": "fnnZ2FWMQpFD"
      },
      "outputs": [],
      "source": [
        "#Tuned Decision Tree Parameters: {'criterion': 'entropy', 'max_depth': 5, 'max_features': 2, 'min_samples_leaf': 2, 'random_state': 9}\n",
        "#Best score is 0.9583509221134218\n",
        "#CPU times: user 18.6 s, sys: 53.8 ms, total: 18.7 s\n",
        "#Wall time: 18.6 s"
      ]
    },
    {
      "cell_type": "code",
      "execution_count": 229,
      "metadata": {
        "colab": {
          "base_uri": "https://localhost:8080/"
        },
        "id": "fx2-xaI-QzLI",
        "outputId": "6d13001e-7014-4ab5-c471-31e41c317c03"
      },
      "outputs": [
        {
          "output_type": "stream",
          "name": "stdout",
          "text": [
            "CPU times: user 642 ms, sys: 1.43 ms, total: 644 ms\n",
            "Wall time: 693 ms\n"
          ]
        }
      ],
      "source": [
        "%%time\n",
        "tuned_tree = DecisionTreeClassifier(max_depth=5, max_features = 2, criterion =\"entropy\", min_samples_leaf= 2, random_state=9)\n",
        "\n",
        "tuned_tree.fit(wx1, y1)\n"
      ]
    },
    {
      "cell_type": "code",
      "source": [
        "tuned_tree_predictions = tuned_tree.predict(wx2)\n",
        "accuracy_score(y2, tuned_tree_predictions)"
      ],
      "metadata": {
        "colab": {
          "base_uri": "https://localhost:8080/"
        },
        "id": "U0SaQuyC6H1F",
        "outputId": "4855a709-f6f4-41e2-da97-271d5c9e38f9"
      },
      "execution_count": 230,
      "outputs": [
        {
          "output_type": "execute_result",
          "data": {
            "text/plain": [
              "0.9668692553259868"
            ]
          },
          "metadata": {},
          "execution_count": 230
        }
      ]
    },
    {
      "cell_type": "markdown",
      "metadata": {
        "id": "v-ePkCrmwJQp"
      },
      "source": [
        "# **Evaluation Metrics - Tuning**"
      ]
    },
    {
      "cell_type": "code",
      "execution_count": 215,
      "metadata": {
        "colab": {
          "base_uri": "https://localhost:8080/"
        },
        "id": "-gBwnu3kQ2QH",
        "outputId": "79842b9d-20e3-4897-f374-d66228ce2e21"
      },
      "outputs": [
        {
          "output_type": "stream",
          "name": "stdout",
          "text": [
            "              precision    recall  f1-score   support\n",
            "\n",
            "           0       1.00      0.97      0.98    139810\n",
            "           1       0.04      0.83      0.07       211\n",
            "\n",
            "    accuracy                           0.97    140021\n",
            "   macro avg       0.52      0.90      0.53    140021\n",
            "weighted avg       1.00      0.97      0.98    140021\n",
            "\n"
          ]
        }
      ],
      "source": [
        "#print precision, recall, and accuracy from the perspective of each of the class \n",
        "from sklearn.metrics import classification_report\n",
        "from sklearn import metrics\n",
        "\n",
        "print(classification_report(y2, tuned_tree_predictions))"
      ]
    },
    {
      "cell_type": "code",
      "source": [
        "from sklearn.metrics import confusion_matrix\n",
        "cf=confusion_matrix(y2, tuned_tree_predictions)\n",
        "print (\"Confusion Matrix\")\n",
        "print(cf)\n",
        "tn, fp, fn, tp=cf.ravel()\n",
        "print (\"TP: \", tp,\", FP: \", fp,\", TN: \", tn,\", FN:\", fn)"
      ],
      "metadata": {
        "colab": {
          "base_uri": "https://localhost:8080/"
        },
        "id": "6GcVYJq72m6z",
        "outputId": "687633d5-58b9-4d30-fed5-4633e88ed6cd"
      },
      "execution_count": 216,
      "outputs": [
        {
          "output_type": "stream",
          "name": "stdout",
          "text": [
            "Confusion Matrix\n",
            "[[135206   4604]\n",
            " [    35    176]]\n",
            "TP:  176 , FP:  4604 , TN:  135206 , FN: 35\n"
          ]
        }
      ]
    },
    {
      "cell_type": "markdown",
      "metadata": {
        "id": "Q5LPVPXbDaDo"
      },
      "source": [
        "# **(D) BASELINE MODEL**"
      ]
    },
    {
      "cell_type": "code",
      "execution_count": 217,
      "metadata": {
        "id": "CAk7MPlwR-Qq"
      },
      "outputs": [],
      "source": [
        "#creating the decision tree function\n",
        "baseline_model = DecisionTreeClassifier(random_state=26, max_depth=5)"
      ]
    },
    {
      "cell_type": "code",
      "execution_count": 218,
      "metadata": {
        "colab": {
          "base_uri": "https://localhost:8080/"
        },
        "id": "ig1RZZzOR-yO",
        "outputId": "786a674c-b009-494f-b49c-2aa94bba99a9"
      },
      "outputs": [
        {
          "output_type": "stream",
          "name": "stdout",
          "text": [
            "CPU times: user 4.02 s, sys: 25.5 ms, total: 4.05 s\n",
            "Wall time: 4.04 s\n"
          ]
        },
        {
          "output_type": "execute_result",
          "data": {
            "text/plain": [
              "DecisionTreeClassifier(max_depth=5, random_state=26)"
            ]
          },
          "metadata": {},
          "execution_count": 218
        }
      ],
      "source": [
        "%%time\n",
        "#fitting the model\n",
        "baseline_model.fit(b_x1, b_y1)"
      ]
    },
    {
      "cell_type": "code",
      "execution_count": 219,
      "metadata": {
        "id": "bwf9GTxzSCwr"
      },
      "outputs": [],
      "source": [
        "\n",
        "#predict on testing set\n",
        "y_pred_b = baseline_model.predict(b_x2)"
      ]
    },
    {
      "cell_type": "code",
      "execution_count": 220,
      "metadata": {
        "colab": {
          "base_uri": "https://localhost:8080/"
        },
        "id": "Lk21Y1cKSGT6",
        "outputId": "2e8d9f1e-bd4c-46f7-8448-04f2149f18f5"
      },
      "outputs": [
        {
          "output_type": "execute_result",
          "data": {
            "text/plain": [
              "0.9752037194420837"
            ]
          },
          "metadata": {},
          "execution_count": 220
        }
      ],
      "source": [
        "accuracy_score(b_y2, y_pred_b)"
      ]
    },
    {
      "cell_type": "markdown",
      "metadata": {
        "id": "ptEW06fld_7C"
      },
      "source": [
        "# Evaluation Metrics - Baseline Model"
      ]
    },
    {
      "cell_type": "code",
      "execution_count": 221,
      "metadata": {
        "colab": {
          "base_uri": "https://localhost:8080/"
        },
        "id": "Hmlzkz5KSI05",
        "outputId": "4ba03eb2-d4f8-47fa-de6f-ab4d6de4677f"
      },
      "outputs": [
        {
          "output_type": "stream",
          "name": "stdout",
          "text": [
            "Confusion Matrix\n",
            "[[136382   3428]\n",
            " [    44    167]]\n",
            "TP:  167 , FP:  3428 , TN:  136382 , FN: 44\n"
          ]
        }
      ],
      "source": [
        "from sklearn.metrics import confusion_matrix\n",
        "cf=confusion_matrix(b_y2, y_pred_b)\n",
        "print (\"Confusion Matrix\")\n",
        "print(cf)\n",
        "tn, fp, fn, tp=cf.ravel()\n",
        "print (\"TP: \", tp,\", FP: \", fp,\", TN: \", tn,\", FN:\", fn)"
      ]
    },
    {
      "cell_type": "code",
      "execution_count": 222,
      "metadata": {
        "colab": {
          "base_uri": "https://localhost:8080/"
        },
        "id": "f45PS-CmSN4S",
        "outputId": "fba0d602-3a7c-451a-b123-bf846a0f0823"
      },
      "outputs": [
        {
          "output_type": "stream",
          "name": "stdout",
          "text": [
            "              precision    recall  f1-score   support\n",
            "\n",
            "           0       1.00      0.98      0.99    139810\n",
            "           1       0.05      0.79      0.09       211\n",
            "\n",
            "    accuracy                           0.98    140021\n",
            "   macro avg       0.52      0.88      0.54    140021\n",
            "weighted avg       1.00      0.98      0.99    140021\n",
            "\n"
          ]
        }
      ],
      "source": [
        "#print precision, recall, and accuracy from the perspective of each of the class \n",
        "from sklearn.metrics import classification_report\n",
        "from sklearn import metrics\n",
        "\n",
        "print(classification_report(b_y2, y_pred_b))"
      ]
    },
    {
      "cell_type": "markdown",
      "metadata": {
        "id": "bxgtHTU6-vJM"
      },
      "source": [
        "# ** ****** (2) Random Forest Classifier****** **"
      ]
    },
    {
      "cell_type": "markdown",
      "metadata": {
        "id": "RdjcomqPDnCl"
      },
      "source": [
        "# **(A) FEATURE SELECTION - FILTER**"
      ]
    },
    {
      "cell_type": "code",
      "execution_count": 231,
      "metadata": {
        "id": "1zvAKeRd-_1H"
      },
      "outputs": [],
      "source": [
        "#importing the Random Forest Classifier \n",
        "from sklearn.ensemble import RandomForestClassifier"
      ]
    },
    {
      "cell_type": "code",
      "execution_count": 232,
      "metadata": {
        "colab": {
          "base_uri": "https://localhost:8080/"
        },
        "id": "S5kuaUyo_AdB",
        "outputId": "2cabdbab-4537-475c-ebff-7e2ddfb27943"
      },
      "outputs": [
        {
          "output_type": "stream",
          "name": "stdout",
          "text": [
            "CPU times: user 31.2 s, sys: 80 ms, total: 31.3 s\n",
            "Wall time: 32.8 s\n"
          ]
        }
      ],
      "source": [
        "%%time\n",
        "# fitting the random forest\n",
        "rfc = RandomForestClassifier(random_state=45, max_depth=5)\n",
        "rfc.fit(x1,y1)"
      ]
    },
    {
      "cell_type": "code",
      "execution_count": 233,
      "metadata": {
        "colab": {
          "base_uri": "https://localhost:8080/"
        },
        "id": "5Wtz6FbZ_Alm",
        "outputId": "f52ce5c0-0973-481f-972a-ba0824e23732"
      },
      "outputs": [
        {
          "output_type": "execute_result",
          "data": {
            "text/plain": [
              "0.9596103941040103"
            ]
          },
          "metadata": {},
          "execution_count": 233
        }
      ],
      "source": [
        "#checking the training score\n",
        "rfc.score(x1,y1)"
      ]
    },
    {
      "cell_type": "code",
      "execution_count": 234,
      "metadata": {
        "id": "qyGiLTpE_xqH"
      },
      "outputs": [],
      "source": [
        "y_pred = rfc.predict(x2)"
      ]
    },
    {
      "cell_type": "markdown",
      "metadata": {
        "id": "lpYJU_RBALc2"
      },
      "source": [
        "# **Evaluation Metrics - Filter**"
      ]
    },
    {
      "cell_type": "code",
      "execution_count": 235,
      "metadata": {
        "id": "P32e1fxDAIX9"
      },
      "outputs": [],
      "source": [
        "from sklearn.metrics import accuracy_score"
      ]
    },
    {
      "cell_type": "code",
      "execution_count": 236,
      "metadata": {
        "colab": {
          "base_uri": "https://localhost:8080/"
        },
        "id": "T0PdUXMYBxf1",
        "outputId": "a5f9860f-1330-4d0f-ff1b-b7d0d6f017e2"
      },
      "outputs": [
        {
          "output_type": "stream",
          "name": "stdout",
          "text": [
            "Confusion Matrix\n",
            "[[139084    726]\n",
            " [    37    174]]\n",
            "TP:  174 , FP:  726 , TN:  139084 , FN: 37\n"
          ]
        }
      ],
      "source": [
        "from sklearn.metrics import confusion_matrix\n",
        "cf=confusion_matrix(y2, y_pred)\n",
        "print (\"Confusion Matrix\")\n",
        "print(cf)\n",
        "tn, fp, fn, tp=cf.ravel()\n",
        "print (\"TP: \", tp,\", FP: \", fp,\", TN: \", tn,\", FN:\", fn)"
      ]
    },
    {
      "cell_type": "code",
      "execution_count": 237,
      "metadata": {
        "colab": {
          "base_uri": "https://localhost:8080/"
        },
        "id": "3qW1Ave7B1ZK",
        "outputId": "59921bba-37b8-4d81-c5ab-83c98410fa22"
      },
      "outputs": [
        {
          "output_type": "stream",
          "name": "stdout",
          "text": [
            "              precision    recall  f1-score   support\n",
            "\n",
            "           0       1.00      0.99      1.00    139810\n",
            "           1       0.19      0.82      0.31       211\n",
            "\n",
            "    accuracy                           0.99    140021\n",
            "   macro avg       0.60      0.91      0.66    140021\n",
            "weighted avg       1.00      0.99      1.00    140021\n",
            "\n"
          ]
        }
      ],
      "source": [
        "#print precision, recall, and accuracy from the perspective of each of the class \n",
        "from sklearn.metrics import classification_report\n",
        "from sklearn import metrics\n",
        "\n",
        "print(classification_report(y2, y_pred))"
      ]
    },
    {
      "cell_type": "markdown",
      "metadata": {
        "id": "vlGvoE0VSRKo"
      },
      "source": [
        "# **(B) FEATURE SELECTION - WRAPPER**"
      ]
    },
    {
      "cell_type": "code",
      "execution_count": 238,
      "metadata": {
        "colab": {
          "base_uri": "https://localhost:8080/"
        },
        "id": "5hBbbp7HSWI1",
        "outputId": "d7e76d06-4ec1-4f9e-c0cf-9e1fe16b428e"
      },
      "outputs": [
        {
          "output_type": "stream",
          "name": "stderr",
          "text": [
            "[Parallel(n_jobs=1)]: Using backend SequentialBackend with 1 concurrent workers.\n",
            "[Parallel(n_jobs=1)]: Done   1 out of   1 | elapsed:  1.1min remaining:    0.0s\n",
            "[Parallel(n_jobs=1)]: Done  11 out of  11 | elapsed: 12.5min finished\n",
            "\n",
            "[2022-07-30 16:45:26] Features: 1/5 -- score: 0.945562437285907[Parallel(n_jobs=1)]: Using backend SequentialBackend with 1 concurrent workers.\n",
            "[Parallel(n_jobs=1)]: Done   1 out of   1 | elapsed:   59.0s remaining:    0.0s\n",
            "[Parallel(n_jobs=1)]: Done  10 out of  10 | elapsed:  9.9min finished\n",
            "\n",
            "[2022-07-30 16:55:20] Features: 2/5 -- score: 0.9570257084529947[Parallel(n_jobs=1)]: Using backend SequentialBackend with 1 concurrent workers.\n",
            "[Parallel(n_jobs=1)]: Done   1 out of   1 | elapsed:   57.7s remaining:    0.0s\n",
            "[Parallel(n_jobs=1)]: Done   9 out of   9 | elapsed:  8.7min finished\n",
            "\n",
            "[2022-07-30 17:04:02] Features: 3/5 -- score: 0.9590740804816441[Parallel(n_jobs=1)]: Using backend SequentialBackend with 1 concurrent workers.\n",
            "[Parallel(n_jobs=1)]: Done   1 out of   1 | elapsed:  1.5min remaining:    0.0s\n",
            "[Parallel(n_jobs=1)]: Done   8 out of   8 | elapsed: 11.8min finished\n",
            "\n",
            "[2022-07-30 17:15:49] Features: 4/5 -- score: 0.9648212864606762[Parallel(n_jobs=1)]: Using backend SequentialBackend with 1 concurrent workers.\n",
            "[Parallel(n_jobs=1)]: Done   1 out of   1 | elapsed:  1.5min remaining:    0.0s\n"
          ]
        },
        {
          "output_type": "stream",
          "name": "stdout",
          "text": [
            "CPU times: user 53min 22s, sys: 16.6 s, total: 53min 39s\n",
            "Wall time: 53min 23s\n"
          ]
        },
        {
          "output_type": "stream",
          "name": "stderr",
          "text": [
            "[Parallel(n_jobs=1)]: Done   7 out of   7 | elapsed: 10.5min finished\n",
            "\n",
            "[2022-07-30 17:26:22] Features: 5/5 -- score: 0.9643195737171724"
          ]
        }
      ],
      "source": [
        "%%time\n",
        "from mlxtend.feature_selection import SequentialFeatureSelector as sfs\n",
        "from sklearn.ensemble import RandomForestClassifier\n",
        "\n",
        "# Build RF classifier to use in feature selection\n",
        "rf = RandomForestClassifier(random_state=45, max_depth=5)\n",
        "\n",
        "# Build step forward feature selection\n",
        "sfs1 = sfs(rf,\n",
        "           k_features=5,\n",
        "           forward=True,\n",
        "           floating=False,\n",
        "           verbose=2,\n",
        "           scoring='accuracy',\n",
        "           cv=5)\n",
        "\n",
        "# Perform SFFS\n",
        "sfs1 = sfs1.fit(x1, y1)"
      ]
    },
    {
      "cell_type": "code",
      "execution_count": 239,
      "metadata": {
        "colab": {
          "base_uri": "https://localhost:8080/"
        },
        "id": "EKVjmcpKeFof",
        "outputId": "5de52bc3-896d-48ff-89d7-c5261821da11"
      },
      "outputs": [
        {
          "output_type": "execute_result",
          "data": {
            "text/plain": [
              "('V3', 'V4', 'V7', 'V10', 'V14')"
            ]
          },
          "metadata": {},
          "execution_count": 239
        }
      ],
      "source": [
        "# Which features?\n",
        "\n",
        "sfs1.k_feature_names_\n",
        "#('V3', 'V4', 'V7', 'V10', 'V14')"
      ]
    },
    {
      "cell_type": "code",
      "execution_count": 240,
      "metadata": {
        "id": "pm71tmUHSWMc"
      },
      "outputs": [],
      "source": [
        "#new wrapper feature set\n",
        "\n",
        "wx1 = x1[['V3', 'V4', 'V10', 'V14', 'V7', 'Amount']]\n",
        "wx2 = x2[['V3', 'V4', 'V10', 'V14', 'V7', 'Amount']]"
      ]
    },
    {
      "cell_type": "code",
      "execution_count": 241,
      "metadata": {
        "colab": {
          "base_uri": "https://localhost:8080/"
        },
        "id": "qTLlaspBeLx3",
        "outputId": "00d318f2-02bb-430c-d3a2-d8d5507d7bd1"
      },
      "outputs": [
        {
          "output_type": "stream",
          "name": "stdout",
          "text": [
            "CPU times: user 21.4 s, sys: 113 ms, total: 21.5 s\n",
            "Wall time: 21.4 s\n"
          ]
        }
      ],
      "source": [
        "%%time\n",
        "# Build full model with selected features\n",
        "rf = RandomForestClassifier(random_state=45, max_depth=5)\n",
        "rf.fit(wx1, y1)"
      ]
    },
    {
      "cell_type": "code",
      "execution_count": 242,
      "metadata": {
        "id": "_0Qy_cpQeRtw"
      },
      "outputs": [],
      "source": [
        "#predict training set\n",
        "y_train_pred = rf.predict(wx1)\n"
      ]
    },
    {
      "cell_type": "code",
      "execution_count": 243,
      "metadata": {
        "id": "kVqhflz4eT1K"
      },
      "outputs": [],
      "source": [
        "#predict testing set\n",
        "y_test_pred = rf.predict(wx2)"
      ]
    },
    {
      "cell_type": "markdown",
      "metadata": {
        "id": "FunMZYzveWSK"
      },
      "source": [
        "# **Evaluation Metrics - Wrapper**"
      ]
    },
    {
      "cell_type": "code",
      "execution_count": 244,
      "metadata": {
        "colab": {
          "base_uri": "https://localhost:8080/"
        },
        "id": "q4CZMcgFeUBl",
        "outputId": "ac28208c-1314-4690-bdaf-df00e6b88f2f"
      },
      "outputs": [
        {
          "output_type": "stream",
          "name": "stdout",
          "text": [
            "              precision    recall  f1-score   support\n",
            "\n",
            "           0       1.00      0.99      1.00    139810\n",
            "           1       0.18      0.84      0.30       211\n",
            "\n",
            "    accuracy                           0.99    140021\n",
            "   macro avg       0.59      0.92      0.65    140021\n",
            "weighted avg       1.00      0.99      1.00    140021\n",
            "\n"
          ]
        }
      ],
      "source": [
        "#print precision, recall, and accuracy from the perspective of each of the class \n",
        "from sklearn.metrics import classification_report\n",
        "from sklearn import metrics\n",
        "\n",
        "print(classification_report(y2, y_test_pred))"
      ]
    },
    {
      "cell_type": "code",
      "source": [
        "from sklearn.metrics import confusion_matrix\n",
        "cf=confusion_matrix(y2, y_test_pred)\n",
        "print (\"Confusion Matrix\")\n",
        "print(cf)\n",
        "tn, fp, fn, tp=cf.ravel()\n",
        "print (\"TP: \", tp,\", FP: \", fp,\", TN: \", tn,\", FN:\", fn)"
      ],
      "metadata": {
        "colab": {
          "base_uri": "https://localhost:8080/"
        },
        "id": "UlrvcAQwKqjb",
        "outputId": "22ac5c69-057e-4298-9dde-8d4755c924dc"
      },
      "execution_count": 245,
      "outputs": [
        {
          "output_type": "stream",
          "name": "stdout",
          "text": [
            "Confusion Matrix\n",
            "[[139012    798]\n",
            " [    34    177]]\n",
            "TP:  177 , FP:  798 , TN:  139012 , FN: 34\n"
          ]
        }
      ]
    },
    {
      "cell_type": "markdown",
      "metadata": {
        "id": "q7zrO7GhRf2Q"
      },
      "source": [
        "# **(C) PARAMETER TUNING**"
      ]
    },
    {
      "cell_type": "code",
      "execution_count": 246,
      "metadata": {
        "colab": {
          "base_uri": "https://localhost:8080/"
        },
        "id": "ZyIYaG-IRh-J",
        "outputId": "64e695dd-c3ba-4eb1-9431-cef2c096b7ed"
      },
      "outputs": [
        {
          "output_type": "stream",
          "name": "stdout",
          "text": [
            "Tuned Random Forest Parameters: {'n_estimators': 70, 'min_samples_split': 6, 'min_samples_leaf': 1, 'max_features': 6, 'max_depth': 5, 'bootstrap': True}\n",
            "Best score is 0.9654510224559705\n",
            "CPU times: user 12min 47s, sys: 3.95 s, total: 12min 51s\n",
            "Wall time: 12min 48s\n"
          ]
        }
      ],
      "source": [
        "%%time\n",
        "\n",
        "from sklearn.model_selection import RandomizedSearchCV\n",
        "  \n",
        "# Creating the hyperparameter grid \n",
        "param_grid = {\n",
        "    'bootstrap': [True],\n",
        "    'max_depth': [3, 5],\n",
        "    'max_features': [2, 6],\n",
        "    'min_samples_leaf': [1, 4, 5],\n",
        "    'min_samples_split': [2, 4, 6],\n",
        "    'n_estimators': [50, 60, 70]\n",
        "}\n",
        "  \n",
        "# Instantiating RF classifier\n",
        "tree = RandomForestClassifier()\n",
        "  \n",
        "# Instantiating RandomizedSearchCV object\n",
        "tree_cv = RandomizedSearchCV(tree, param_grid, cv = 5)\n",
        "  \n",
        "tree_cv.fit(wx1, y1)\n",
        "  \n",
        "# Print the tuned parameters and score\n",
        "print(\"Tuned Random Forest Parameters: {}\".format(tree_cv.best_params_))\n",
        "print(\"Best score is {}\".format(tree_cv.best_score_))\n"
      ]
    },
    {
      "cell_type": "code",
      "execution_count": 247,
      "metadata": {
        "colab": {
          "base_uri": "https://localhost:8080/"
        },
        "id": "WHihJHg8nsGb",
        "outputId": "74fb16d3-e1fe-43bb-9698-9dc02297705a"
      },
      "outputs": [
        {
          "output_type": "execute_result",
          "data": {
            "text/plain": [
              "0.9684618735761065"
            ]
          },
          "metadata": {},
          "execution_count": 247
        }
      ],
      "source": [
        "tuned_tree = RandomForestClassifier (n_estimators= 70, min_samples_split= 6, min_samples_leaf= 1, max_features= 6, max_depth= 5, bootstrap= True)\n",
        "\n",
        "tuned_tree.fit(wx1, y1)\n",
        "tuned_tree_predictions = tuned_tree.predict(wx2)\n",
        "accuracy_score(y2, tuned_tree_predictions)"
      ]
    },
    {
      "cell_type": "code",
      "execution_count": null,
      "metadata": {
        "colab": {
          "background_save": true
        },
        "id": "rHPHInNhQjD1"
      },
      "outputs": [],
      "source": [
        "#best parameters\n",
        "#Tuned Random Forest Parameters: {'n_estimators': 70, 'min_samples_split': 6, 'min_samples_leaf': 1, 'max_features': 6, 'max_depth': 5, 'bootstrap': True}\n",
        "#Best score is 0.9654510224559705\n",
        "#CPU times: user 12min 47s, sys: 3.95 s, total: 12min 51s\n",
        "#Wall time: 12min 48s"
      ]
    },
    {
      "cell_type": "markdown",
      "metadata": {
        "id": "UTVK68Y2QWRK"
      },
      "source": [
        "# **Evaluation Metrics - Tuning**"
      ]
    },
    {
      "cell_type": "code",
      "execution_count": 248,
      "metadata": {
        "colab": {
          "base_uri": "https://localhost:8080/"
        },
        "id": "sty38rBURmmu",
        "outputId": "780a3eda-555a-4c83-fee5-b937218c8472"
      },
      "outputs": [
        {
          "output_type": "stream",
          "name": "stdout",
          "text": [
            "              precision    recall  f1-score   support\n",
            "\n",
            "           0       1.00      0.97      0.98    139810\n",
            "           1       0.04      0.85      0.07       211\n",
            "\n",
            "    accuracy                           0.97    140021\n",
            "   macro avg       0.52      0.91      0.53    140021\n",
            "weighted avg       1.00      0.97      0.98    140021\n",
            "\n"
          ]
        }
      ],
      "source": [
        "#print precision, recall, and accuracy from the perspective of each of the class \n",
        "from sklearn.metrics import classification_report\n",
        "from sklearn import metrics\n",
        "\n",
        "print(classification_report(y2, tuned_tree_predictions))"
      ]
    },
    {
      "cell_type": "code",
      "source": [
        "from sklearn.metrics import confusion_matrix\n",
        "cf=confusion_matrix(y2, tuned_tree_predictions)\n",
        "print (\"Confusion Matrix\")\n",
        "print(cf)\n",
        "tn, fp, fn, tp=cf.ravel()\n",
        "print (\"TP: \", tp,\", FP: \", fp,\", TN: \", tn,\", FN:\", fn)"
      ],
      "metadata": {
        "colab": {
          "base_uri": "https://localhost:8080/"
        },
        "id": "IkDaVV_DSFGp",
        "outputId": "f2e7ebc0-1c03-4c82-9c42-bedf6ca8f822"
      },
      "execution_count": 249,
      "outputs": [
        {
          "output_type": "stream",
          "name": "stdout",
          "text": [
            "Confusion Matrix\n",
            "[[135426   4384]\n",
            " [    32    179]]\n",
            "TP:  179 , FP:  4384 , TN:  135426 , FN: 32\n"
          ]
        }
      ]
    },
    {
      "cell_type": "markdown",
      "metadata": {
        "id": "G-nwsNO9DqmD"
      },
      "source": [
        "# **(D) BASELINE MODEL**"
      ]
    },
    {
      "cell_type": "code",
      "execution_count": 250,
      "metadata": {
        "id": "Tf4KVeSAHgEz"
      },
      "outputs": [],
      "source": [
        "#importing the Random Forest Classifier \n",
        "from sklearn.ensemble import RandomForestClassifier"
      ]
    },
    {
      "cell_type": "code",
      "execution_count": 251,
      "metadata": {
        "colab": {
          "base_uri": "https://localhost:8080/"
        },
        "id": "dWHIhGCQHjUI",
        "outputId": "cb75f0db-4d96-455f-aa22-4c86d28c6b34"
      },
      "outputs": [
        {
          "output_type": "stream",
          "name": "stdout",
          "text": [
            "CPU times: user 49.1 s, sys: 119 ms, total: 49.3 s\n",
            "Wall time: 50.1 s\n"
          ]
        }
      ],
      "source": [
        "%%time\n",
        "# fitting the random forest\n",
        "rfc = RandomForestClassifier(random_state=45, max_depth=5)\n",
        "rfc.fit(b_x1,b_y1)"
      ]
    },
    {
      "cell_type": "code",
      "execution_count": 252,
      "metadata": {
        "colab": {
          "base_uri": "https://localhost:8080/"
        },
        "id": "8kju5vDfHjaH",
        "outputId": "10002bc3-eb98-4468-8685-cf05008b8dd4"
      },
      "outputs": [
        {
          "output_type": "execute_result",
          "data": {
            "text/plain": [
              "0.9603439327358915"
            ]
          },
          "metadata": {},
          "execution_count": 252
        }
      ],
      "source": [
        "#checking the training score\n",
        "rfc.score(b_x1,b_y1)"
      ]
    },
    {
      "cell_type": "code",
      "execution_count": 253,
      "metadata": {
        "id": "8pDH_0cPHjdg"
      },
      "outputs": [],
      "source": [
        "y_pred_b = rfc.predict(b_x2)"
      ]
    },
    {
      "cell_type": "markdown",
      "metadata": {
        "id": "MnQs97p2H2Fh"
      },
      "source": [
        "# **Evaluation Metrics - Baseline**"
      ]
    },
    {
      "cell_type": "code",
      "execution_count": 254,
      "metadata": {
        "colab": {
          "base_uri": "https://localhost:8080/"
        },
        "id": "bDivlHo9IWwQ",
        "outputId": "36e51991-c601-40f5-c7cd-985b2eceb704"
      },
      "outputs": [
        {
          "output_type": "stream",
          "name": "stdout",
          "text": [
            "Confusion Matrix\n",
            "[[139541    269]\n",
            " [    40    171]]\n",
            "TP:  171 , FP:  269 , TN:  139541 , FN: 40\n"
          ]
        }
      ],
      "source": [
        "from sklearn.metrics import confusion_matrix\n",
        "cf=confusion_matrix(b_y2, y_pred_b)\n",
        "print (\"Confusion Matrix\")\n",
        "print(cf)\n",
        "tn, fp, fn, tp=cf.ravel()\n",
        "print (\"TP: \", tp,\", FP: \", fp,\", TN: \", tn,\", FN:\", fn)"
      ]
    },
    {
      "cell_type": "code",
      "execution_count": 255,
      "metadata": {
        "colab": {
          "base_uri": "https://localhost:8080/"
        },
        "id": "uCQSpFsIHjjP",
        "outputId": "edd36997-7dca-470c-b7b4-37ad2d5e7ddd"
      },
      "outputs": [
        {
          "output_type": "stream",
          "name": "stdout",
          "text": [
            "              precision    recall  f1-score   support\n",
            "\n",
            "           0       1.00      1.00      1.00    139810\n",
            "           1       0.39      0.81      0.53       211\n",
            "\n",
            "    accuracy                           1.00    140021\n",
            "   macro avg       0.69      0.90      0.76    140021\n",
            "weighted avg       1.00      1.00      1.00    140021\n",
            "\n"
          ]
        }
      ],
      "source": [
        "#print precision, recall, and accuracy from the perspective of each of the class \n",
        "from sklearn.metrics import classification_report\n",
        "from sklearn import metrics\n",
        "\n",
        "print(classification_report(b_y2, y_pred_b))"
      ]
    },
    {
      "cell_type": "markdown",
      "metadata": {
        "id": "qBTyFJhU_A-X"
      },
      "source": [
        "# ** ****** (3) Logistic Regression****** **"
      ]
    },
    {
      "cell_type": "markdown",
      "metadata": {
        "id": "1kSR6V82D0SW"
      },
      "source": [
        "# **(A) FEATURE SELECTION - FILTER**"
      ]
    },
    {
      "cell_type": "code",
      "execution_count": 256,
      "metadata": {
        "id": "_7ZcX0DD_EfI"
      },
      "outputs": [],
      "source": [
        "#importing logistic regression\n",
        "from sklearn.linear_model import LogisticRegression\n",
        "lr = LogisticRegression(random_state=45, C = 0.01, penalty = \"l2\")"
      ]
    },
    {
      "cell_type": "code",
      "execution_count": 257,
      "metadata": {
        "colab": {
          "base_uri": "https://localhost:8080/"
        },
        "id": "Orm2fqsO_Er_",
        "outputId": "1da27e60-1d46-4422-bf07-577e00f21128"
      },
      "outputs": [
        {
          "output_type": "stream",
          "name": "stdout",
          "text": [
            "CPU times: user 5.95 s, sys: 3.2 s, total: 9.16 s\n",
            "Wall time: 4.76 s\n"
          ]
        },
        {
          "output_type": "execute_result",
          "data": {
            "text/plain": [
              "LogisticRegression(C=0.01, random_state=45)"
            ]
          },
          "metadata": {},
          "execution_count": 257
        }
      ],
      "source": [
        "%%time\n",
        "# fitting the logistic regression\n",
        "lr.fit(x1, y1)"
      ]
    },
    {
      "cell_type": "code",
      "execution_count": 261,
      "metadata": {
        "colab": {
          "base_uri": "https://localhost:8080/"
        },
        "id": "uFwwyrg9_E0p",
        "outputId": "bf9b77a8-1c03-4084-8481-508cbd6c8bfd"
      },
      "outputs": [
        {
          "output_type": "execute_result",
          "data": {
            "text/plain": [
              "0.9424725788035017"
            ]
          },
          "metadata": {},
          "execution_count": 261
        }
      ],
      "source": [
        "#checking the training score\n",
        "lr.score(x1,y1)"
      ]
    },
    {
      "cell_type": "code",
      "execution_count": 262,
      "metadata": {
        "colab": {
          "base_uri": "https://localhost:8080/"
        },
        "id": "1sOTVIfNJaUR",
        "outputId": "2dcd2387-a84b-4b35-d980-bd52c17ac1d4"
      },
      "outputs": [
        {
          "output_type": "execute_result",
          "data": {
            "text/plain": [
              "0.9704044393340999"
            ]
          },
          "metadata": {},
          "execution_count": 262
        }
      ],
      "source": [
        "#checking the testing score\n",
        "lr.score(x2,y2)"
      ]
    },
    {
      "cell_type": "code",
      "execution_count": 263,
      "metadata": {
        "id": "5khUytMuJbtm"
      },
      "outputs": [],
      "source": [
        "y_pred = lr.predict(x2)"
      ]
    },
    {
      "cell_type": "markdown",
      "metadata": {
        "id": "-WTzcaVeAWWr"
      },
      "source": [
        "# **Evaluation Metrics - Filter**"
      ]
    },
    {
      "cell_type": "code",
      "execution_count": 264,
      "metadata": {
        "id": "4C0smz1dJo5C"
      },
      "outputs": [],
      "source": [
        "from sklearn.metrics import accuracy_score"
      ]
    },
    {
      "cell_type": "code",
      "execution_count": 265,
      "metadata": {
        "colab": {
          "base_uri": "https://localhost:8080/"
        },
        "id": "YyoGpn9bJrXI",
        "outputId": "c38029b1-cba9-4bd3-d44f-dafa320d7b62"
      },
      "outputs": [
        {
          "output_type": "stream",
          "name": "stdout",
          "text": [
            "Confusion Matrix\n",
            "[[135690   4120]\n",
            " [    24    187]]\n",
            "TP:  187 , FP:  4120 , TN:  135690 , FN: 24\n"
          ]
        }
      ],
      "source": [
        "from sklearn.metrics import confusion_matrix\n",
        "cf=confusion_matrix(y2, y_pred)\n",
        "print (\"Confusion Matrix\")\n",
        "print(cf)\n",
        "tn, fp, fn, tp=cf.ravel()\n",
        "print (\"TP: \", tp,\", FP: \", fp,\", TN: \", tn,\", FN:\", fn)"
      ]
    },
    {
      "cell_type": "code",
      "execution_count": 266,
      "metadata": {
        "colab": {
          "base_uri": "https://localhost:8080/"
        },
        "id": "UvoCAqgcJrhE",
        "outputId": "73a01fa4-43af-4ed5-ec37-76495edea169"
      },
      "outputs": [
        {
          "output_type": "stream",
          "name": "stdout",
          "text": [
            "              precision    recall  f1-score   support\n",
            "\n",
            "           0       1.00      0.97      0.98    139810\n",
            "           1       0.04      0.89      0.08       211\n",
            "\n",
            "    accuracy                           0.97    140021\n",
            "   macro avg       0.52      0.93      0.53    140021\n",
            "weighted avg       1.00      0.97      0.98    140021\n",
            "\n"
          ]
        }
      ],
      "source": [
        "#print precision, recall, and accuracy from the perspective of each of the class \n",
        "from sklearn.metrics import classification_report\n",
        "from sklearn import metrics\n",
        "\n",
        "print(classification_report(y2, y_pred))"
      ]
    },
    {
      "cell_type": "markdown",
      "metadata": {
        "id": "QTlLVltsS9Jw"
      },
      "source": [
        "# **(B) FEATURE SELECTION - WRAPPER**"
      ]
    },
    {
      "cell_type": "code",
      "execution_count": 267,
      "metadata": {
        "colab": {
          "base_uri": "https://localhost:8080/"
        },
        "id": "vywuhgLqTAgi",
        "outputId": "bccb8bbf-5081-4e49-af55-56c249caf123"
      },
      "outputs": [
        {
          "output_type": "stream",
          "name": "stderr",
          "text": [
            "[Parallel(n_jobs=1)]: Using backend SequentialBackend with 1 concurrent workers.\n",
            "[Parallel(n_jobs=1)]: Done   1 out of   1 | elapsed:    2.0s remaining:    0.0s\n",
            "[Parallel(n_jobs=1)]: Done  11 out of  11 | elapsed:   23.2s finished\n",
            "\n",
            "[2022-07-30 18:15:15] Features: 1/6 -- score: 0.9261963253866649[Parallel(n_jobs=1)]: Using backend SequentialBackend with 1 concurrent workers.\n",
            "[Parallel(n_jobs=1)]: Done   1 out of   1 | elapsed:    2.3s remaining:    0.0s\n",
            "[Parallel(n_jobs=1)]: Done  10 out of  10 | elapsed:   24.6s finished\n",
            "\n",
            "[2022-07-30 18:15:39] Features: 2/6 -- score: 0.9344693955226463[Parallel(n_jobs=1)]: Using backend SequentialBackend with 1 concurrent workers.\n",
            "[Parallel(n_jobs=1)]: Done   1 out of   1 | elapsed:    2.5s remaining:    0.0s\n",
            "[Parallel(n_jobs=1)]: Done   9 out of   9 | elapsed:   25.0s finished\n",
            "\n",
            "[2022-07-30 18:16:04] Features: 3/6 -- score: 0.9400332168437078[Parallel(n_jobs=1)]: Using backend SequentialBackend with 1 concurrent workers.\n",
            "[Parallel(n_jobs=1)]: Done   1 out of   1 | elapsed:    2.8s remaining:    0.0s\n",
            "[Parallel(n_jobs=1)]: Done   8 out of   8 | elapsed:   25.7s finished\n",
            "\n",
            "[2022-07-30 18:16:30] Features: 4/6 -- score: 0.9400574374589115[Parallel(n_jobs=1)]: Using backend SequentialBackend with 1 concurrent workers.\n",
            "[Parallel(n_jobs=1)]: Done   1 out of   1 | elapsed:   10.6s remaining:    0.0s\n",
            "[Parallel(n_jobs=1)]: Done   7 out of   7 | elapsed:  1.2min finished\n",
            "\n",
            "[2022-07-30 18:17:41] Features: 5/6 -- score: 0.9419189647417046[Parallel(n_jobs=1)]: Using backend SequentialBackend with 1 concurrent workers.\n",
            "[Parallel(n_jobs=1)]: Done   1 out of   1 | elapsed:   11.8s remaining:    0.0s\n"
          ]
        },
        {
          "output_type": "stream",
          "name": "stdout",
          "text": [
            "CPU times: user 4min 27s, sys: 3min 13s, total: 7min 41s\n",
            "Wall time: 3min 55s\n"
          ]
        },
        {
          "output_type": "stream",
          "name": "stderr",
          "text": [
            "[Parallel(n_jobs=1)]: Done   6 out of   6 | elapsed:  1.1min finished\n",
            "\n",
            "[2022-07-30 18:18:47] Features: 6/6 -- score: 0.9421784713331718"
          ]
        }
      ],
      "source": [
        "%%time\n",
        "from mlxtend.feature_selection import SequentialFeatureSelector as sfs\n",
        "from sklearn.linear_model import LogisticRegression\n",
        "\n",
        "\n",
        "# Build DT classifier to use in feature selection\n",
        "clf = LogisticRegression(random_state=45, C = 0.01, penalty = \"l2\")\n",
        "\n",
        "# Build step forward feature selection\n",
        "sfs1 = sfs(clf,\n",
        "           k_features=6,\n",
        "           forward=True,\n",
        "           floating=False,\n",
        "           verbose=2,\n",
        "           scoring='accuracy',\n",
        "           cv=5)\n",
        "\n",
        "# Perform SFFS\n",
        "sfs1 = sfs1.fit(x1, y1)"
      ]
    },
    {
      "cell_type": "code",
      "execution_count": 268,
      "metadata": {
        "colab": {
          "base_uri": "https://localhost:8080/"
        },
        "id": "RHtNYTWaTIOE",
        "outputId": "934ac685-f2cb-4b6e-91c7-577603e4a17e"
      },
      "outputs": [
        {
          "output_type": "execute_result",
          "data": {
            "text/plain": [
              "('V4', 'V7', 'V9', 'V10', 'V14', 'Amount')"
            ]
          },
          "metadata": {},
          "execution_count": 268
        }
      ],
      "source": [
        "# Which features?\n",
        "\n",
        "sfs1.k_feature_names_\n",
        "#('V4', 'V7', 'V9', 'V10', 'V14', 'Amount')"
      ]
    },
    {
      "cell_type": "code",
      "execution_count": 269,
      "metadata": {
        "id": "rjVxhBrHiONM"
      },
      "outputs": [],
      "source": [
        "#new wrapper feature set\n",
        "\n",
        "wx1 = x1[['V4', 'V7', 'V9', 'V10', 'V14', 'Amount']]\n",
        "wx2 = x2[['V4', 'V7', 'V9', 'V10', 'V14', 'Amount']]"
      ]
    },
    {
      "cell_type": "code",
      "execution_count": 270,
      "metadata": {
        "colab": {
          "base_uri": "https://localhost:8080/"
        },
        "id": "KV3DBE98iQV-",
        "outputId": "e6c19b4c-4e72-4e3b-9c56-e6ed384f57d6"
      },
      "outputs": [
        {
          "output_type": "stream",
          "name": "stdout",
          "text": [
            "CPU times: user 3.59 s, sys: 2.4 s, total: 5.99 s\n",
            "Wall time: 4.27 s\n"
          ]
        }
      ],
      "source": [
        "%%time\n",
        "# Build full model with selected features\n",
        "clf = LogisticRegression()\n",
        "clf.fit(wx1, y1)"
      ]
    },
    {
      "cell_type": "code",
      "execution_count": 271,
      "metadata": {
        "id": "o6KslZ3ViQaN"
      },
      "outputs": [],
      "source": [
        "#predict training set\n",
        "y_train_pred = clf.predict(wx1)\n"
      ]
    },
    {
      "cell_type": "code",
      "execution_count": 272,
      "metadata": {
        "id": "CQWPSX_eiQhb"
      },
      "outputs": [],
      "source": [
        "#predict testing set\n",
        "y_test_pred = clf.predict(wx2)"
      ]
    },
    {
      "cell_type": "markdown",
      "metadata": {
        "id": "P7eBRK5ciWX6"
      },
      "source": [
        "# **Evaluation Metrics - Wrapper**"
      ]
    },
    {
      "cell_type": "code",
      "execution_count": 274,
      "metadata": {
        "colab": {
          "base_uri": "https://localhost:8080/"
        },
        "id": "IQvN_rLoiaH5",
        "outputId": "9461a852-ef82-4c8f-ef4a-3970fec42e62"
      },
      "outputs": [
        {
          "output_type": "stream",
          "name": "stdout",
          "text": [
            "              precision    recall  f1-score   support\n",
            "\n",
            "           0       1.00      0.97      0.98    139810\n",
            "           1       0.04      0.89      0.08       211\n",
            "\n",
            "    accuracy                           0.97    140021\n",
            "   macro avg       0.52      0.93      0.53    140021\n",
            "weighted avg       1.00      0.97      0.98    140021\n",
            "\n"
          ]
        }
      ],
      "source": [
        "#print precision, recall, and accuracy from the perspective of each of the class \n",
        "from sklearn.metrics import classification_report\n",
        "from sklearn import metrics\n",
        "\n",
        "print(classification_report(y2, y_test_pred))"
      ]
    },
    {
      "cell_type": "code",
      "source": [
        "from sklearn.metrics import confusion_matrix\n",
        "cf=confusion_matrix(y2, y_test_pred)\n",
        "print (\"Confusion Matrix\")\n",
        "print(cf)\n",
        "tn, fp, fn, tp=cf.ravel()\n",
        "print (\"TP: \", tp,\", FP: \", fp,\", TN: \", tn,\", FN:\", fn)"
      ],
      "metadata": {
        "colab": {
          "base_uri": "https://localhost:8080/"
        },
        "id": "mQscNjs1WXxB",
        "outputId": "3dc04a43-bde5-4241-9912-3a0ae5b3772d"
      },
      "execution_count": 275,
      "outputs": [
        {
          "output_type": "stream",
          "name": "stdout",
          "text": [
            "Confusion Matrix\n",
            "[[135431   4379]\n",
            " [    23    188]]\n",
            "TP:  188 , FP:  4379 , TN:  135431 , FN: 23\n"
          ]
        }
      ]
    },
    {
      "cell_type": "markdown",
      "metadata": {
        "id": "wYfEV6AITFdb"
      },
      "source": [
        "# **(C) PARAMETER TUNING**"
      ]
    },
    {
      "cell_type": "code",
      "execution_count": 276,
      "metadata": {
        "colab": {
          "base_uri": "https://localhost:8080/"
        },
        "id": "iq5iJO5Xx79P",
        "outputId": "dc1eddba-f7e1-4337-c7f5-4133d5fde15c"
      },
      "outputs": [
        {
          "output_type": "stream",
          "name": "stdout",
          "text": [
            "Tuned Logistic Regression Parameters: {'solver': 'liblinear', 'penalty': 'l2', 'C': 0.01}\n",
            "Best score is 0.9421300301027646\n",
            "CPU times: user 2min 23s, sys: 22.2 s, total: 2min 45s\n",
            "Wall time: 2min 28s\n"
          ]
        }
      ],
      "source": [
        "%%time\n",
        "\n",
        "from sklearn.model_selection import RandomizedSearchCV\n",
        "  \n",
        "# Creating the hyperparameter grid \n",
        "param_grid = {\n",
        "    'C':[0.001, 0.01, 0.05, 0.1, 0.5, 1.0, 10.0],\n",
        "    'penalty': ['l1', 'l2'],\n",
        "    'solver': ['newton-cg', 'lbfgs', 'liblinear', 'sag', 'saga']\n",
        "}\n",
        "\n",
        "  \n",
        "# Instantiating LR\n",
        "lr = LogisticRegression()\n",
        "  \n",
        "# Instantiating RandomizedSearchCV object\n",
        "lr = RandomizedSearchCV(lr, param_grid, cv = 5)\n",
        "  \n",
        "lr.fit(wx1, y1)\n",
        "  \n",
        "# Print the tuned parameters and score\n",
        "print(\"Tuned Logistic Regression Parameters: {}\".format(lr.best_params_))\n",
        "print(\"Best score is {}\".format(lr.best_score_))"
      ]
    },
    {
      "cell_type": "code",
      "execution_count": null,
      "metadata": {
        "colab": {
          "background_save": true
        },
        "id": "yv7J-_uq0quU"
      },
      "outputs": [],
      "source": [
        "#Tuned Logistic Regression Parameters: {'solver': 'liblinear', 'penalty': 'l2', 'C': 0.01}\n",
        "#Best score is 0.9421300301027646\n",
        "#CPU times: user 2min 23s, sys: 22.2 s, total: 2min 45s\n",
        "#Wall time: 2min 28s"
      ]
    },
    {
      "cell_type": "code",
      "execution_count": 277,
      "metadata": {
        "colab": {
          "base_uri": "https://localhost:8080/"
        },
        "id": "CBr_9nFayc8y",
        "outputId": "7d2c415d-488a-4740-a3ca-d3b2738375bf"
      },
      "outputs": [
        {
          "output_type": "execute_result",
          "data": {
            "text/plain": [
              "0.968861813585105"
            ]
          },
          "metadata": {},
          "execution_count": 277
        }
      ],
      "source": [
        "tuned_lr = LogisticRegression(C=0.01, solver= \"liblinear\", penalty = \"l2\", random_state=45)\n",
        "\n",
        "tuned_lr.fit(wx1, y1)\n",
        "tuned_lr_predictions = tuned_lr.predict(wx2)\n",
        "accuracy_score(y2, tuned_lr_predictions)"
      ]
    },
    {
      "cell_type": "code",
      "execution_count": 278,
      "metadata": {
        "colab": {
          "base_uri": "https://localhost:8080/"
        },
        "id": "xflP-xNlyd7p",
        "outputId": "0c4548ca-ceb9-45fe-9ec8-2d6597dd0ed2"
      },
      "outputs": [
        {
          "output_type": "stream",
          "name": "stdout",
          "text": [
            "              precision    recall  f1-score   support\n",
            "\n",
            "           0       1.00      0.97      0.98    139810\n",
            "           1       0.04      0.89      0.08       211\n",
            "\n",
            "    accuracy                           0.97    140021\n",
            "   macro avg       0.52      0.93      0.53    140021\n",
            "weighted avg       1.00      0.97      0.98    140021\n",
            "\n"
          ]
        }
      ],
      "source": [
        "#print precision, recall, and accuracy from the perspective of each of the class \n",
        "from sklearn.metrics import classification_report\n",
        "from sklearn import metrics\n",
        "\n",
        "print(classification_report(y2, tuned_lr_predictions))"
      ]
    },
    {
      "cell_type": "code",
      "source": [
        "from sklearn.metrics import confusion_matrix\n",
        "cf=confusion_matrix(y2, tuned_lr_predictions)\n",
        "print (\"Confusion Matrix\")\n",
        "print(cf)\n",
        "tn, fp, fn, tp=cf.ravel()\n",
        "print (\"TP: \", tp,\", FP: \", fp,\", TN: \", tn,\", FN:\", fn)"
      ],
      "metadata": {
        "colab": {
          "base_uri": "https://localhost:8080/"
        },
        "id": "6Ai7774KW0xw",
        "outputId": "029fa019-5175-4776-d094-b4f641b5061c"
      },
      "execution_count": 279,
      "outputs": [
        {
          "output_type": "stream",
          "name": "stdout",
          "text": [
            "Confusion Matrix\n",
            "[[135474   4336]\n",
            " [    24    187]]\n",
            "TP:  187 , FP:  4336 , TN:  135474 , FN: 24\n"
          ]
        }
      ]
    },
    {
      "cell_type": "markdown",
      "metadata": {
        "id": "VfTALHS2D8NI"
      },
      "source": [
        "# **(D) BASELINE MODEL**"
      ]
    },
    {
      "cell_type": "code",
      "execution_count": 280,
      "metadata": {
        "id": "JB0Iuw2JJrnZ"
      },
      "outputs": [],
      "source": [
        "#importing logistic regression\n",
        "from sklearn.linear_model import LogisticRegression\n",
        "lr = LogisticRegression(random_state=45, C = 0.01, penalty = \"l2\")"
      ]
    },
    {
      "cell_type": "code",
      "execution_count": 281,
      "metadata": {
        "colab": {
          "base_uri": "https://localhost:8080/"
        },
        "id": "DFNM2t1hJmjm",
        "outputId": "32414c49-defe-4f0a-e23e-c2accd0a8fae"
      },
      "outputs": [
        {
          "output_type": "stream",
          "name": "stdout",
          "text": [
            "CPU times: user 9 s, sys: 3.17 s, total: 12.2 s\n",
            "Wall time: 6.29 s\n"
          ]
        },
        {
          "output_type": "execute_result",
          "data": {
            "text/plain": [
              "LogisticRegression(C=0.01, random_state=45)"
            ]
          },
          "metadata": {},
          "execution_count": 281
        }
      ],
      "source": [
        "%%time\n",
        "# fitting the logistic regression\n",
        "lr.fit(b_x1, b_y1)"
      ]
    },
    {
      "cell_type": "code",
      "execution_count": 282,
      "metadata": {
        "id": "IZIBBhpDJxZA"
      },
      "outputs": [],
      "source": [
        "y_pred_b = rfc.predict(b_x2)"
      ]
    },
    {
      "cell_type": "markdown",
      "metadata": {
        "id": "hmCXl8h2J1CW"
      },
      "source": [
        "# **Evaluation Metrics - Baseline Model**"
      ]
    },
    {
      "cell_type": "code",
      "execution_count": 283,
      "metadata": {
        "id": "J3UXDDJTJ0qK"
      },
      "outputs": [],
      "source": [
        "from sklearn.metrics import accuracy_score"
      ]
    },
    {
      "cell_type": "code",
      "execution_count": 284,
      "metadata": {
        "colab": {
          "base_uri": "https://localhost:8080/"
        },
        "id": "EnbUsN_mJ9Kg",
        "outputId": "f8d06cb4-9649-4878-fece-e48ed7ecff24"
      },
      "outputs": [
        {
          "output_type": "stream",
          "name": "stdout",
          "text": [
            "Confusion Matrix\n",
            "[[139541    269]\n",
            " [    40    171]]\n",
            "TP:  171 , FP:  269 , TN:  139541 , FN: 40\n"
          ]
        }
      ],
      "source": [
        "from sklearn.metrics import confusion_matrix\n",
        "cf=confusion_matrix(b_y2, y_pred_b)\n",
        "print (\"Confusion Matrix\")\n",
        "print(cf)\n",
        "tn, fp, fn, tp=cf.ravel()\n",
        "print (\"TP: \", tp,\", FP: \", fp,\", TN: \", tn,\", FN:\", fn)"
      ]
    },
    {
      "cell_type": "code",
      "execution_count": 285,
      "metadata": {
        "colab": {
          "base_uri": "https://localhost:8080/"
        },
        "id": "rvqb4XYIJ9RW",
        "outputId": "380f527f-037f-45d3-c5e6-471bdde0e55b"
      },
      "outputs": [
        {
          "output_type": "stream",
          "name": "stdout",
          "text": [
            "              precision    recall  f1-score   support\n",
            "\n",
            "           0       1.00      1.00      1.00    139810\n",
            "           1       0.39      0.81      0.53       211\n",
            "\n",
            "    accuracy                           1.00    140021\n",
            "   macro avg       0.69      0.90      0.76    140021\n",
            "weighted avg       1.00      1.00      1.00    140021\n",
            "\n"
          ]
        }
      ],
      "source": [
        "#print precision, recall, and accuracy from the perspective of each of the class \n",
        "from sklearn.metrics import classification_report\n",
        "from sklearn import metrics\n",
        "\n",
        "print(classification_report(b_y2, y_pred_b))"
      ]
    },
    {
      "cell_type": "markdown",
      "metadata": {
        "id": "H7d9JgohQgi3"
      },
      "source": [
        "# ** ****** (4) Isolation Forest ****** ** "
      ]
    },
    {
      "cell_type": "markdown",
      "metadata": {
        "id": "90tPycRQD-F-"
      },
      "source": [
        "# **(A) FEATURE SELECTION - FILTER**\n",
        "\n",
        "\n",
        "\n"
      ]
    },
    {
      "cell_type": "code",
      "execution_count": 286,
      "metadata": {
        "colab": {
          "base_uri": "https://localhost:8080/"
        },
        "id": "kVbeXS7NpAaM",
        "outputId": "56211e99-7f66-4130-a54c-8b0f05735ff2"
      },
      "outputs": [
        {
          "output_type": "stream",
          "name": "stdout",
          "text": [
            "0.0017304750013189597\n"
          ]
        }
      ],
      "source": [
        "#fraud and normal transactions dataset \n",
        "fraud = df[df['Class']==1]\n",
        "normal = df[df['Class']==0]\n",
        "\n",
        "#proportion of fraud, which will be used as contamination level\n",
        "outlier_proportion = len(fraud)/float(len(normal))\n",
        "print(outlier_proportion)\n",
        "\n"
      ]
    },
    {
      "cell_type": "code",
      "execution_count": 287,
      "metadata": {
        "id": "q_UKKuD3r6VT"
      },
      "outputs": [],
      "source": [
        "#day 1 \n",
        "y1 = df_1['Class']\n",
        "x1 = df_1.drop(['Class','Time','V1', 'V2','V5', 'V6','V8','V9', 'V13', 'V15', 'V19', 'V20', 'V21', 'V22', 'V23', 'V24', 'V25', 'V26', 'V27', 'V28'], axis=1)\n",
        "\n",
        "#day 2\n",
        "y2 = df_2['Class']\n",
        "x2 = df_2.drop(['Class','Time','V1', 'V2','V5', 'V6','V8','V9', 'V13', 'V15', 'V19', 'V20', 'V21', 'V22', 'V23', 'V24', 'V25', 'V26', 'V27', 'V28'], axis=1)\n",
        "\n",
        "x_1 = x1.to_numpy() \n",
        "x_2 = x2.to_numpy() "
      ]
    },
    {
      "cell_type": "code",
      "execution_count": 288,
      "metadata": {
        "id": "QW8hJ6fYyc_f"
      },
      "outputs": [],
      "source": [
        "#convert to numpy\n",
        "x_1 = x1.to_numpy() "
      ]
    },
    {
      "cell_type": "code",
      "execution_count": 289,
      "metadata": {
        "id": "rMYnyVAe0eCU"
      },
      "outputs": [],
      "source": [
        "#convert to numpy\n",
        "x_2 = x2.to_numpy() "
      ]
    },
    {
      "cell_type": "code",
      "execution_count": 290,
      "metadata": {
        "id": "c26gpkfXQl2N"
      },
      "outputs": [],
      "source": [
        "#importing isolation forest\n",
        "from sklearn.ensemble import IsolationForest"
      ]
    },
    {
      "cell_type": "code",
      "execution_count": 291,
      "metadata": {
        "id": "uH8XEjtdrZj0"
      },
      "outputs": [],
      "source": [
        "#estimating anomaly population\n",
        "contamination = outlier_proportion"
      ]
    },
    {
      "cell_type": "code",
      "execution_count": 292,
      "metadata": {
        "colab": {
          "base_uri": "https://localhost:8080/"
        },
        "id": "yjBFEymnSf_a",
        "outputId": "11a1d5b2-dac7-41fc-bae3-69911949df25"
      },
      "outputs": [
        {
          "output_type": "stream",
          "name": "stdout",
          "text": [
            "CPU times: user 4.91 s, sys: 118 ms, total: 5.02 s\n",
            "Wall time: 5.04 s\n"
          ]
        }
      ],
      "source": [
        "%%time\n",
        "model_if = IsolationForest(contamination=contamination, random_state=45)\n",
        "model_if.fit(x_1)"
      ]
    },
    {
      "cell_type": "code",
      "execution_count": 293,
      "metadata": {
        "id": "q_i_Nrsbuqoc"
      },
      "outputs": [],
      "source": [
        "#predict train set \n",
        "y_pred_train = model_if.predict(x_1)"
      ]
    },
    {
      "cell_type": "code",
      "execution_count": 294,
      "metadata": {
        "id": "668rP3gJvIfW"
      },
      "outputs": [],
      "source": [
        "#predict test set \n",
        "y_pred_test = model_if.predict(x_2)"
      ]
    },
    {
      "cell_type": "code",
      "execution_count": 295,
      "metadata": {
        "id": "_Q_o9qDC0YBs"
      },
      "outputs": [],
      "source": [
        "x1['scores'] = model_if.decision_function(x_1)\n",
        "\n"
      ]
    },
    {
      "cell_type": "code",
      "execution_count": 296,
      "metadata": {
        "id": "XpxgCPV67le3"
      },
      "outputs": [],
      "source": [
        "x1['anomaly_score'] = model_if.predict(x_1)\n",
        "\n"
      ]
    },
    {
      "cell_type": "markdown",
      "metadata": {
        "id": "8ZXSXKC5_gHb"
      },
      "source": [
        "Fraudulent transactions on Day 1 - Train set"
      ]
    },
    {
      "cell_type": "code",
      "execution_count": 297,
      "metadata": {
        "colab": {
          "base_uri": "https://localhost:8080/",
          "height": 488
        },
        "id": "9LWWp9L47m0a",
        "outputId": "a8cc8b11-4c67-43b4-b34b-e68a4e141260"
      },
      "outputs": [
        {
          "output_type": "execute_result",
          "data": {
            "text/plain": [
              "               V3        V4         V7       V10       V11        V12  \\\n",
              "1632   -12.389545  6.013346  34.303177 -2.636622  3.702177  -1.843056   \n",
              "2963    -2.742492 -0.940903  -9.198175 -5.453339 -1.582292   2.771415   \n",
              "6108    -2.592844  2.679787  -3.496197 -4.801637  4.895844 -10.912819   \n",
              "6329    -4.304597  4.732795   1.713445 -2.447469  2.101344  -4.609628   \n",
              "6334    -6.560600  6.348557  -1.689102 -6.045468  6.754625  -8.948179   \n",
              "...           ...       ...        ...       ...       ...        ...   \n",
              "143336  -9.746678  5.148263  -5.937767 -8.537758  6.348979  -8.681609   \n",
              "143728  -4.153388  3.924526  -4.313217 -6.213355  4.522992  -6.652844   \n",
              "143731  -5.436365  3.684737  -3.696178 -6.353887  4.351481  -6.453247   \n",
              "144104  -5.660999  3.891160  -5.558679 -5.995676  4.221304  -6.119667   \n",
              "144108  -5.568577  3.631947  -4.089128 -5.822449  3.369186  -5.691926   \n",
              "\n",
              "              V14       V16        V17       V18   Amount    scores  \\\n",
              "1632    -1.652836  4.087802  -1.654892 -0.888406  7712.43 -0.045865   \n",
              "2963     3.189651  2.825793   2.126128 -1.303542   544.62 -0.010133   \n",
              "6108    -6.771097 -7.358083 -12.598419 -5.131549    59.00 -0.047394   \n",
              "6329    -6.079337  2.581851   6.739384  3.042493     1.00 -0.016815   \n",
              "6334   -10.733854 -1.638960  -1.746350  0.776744     1.00 -0.000105   \n",
              "...           ...       ...        ...       ...      ...       ...   \n",
              "143336 -11.608002 -5.363566 -11.939092 -3.583603   252.92 -0.084090   \n",
              "143728  -8.604486 -5.945481  -9.338938 -2.390193     1.00 -0.045094   \n",
              "143731  -8.442873 -5.440795  -9.518038 -2.438069   240.77 -0.069425   \n",
              "144104  -8.149322 -5.375283  -9.315001 -2.487563     1.00 -0.050610   \n",
              "144108  -5.413787 -5.863662 -11.143241 -3.480940   310.42 -0.060267   \n",
              "\n",
              "        anomaly_score  \n",
              "1632               -1  \n",
              "2963               -1  \n",
              "6108               -1  \n",
              "6329               -1  \n",
              "6334               -1  \n",
              "...               ...  \n",
              "143336             -1  \n",
              "143728             -1  \n",
              "143731             -1  \n",
              "144104             -1  \n",
              "144108             -1  \n",
              "\n",
              "[251 rows x 13 columns]"
            ],
            "text/html": [
              "\n",
              "  <div id=\"df-e47d76a2-13a2-45b7-bdcc-3889052680c8\">\n",
              "    <div class=\"colab-df-container\">\n",
              "      <div>\n",
              "<style scoped>\n",
              "    .dataframe tbody tr th:only-of-type {\n",
              "        vertical-align: middle;\n",
              "    }\n",
              "\n",
              "    .dataframe tbody tr th {\n",
              "        vertical-align: top;\n",
              "    }\n",
              "\n",
              "    .dataframe thead th {\n",
              "        text-align: right;\n",
              "    }\n",
              "</style>\n",
              "<table border=\"1\" class=\"dataframe\">\n",
              "  <thead>\n",
              "    <tr style=\"text-align: right;\">\n",
              "      <th></th>\n",
              "      <th>V3</th>\n",
              "      <th>V4</th>\n",
              "      <th>V7</th>\n",
              "      <th>V10</th>\n",
              "      <th>V11</th>\n",
              "      <th>V12</th>\n",
              "      <th>V14</th>\n",
              "      <th>V16</th>\n",
              "      <th>V17</th>\n",
              "      <th>V18</th>\n",
              "      <th>Amount</th>\n",
              "      <th>scores</th>\n",
              "      <th>anomaly_score</th>\n",
              "    </tr>\n",
              "  </thead>\n",
              "  <tbody>\n",
              "    <tr>\n",
              "      <th>1632</th>\n",
              "      <td>-12.389545</td>\n",
              "      <td>6.013346</td>\n",
              "      <td>34.303177</td>\n",
              "      <td>-2.636622</td>\n",
              "      <td>3.702177</td>\n",
              "      <td>-1.843056</td>\n",
              "      <td>-1.652836</td>\n",
              "      <td>4.087802</td>\n",
              "      <td>-1.654892</td>\n",
              "      <td>-0.888406</td>\n",
              "      <td>7712.43</td>\n",
              "      <td>-0.045865</td>\n",
              "      <td>-1</td>\n",
              "    </tr>\n",
              "    <tr>\n",
              "      <th>2963</th>\n",
              "      <td>-2.742492</td>\n",
              "      <td>-0.940903</td>\n",
              "      <td>-9.198175</td>\n",
              "      <td>-5.453339</td>\n",
              "      <td>-1.582292</td>\n",
              "      <td>2.771415</td>\n",
              "      <td>3.189651</td>\n",
              "      <td>2.825793</td>\n",
              "      <td>2.126128</td>\n",
              "      <td>-1.303542</td>\n",
              "      <td>544.62</td>\n",
              "      <td>-0.010133</td>\n",
              "      <td>-1</td>\n",
              "    </tr>\n",
              "    <tr>\n",
              "      <th>6108</th>\n",
              "      <td>-2.592844</td>\n",
              "      <td>2.679787</td>\n",
              "      <td>-3.496197</td>\n",
              "      <td>-4.801637</td>\n",
              "      <td>4.895844</td>\n",
              "      <td>-10.912819</td>\n",
              "      <td>-6.771097</td>\n",
              "      <td>-7.358083</td>\n",
              "      <td>-12.598419</td>\n",
              "      <td>-5.131549</td>\n",
              "      <td>59.00</td>\n",
              "      <td>-0.047394</td>\n",
              "      <td>-1</td>\n",
              "    </tr>\n",
              "    <tr>\n",
              "      <th>6329</th>\n",
              "      <td>-4.304597</td>\n",
              "      <td>4.732795</td>\n",
              "      <td>1.713445</td>\n",
              "      <td>-2.447469</td>\n",
              "      <td>2.101344</td>\n",
              "      <td>-4.609628</td>\n",
              "      <td>-6.079337</td>\n",
              "      <td>2.581851</td>\n",
              "      <td>6.739384</td>\n",
              "      <td>3.042493</td>\n",
              "      <td>1.00</td>\n",
              "      <td>-0.016815</td>\n",
              "      <td>-1</td>\n",
              "    </tr>\n",
              "    <tr>\n",
              "      <th>6334</th>\n",
              "      <td>-6.560600</td>\n",
              "      <td>6.348557</td>\n",
              "      <td>-1.689102</td>\n",
              "      <td>-6.045468</td>\n",
              "      <td>6.754625</td>\n",
              "      <td>-8.948179</td>\n",
              "      <td>-10.733854</td>\n",
              "      <td>-1.638960</td>\n",
              "      <td>-1.746350</td>\n",
              "      <td>0.776744</td>\n",
              "      <td>1.00</td>\n",
              "      <td>-0.000105</td>\n",
              "      <td>-1</td>\n",
              "    </tr>\n",
              "    <tr>\n",
              "      <th>...</th>\n",
              "      <td>...</td>\n",
              "      <td>...</td>\n",
              "      <td>...</td>\n",
              "      <td>...</td>\n",
              "      <td>...</td>\n",
              "      <td>...</td>\n",
              "      <td>...</td>\n",
              "      <td>...</td>\n",
              "      <td>...</td>\n",
              "      <td>...</td>\n",
              "      <td>...</td>\n",
              "      <td>...</td>\n",
              "      <td>...</td>\n",
              "    </tr>\n",
              "    <tr>\n",
              "      <th>143336</th>\n",
              "      <td>-9.746678</td>\n",
              "      <td>5.148263</td>\n",
              "      <td>-5.937767</td>\n",
              "      <td>-8.537758</td>\n",
              "      <td>6.348979</td>\n",
              "      <td>-8.681609</td>\n",
              "      <td>-11.608002</td>\n",
              "      <td>-5.363566</td>\n",
              "      <td>-11.939092</td>\n",
              "      <td>-3.583603</td>\n",
              "      <td>252.92</td>\n",
              "      <td>-0.084090</td>\n",
              "      <td>-1</td>\n",
              "    </tr>\n",
              "    <tr>\n",
              "      <th>143728</th>\n",
              "      <td>-4.153388</td>\n",
              "      <td>3.924526</td>\n",
              "      <td>-4.313217</td>\n",
              "      <td>-6.213355</td>\n",
              "      <td>4.522992</td>\n",
              "      <td>-6.652844</td>\n",
              "      <td>-8.604486</td>\n",
              "      <td>-5.945481</td>\n",
              "      <td>-9.338938</td>\n",
              "      <td>-2.390193</td>\n",
              "      <td>1.00</td>\n",
              "      <td>-0.045094</td>\n",
              "      <td>-1</td>\n",
              "    </tr>\n",
              "    <tr>\n",
              "      <th>143731</th>\n",
              "      <td>-5.436365</td>\n",
              "      <td>3.684737</td>\n",
              "      <td>-3.696178</td>\n",
              "      <td>-6.353887</td>\n",
              "      <td>4.351481</td>\n",
              "      <td>-6.453247</td>\n",
              "      <td>-8.442873</td>\n",
              "      <td>-5.440795</td>\n",
              "      <td>-9.518038</td>\n",
              "      <td>-2.438069</td>\n",
              "      <td>240.77</td>\n",
              "      <td>-0.069425</td>\n",
              "      <td>-1</td>\n",
              "    </tr>\n",
              "    <tr>\n",
              "      <th>144104</th>\n",
              "      <td>-5.660999</td>\n",
              "      <td>3.891160</td>\n",
              "      <td>-5.558679</td>\n",
              "      <td>-5.995676</td>\n",
              "      <td>4.221304</td>\n",
              "      <td>-6.119667</td>\n",
              "      <td>-8.149322</td>\n",
              "      <td>-5.375283</td>\n",
              "      <td>-9.315001</td>\n",
              "      <td>-2.487563</td>\n",
              "      <td>1.00</td>\n",
              "      <td>-0.050610</td>\n",
              "      <td>-1</td>\n",
              "    </tr>\n",
              "    <tr>\n",
              "      <th>144108</th>\n",
              "      <td>-5.568577</td>\n",
              "      <td>3.631947</td>\n",
              "      <td>-4.089128</td>\n",
              "      <td>-5.822449</td>\n",
              "      <td>3.369186</td>\n",
              "      <td>-5.691926</td>\n",
              "      <td>-5.413787</td>\n",
              "      <td>-5.863662</td>\n",
              "      <td>-11.143241</td>\n",
              "      <td>-3.480940</td>\n",
              "      <td>310.42</td>\n",
              "      <td>-0.060267</td>\n",
              "      <td>-1</td>\n",
              "    </tr>\n",
              "  </tbody>\n",
              "</table>\n",
              "<p>251 rows × 13 columns</p>\n",
              "</div>\n",
              "      <button class=\"colab-df-convert\" onclick=\"convertToInteractive('df-e47d76a2-13a2-45b7-bdcc-3889052680c8')\"\n",
              "              title=\"Convert this dataframe to an interactive table.\"\n",
              "              style=\"display:none;\">\n",
              "        \n",
              "  <svg xmlns=\"http://www.w3.org/2000/svg\" height=\"24px\"viewBox=\"0 0 24 24\"\n",
              "       width=\"24px\">\n",
              "    <path d=\"M0 0h24v24H0V0z\" fill=\"none\"/>\n",
              "    <path d=\"M18.56 5.44l.94 2.06.94-2.06 2.06-.94-2.06-.94-.94-2.06-.94 2.06-2.06.94zm-11 1L8.5 8.5l.94-2.06 2.06-.94-2.06-.94L8.5 2.5l-.94 2.06-2.06.94zm10 10l.94 2.06.94-2.06 2.06-.94-2.06-.94-.94-2.06-.94 2.06-2.06.94z\"/><path d=\"M17.41 7.96l-1.37-1.37c-.4-.4-.92-.59-1.43-.59-.52 0-1.04.2-1.43.59L10.3 9.45l-7.72 7.72c-.78.78-.78 2.05 0 2.83L4 21.41c.39.39.9.59 1.41.59.51 0 1.02-.2 1.41-.59l7.78-7.78 2.81-2.81c.8-.78.8-2.07 0-2.86zM5.41 20L4 18.59l7.72-7.72 1.47 1.35L5.41 20z\"/>\n",
              "  </svg>\n",
              "      </button>\n",
              "      \n",
              "  <style>\n",
              "    .colab-df-container {\n",
              "      display:flex;\n",
              "      flex-wrap:wrap;\n",
              "      gap: 12px;\n",
              "    }\n",
              "\n",
              "    .colab-df-convert {\n",
              "      background-color: #E8F0FE;\n",
              "      border: none;\n",
              "      border-radius: 50%;\n",
              "      cursor: pointer;\n",
              "      display: none;\n",
              "      fill: #1967D2;\n",
              "      height: 32px;\n",
              "      padding: 0 0 0 0;\n",
              "      width: 32px;\n",
              "    }\n",
              "\n",
              "    .colab-df-convert:hover {\n",
              "      background-color: #E2EBFA;\n",
              "      box-shadow: 0px 1px 2px rgba(60, 64, 67, 0.3), 0px 1px 3px 1px rgba(60, 64, 67, 0.15);\n",
              "      fill: #174EA6;\n",
              "    }\n",
              "\n",
              "    [theme=dark] .colab-df-convert {\n",
              "      background-color: #3B4455;\n",
              "      fill: #D2E3FC;\n",
              "    }\n",
              "\n",
              "    [theme=dark] .colab-df-convert:hover {\n",
              "      background-color: #434B5C;\n",
              "      box-shadow: 0px 1px 3px 1px rgba(0, 0, 0, 0.15);\n",
              "      filter: drop-shadow(0px 1px 2px rgba(0, 0, 0, 0.3));\n",
              "      fill: #FFFFFF;\n",
              "    }\n",
              "  </style>\n",
              "\n",
              "      <script>\n",
              "        const buttonEl =\n",
              "          document.querySelector('#df-e47d76a2-13a2-45b7-bdcc-3889052680c8 button.colab-df-convert');\n",
              "        buttonEl.style.display =\n",
              "          google.colab.kernel.accessAllowed ? 'block' : 'none';\n",
              "\n",
              "        async function convertToInteractive(key) {\n",
              "          const element = document.querySelector('#df-e47d76a2-13a2-45b7-bdcc-3889052680c8');\n",
              "          const dataTable =\n",
              "            await google.colab.kernel.invokeFunction('convertToInteractive',\n",
              "                                                     [key], {});\n",
              "          if (!dataTable) return;\n",
              "\n",
              "          const docLinkHtml = 'Like what you see? Visit the ' +\n",
              "            '<a target=\"_blank\" href=https://colab.research.google.com/notebooks/data_table.ipynb>data table notebook</a>'\n",
              "            + ' to learn more about interactive tables.';\n",
              "          element.innerHTML = '';\n",
              "          dataTable['output_type'] = 'display_data';\n",
              "          await google.colab.output.renderOutput(dataTable, element);\n",
              "          const docLink = document.createElement('div');\n",
              "          docLink.innerHTML = docLinkHtml;\n",
              "          element.appendChild(docLink);\n",
              "        }\n",
              "      </script>\n",
              "    </div>\n",
              "  </div>\n",
              "  "
            ]
          },
          "metadata": {},
          "execution_count": 297
        }
      ],
      "source": [
        "#fraudulent transactions in day 1 -  anomalies are assigned an anomaly score of -1.\n",
        "x1[x1['anomaly_score']== -1]\n",
        "#251 rows, 12 columns"
      ]
    },
    {
      "cell_type": "code",
      "execution_count": 298,
      "metadata": {
        "id": "JBjSph9hArY5"
      },
      "outputs": [],
      "source": [
        "fraud = x1[x1['anomaly_score']== -1]"
      ]
    },
    {
      "cell_type": "code",
      "execution_count": 299,
      "metadata": {
        "colab": {
          "base_uri": "https://localhost:8080/",
          "height": 488
        },
        "id": "7cXTnfiaAlu9",
        "outputId": "cc8893d8-12fd-4555-bef2-4705bf5c5003"
      },
      "outputs": [
        {
          "output_type": "execute_result",
          "data": {
            "text/plain": [
              "               V3        V4         V7        V10       V11        V12  \\\n",
              "10690  -12.466766  9.648311 -21.922811 -11.201400  9.328799 -13.104933   \n",
              "10630  -13.510931  8.617895  -9.462533 -11.786812  9.369079 -15.094163   \n",
              "42741  -12.423635  7.519929  -9.984287 -13.215172  6.895181 -13.279700   \n",
              "42769  -13.271718  8.925115 -12.703253 -12.805683  6.786058 -13.064240   \n",
              "12468  -12.675299  5.890274 -10.361344 -10.514504  8.822317 -13.711031   \n",
              "...           ...       ...        ...        ...       ...        ...   \n",
              "23128  -20.195367  4.249104  36.677268  -7.761890 -0.051013  -0.023820   \n",
              "37000   -7.631400  5.975826  21.246173  -6.284888 -1.359855  -1.447966   \n",
              "125671  -7.615316  0.014220  -7.945156  -2.279181 -2.669025   2.789239   \n",
              "6334    -6.560600  6.348557  -1.689102  -6.045468  6.754625  -8.948179   \n",
              "22519  -13.621197  2.138570  -5.746371   0.103328 -2.476819   2.669485   \n",
              "\n",
              "              V14        V16        V17       V18   Amount    scores  \\\n",
              "10690  -10.140200 -10.098671 -17.506612 -8.061208  1218.89 -0.120277   \n",
              "10630  -11.852161 -10.688242 -18.388811 -6.898840   766.36 -0.111516   \n",
              "42741  -13.417012 -10.922655 -21.906493 -8.829820   459.07 -0.108798   \n",
              "42769  -13.694873 -10.954286 -20.583593 -7.517262   118.30 -0.108256   \n",
              "12468  -11.637008  -9.151540 -15.567463 -5.003983    89.99 -0.107172   \n",
              "...           ...        ...        ...       ...      ...       ...   \n",
              "23128   -0.504989   6.098529  -0.205514 -1.031321  7429.15 -0.000997   \n",
              "37000    0.234851   1.236134  -0.883152  2.745105  6950.51 -0.000461   \n",
              "125671   5.691138   2.064214   2.179319  1.100664     2.96 -0.000344   \n",
              "6334   -10.733854  -1.638960  -1.746350  0.776744     1.00 -0.000105   \n",
              "22519    2.116007   3.666506   6.141799  2.190976    89.99 -0.000027   \n",
              "\n",
              "        anomaly_score  \n",
              "10690              -1  \n",
              "10630              -1  \n",
              "42741              -1  \n",
              "42769              -1  \n",
              "12468              -1  \n",
              "...               ...  \n",
              "23128              -1  \n",
              "37000              -1  \n",
              "125671             -1  \n",
              "6334               -1  \n",
              "22519              -1  \n",
              "\n",
              "[251 rows x 13 columns]"
            ],
            "text/html": [
              "\n",
              "  <div id=\"df-93ed9e43-17d4-46cc-bf4c-f3bf2f1dd478\">\n",
              "    <div class=\"colab-df-container\">\n",
              "      <div>\n",
              "<style scoped>\n",
              "    .dataframe tbody tr th:only-of-type {\n",
              "        vertical-align: middle;\n",
              "    }\n",
              "\n",
              "    .dataframe tbody tr th {\n",
              "        vertical-align: top;\n",
              "    }\n",
              "\n",
              "    .dataframe thead th {\n",
              "        text-align: right;\n",
              "    }\n",
              "</style>\n",
              "<table border=\"1\" class=\"dataframe\">\n",
              "  <thead>\n",
              "    <tr style=\"text-align: right;\">\n",
              "      <th></th>\n",
              "      <th>V3</th>\n",
              "      <th>V4</th>\n",
              "      <th>V7</th>\n",
              "      <th>V10</th>\n",
              "      <th>V11</th>\n",
              "      <th>V12</th>\n",
              "      <th>V14</th>\n",
              "      <th>V16</th>\n",
              "      <th>V17</th>\n",
              "      <th>V18</th>\n",
              "      <th>Amount</th>\n",
              "      <th>scores</th>\n",
              "      <th>anomaly_score</th>\n",
              "    </tr>\n",
              "  </thead>\n",
              "  <tbody>\n",
              "    <tr>\n",
              "      <th>10690</th>\n",
              "      <td>-12.466766</td>\n",
              "      <td>9.648311</td>\n",
              "      <td>-21.922811</td>\n",
              "      <td>-11.201400</td>\n",
              "      <td>9.328799</td>\n",
              "      <td>-13.104933</td>\n",
              "      <td>-10.140200</td>\n",
              "      <td>-10.098671</td>\n",
              "      <td>-17.506612</td>\n",
              "      <td>-8.061208</td>\n",
              "      <td>1218.89</td>\n",
              "      <td>-0.120277</td>\n",
              "      <td>-1</td>\n",
              "    </tr>\n",
              "    <tr>\n",
              "      <th>10630</th>\n",
              "      <td>-13.510931</td>\n",
              "      <td>8.617895</td>\n",
              "      <td>-9.462533</td>\n",
              "      <td>-11.786812</td>\n",
              "      <td>9.369079</td>\n",
              "      <td>-15.094163</td>\n",
              "      <td>-11.852161</td>\n",
              "      <td>-10.688242</td>\n",
              "      <td>-18.388811</td>\n",
              "      <td>-6.898840</td>\n",
              "      <td>766.36</td>\n",
              "      <td>-0.111516</td>\n",
              "      <td>-1</td>\n",
              "    </tr>\n",
              "    <tr>\n",
              "      <th>42741</th>\n",
              "      <td>-12.423635</td>\n",
              "      <td>7.519929</td>\n",
              "      <td>-9.984287</td>\n",
              "      <td>-13.215172</td>\n",
              "      <td>6.895181</td>\n",
              "      <td>-13.279700</td>\n",
              "      <td>-13.417012</td>\n",
              "      <td>-10.922655</td>\n",
              "      <td>-21.906493</td>\n",
              "      <td>-8.829820</td>\n",
              "      <td>459.07</td>\n",
              "      <td>-0.108798</td>\n",
              "      <td>-1</td>\n",
              "    </tr>\n",
              "    <tr>\n",
              "      <th>42769</th>\n",
              "      <td>-13.271718</td>\n",
              "      <td>8.925115</td>\n",
              "      <td>-12.703253</td>\n",
              "      <td>-12.805683</td>\n",
              "      <td>6.786058</td>\n",
              "      <td>-13.064240</td>\n",
              "      <td>-13.694873</td>\n",
              "      <td>-10.954286</td>\n",
              "      <td>-20.583593</td>\n",
              "      <td>-7.517262</td>\n",
              "      <td>118.30</td>\n",
              "      <td>-0.108256</td>\n",
              "      <td>-1</td>\n",
              "    </tr>\n",
              "    <tr>\n",
              "      <th>12468</th>\n",
              "      <td>-12.675299</td>\n",
              "      <td>5.890274</td>\n",
              "      <td>-10.361344</td>\n",
              "      <td>-10.514504</td>\n",
              "      <td>8.822317</td>\n",
              "      <td>-13.711031</td>\n",
              "      <td>-11.637008</td>\n",
              "      <td>-9.151540</td>\n",
              "      <td>-15.567463</td>\n",
              "      <td>-5.003983</td>\n",
              "      <td>89.99</td>\n",
              "      <td>-0.107172</td>\n",
              "      <td>-1</td>\n",
              "    </tr>\n",
              "    <tr>\n",
              "      <th>...</th>\n",
              "      <td>...</td>\n",
              "      <td>...</td>\n",
              "      <td>...</td>\n",
              "      <td>...</td>\n",
              "      <td>...</td>\n",
              "      <td>...</td>\n",
              "      <td>...</td>\n",
              "      <td>...</td>\n",
              "      <td>...</td>\n",
              "      <td>...</td>\n",
              "      <td>...</td>\n",
              "      <td>...</td>\n",
              "      <td>...</td>\n",
              "    </tr>\n",
              "    <tr>\n",
              "      <th>23128</th>\n",
              "      <td>-20.195367</td>\n",
              "      <td>4.249104</td>\n",
              "      <td>36.677268</td>\n",
              "      <td>-7.761890</td>\n",
              "      <td>-0.051013</td>\n",
              "      <td>-0.023820</td>\n",
              "      <td>-0.504989</td>\n",
              "      <td>6.098529</td>\n",
              "      <td>-0.205514</td>\n",
              "      <td>-1.031321</td>\n",
              "      <td>7429.15</td>\n",
              "      <td>-0.000997</td>\n",
              "      <td>-1</td>\n",
              "    </tr>\n",
              "    <tr>\n",
              "      <th>37000</th>\n",
              "      <td>-7.631400</td>\n",
              "      <td>5.975826</td>\n",
              "      <td>21.246173</td>\n",
              "      <td>-6.284888</td>\n",
              "      <td>-1.359855</td>\n",
              "      <td>-1.447966</td>\n",
              "      <td>0.234851</td>\n",
              "      <td>1.236134</td>\n",
              "      <td>-0.883152</td>\n",
              "      <td>2.745105</td>\n",
              "      <td>6950.51</td>\n",
              "      <td>-0.000461</td>\n",
              "      <td>-1</td>\n",
              "    </tr>\n",
              "    <tr>\n",
              "      <th>125671</th>\n",
              "      <td>-7.615316</td>\n",
              "      <td>0.014220</td>\n",
              "      <td>-7.945156</td>\n",
              "      <td>-2.279181</td>\n",
              "      <td>-2.669025</td>\n",
              "      <td>2.789239</td>\n",
              "      <td>5.691138</td>\n",
              "      <td>2.064214</td>\n",
              "      <td>2.179319</td>\n",
              "      <td>1.100664</td>\n",
              "      <td>2.96</td>\n",
              "      <td>-0.000344</td>\n",
              "      <td>-1</td>\n",
              "    </tr>\n",
              "    <tr>\n",
              "      <th>6334</th>\n",
              "      <td>-6.560600</td>\n",
              "      <td>6.348557</td>\n",
              "      <td>-1.689102</td>\n",
              "      <td>-6.045468</td>\n",
              "      <td>6.754625</td>\n",
              "      <td>-8.948179</td>\n",
              "      <td>-10.733854</td>\n",
              "      <td>-1.638960</td>\n",
              "      <td>-1.746350</td>\n",
              "      <td>0.776744</td>\n",
              "      <td>1.00</td>\n",
              "      <td>-0.000105</td>\n",
              "      <td>-1</td>\n",
              "    </tr>\n",
              "    <tr>\n",
              "      <th>22519</th>\n",
              "      <td>-13.621197</td>\n",
              "      <td>2.138570</td>\n",
              "      <td>-5.746371</td>\n",
              "      <td>0.103328</td>\n",
              "      <td>-2.476819</td>\n",
              "      <td>2.669485</td>\n",
              "      <td>2.116007</td>\n",
              "      <td>3.666506</td>\n",
              "      <td>6.141799</td>\n",
              "      <td>2.190976</td>\n",
              "      <td>89.99</td>\n",
              "      <td>-0.000027</td>\n",
              "      <td>-1</td>\n",
              "    </tr>\n",
              "  </tbody>\n",
              "</table>\n",
              "<p>251 rows × 13 columns</p>\n",
              "</div>\n",
              "      <button class=\"colab-df-convert\" onclick=\"convertToInteractive('df-93ed9e43-17d4-46cc-bf4c-f3bf2f1dd478')\"\n",
              "              title=\"Convert this dataframe to an interactive table.\"\n",
              "              style=\"display:none;\">\n",
              "        \n",
              "  <svg xmlns=\"http://www.w3.org/2000/svg\" height=\"24px\"viewBox=\"0 0 24 24\"\n",
              "       width=\"24px\">\n",
              "    <path d=\"M0 0h24v24H0V0z\" fill=\"none\"/>\n",
              "    <path d=\"M18.56 5.44l.94 2.06.94-2.06 2.06-.94-2.06-.94-.94-2.06-.94 2.06-2.06.94zm-11 1L8.5 8.5l.94-2.06 2.06-.94-2.06-.94L8.5 2.5l-.94 2.06-2.06.94zm10 10l.94 2.06.94-2.06 2.06-.94-2.06-.94-.94-2.06-.94 2.06-2.06.94z\"/><path d=\"M17.41 7.96l-1.37-1.37c-.4-.4-.92-.59-1.43-.59-.52 0-1.04.2-1.43.59L10.3 9.45l-7.72 7.72c-.78.78-.78 2.05 0 2.83L4 21.41c.39.39.9.59 1.41.59.51 0 1.02-.2 1.41-.59l7.78-7.78 2.81-2.81c.8-.78.8-2.07 0-2.86zM5.41 20L4 18.59l7.72-7.72 1.47 1.35L5.41 20z\"/>\n",
              "  </svg>\n",
              "      </button>\n",
              "      \n",
              "  <style>\n",
              "    .colab-df-container {\n",
              "      display:flex;\n",
              "      flex-wrap:wrap;\n",
              "      gap: 12px;\n",
              "    }\n",
              "\n",
              "    .colab-df-convert {\n",
              "      background-color: #E8F0FE;\n",
              "      border: none;\n",
              "      border-radius: 50%;\n",
              "      cursor: pointer;\n",
              "      display: none;\n",
              "      fill: #1967D2;\n",
              "      height: 32px;\n",
              "      padding: 0 0 0 0;\n",
              "      width: 32px;\n",
              "    }\n",
              "\n",
              "    .colab-df-convert:hover {\n",
              "      background-color: #E2EBFA;\n",
              "      box-shadow: 0px 1px 2px rgba(60, 64, 67, 0.3), 0px 1px 3px 1px rgba(60, 64, 67, 0.15);\n",
              "      fill: #174EA6;\n",
              "    }\n",
              "\n",
              "    [theme=dark] .colab-df-convert {\n",
              "      background-color: #3B4455;\n",
              "      fill: #D2E3FC;\n",
              "    }\n",
              "\n",
              "    [theme=dark] .colab-df-convert:hover {\n",
              "      background-color: #434B5C;\n",
              "      box-shadow: 0px 1px 3px 1px rgba(0, 0, 0, 0.15);\n",
              "      filter: drop-shadow(0px 1px 2px rgba(0, 0, 0, 0.3));\n",
              "      fill: #FFFFFF;\n",
              "    }\n",
              "  </style>\n",
              "\n",
              "      <script>\n",
              "        const buttonEl =\n",
              "          document.querySelector('#df-93ed9e43-17d4-46cc-bf4c-f3bf2f1dd478 button.colab-df-convert');\n",
              "        buttonEl.style.display =\n",
              "          google.colab.kernel.accessAllowed ? 'block' : 'none';\n",
              "\n",
              "        async function convertToInteractive(key) {\n",
              "          const element = document.querySelector('#df-93ed9e43-17d4-46cc-bf4c-f3bf2f1dd478');\n",
              "          const dataTable =\n",
              "            await google.colab.kernel.invokeFunction('convertToInteractive',\n",
              "                                                     [key], {});\n",
              "          if (!dataTable) return;\n",
              "\n",
              "          const docLinkHtml = 'Like what you see? Visit the ' +\n",
              "            '<a target=\"_blank\" href=https://colab.research.google.com/notebooks/data_table.ipynb>data table notebook</a>'\n",
              "            + ' to learn more about interactive tables.';\n",
              "          element.innerHTML = '';\n",
              "          dataTable['output_type'] = 'display_data';\n",
              "          await google.colab.output.renderOutput(dataTable, element);\n",
              "          const docLink = document.createElement('div');\n",
              "          docLink.innerHTML = docLinkHtml;\n",
              "          element.appendChild(docLink);\n",
              "        }\n",
              "      </script>\n",
              "    </div>\n",
              "  </div>\n",
              "  "
            ]
          },
          "metadata": {},
          "execution_count": 299
        }
      ],
      "source": [
        "#top outliers\n",
        "fraud.sort_values(by=['scores'], ascending=True)"
      ]
    },
    {
      "cell_type": "markdown",
      "metadata": {
        "id": "u3WRpKTo_kss"
      },
      "source": [
        "Fraudulent transactions on Day 2 - Test set"
      ]
    },
    {
      "cell_type": "code",
      "execution_count": 300,
      "metadata": {
        "id": "NaJNEhQWCX3n"
      },
      "outputs": [],
      "source": [
        "x2['scores'] = model_if.decision_function(x_2)"
      ]
    },
    {
      "cell_type": "code",
      "execution_count": 301,
      "metadata": {
        "id": "mQsiYW7_CYAR"
      },
      "outputs": [],
      "source": [
        "x2['anomaly_score'] = model_if.predict(x_2)"
      ]
    },
    {
      "cell_type": "code",
      "execution_count": 302,
      "metadata": {
        "colab": {
          "base_uri": "https://localhost:8080/",
          "height": 488
        },
        "id": "XLt8IGOTCYIq",
        "outputId": "d22ee8b9-ab2b-4622-c53c-9a45196cbea3"
      },
      "outputs": [
        {
          "output_type": "execute_result",
          "data": {
            "text/plain": [
              "               V3        V4         V7       V10       V11       V12  \\\n",
              "145090  -4.828868  8.461575   9.885845  8.077009  1.565153 -1.368406   \n",
              "147548  -5.264265  3.446113  -3.291041 -3.936294  4.256564 -6.600654   \n",
              "148908  -4.916562  4.809700   1.347216 -2.192541  1.621603 -4.280233   \n",
              "149522  -6.421490  2.434181  -3.227533 -4.723092  4.921657 -8.752770   \n",
              "149587  -4.337200  2.378367   0.653745 -2.829098  3.504568 -3.918200   \n",
              "...           ...       ...        ...       ...       ...       ...   \n",
              "282846 -11.440464 -1.095071  -7.109752  4.282442 -3.587139  3.270167   \n",
              "282863 -11.907335 -1.110679  -7.479686  4.367054 -3.712310  3.440374   \n",
              "282881 -12.374202 -1.126277  -7.849644  4.451663 -3.837486  3.610583   \n",
              "282903 -12.841065 -1.141867  -8.219623  4.536268 -3.962664  3.780793   \n",
              "284249 -16.233798  3.592021  44.054461 -7.776435  0.214173 -4.499851   \n",
              "\n",
              "             V14       V16       V17       V18    Amount    scores  \\\n",
              "145090 -5.567237  2.238244 -2.198110 -0.568291   2018.09 -0.039351   \n",
              "147548 -9.958531 -5.700141 -6.388093 -1.838159      1.18 -0.035172   \n",
              "148908 -6.440110  3.358763  6.029339  3.505916      0.77 -0.009698   \n",
              "149522 -8.552023 -4.534030 -6.465409 -1.890310     52.69 -0.042604   \n",
              "149587 -4.704509  1.854772  6.024397  3.531250      1.00 -0.001306   \n",
              "...          ...       ...       ...       ...       ...       ...   \n",
              "282846  5.385183  1.609322  3.054471  0.517887      3.82 -0.016930   \n",
              "282863  5.630943  1.709901  3.214280  0.539777      3.82 -0.022468   \n",
              "282881  5.876709  1.810475  3.374091  0.561676      3.82 -0.026354   \n",
              "282903  6.122479  1.911043  3.533903  0.583581      3.82 -0.026354   \n",
              "284249  0.537895  2.326099 -0.402142  1.257379  10199.44 -0.017298   \n",
              "\n",
              "        anomaly_score  \n",
              "145090             -1  \n",
              "147548             -1  \n",
              "148908             -1  \n",
              "149522             -1  \n",
              "149587             -1  \n",
              "...               ...  \n",
              "282846             -1  \n",
              "282863             -1  \n",
              "282881             -1  \n",
              "282903             -1  \n",
              "284249             -1  \n",
              "\n",
              "[189 rows x 13 columns]"
            ],
            "text/html": [
              "\n",
              "  <div id=\"df-094a0f1a-dd41-4b5d-b0a0-a040cc0bb596\">\n",
              "    <div class=\"colab-df-container\">\n",
              "      <div>\n",
              "<style scoped>\n",
              "    .dataframe tbody tr th:only-of-type {\n",
              "        vertical-align: middle;\n",
              "    }\n",
              "\n",
              "    .dataframe tbody tr th {\n",
              "        vertical-align: top;\n",
              "    }\n",
              "\n",
              "    .dataframe thead th {\n",
              "        text-align: right;\n",
              "    }\n",
              "</style>\n",
              "<table border=\"1\" class=\"dataframe\">\n",
              "  <thead>\n",
              "    <tr style=\"text-align: right;\">\n",
              "      <th></th>\n",
              "      <th>V3</th>\n",
              "      <th>V4</th>\n",
              "      <th>V7</th>\n",
              "      <th>V10</th>\n",
              "      <th>V11</th>\n",
              "      <th>V12</th>\n",
              "      <th>V14</th>\n",
              "      <th>V16</th>\n",
              "      <th>V17</th>\n",
              "      <th>V18</th>\n",
              "      <th>Amount</th>\n",
              "      <th>scores</th>\n",
              "      <th>anomaly_score</th>\n",
              "    </tr>\n",
              "  </thead>\n",
              "  <tbody>\n",
              "    <tr>\n",
              "      <th>145090</th>\n",
              "      <td>-4.828868</td>\n",
              "      <td>8.461575</td>\n",
              "      <td>9.885845</td>\n",
              "      <td>8.077009</td>\n",
              "      <td>1.565153</td>\n",
              "      <td>-1.368406</td>\n",
              "      <td>-5.567237</td>\n",
              "      <td>2.238244</td>\n",
              "      <td>-2.198110</td>\n",
              "      <td>-0.568291</td>\n",
              "      <td>2018.09</td>\n",
              "      <td>-0.039351</td>\n",
              "      <td>-1</td>\n",
              "    </tr>\n",
              "    <tr>\n",
              "      <th>147548</th>\n",
              "      <td>-5.264265</td>\n",
              "      <td>3.446113</td>\n",
              "      <td>-3.291041</td>\n",
              "      <td>-3.936294</td>\n",
              "      <td>4.256564</td>\n",
              "      <td>-6.600654</td>\n",
              "      <td>-9.958531</td>\n",
              "      <td>-5.700141</td>\n",
              "      <td>-6.388093</td>\n",
              "      <td>-1.838159</td>\n",
              "      <td>1.18</td>\n",
              "      <td>-0.035172</td>\n",
              "      <td>-1</td>\n",
              "    </tr>\n",
              "    <tr>\n",
              "      <th>148908</th>\n",
              "      <td>-4.916562</td>\n",
              "      <td>4.809700</td>\n",
              "      <td>1.347216</td>\n",
              "      <td>-2.192541</td>\n",
              "      <td>1.621603</td>\n",
              "      <td>-4.280233</td>\n",
              "      <td>-6.440110</td>\n",
              "      <td>3.358763</td>\n",
              "      <td>6.029339</td>\n",
              "      <td>3.505916</td>\n",
              "      <td>0.77</td>\n",
              "      <td>-0.009698</td>\n",
              "      <td>-1</td>\n",
              "    </tr>\n",
              "    <tr>\n",
              "      <th>149522</th>\n",
              "      <td>-6.421490</td>\n",
              "      <td>2.434181</td>\n",
              "      <td>-3.227533</td>\n",
              "      <td>-4.723092</td>\n",
              "      <td>4.921657</td>\n",
              "      <td>-8.752770</td>\n",
              "      <td>-8.552023</td>\n",
              "      <td>-4.534030</td>\n",
              "      <td>-6.465409</td>\n",
              "      <td>-1.890310</td>\n",
              "      <td>52.69</td>\n",
              "      <td>-0.042604</td>\n",
              "      <td>-1</td>\n",
              "    </tr>\n",
              "    <tr>\n",
              "      <th>149587</th>\n",
              "      <td>-4.337200</td>\n",
              "      <td>2.378367</td>\n",
              "      <td>0.653745</td>\n",
              "      <td>-2.829098</td>\n",
              "      <td>3.504568</td>\n",
              "      <td>-3.918200</td>\n",
              "      <td>-4.704509</td>\n",
              "      <td>1.854772</td>\n",
              "      <td>6.024397</td>\n",
              "      <td>3.531250</td>\n",
              "      <td>1.00</td>\n",
              "      <td>-0.001306</td>\n",
              "      <td>-1</td>\n",
              "    </tr>\n",
              "    <tr>\n",
              "      <th>...</th>\n",
              "      <td>...</td>\n",
              "      <td>...</td>\n",
              "      <td>...</td>\n",
              "      <td>...</td>\n",
              "      <td>...</td>\n",
              "      <td>...</td>\n",
              "      <td>...</td>\n",
              "      <td>...</td>\n",
              "      <td>...</td>\n",
              "      <td>...</td>\n",
              "      <td>...</td>\n",
              "      <td>...</td>\n",
              "      <td>...</td>\n",
              "    </tr>\n",
              "    <tr>\n",
              "      <th>282846</th>\n",
              "      <td>-11.440464</td>\n",
              "      <td>-1.095071</td>\n",
              "      <td>-7.109752</td>\n",
              "      <td>4.282442</td>\n",
              "      <td>-3.587139</td>\n",
              "      <td>3.270167</td>\n",
              "      <td>5.385183</td>\n",
              "      <td>1.609322</td>\n",
              "      <td>3.054471</td>\n",
              "      <td>0.517887</td>\n",
              "      <td>3.82</td>\n",
              "      <td>-0.016930</td>\n",
              "      <td>-1</td>\n",
              "    </tr>\n",
              "    <tr>\n",
              "      <th>282863</th>\n",
              "      <td>-11.907335</td>\n",
              "      <td>-1.110679</td>\n",
              "      <td>-7.479686</td>\n",
              "      <td>4.367054</td>\n",
              "      <td>-3.712310</td>\n",
              "      <td>3.440374</td>\n",
              "      <td>5.630943</td>\n",
              "      <td>1.709901</td>\n",
              "      <td>3.214280</td>\n",
              "      <td>0.539777</td>\n",
              "      <td>3.82</td>\n",
              "      <td>-0.022468</td>\n",
              "      <td>-1</td>\n",
              "    </tr>\n",
              "    <tr>\n",
              "      <th>282881</th>\n",
              "      <td>-12.374202</td>\n",
              "      <td>-1.126277</td>\n",
              "      <td>-7.849644</td>\n",
              "      <td>4.451663</td>\n",
              "      <td>-3.837486</td>\n",
              "      <td>3.610583</td>\n",
              "      <td>5.876709</td>\n",
              "      <td>1.810475</td>\n",
              "      <td>3.374091</td>\n",
              "      <td>0.561676</td>\n",
              "      <td>3.82</td>\n",
              "      <td>-0.026354</td>\n",
              "      <td>-1</td>\n",
              "    </tr>\n",
              "    <tr>\n",
              "      <th>282903</th>\n",
              "      <td>-12.841065</td>\n",
              "      <td>-1.141867</td>\n",
              "      <td>-8.219623</td>\n",
              "      <td>4.536268</td>\n",
              "      <td>-3.962664</td>\n",
              "      <td>3.780793</td>\n",
              "      <td>6.122479</td>\n",
              "      <td>1.911043</td>\n",
              "      <td>3.533903</td>\n",
              "      <td>0.583581</td>\n",
              "      <td>3.82</td>\n",
              "      <td>-0.026354</td>\n",
              "      <td>-1</td>\n",
              "    </tr>\n",
              "    <tr>\n",
              "      <th>284249</th>\n",
              "      <td>-16.233798</td>\n",
              "      <td>3.592021</td>\n",
              "      <td>44.054461</td>\n",
              "      <td>-7.776435</td>\n",
              "      <td>0.214173</td>\n",
              "      <td>-4.499851</td>\n",
              "      <td>0.537895</td>\n",
              "      <td>2.326099</td>\n",
              "      <td>-0.402142</td>\n",
              "      <td>1.257379</td>\n",
              "      <td>10199.44</td>\n",
              "      <td>-0.017298</td>\n",
              "      <td>-1</td>\n",
              "    </tr>\n",
              "  </tbody>\n",
              "</table>\n",
              "<p>189 rows × 13 columns</p>\n",
              "</div>\n",
              "      <button class=\"colab-df-convert\" onclick=\"convertToInteractive('df-094a0f1a-dd41-4b5d-b0a0-a040cc0bb596')\"\n",
              "              title=\"Convert this dataframe to an interactive table.\"\n",
              "              style=\"display:none;\">\n",
              "        \n",
              "  <svg xmlns=\"http://www.w3.org/2000/svg\" height=\"24px\"viewBox=\"0 0 24 24\"\n",
              "       width=\"24px\">\n",
              "    <path d=\"M0 0h24v24H0V0z\" fill=\"none\"/>\n",
              "    <path d=\"M18.56 5.44l.94 2.06.94-2.06 2.06-.94-2.06-.94-.94-2.06-.94 2.06-2.06.94zm-11 1L8.5 8.5l.94-2.06 2.06-.94-2.06-.94L8.5 2.5l-.94 2.06-2.06.94zm10 10l.94 2.06.94-2.06 2.06-.94-2.06-.94-.94-2.06-.94 2.06-2.06.94z\"/><path d=\"M17.41 7.96l-1.37-1.37c-.4-.4-.92-.59-1.43-.59-.52 0-1.04.2-1.43.59L10.3 9.45l-7.72 7.72c-.78.78-.78 2.05 0 2.83L4 21.41c.39.39.9.59 1.41.59.51 0 1.02-.2 1.41-.59l7.78-7.78 2.81-2.81c.8-.78.8-2.07 0-2.86zM5.41 20L4 18.59l7.72-7.72 1.47 1.35L5.41 20z\"/>\n",
              "  </svg>\n",
              "      </button>\n",
              "      \n",
              "  <style>\n",
              "    .colab-df-container {\n",
              "      display:flex;\n",
              "      flex-wrap:wrap;\n",
              "      gap: 12px;\n",
              "    }\n",
              "\n",
              "    .colab-df-convert {\n",
              "      background-color: #E8F0FE;\n",
              "      border: none;\n",
              "      border-radius: 50%;\n",
              "      cursor: pointer;\n",
              "      display: none;\n",
              "      fill: #1967D2;\n",
              "      height: 32px;\n",
              "      padding: 0 0 0 0;\n",
              "      width: 32px;\n",
              "    }\n",
              "\n",
              "    .colab-df-convert:hover {\n",
              "      background-color: #E2EBFA;\n",
              "      box-shadow: 0px 1px 2px rgba(60, 64, 67, 0.3), 0px 1px 3px 1px rgba(60, 64, 67, 0.15);\n",
              "      fill: #174EA6;\n",
              "    }\n",
              "\n",
              "    [theme=dark] .colab-df-convert {\n",
              "      background-color: #3B4455;\n",
              "      fill: #D2E3FC;\n",
              "    }\n",
              "\n",
              "    [theme=dark] .colab-df-convert:hover {\n",
              "      background-color: #434B5C;\n",
              "      box-shadow: 0px 1px 3px 1px rgba(0, 0, 0, 0.15);\n",
              "      filter: drop-shadow(0px 1px 2px rgba(0, 0, 0, 0.3));\n",
              "      fill: #FFFFFF;\n",
              "    }\n",
              "  </style>\n",
              "\n",
              "      <script>\n",
              "        const buttonEl =\n",
              "          document.querySelector('#df-094a0f1a-dd41-4b5d-b0a0-a040cc0bb596 button.colab-df-convert');\n",
              "        buttonEl.style.display =\n",
              "          google.colab.kernel.accessAllowed ? 'block' : 'none';\n",
              "\n",
              "        async function convertToInteractive(key) {\n",
              "          const element = document.querySelector('#df-094a0f1a-dd41-4b5d-b0a0-a040cc0bb596');\n",
              "          const dataTable =\n",
              "            await google.colab.kernel.invokeFunction('convertToInteractive',\n",
              "                                                     [key], {});\n",
              "          if (!dataTable) return;\n",
              "\n",
              "          const docLinkHtml = 'Like what you see? Visit the ' +\n",
              "            '<a target=\"_blank\" href=https://colab.research.google.com/notebooks/data_table.ipynb>data table notebook</a>'\n",
              "            + ' to learn more about interactive tables.';\n",
              "          element.innerHTML = '';\n",
              "          dataTable['output_type'] = 'display_data';\n",
              "          await google.colab.output.renderOutput(dataTable, element);\n",
              "          const docLink = document.createElement('div');\n",
              "          docLink.innerHTML = docLinkHtml;\n",
              "          element.appendChild(docLink);\n",
              "        }\n",
              "      </script>\n",
              "    </div>\n",
              "  </div>\n",
              "  "
            ]
          },
          "metadata": {},
          "execution_count": 302
        }
      ],
      "source": [
        "#fraudulent transactions in day 1 -  anomalies are assigned an anomaly score of -1.\n",
        "x2[x2['anomaly_score']== -1]\n",
        "#198 rows, 12 columns"
      ]
    },
    {
      "cell_type": "code",
      "execution_count": 303,
      "metadata": {
        "id": "k3IP4Yc-CjyA"
      },
      "outputs": [],
      "source": [
        "fraud = x2[x2['anomaly_score']== -1]"
      ]
    },
    {
      "cell_type": "code",
      "execution_count": 304,
      "metadata": {
        "colab": {
          "base_uri": "https://localhost:8080/",
          "height": 488
        },
        "id": "Zy9FakNvCkOt",
        "outputId": "e35fb47d-ec38-4c33-cf69-b308683203a4"
      },
      "outputs": [
        {
          "output_type": "execute_result",
          "data": {
            "text/plain": [
              "               V3        V4         V7        V10       V11        V12  \\\n",
              "150662 -12.816760  7.031115 -11.543207 -13.320789  8.460244 -17.003289   \n",
              "150663 -12.816760  7.031115 -11.543207 -13.320789  8.460244 -17.003289   \n",
              "150679 -20.491952  7.465780 -14.020564 -15.563791  7.610820 -15.592323   \n",
              "150666 -16.760583  8.425832 -14.077086 -15.239962  8.030708 -16.060306   \n",
              "150697 -16.962530  7.116091 -16.147363 -16.746044  7.425801 -15.564838   \n",
              "...           ...       ...        ...        ...       ...        ...   \n",
              "171332  -8.676979 -1.852132  -5.357259   1.414401 -3.423222   1.956817   \n",
              "219611  -4.752545  4.654684   1.302620  -1.647503  2.971171  -1.104164   \n",
              "217409 -12.672967  7.870263   8.976407   3.085563  2.707035   0.942581   \n",
              "282806 -10.507334 -1.063927  -6.374117   4.115278 -3.336057   2.930897   \n",
              "188416  -4.655372  4.869108   1.345659  -1.772977  1.318367  -2.342171   \n",
              "\n",
              "              V14        V16        V17       V18  Amount    scores  \\\n",
              "150662 -14.094452 -12.661696 -18.912494 -6.626975  316.06 -0.108798   \n",
              "150663 -14.094452 -12.661696 -18.912494 -6.626975  316.06 -0.108798   \n",
              "150679 -13.247889 -10.342328 -16.044524 -5.882136  104.03 -0.107172   \n",
              "150666 -14.952981 -11.866731 -15.486990 -5.748652   78.00 -0.107172   \n",
              "150697 -14.029538 -11.133761 -15.833589 -5.748533   97.00 -0.107172   \n",
              "...           ...        ...        ...       ...     ...       ...   \n",
              "171332   3.864248   3.237454   2.638578  1.238381  152.65 -0.001136   \n",
              "219611  -7.527288   3.342689   5.390562  3.470265    0.77 -0.000451   \n",
              "217409  -2.026269   3.826820  -1.385620 -2.906455  538.71 -0.000270   \n",
              "282806   4.893776   1.408748   2.735121  0.472035    7.63 -0.000169   \n",
              "188416  -7.469542   3.162961   5.776442  3.101537    0.77 -0.000016   \n",
              "\n",
              "        anomaly_score  \n",
              "150662             -1  \n",
              "150663             -1  \n",
              "150679             -1  \n",
              "150666             -1  \n",
              "150697             -1  \n",
              "...               ...  \n",
              "171332             -1  \n",
              "219611             -1  \n",
              "217409             -1  \n",
              "282806             -1  \n",
              "188416             -1  \n",
              "\n",
              "[189 rows x 13 columns]"
            ],
            "text/html": [
              "\n",
              "  <div id=\"df-b05ed317-0e6e-482e-aea9-b084da93deed\">\n",
              "    <div class=\"colab-df-container\">\n",
              "      <div>\n",
              "<style scoped>\n",
              "    .dataframe tbody tr th:only-of-type {\n",
              "        vertical-align: middle;\n",
              "    }\n",
              "\n",
              "    .dataframe tbody tr th {\n",
              "        vertical-align: top;\n",
              "    }\n",
              "\n",
              "    .dataframe thead th {\n",
              "        text-align: right;\n",
              "    }\n",
              "</style>\n",
              "<table border=\"1\" class=\"dataframe\">\n",
              "  <thead>\n",
              "    <tr style=\"text-align: right;\">\n",
              "      <th></th>\n",
              "      <th>V3</th>\n",
              "      <th>V4</th>\n",
              "      <th>V7</th>\n",
              "      <th>V10</th>\n",
              "      <th>V11</th>\n",
              "      <th>V12</th>\n",
              "      <th>V14</th>\n",
              "      <th>V16</th>\n",
              "      <th>V17</th>\n",
              "      <th>V18</th>\n",
              "      <th>Amount</th>\n",
              "      <th>scores</th>\n",
              "      <th>anomaly_score</th>\n",
              "    </tr>\n",
              "  </thead>\n",
              "  <tbody>\n",
              "    <tr>\n",
              "      <th>150662</th>\n",
              "      <td>-12.816760</td>\n",
              "      <td>7.031115</td>\n",
              "      <td>-11.543207</td>\n",
              "      <td>-13.320789</td>\n",
              "      <td>8.460244</td>\n",
              "      <td>-17.003289</td>\n",
              "      <td>-14.094452</td>\n",
              "      <td>-12.661696</td>\n",
              "      <td>-18.912494</td>\n",
              "      <td>-6.626975</td>\n",
              "      <td>316.06</td>\n",
              "      <td>-0.108798</td>\n",
              "      <td>-1</td>\n",
              "    </tr>\n",
              "    <tr>\n",
              "      <th>150663</th>\n",
              "      <td>-12.816760</td>\n",
              "      <td>7.031115</td>\n",
              "      <td>-11.543207</td>\n",
              "      <td>-13.320789</td>\n",
              "      <td>8.460244</td>\n",
              "      <td>-17.003289</td>\n",
              "      <td>-14.094452</td>\n",
              "      <td>-12.661696</td>\n",
              "      <td>-18.912494</td>\n",
              "      <td>-6.626975</td>\n",
              "      <td>316.06</td>\n",
              "      <td>-0.108798</td>\n",
              "      <td>-1</td>\n",
              "    </tr>\n",
              "    <tr>\n",
              "      <th>150679</th>\n",
              "      <td>-20.491952</td>\n",
              "      <td>7.465780</td>\n",
              "      <td>-14.020564</td>\n",
              "      <td>-15.563791</td>\n",
              "      <td>7.610820</td>\n",
              "      <td>-15.592323</td>\n",
              "      <td>-13.247889</td>\n",
              "      <td>-10.342328</td>\n",
              "      <td>-16.044524</td>\n",
              "      <td>-5.882136</td>\n",
              "      <td>104.03</td>\n",
              "      <td>-0.107172</td>\n",
              "      <td>-1</td>\n",
              "    </tr>\n",
              "    <tr>\n",
              "      <th>150666</th>\n",
              "      <td>-16.760583</td>\n",
              "      <td>8.425832</td>\n",
              "      <td>-14.077086</td>\n",
              "      <td>-15.239962</td>\n",
              "      <td>8.030708</td>\n",
              "      <td>-16.060306</td>\n",
              "      <td>-14.952981</td>\n",
              "      <td>-11.866731</td>\n",
              "      <td>-15.486990</td>\n",
              "      <td>-5.748652</td>\n",
              "      <td>78.00</td>\n",
              "      <td>-0.107172</td>\n",
              "      <td>-1</td>\n",
              "    </tr>\n",
              "    <tr>\n",
              "      <th>150697</th>\n",
              "      <td>-16.962530</td>\n",
              "      <td>7.116091</td>\n",
              "      <td>-16.147363</td>\n",
              "      <td>-16.746044</td>\n",
              "      <td>7.425801</td>\n",
              "      <td>-15.564838</td>\n",
              "      <td>-14.029538</td>\n",
              "      <td>-11.133761</td>\n",
              "      <td>-15.833589</td>\n",
              "      <td>-5.748533</td>\n",
              "      <td>97.00</td>\n",
              "      <td>-0.107172</td>\n",
              "      <td>-1</td>\n",
              "    </tr>\n",
              "    <tr>\n",
              "      <th>...</th>\n",
              "      <td>...</td>\n",
              "      <td>...</td>\n",
              "      <td>...</td>\n",
              "      <td>...</td>\n",
              "      <td>...</td>\n",
              "      <td>...</td>\n",
              "      <td>...</td>\n",
              "      <td>...</td>\n",
              "      <td>...</td>\n",
              "      <td>...</td>\n",
              "      <td>...</td>\n",
              "      <td>...</td>\n",
              "      <td>...</td>\n",
              "    </tr>\n",
              "    <tr>\n",
              "      <th>171332</th>\n",
              "      <td>-8.676979</td>\n",
              "      <td>-1.852132</td>\n",
              "      <td>-5.357259</td>\n",
              "      <td>1.414401</td>\n",
              "      <td>-3.423222</td>\n",
              "      <td>1.956817</td>\n",
              "      <td>3.864248</td>\n",
              "      <td>3.237454</td>\n",
              "      <td>2.638578</td>\n",
              "      <td>1.238381</td>\n",
              "      <td>152.65</td>\n",
              "      <td>-0.001136</td>\n",
              "      <td>-1</td>\n",
              "    </tr>\n",
              "    <tr>\n",
              "      <th>219611</th>\n",
              "      <td>-4.752545</td>\n",
              "      <td>4.654684</td>\n",
              "      <td>1.302620</td>\n",
              "      <td>-1.647503</td>\n",
              "      <td>2.971171</td>\n",
              "      <td>-1.104164</td>\n",
              "      <td>-7.527288</td>\n",
              "      <td>3.342689</td>\n",
              "      <td>5.390562</td>\n",
              "      <td>3.470265</td>\n",
              "      <td>0.77</td>\n",
              "      <td>-0.000451</td>\n",
              "      <td>-1</td>\n",
              "    </tr>\n",
              "    <tr>\n",
              "      <th>217409</th>\n",
              "      <td>-12.672967</td>\n",
              "      <td>7.870263</td>\n",
              "      <td>8.976407</td>\n",
              "      <td>3.085563</td>\n",
              "      <td>2.707035</td>\n",
              "      <td>0.942581</td>\n",
              "      <td>-2.026269</td>\n",
              "      <td>3.826820</td>\n",
              "      <td>-1.385620</td>\n",
              "      <td>-2.906455</td>\n",
              "      <td>538.71</td>\n",
              "      <td>-0.000270</td>\n",
              "      <td>-1</td>\n",
              "    </tr>\n",
              "    <tr>\n",
              "      <th>282806</th>\n",
              "      <td>-10.507334</td>\n",
              "      <td>-1.063927</td>\n",
              "      <td>-6.374117</td>\n",
              "      <td>4.115278</td>\n",
              "      <td>-3.336057</td>\n",
              "      <td>2.930897</td>\n",
              "      <td>4.893776</td>\n",
              "      <td>1.408748</td>\n",
              "      <td>2.735121</td>\n",
              "      <td>0.472035</td>\n",
              "      <td>7.63</td>\n",
              "      <td>-0.000169</td>\n",
              "      <td>-1</td>\n",
              "    </tr>\n",
              "    <tr>\n",
              "      <th>188416</th>\n",
              "      <td>-4.655372</td>\n",
              "      <td>4.869108</td>\n",
              "      <td>1.345659</td>\n",
              "      <td>-1.772977</td>\n",
              "      <td>1.318367</td>\n",
              "      <td>-2.342171</td>\n",
              "      <td>-7.469542</td>\n",
              "      <td>3.162961</td>\n",
              "      <td>5.776442</td>\n",
              "      <td>3.101537</td>\n",
              "      <td>0.77</td>\n",
              "      <td>-0.000016</td>\n",
              "      <td>-1</td>\n",
              "    </tr>\n",
              "  </tbody>\n",
              "</table>\n",
              "<p>189 rows × 13 columns</p>\n",
              "</div>\n",
              "      <button class=\"colab-df-convert\" onclick=\"convertToInteractive('df-b05ed317-0e6e-482e-aea9-b084da93deed')\"\n",
              "              title=\"Convert this dataframe to an interactive table.\"\n",
              "              style=\"display:none;\">\n",
              "        \n",
              "  <svg xmlns=\"http://www.w3.org/2000/svg\" height=\"24px\"viewBox=\"0 0 24 24\"\n",
              "       width=\"24px\">\n",
              "    <path d=\"M0 0h24v24H0V0z\" fill=\"none\"/>\n",
              "    <path d=\"M18.56 5.44l.94 2.06.94-2.06 2.06-.94-2.06-.94-.94-2.06-.94 2.06-2.06.94zm-11 1L8.5 8.5l.94-2.06 2.06-.94-2.06-.94L8.5 2.5l-.94 2.06-2.06.94zm10 10l.94 2.06.94-2.06 2.06-.94-2.06-.94-.94-2.06-.94 2.06-2.06.94z\"/><path d=\"M17.41 7.96l-1.37-1.37c-.4-.4-.92-.59-1.43-.59-.52 0-1.04.2-1.43.59L10.3 9.45l-7.72 7.72c-.78.78-.78 2.05 0 2.83L4 21.41c.39.39.9.59 1.41.59.51 0 1.02-.2 1.41-.59l7.78-7.78 2.81-2.81c.8-.78.8-2.07 0-2.86zM5.41 20L4 18.59l7.72-7.72 1.47 1.35L5.41 20z\"/>\n",
              "  </svg>\n",
              "      </button>\n",
              "      \n",
              "  <style>\n",
              "    .colab-df-container {\n",
              "      display:flex;\n",
              "      flex-wrap:wrap;\n",
              "      gap: 12px;\n",
              "    }\n",
              "\n",
              "    .colab-df-convert {\n",
              "      background-color: #E8F0FE;\n",
              "      border: none;\n",
              "      border-radius: 50%;\n",
              "      cursor: pointer;\n",
              "      display: none;\n",
              "      fill: #1967D2;\n",
              "      height: 32px;\n",
              "      padding: 0 0 0 0;\n",
              "      width: 32px;\n",
              "    }\n",
              "\n",
              "    .colab-df-convert:hover {\n",
              "      background-color: #E2EBFA;\n",
              "      box-shadow: 0px 1px 2px rgba(60, 64, 67, 0.3), 0px 1px 3px 1px rgba(60, 64, 67, 0.15);\n",
              "      fill: #174EA6;\n",
              "    }\n",
              "\n",
              "    [theme=dark] .colab-df-convert {\n",
              "      background-color: #3B4455;\n",
              "      fill: #D2E3FC;\n",
              "    }\n",
              "\n",
              "    [theme=dark] .colab-df-convert:hover {\n",
              "      background-color: #434B5C;\n",
              "      box-shadow: 0px 1px 3px 1px rgba(0, 0, 0, 0.15);\n",
              "      filter: drop-shadow(0px 1px 2px rgba(0, 0, 0, 0.3));\n",
              "      fill: #FFFFFF;\n",
              "    }\n",
              "  </style>\n",
              "\n",
              "      <script>\n",
              "        const buttonEl =\n",
              "          document.querySelector('#df-b05ed317-0e6e-482e-aea9-b084da93deed button.colab-df-convert');\n",
              "        buttonEl.style.display =\n",
              "          google.colab.kernel.accessAllowed ? 'block' : 'none';\n",
              "\n",
              "        async function convertToInteractive(key) {\n",
              "          const element = document.querySelector('#df-b05ed317-0e6e-482e-aea9-b084da93deed');\n",
              "          const dataTable =\n",
              "            await google.colab.kernel.invokeFunction('convertToInteractive',\n",
              "                                                     [key], {});\n",
              "          if (!dataTable) return;\n",
              "\n",
              "          const docLinkHtml = 'Like what you see? Visit the ' +\n",
              "            '<a target=\"_blank\" href=https://colab.research.google.com/notebooks/data_table.ipynb>data table notebook</a>'\n",
              "            + ' to learn more about interactive tables.';\n",
              "          element.innerHTML = '';\n",
              "          dataTable['output_type'] = 'display_data';\n",
              "          await google.colab.output.renderOutput(dataTable, element);\n",
              "          const docLink = document.createElement('div');\n",
              "          docLink.innerHTML = docLinkHtml;\n",
              "          element.appendChild(docLink);\n",
              "        }\n",
              "      </script>\n",
              "    </div>\n",
              "  </div>\n",
              "  "
            ]
          },
          "metadata": {},
          "execution_count": 304
        }
      ],
      "source": [
        "fraud.sort_values(by=['scores'], ascending=True)"
      ]
    },
    {
      "cell_type": "markdown",
      "metadata": {
        "id": "MSLICBhECSL5"
      },
      "source": [
        "# **Evaluation Metrics - Filter**"
      ]
    },
    {
      "cell_type": "code",
      "execution_count": 305,
      "metadata": {
        "id": "sy1U9iuJNp-h"
      },
      "outputs": [],
      "source": [
        "#Rename the prediction values to 0 for normal transactions , 1 for fraudulent transactions\n",
        "y_pred_test[y_pred_test == 1] = 0\n",
        "y_pred_test[y_pred_test == -1] = 1"
      ]
    },
    {
      "cell_type": "code",
      "execution_count": 306,
      "metadata": {
        "colab": {
          "base_uri": "https://localhost:8080/"
        },
        "id": "1mWfecnk1wol",
        "outputId": "744c0dea-d028-46f1-a0f9-b40a9719531f"
      },
      "outputs": [
        {
          "output_type": "stream",
          "name": "stdout",
          "text": [
            "0.9987716128295041\n"
          ]
        }
      ],
      "source": [
        "from sklearn.metrics import accuracy_score\n",
        "print(accuracy_score(y2, y_pred_test))\n",
        "\n"
      ]
    },
    {
      "cell_type": "code",
      "execution_count": 307,
      "metadata": {
        "colab": {
          "base_uri": "https://localhost:8080/"
        },
        "id": "YkkJwIxaTGjt",
        "outputId": "263a7db9-8cef-47a5-d312-6005db5f544f"
      },
      "outputs": [
        {
          "output_type": "stream",
          "name": "stdout",
          "text": [
            "              precision    recall  f1-score   support\n",
            "\n",
            "           0       1.00      1.00      1.00    139810\n",
            "           1       0.60      0.54      0.57       211\n",
            "\n",
            "    accuracy                           1.00    140021\n",
            "   macro avg       0.80      0.77      0.78    140021\n",
            "weighted avg       1.00      1.00      1.00    140021\n",
            "\n"
          ]
        }
      ],
      "source": [
        "#print precision, recall, and accuracy from the perspective of each of the class \n",
        "from sklearn.metrics import classification_report\n",
        "from sklearn import metrics\n",
        "\n",
        "print(classification_report(y2, y_pred_test))"
      ]
    },
    {
      "cell_type": "code",
      "source": [
        "from sklearn.metrics import confusion_matrix\n",
        "cf=confusion_matrix(b_y2, y_pred_test)\n",
        "print (\"Confusion Matrix\")\n",
        "print(cf)\n",
        "tn, fp, fn, tp=cf.ravel()\n",
        "print (\"TP: \", tp,\", FP: \", fp,\", TN: \", tn,\", FN:\", fn)"
      ],
      "metadata": {
        "colab": {
          "base_uri": "https://localhost:8080/"
        },
        "id": "f2PyrTdAYxc6",
        "outputId": "42d8693b-b630-4c27-8084-98cce90f2170"
      },
      "execution_count": 308,
      "outputs": [
        {
          "output_type": "stream",
          "name": "stdout",
          "text": [
            "Confusion Matrix\n",
            "[[139735     75]\n",
            " [    97    114]]\n",
            "TP:  114 , FP:  75 , TN:  139735 , FN: 97\n"
          ]
        }
      ]
    },
    {
      "cell_type": "markdown",
      "metadata": {
        "id": "HpLuse0zZkVz"
      },
      "source": [
        "# **(B) FEATURE SELECTION - WRAPPER**"
      ]
    },
    {
      "cell_type": "code",
      "execution_count": 311,
      "metadata": {
        "id": "PowLUhTPB9m3"
      },
      "outputs": [],
      "source": [
        "#day 1 \n",
        "y1 = df_1['Class']\n",
        "x1 = df_1.drop(['Class','Time','V1', 'V2','V5', 'V6','V8', 'V13', 'V15','V16', 'V19', 'V20', 'V21', 'V22', 'V23', 'V24', 'V25', 'V26', 'V27', 'V28'], axis=1)\n",
        "\n",
        "#day 2\n",
        "y2 = df_2['Class']\n",
        "x2 = df_2.drop(['Class','Time','V1', 'V2','V5', 'V6','V8', 'V13', 'V15','V16', 'V19', 'V20', 'V21', 'V22', 'V23', 'V24', 'V25', 'V26', 'V27', 'V28'], axis=1)\n",
        "\n",
        "#convert to numpy\n",
        "x_1 = x1.to_numpy() \n",
        "x_2 = x2.to_numpy() "
      ]
    },
    {
      "cell_type": "code",
      "execution_count": 312,
      "metadata": {
        "colab": {
          "base_uri": "https://localhost:8080/"
        },
        "id": "PYjYQfhXaSkK",
        "outputId": "87e0c6af-1a54-469d-c142-08c0fe1733ad"
      },
      "outputs": [
        {
          "output_type": "stream",
          "name": "stderr",
          "text": [
            "[Parallel(n_jobs=1)]: Using backend SequentialBackend with 1 concurrent workers.\n",
            "[Parallel(n_jobs=1)]: Done   1 out of   1 | elapsed:    5.2s remaining:    0.0s\n",
            "[Parallel(n_jobs=1)]: Done  11 out of  11 | elapsed:   56.7s finished\n",
            "\n",
            "[2022-07-30 18:39:00] Features: 1/6 -- score: 0.001533287973527545[Parallel(n_jobs=1)]: Using backend SequentialBackend with 1 concurrent workers.\n",
            "[Parallel(n_jobs=1)]: Done   1 out of   1 | elapsed:    5.2s remaining:    0.0s\n",
            "[Parallel(n_jobs=1)]: Done  10 out of  10 | elapsed:   51.2s finished\n",
            "\n",
            "[2022-07-30 18:39:51] Features: 2/6 -- score: 0.0007321133617598176[Parallel(n_jobs=1)]: Using backend SequentialBackend with 1 concurrent workers.\n",
            "[Parallel(n_jobs=1)]: Done   1 out of   1 | elapsed:    5.4s remaining:    0.0s\n",
            "[Parallel(n_jobs=1)]: Done   9 out of   9 | elapsed:   48.8s finished\n",
            "\n",
            "[2022-07-30 18:40:40] Features: 3/6 -- score: 0.0005594452105659867[Parallel(n_jobs=1)]: Using backend SequentialBackend with 1 concurrent workers.\n",
            "[Parallel(n_jobs=1)]: Done   1 out of   1 | elapsed:    5.8s remaining:    0.0s\n",
            "[Parallel(n_jobs=1)]: Done   8 out of   8 | elapsed:   46.1s finished\n",
            "\n",
            "[2022-07-30 18:41:26] Features: 4/6 -- score: 0.0004351250862087978[Parallel(n_jobs=1)]: Using backend SequentialBackend with 1 concurrent workers.\n",
            "[Parallel(n_jobs=1)]: Done   1 out of   1 | elapsed:    6.1s remaining:    0.0s\n",
            "[Parallel(n_jobs=1)]: Done   7 out of   7 | elapsed:   42.8s finished\n",
            "\n",
            "[2022-07-30 18:42:09] Features: 5/6 -- score: 0.00040059279162994786[Parallel(n_jobs=1)]: Using backend SequentialBackend with 1 concurrent workers.\n",
            "[Parallel(n_jobs=1)]: Done   1 out of   1 | elapsed:    6.5s remaining:    0.0s\n"
          ]
        },
        {
          "output_type": "stream",
          "name": "stdout",
          "text": [
            "CPU times: user 4min 41s, sys: 4.31 s, total: 4min 45s\n",
            "Wall time: 4min 44s\n"
          ]
        },
        {
          "output_type": "stream",
          "name": "stderr",
          "text": [
            "[Parallel(n_jobs=1)]: Done   6 out of   6 | elapsed:   39.2s finished\n",
            "\n",
            "[2022-07-30 18:42:48] Features: 6/6 -- score: 0.0003384311791318079"
          ]
        }
      ],
      "source": [
        "%%time\n",
        "from mlxtend.feature_selection import SequentialFeatureSelector as sfs\n",
        "from sklearn.ensemble import IsolationForest\n",
        "\n",
        "# Build RF classifier to use in feature selection\n",
        "isf = IsolationForest(random_state=45)\n",
        "\n",
        "# Build step forward feature selection\n",
        "sfs1 = sfs(isf,\n",
        "           k_features=6,\n",
        "           forward=True,\n",
        "           floating=False,\n",
        "           verbose=2,\n",
        "           scoring='accuracy',\n",
        "           cv=5)\n",
        "\n",
        "# Perform SFFS\n",
        "sfs1 = sfs1.fit(x1, y1)"
      ]
    },
    {
      "cell_type": "code",
      "execution_count": 313,
      "metadata": {
        "colab": {
          "base_uri": "https://localhost:8080/"
        },
        "id": "3hjgEkyv9Bh4",
        "outputId": "c3f0e9f9-32bb-4543-8645-9cd6a2ba8b12"
      },
      "outputs": [
        {
          "output_type": "execute_result",
          "data": {
            "text/plain": [
              "('V3', 'V4', 'V7', 'V9', 'V18', 'Amount')"
            ]
          },
          "metadata": {},
          "execution_count": 313
        }
      ],
      "source": [
        "# Which features?\n",
        "\n",
        "sfs1.k_feature_names_\n",
        "#'V3', 'V4', 'V7', 'V9', 'V18', 'Amount'"
      ]
    },
    {
      "cell_type": "code",
      "execution_count": 314,
      "metadata": {
        "id": "JlnV-FIt9ECA"
      },
      "outputs": [],
      "source": [
        "#new wrapper feature set\n",
        "\n",
        "wx1 = x1[['V3', 'V4', 'V7', 'V9', 'V18', 'Amount']]\n",
        "wx2 = x2[['V3', 'V4', 'V7', 'V9', 'V18', 'Amount']]"
      ]
    },
    {
      "cell_type": "code",
      "execution_count": 315,
      "metadata": {
        "colab": {
          "base_uri": "https://localhost:8080/"
        },
        "id": "9p_a-oCc9GGi",
        "outputId": "20ffc73f-2264-4333-b648-c8ef72186120"
      },
      "outputs": [
        {
          "output_type": "stream",
          "name": "stdout",
          "text": [
            "CPU times: user 839 ms, sys: 20 ms, total: 859 ms\n",
            "Wall time: 909 ms\n"
          ]
        }
      ],
      "source": [
        "%%time\n",
        "# Build full model with selected features\n",
        "isf = IsolationForest(random_state=45)\n",
        "isf.fit(wx1, y1)"
      ]
    },
    {
      "cell_type": "code",
      "execution_count": 316,
      "metadata": {
        "id": "ofjsghE49N4z"
      },
      "outputs": [],
      "source": [
        "#predict training set\n",
        "y_train_pred = rf.predict(wx1)"
      ]
    },
    {
      "cell_type": "code",
      "execution_count": 317,
      "metadata": {
        "id": "D3hLpDsa9Ohl"
      },
      "outputs": [],
      "source": [
        "#predict testing set\n",
        "y_test_pred = rf.predict(wx2)"
      ]
    },
    {
      "cell_type": "markdown",
      "metadata": {
        "id": "4mjJjDc_5A3t"
      },
      "source": [
        "# **Evaluation Metrics - Wrapper**"
      ]
    },
    {
      "cell_type": "code",
      "execution_count": 318,
      "metadata": {
        "colab": {
          "base_uri": "https://localhost:8080/"
        },
        "id": "hdUjer3v9QcX",
        "outputId": "8b4f1614-fc8b-4f40-8069-e222d618eaa0"
      },
      "outputs": [
        {
          "output_type": "stream",
          "name": "stdout",
          "text": [
            "              precision    recall  f1-score   support\n",
            "\n",
            "           0       1.00      0.98      0.99    139810\n",
            "           1       0.05      0.58      0.09       211\n",
            "\n",
            "    accuracy                           0.98    140021\n",
            "   macro avg       0.52      0.78      0.54    140021\n",
            "weighted avg       1.00      0.98      0.99    140021\n",
            "\n"
          ]
        }
      ],
      "source": [
        "#print precision, recall, and accuracy from the perspective of each of the class \n",
        "from sklearn.metrics import classification_report\n",
        "from sklearn import metrics\n",
        "\n",
        "print(classification_report(y2, y_test_pred))"
      ]
    },
    {
      "cell_type": "code",
      "source": [
        "from sklearn.metrics import confusion_matrix\n",
        "cf=confusion_matrix(b_y2, y_test_pred)\n",
        "print (\"Confusion Matrix\")\n",
        "print(cf)\n",
        "tn, fp, fn, tp=cf.ravel()\n",
        "print (\"TP: \", tp,\", FP: \", fp,\", TN: \", tn,\", FN:\", fn)"
      ],
      "metadata": {
        "colab": {
          "base_uri": "https://localhost:8080/"
        },
        "id": "k7P3iohfbwik",
        "outputId": "c42c9aec-f89a-4fec-9e3b-e72c8fc6dc59"
      },
      "execution_count": 319,
      "outputs": [
        {
          "output_type": "stream",
          "name": "stdout",
          "text": [
            "Confusion Matrix\n",
            "[[137315   2495]\n",
            " [    89    122]]\n",
            "TP:  122 , FP:  2495 , TN:  137315 , FN: 89\n"
          ]
        }
      ]
    },
    {
      "cell_type": "markdown",
      "metadata": {
        "id": "g2pJdHLOaDHx"
      },
      "source": [
        "# **(C) PARAMETER TUNING**"
      ]
    },
    {
      "cell_type": "code",
      "execution_count": 320,
      "metadata": {
        "colab": {
          "base_uri": "https://localhost:8080/"
        },
        "id": "anxsrwb5aTHj",
        "outputId": "c2d9c7c4-b144-43f0-b85f-f1ff12be79b0"
      },
      "outputs": [
        {
          "output_type": "stream",
          "name": "stdout",
          "text": [
            "Tuned Isolation Forest Parameters: {'n_estimators': 60, 'max_features': 6, 'contamination': 0.0001, 'bootstrap': True}\n",
            "CPU times: user 2min 58s, sys: 4.8 s, total: 3min 3s\n",
            "Wall time: 3min 11s\n"
          ]
        }
      ],
      "source": [
        "%%time\n",
        "\n",
        "from sklearn.model_selection import RandomizedSearchCV\n",
        "  \n",
        "# Creating the hyperparameter grid \n",
        "param_grid = {\n",
        "    'bootstrap': [True],\n",
        "    'max_features': [2, 6],\n",
        "    'n_estimators': [50, 60, 70],\n",
        "    'contamination': ['auto', 0.0001, 0.0002]\n",
        "}\n",
        "\n",
        "  \n",
        "# Instantiating LR\n",
        "isf = IsolationForest()\n",
        "  \n",
        "# Instantiating RandomizedSearchCV object\n",
        "isf = RandomizedSearchCV(isf, param_grid, cv = 5,  scoring=\"neg_mean_squared_error\", refit=True, return_train_score=True)\n",
        "  \n",
        "isf.fit(wx1, y1)\n",
        "  \n",
        "# Print the tuned parameters and score\n",
        "print(\"Tuned Isolation Forest Parameters: {}\".format(isf.best_params_))\n"
      ]
    },
    {
      "cell_type": "code",
      "execution_count": null,
      "metadata": {
        "colab": {
          "background_save": true
        },
        "id": "yt5Pw1ezKoKQ"
      },
      "outputs": [],
      "source": [
        "#Tuned Isolation Forest Parameters: {'n_estimators': 60, 'max_features': 6, 'contamination': 0.0001, 'bootstrap': True}\n",
        "#CPU times: user 2min 58s, sys: 4.8 s, total: 3min 3s\n",
        "#Wall time: 3min 11s"
      ]
    },
    {
      "cell_type": "code",
      "execution_count": 321,
      "metadata": {
        "colab": {
          "base_uri": "https://localhost:8080/"
        },
        "id": "JV0cf9qACVFr",
        "outputId": "1d65c945-713b-484e-d600-9b02d6ec7f34"
      },
      "outputs": [
        {
          "output_type": "execute_result",
          "data": {
            "text/plain": [
              "0.0014212153891202035"
            ]
          },
          "metadata": {},
          "execution_count": 321
        }
      ],
      "source": [
        "tuned_isf = IsolationForest(n_estimators= 60, max_features= 6, bootstrap= True, contamination= 0.0001)\n",
        "\n",
        "tuned_isf.fit(wx1, y1)\n",
        "tuned_isf_predictions = tuned_isf.predict(wx2)\n",
        "accuracy_score(y2, tuned_isf_predictions)"
      ]
    },
    {
      "cell_type": "markdown",
      "metadata": {
        "id": "qL0RbWAE5DMd"
      },
      "source": [
        "# **Evaluation Metrics - Tuning**"
      ]
    },
    {
      "cell_type": "code",
      "execution_count": 322,
      "metadata": {
        "colab": {
          "base_uri": "https://localhost:8080/"
        },
        "id": "DeHzl77Y5Lau",
        "outputId": "f01259d9-4a4f-4bdf-b63e-ac06bb8c71e2"
      },
      "outputs": [
        {
          "output_type": "stream",
          "name": "stdout",
          "text": [
            "              precision    recall  f1-score   support\n",
            "\n",
            "           0       1.00      0.97      0.98    139810\n",
            "           1       0.04      0.85      0.07       211\n",
            "\n",
            "    accuracy                           0.97    140021\n",
            "   macro avg       0.52      0.91      0.53    140021\n",
            "weighted avg       1.00      0.97      0.98    140021\n",
            "\n"
          ]
        }
      ],
      "source": [
        "#print precision, recall, and accuracy from the perspective of each of the class \n",
        "from sklearn.metrics import classification_report\n",
        "from sklearn import metrics\n",
        "\n",
        "print(classification_report(y2, tuned_tree_predictions))"
      ]
    },
    {
      "cell_type": "code",
      "source": [
        "from sklearn.metrics import confusion_matrix\n",
        "cf=confusion_matrix(y2, tuned_tree_predictions)\n",
        "print (\"Confusion Matrix\")\n",
        "print(cf)\n",
        "tn, fp, fn, tp=cf.ravel()\n",
        "print (\"TP: \", tp,\", FP: \", fp,\", TN: \", tn,\", FN:\", fn)"
      ],
      "metadata": {
        "colab": {
          "base_uri": "https://localhost:8080/"
        },
        "id": "nDAKwMGmcSvv",
        "outputId": "fc118d4b-5d01-488f-f0d7-e1167ffbfef4"
      },
      "execution_count": 323,
      "outputs": [
        {
          "output_type": "stream",
          "name": "stdout",
          "text": [
            "Confusion Matrix\n",
            "[[135426   4384]\n",
            " [    32    179]]\n",
            "TP:  179 , FP:  4384 , TN:  135426 , FN: 32\n"
          ]
        }
      ]
    },
    {
      "cell_type": "markdown",
      "metadata": {
        "id": "j372IuZVED1b"
      },
      "source": [
        "# **(D) BASELINE MODEL**"
      ]
    },
    {
      "cell_type": "code",
      "execution_count": 324,
      "metadata": {
        "colab": {
          "base_uri": "https://localhost:8080/"
        },
        "id": "V7mTZDix5az6",
        "outputId": "d93a1e7b-0495-416e-b196-a1bc15c9451d"
      },
      "outputs": [
        {
          "output_type": "execute_result",
          "data": {
            "text/plain": [
              "(289010, 30)"
            ]
          },
          "metadata": {},
          "execution_count": 324
        }
      ],
      "source": [
        "b_x1.shape"
      ]
    },
    {
      "cell_type": "code",
      "execution_count": 325,
      "metadata": {
        "id": "WIOVtt-cDHxD"
      },
      "outputs": [],
      "source": [
        "#baseline train set\n",
        "bday1 = df_upsampled.copy()\n",
        "b_y1 = bday1['Class']\n",
        "b_x1 = bday1.drop(['Class'], axis=1)"
      ]
    },
    {
      "cell_type": "code",
      "execution_count": 326,
      "metadata": {
        "id": "u93APVIeLIbD"
      },
      "outputs": [],
      "source": [
        "#baseline test set\n",
        "bday2 = df_2.copy()\n",
        "b_y2 = bday2['Class']\n",
        "b_x2 = bday2.drop(['Class'], axis=1)"
      ]
    },
    {
      "cell_type": "code",
      "execution_count": 327,
      "metadata": {
        "colab": {
          "base_uri": "https://localhost:8080/"
        },
        "id": "sfyaT0uqKslF",
        "outputId": "93a1a815-5aaa-474d-cc87-d05ec9740c63"
      },
      "outputs": [
        {
          "output_type": "stream",
          "name": "stdout",
          "text": [
            "0.0017304750013189597\n"
          ]
        }
      ],
      "source": [
        "#fraud and normal transactions dataset \n",
        "fraud = df[df['Class']==1]\n",
        "normal = df[df['Class']==0]\n",
        "\n",
        "#proportion of fraud, which will be used as contamination level\n",
        "outlier_proportion = len(fraud)/float(len(normal))\n",
        "print(outlier_proportion)\n"
      ]
    },
    {
      "cell_type": "code",
      "execution_count": 328,
      "metadata": {
        "id": "ETPPmmljD9B6"
      },
      "outputs": [],
      "source": [
        "#convert to numpy\n",
        "x_1 = b_x1.to_numpy() \n",
        "x_2 = b_x2.to_numpy() \n",
        " "
      ]
    },
    {
      "cell_type": "code",
      "execution_count": 329,
      "metadata": {
        "id": "PrFFITCfEJBn"
      },
      "outputs": [],
      "source": [
        "#importing isolation forest\n",
        "from sklearn.ensemble import IsolationForest"
      ]
    },
    {
      "cell_type": "code",
      "execution_count": 330,
      "metadata": {
        "id": "LxqIfvugEMZD"
      },
      "outputs": [],
      "source": [
        "#estimating anomaly population\n",
        "contamination = outlier_proportion"
      ]
    },
    {
      "cell_type": "code",
      "execution_count": 331,
      "metadata": {
        "colab": {
          "base_uri": "https://localhost:8080/"
        },
        "id": "GXG9YX1DEMfZ",
        "outputId": "975259b4-8633-42d0-d804-6af6b7abab2a"
      },
      "outputs": [
        {
          "output_type": "stream",
          "name": "stdout",
          "text": [
            "CPU times: user 16.5 s, sys: 362 ms, total: 16.9 s\n",
            "Wall time: 17.1 s\n"
          ]
        }
      ],
      "source": [
        "%%time\n",
        "model_if = IsolationForest(random_state=45, contamination=contamination)\n",
        "model_if.fit(x_1)"
      ]
    },
    {
      "cell_type": "code",
      "execution_count": 332,
      "metadata": {
        "id": "irotGrflETS5"
      },
      "outputs": [],
      "source": [
        "#predict train set \n",
        "y_pred_train = model_if.predict(x_1)"
      ]
    },
    {
      "cell_type": "code",
      "execution_count": 333,
      "metadata": {
        "id": "5A72iZQ0ETpT"
      },
      "outputs": [],
      "source": [
        "#predict test set \n",
        "y_pred_test = model_if.predict(x_2)"
      ]
    },
    {
      "cell_type": "code",
      "execution_count": 334,
      "metadata": {
        "id": "Mqf9gU9MEaJG"
      },
      "outputs": [],
      "source": [
        "b_x1['scores'] = model_if.decision_function(x_1)\n"
      ]
    },
    {
      "cell_type": "code",
      "execution_count": 335,
      "metadata": {
        "id": "2euXXps2Eawo"
      },
      "outputs": [],
      "source": [
        "b_x1['anomaly_score'] = model_if.predict(x_1)\n"
      ]
    },
    {
      "cell_type": "code",
      "execution_count": 336,
      "metadata": {
        "colab": {
          "base_uri": "https://localhost:8080/",
          "height": 1000
        },
        "id": "xCHnwqMJEhVA",
        "outputId": "51c8ffd8-5a6d-4499-c667-d17fe54ccc3f"
      },
      "outputs": [
        {
          "output_type": "execute_result",
          "data": {
            "text/plain": [
              "           Time         V1         V2         V3         V4         V5  \\\n",
              "1632     1264.0 -11.140706  -9.612726 -12.389545   6.013346 -32.092129   \n",
              "6812     8592.0 -23.066842 -25.640527  -3.080313   4.866932   6.901397   \n",
              "7485    10201.0  -9.507807  -6.332182  -2.347929   5.909158  -1.946121   \n",
              "8610    11621.0 -27.670569 -34.607649   2.243079  10.463020  34.099309   \n",
              "19760   30537.0 -14.191832 -25.313252  -7.578781   7.730844  -8.285413   \n",
              "23128   32605.0 -23.383129 -18.098804 -20.195367   4.249104 -42.147898   \n",
              "39769   39954.0 -56.407510 -72.715728  -6.605265  16.491217  34.801666   \n",
              "46841   42951.0 -23.712839 -42.172688 -13.320825   9.925019 -13.945538   \n",
              "50287   44423.0 -33.017174 -39.818310  -1.445971  10.739659  28.762671   \n",
              "52524   45502.0  -7.234663   4.013911  -3.883894  -2.686814 -11.940702   \n",
              "54018   46253.0 -21.780665 -38.305310 -12.122469   9.752791 -12.880794   \n",
              "57209   47807.0 -13.537461 -24.426864  -7.355943   6.896486  -8.515928   \n",
              "58465   48401.0 -36.802320 -63.344698 -20.645794  16.715537 -20.672064   \n",
              "65423   51575.0 -14.904340  12.793880  -7.888739   0.512373  -7.661829   \n",
              "66547   52102.0 -17.709136 -17.891256  -2.642177   7.973404   8.089657   \n",
              "74699   55709.0 -16.950064 -16.417395 -12.523381   6.555638 -27.752964   \n",
              "77814   57225.0 -22.435671 -21.510079  -3.711944   6.479684   2.177843   \n",
              "79267   57945.0 -30.821436 -35.616754  -4.460572  10.689621  18.611287   \n",
              "79296   57957.0 -29.516123 -33.204192  -4.424643   9.684232   9.000517   \n",
              "86492   61257.0 -17.607701 -12.932543  -5.100174   2.031623  -5.470685   \n",
              "90946   63246.0 -30.515455 -32.494845  -5.586992   8.739906   4.836591   \n",
              "108424  70891.0 -33.404082 -38.436817  -6.478019  12.699542  12.785108   \n",
              "110249  71738.0 -14.818375 -11.480602  -4.000755   6.040284  -6.886229   \n",
              "110467  71834.0 -17.498634 -13.929566  -5.275336   6.936182  -6.143551   \n",
              "110608  71898.0 -19.827846 -15.711131  -7.387595   7.604936  -9.141652   \n",
              "118764  75207.0  -3.432602  -3.110123   9.382558  -1.218808   7.515238   \n",
              "121787  76318.0 -22.594958 -18.185294  -9.164820   8.464731 -10.335665   \n",
              "131480  79617.0 -24.316924 -20.949142 -11.058967   9.144180 -10.495812   \n",
              "138215  82543.0 -10.883622   9.227375  -4.925972   0.308093  -4.086120   \n",
              "138706  82802.0 -11.636704   9.127335  -6.055225   0.479269  -5.035106   \n",
              "139217  83065.0 -12.734063   8.910837  -6.917461   0.667324  -5.888499   \n",
              "\n",
              "               V6         V7         V8         V9  ...        V22        V23  \\\n",
              "1632    21.393069  34.303177  -7.520784  -1.925732  ...   1.366110  -2.925888   \n",
              "6812    -4.074335   2.027345  -2.688652   3.402966  ...   3.312971  13.876221   \n",
              "7485     2.347826  -2.895307  -8.933411   0.512017  ...  -0.071824 -10.477978   \n",
              "8610   -23.496714 -26.548144  -0.779134   7.496577  ...  -1.627883 -11.669994   \n",
              "19760    3.994474   9.656752  -1.502509  -0.231141  ...  -4.067605  -6.869451   \n",
              "23128   22.529298  36.677268  -4.862800   1.645619  ...  -0.139751  -6.086173   \n",
              "39769  -26.160506 -19.399981  -1.501300   6.967698  ...  -1.272167   7.893082   \n",
              "46841    5.564891  15.710644  -2.844253  -1.580725  ...  -6.320710 -11.310338   \n",
              "50287  -19.996349 -19.083907  -1.992887   5.000712  ...  -1.701734 -12.529524   \n",
              "52524    8.141055   3.631227 -19.013925   2.992497  ...  -6.129680  -9.835095   \n",
              "54018    4.256017  14.785051  -2.818253  -0.667338  ...  -5.619439 -10.547038   \n",
              "57209    2.354758   9.568711  -2.006504  -0.236247  ...  -3.504033  -6.790961   \n",
              "58465    7.694002  24.956587  -4.730111  -2.687312  ... -10.933144 -17.173665   \n",
              "65423   16.614054 -31.764946 -73.216718  -6.290730  ...  10.503090   4.245073   \n",
              "66547   -4.850361   0.197757  -2.270316   1.072787  ...   3.373358  12.576469   \n",
              "74699   18.072031  28.504065 -10.152220   2.124673  ...   0.050097 -10.855949   \n",
              "77814   -0.276111   3.935704  -4.871645   5.305156  ...   1.770421   6.146762   \n",
              "79267  -13.360241  -7.260207  -1.293304   2.763696  ...   1.929221  13.659458   \n",
              "79296   -6.543026  -1.072169  -1.352590   4.133987  ...   3.263958  18.946734   \n",
              "86492    3.284044   7.724726  -4.695408   6.225111  ...   0.864490  -5.489570   \n",
              "90946   -4.351775   1.343434  -1.850630   2.734941  ...   2.004349  15.626067   \n",
              "108424  -9.674221 -10.193438  -4.180491   5.882570  ...  -3.635183 -22.575000   \n",
              "110249   7.190322   9.351866  -3.642533   4.437451  ...   1.184342  -1.353028   \n",
              "110467   6.047097   7.532708  -3.397241   4.852312  ...   0.240052  -6.832414   \n",
              "110608   7.399126   9.743209  -3.525079   4.862849  ...  -0.110243  -8.572959   \n",
              "118764   3.399540  15.661716 -18.958017  15.594995  ...   2.766917  -2.971359   \n",
              "121787   7.521470  10.145492  -3.394426   5.025957  ...  -0.695902 -11.359689   \n",
              "131480   6.834122  11.217637  -3.847405   2.988551  ...  -1.244117 -13.118217   \n",
              "138215  11.221283 -21.926934 -50.943369  -6.105803  ...   7.220158   3.332339   \n",
              "138706  11.423921 -21.701600 -50.688419  -5.945202  ...   7.357255   3.407646   \n",
              "139217  11.607923 -21.570650 -50.420090  -5.887886  ...   7.248763   2.875170   \n",
              "\n",
              "             V24       V25       V26        V27        V28    Amount  \\\n",
              "1632    0.843551  0.746267  0.801387   3.852046   4.157934   7712.43   \n",
              "6812   -0.572177  5.525093  0.906980   3.358822   3.553906    845.73   \n",
              "7485    0.461380 -2.160800  0.327158   4.173387  -3.054085   1895.88   \n",
              "8610    2.192626 -2.483069  1.788189   8.254376  -3.509250     55.25   \n",
              "19760   0.107527 -2.640366 -1.237598  -1.387145   1.389367   7879.42   \n",
              "23128   1.924973  0.669689  0.449781  11.135740  -9.617915   7429.15   \n",
              "39769   0.767805  5.376595  0.163672  -8.358317  33.847808   1201.83   \n",
              "46841   0.404175 -4.547278 -1.577118  -2.357385   2.253662  12910.93   \n",
              "50287   2.057019 -1.166944  0.156381  10.507884  -4.127442   2310.00   \n",
              "52524   1.413067 -1.920005 -0.252660   3.717436  -1.346962   3050.69   \n",
              "54018   0.653249 -4.232409 -0.480459  -2.257913   2.082488  11898.09   \n",
              "57209   0.864201 -2.433816 -0.244081  -1.428731   1.354228   7636.30   \n",
              "58465   1.180700 -7.025783 -2.534330  -3.602479   3.450224  19656.53   \n",
              "65423  -1.412813 -0.730374  0.133557  -0.394370   0.942177    500.00   \n",
              "66547   0.430283  3.018350  1.177100   6.250240  -3.669194    153.67   \n",
              "74699   1.550407 -0.502172  0.821714  12.152401  -4.009839   8790.26   \n",
              "77814   0.369772  3.119632  1.659289  -4.327341  15.374949    318.25   \n",
              "79267   0.554661  4.032572  1.642552   7.994762  -4.631633      0.76   \n",
              "79296   0.559350  5.521140  1.766634   8.708972  -5.688681    390.65   \n",
              "86492   0.600349 -0.692275 -0.506506  -7.463188   2.095861    720.00   \n",
              "90946   0.804707  5.541598  1.985759   9.879903  -6.172259    970.00   \n",
              "108424  2.070945 -3.640055 -0.016901   9.200883  -5.944923   1235.79   \n",
              "110249 -1.054048  1.220732  0.472791  -3.415073   6.582617   1441.49   \n",
              "110467 -0.717356  0.014940  0.292598  -3.309654   6.631019   1441.49   \n",
              "110608 -0.545888 -0.258922  0.221568  -3.085763   6.403049   1729.79   \n",
              "118764  0.539097 -3.963454 -2.068561 -22.565679 -11.710896    243.26   \n",
              "121787 -0.342331 -0.805144  0.091900  -3.141773   6.341989   1729.79   \n",
              "131480 -0.227553 -1.708349 -0.310107  -5.388598   5.823423   1593.37   \n",
              "138215 -1.676396 -0.939542 -0.283478  -0.343275   0.442316    203.50   \n",
              "138706 -1.641784 -1.395530 -0.359249  -0.022631   0.242548    305.25   \n",
              "139217 -1.580649 -1.434954 -0.357635   0.208635   0.020636    407.00   \n",
              "\n",
              "          scores  anomaly_score  \n",
              "1632   -0.027895             -1  \n",
              "6812   -0.019946             -1  \n",
              "7485   -0.007695             -1  \n",
              "8610   -0.025168             -1  \n",
              "19760  -0.000959             -1  \n",
              "23128  -0.018293             -1  \n",
              "39769  -0.028165             -1  \n",
              "46841  -0.033147             -1  \n",
              "50287  -0.020878             -1  \n",
              "52524  -0.004125             -1  \n",
              "54018  -0.027917             -1  \n",
              "57209  -0.001905             -1  \n",
              "58465  -0.068091             -1  \n",
              "65423  -0.033044             -1  \n",
              "66547  -0.009550             -1  \n",
              "74699  -0.037451             -1  \n",
              "77814  -0.002302             -1  \n",
              "79267  -0.036287             -1  \n",
              "79296  -0.013727             -1  \n",
              "86492  -0.003768             -1  \n",
              "90946  -0.026049             -1  \n",
              "108424 -0.058893             -1  \n",
              "110249 -0.019335             -1  \n",
              "110467 -0.012606             -1  \n",
              "110608 -0.016664             -1  \n",
              "118764 -0.027357             -1  \n",
              "121787 -0.013065             -1  \n",
              "131480 -0.024478             -1  \n",
              "138215 -0.004470             -1  \n",
              "138706 -0.009026             -1  \n",
              "139217 -0.004715             -1  \n",
              "\n",
              "[31 rows x 32 columns]"
            ],
            "text/html": [
              "\n",
              "  <div id=\"df-439ed724-fd9b-4304-a7e1-1629d6c6e4ed\">\n",
              "    <div class=\"colab-df-container\">\n",
              "      <div>\n",
              "<style scoped>\n",
              "    .dataframe tbody tr th:only-of-type {\n",
              "        vertical-align: middle;\n",
              "    }\n",
              "\n",
              "    .dataframe tbody tr th {\n",
              "        vertical-align: top;\n",
              "    }\n",
              "\n",
              "    .dataframe thead th {\n",
              "        text-align: right;\n",
              "    }\n",
              "</style>\n",
              "<table border=\"1\" class=\"dataframe\">\n",
              "  <thead>\n",
              "    <tr style=\"text-align: right;\">\n",
              "      <th></th>\n",
              "      <th>Time</th>\n",
              "      <th>V1</th>\n",
              "      <th>V2</th>\n",
              "      <th>V3</th>\n",
              "      <th>V4</th>\n",
              "      <th>V5</th>\n",
              "      <th>V6</th>\n",
              "      <th>V7</th>\n",
              "      <th>V8</th>\n",
              "      <th>V9</th>\n",
              "      <th>...</th>\n",
              "      <th>V22</th>\n",
              "      <th>V23</th>\n",
              "      <th>V24</th>\n",
              "      <th>V25</th>\n",
              "      <th>V26</th>\n",
              "      <th>V27</th>\n",
              "      <th>V28</th>\n",
              "      <th>Amount</th>\n",
              "      <th>scores</th>\n",
              "      <th>anomaly_score</th>\n",
              "    </tr>\n",
              "  </thead>\n",
              "  <tbody>\n",
              "    <tr>\n",
              "      <th>1632</th>\n",
              "      <td>1264.0</td>\n",
              "      <td>-11.140706</td>\n",
              "      <td>-9.612726</td>\n",
              "      <td>-12.389545</td>\n",
              "      <td>6.013346</td>\n",
              "      <td>-32.092129</td>\n",
              "      <td>21.393069</td>\n",
              "      <td>34.303177</td>\n",
              "      <td>-7.520784</td>\n",
              "      <td>-1.925732</td>\n",
              "      <td>...</td>\n",
              "      <td>1.366110</td>\n",
              "      <td>-2.925888</td>\n",
              "      <td>0.843551</td>\n",
              "      <td>0.746267</td>\n",
              "      <td>0.801387</td>\n",
              "      <td>3.852046</td>\n",
              "      <td>4.157934</td>\n",
              "      <td>7712.43</td>\n",
              "      <td>-0.027895</td>\n",
              "      <td>-1</td>\n",
              "    </tr>\n",
              "    <tr>\n",
              "      <th>6812</th>\n",
              "      <td>8592.0</td>\n",
              "      <td>-23.066842</td>\n",
              "      <td>-25.640527</td>\n",
              "      <td>-3.080313</td>\n",
              "      <td>4.866932</td>\n",
              "      <td>6.901397</td>\n",
              "      <td>-4.074335</td>\n",
              "      <td>2.027345</td>\n",
              "      <td>-2.688652</td>\n",
              "      <td>3.402966</td>\n",
              "      <td>...</td>\n",
              "      <td>3.312971</td>\n",
              "      <td>13.876221</td>\n",
              "      <td>-0.572177</td>\n",
              "      <td>5.525093</td>\n",
              "      <td>0.906980</td>\n",
              "      <td>3.358822</td>\n",
              "      <td>3.553906</td>\n",
              "      <td>845.73</td>\n",
              "      <td>-0.019946</td>\n",
              "      <td>-1</td>\n",
              "    </tr>\n",
              "    <tr>\n",
              "      <th>7485</th>\n",
              "      <td>10201.0</td>\n",
              "      <td>-9.507807</td>\n",
              "      <td>-6.332182</td>\n",
              "      <td>-2.347929</td>\n",
              "      <td>5.909158</td>\n",
              "      <td>-1.946121</td>\n",
              "      <td>2.347826</td>\n",
              "      <td>-2.895307</td>\n",
              "      <td>-8.933411</td>\n",
              "      <td>0.512017</td>\n",
              "      <td>...</td>\n",
              "      <td>-0.071824</td>\n",
              "      <td>-10.477978</td>\n",
              "      <td>0.461380</td>\n",
              "      <td>-2.160800</td>\n",
              "      <td>0.327158</td>\n",
              "      <td>4.173387</td>\n",
              "      <td>-3.054085</td>\n",
              "      <td>1895.88</td>\n",
              "      <td>-0.007695</td>\n",
              "      <td>-1</td>\n",
              "    </tr>\n",
              "    <tr>\n",
              "      <th>8610</th>\n",
              "      <td>11621.0</td>\n",
              "      <td>-27.670569</td>\n",
              "      <td>-34.607649</td>\n",
              "      <td>2.243079</td>\n",
              "      <td>10.463020</td>\n",
              "      <td>34.099309</td>\n",
              "      <td>-23.496714</td>\n",
              "      <td>-26.548144</td>\n",
              "      <td>-0.779134</td>\n",
              "      <td>7.496577</td>\n",
              "      <td>...</td>\n",
              "      <td>-1.627883</td>\n",
              "      <td>-11.669994</td>\n",
              "      <td>2.192626</td>\n",
              "      <td>-2.483069</td>\n",
              "      <td>1.788189</td>\n",
              "      <td>8.254376</td>\n",
              "      <td>-3.509250</td>\n",
              "      <td>55.25</td>\n",
              "      <td>-0.025168</td>\n",
              "      <td>-1</td>\n",
              "    </tr>\n",
              "    <tr>\n",
              "      <th>19760</th>\n",
              "      <td>30537.0</td>\n",
              "      <td>-14.191832</td>\n",
              "      <td>-25.313252</td>\n",
              "      <td>-7.578781</td>\n",
              "      <td>7.730844</td>\n",
              "      <td>-8.285413</td>\n",
              "      <td>3.994474</td>\n",
              "      <td>9.656752</td>\n",
              "      <td>-1.502509</td>\n",
              "      <td>-0.231141</td>\n",
              "      <td>...</td>\n",
              "      <td>-4.067605</td>\n",
              "      <td>-6.869451</td>\n",
              "      <td>0.107527</td>\n",
              "      <td>-2.640366</td>\n",
              "      <td>-1.237598</td>\n",
              "      <td>-1.387145</td>\n",
              "      <td>1.389367</td>\n",
              "      <td>7879.42</td>\n",
              "      <td>-0.000959</td>\n",
              "      <td>-1</td>\n",
              "    </tr>\n",
              "    <tr>\n",
              "      <th>23128</th>\n",
              "      <td>32605.0</td>\n",
              "      <td>-23.383129</td>\n",
              "      <td>-18.098804</td>\n",
              "      <td>-20.195367</td>\n",
              "      <td>4.249104</td>\n",
              "      <td>-42.147898</td>\n",
              "      <td>22.529298</td>\n",
              "      <td>36.677268</td>\n",
              "      <td>-4.862800</td>\n",
              "      <td>1.645619</td>\n",
              "      <td>...</td>\n",
              "      <td>-0.139751</td>\n",
              "      <td>-6.086173</td>\n",
              "      <td>1.924973</td>\n",
              "      <td>0.669689</td>\n",
              "      <td>0.449781</td>\n",
              "      <td>11.135740</td>\n",
              "      <td>-9.617915</td>\n",
              "      <td>7429.15</td>\n",
              "      <td>-0.018293</td>\n",
              "      <td>-1</td>\n",
              "    </tr>\n",
              "    <tr>\n",
              "      <th>39769</th>\n",
              "      <td>39954.0</td>\n",
              "      <td>-56.407510</td>\n",
              "      <td>-72.715728</td>\n",
              "      <td>-6.605265</td>\n",
              "      <td>16.491217</td>\n",
              "      <td>34.801666</td>\n",
              "      <td>-26.160506</td>\n",
              "      <td>-19.399981</td>\n",
              "      <td>-1.501300</td>\n",
              "      <td>6.967698</td>\n",
              "      <td>...</td>\n",
              "      <td>-1.272167</td>\n",
              "      <td>7.893082</td>\n",
              "      <td>0.767805</td>\n",
              "      <td>5.376595</td>\n",
              "      <td>0.163672</td>\n",
              "      <td>-8.358317</td>\n",
              "      <td>33.847808</td>\n",
              "      <td>1201.83</td>\n",
              "      <td>-0.028165</td>\n",
              "      <td>-1</td>\n",
              "    </tr>\n",
              "    <tr>\n",
              "      <th>46841</th>\n",
              "      <td>42951.0</td>\n",
              "      <td>-23.712839</td>\n",
              "      <td>-42.172688</td>\n",
              "      <td>-13.320825</td>\n",
              "      <td>9.925019</td>\n",
              "      <td>-13.945538</td>\n",
              "      <td>5.564891</td>\n",
              "      <td>15.710644</td>\n",
              "      <td>-2.844253</td>\n",
              "      <td>-1.580725</td>\n",
              "      <td>...</td>\n",
              "      <td>-6.320710</td>\n",
              "      <td>-11.310338</td>\n",
              "      <td>0.404175</td>\n",
              "      <td>-4.547278</td>\n",
              "      <td>-1.577118</td>\n",
              "      <td>-2.357385</td>\n",
              "      <td>2.253662</td>\n",
              "      <td>12910.93</td>\n",
              "      <td>-0.033147</td>\n",
              "      <td>-1</td>\n",
              "    </tr>\n",
              "    <tr>\n",
              "      <th>50287</th>\n",
              "      <td>44423.0</td>\n",
              "      <td>-33.017174</td>\n",
              "      <td>-39.818310</td>\n",
              "      <td>-1.445971</td>\n",
              "      <td>10.739659</td>\n",
              "      <td>28.762671</td>\n",
              "      <td>-19.996349</td>\n",
              "      <td>-19.083907</td>\n",
              "      <td>-1.992887</td>\n",
              "      <td>5.000712</td>\n",
              "      <td>...</td>\n",
              "      <td>-1.701734</td>\n",
              "      <td>-12.529524</td>\n",
              "      <td>2.057019</td>\n",
              "      <td>-1.166944</td>\n",
              "      <td>0.156381</td>\n",
              "      <td>10.507884</td>\n",
              "      <td>-4.127442</td>\n",
              "      <td>2310.00</td>\n",
              "      <td>-0.020878</td>\n",
              "      <td>-1</td>\n",
              "    </tr>\n",
              "    <tr>\n",
              "      <th>52524</th>\n",
              "      <td>45502.0</td>\n",
              "      <td>-7.234663</td>\n",
              "      <td>4.013911</td>\n",
              "      <td>-3.883894</td>\n",
              "      <td>-2.686814</td>\n",
              "      <td>-11.940702</td>\n",
              "      <td>8.141055</td>\n",
              "      <td>3.631227</td>\n",
              "      <td>-19.013925</td>\n",
              "      <td>2.992497</td>\n",
              "      <td>...</td>\n",
              "      <td>-6.129680</td>\n",
              "      <td>-9.835095</td>\n",
              "      <td>1.413067</td>\n",
              "      <td>-1.920005</td>\n",
              "      <td>-0.252660</td>\n",
              "      <td>3.717436</td>\n",
              "      <td>-1.346962</td>\n",
              "      <td>3050.69</td>\n",
              "      <td>-0.004125</td>\n",
              "      <td>-1</td>\n",
              "    </tr>\n",
              "    <tr>\n",
              "      <th>54018</th>\n",
              "      <td>46253.0</td>\n",
              "      <td>-21.780665</td>\n",
              "      <td>-38.305310</td>\n",
              "      <td>-12.122469</td>\n",
              "      <td>9.752791</td>\n",
              "      <td>-12.880794</td>\n",
              "      <td>4.256017</td>\n",
              "      <td>14.785051</td>\n",
              "      <td>-2.818253</td>\n",
              "      <td>-0.667338</td>\n",
              "      <td>...</td>\n",
              "      <td>-5.619439</td>\n",
              "      <td>-10.547038</td>\n",
              "      <td>0.653249</td>\n",
              "      <td>-4.232409</td>\n",
              "      <td>-0.480459</td>\n",
              "      <td>-2.257913</td>\n",
              "      <td>2.082488</td>\n",
              "      <td>11898.09</td>\n",
              "      <td>-0.027917</td>\n",
              "      <td>-1</td>\n",
              "    </tr>\n",
              "    <tr>\n",
              "      <th>57209</th>\n",
              "      <td>47807.0</td>\n",
              "      <td>-13.537461</td>\n",
              "      <td>-24.426864</td>\n",
              "      <td>-7.355943</td>\n",
              "      <td>6.896486</td>\n",
              "      <td>-8.515928</td>\n",
              "      <td>2.354758</td>\n",
              "      <td>9.568711</td>\n",
              "      <td>-2.006504</td>\n",
              "      <td>-0.236247</td>\n",
              "      <td>...</td>\n",
              "      <td>-3.504033</td>\n",
              "      <td>-6.790961</td>\n",
              "      <td>0.864201</td>\n",
              "      <td>-2.433816</td>\n",
              "      <td>-0.244081</td>\n",
              "      <td>-1.428731</td>\n",
              "      <td>1.354228</td>\n",
              "      <td>7636.30</td>\n",
              "      <td>-0.001905</td>\n",
              "      <td>-1</td>\n",
              "    </tr>\n",
              "    <tr>\n",
              "      <th>58465</th>\n",
              "      <td>48401.0</td>\n",
              "      <td>-36.802320</td>\n",
              "      <td>-63.344698</td>\n",
              "      <td>-20.645794</td>\n",
              "      <td>16.715537</td>\n",
              "      <td>-20.672064</td>\n",
              "      <td>7.694002</td>\n",
              "      <td>24.956587</td>\n",
              "      <td>-4.730111</td>\n",
              "      <td>-2.687312</td>\n",
              "      <td>...</td>\n",
              "      <td>-10.933144</td>\n",
              "      <td>-17.173665</td>\n",
              "      <td>1.180700</td>\n",
              "      <td>-7.025783</td>\n",
              "      <td>-2.534330</td>\n",
              "      <td>-3.602479</td>\n",
              "      <td>3.450224</td>\n",
              "      <td>19656.53</td>\n",
              "      <td>-0.068091</td>\n",
              "      <td>-1</td>\n",
              "    </tr>\n",
              "    <tr>\n",
              "      <th>65423</th>\n",
              "      <td>51575.0</td>\n",
              "      <td>-14.904340</td>\n",
              "      <td>12.793880</td>\n",
              "      <td>-7.888739</td>\n",
              "      <td>0.512373</td>\n",
              "      <td>-7.661829</td>\n",
              "      <td>16.614054</td>\n",
              "      <td>-31.764946</td>\n",
              "      <td>-73.216718</td>\n",
              "      <td>-6.290730</td>\n",
              "      <td>...</td>\n",
              "      <td>10.503090</td>\n",
              "      <td>4.245073</td>\n",
              "      <td>-1.412813</td>\n",
              "      <td>-0.730374</td>\n",
              "      <td>0.133557</td>\n",
              "      <td>-0.394370</td>\n",
              "      <td>0.942177</td>\n",
              "      <td>500.00</td>\n",
              "      <td>-0.033044</td>\n",
              "      <td>-1</td>\n",
              "    </tr>\n",
              "    <tr>\n",
              "      <th>66547</th>\n",
              "      <td>52102.0</td>\n",
              "      <td>-17.709136</td>\n",
              "      <td>-17.891256</td>\n",
              "      <td>-2.642177</td>\n",
              "      <td>7.973404</td>\n",
              "      <td>8.089657</td>\n",
              "      <td>-4.850361</td>\n",
              "      <td>0.197757</td>\n",
              "      <td>-2.270316</td>\n",
              "      <td>1.072787</td>\n",
              "      <td>...</td>\n",
              "      <td>3.373358</td>\n",
              "      <td>12.576469</td>\n",
              "      <td>0.430283</td>\n",
              "      <td>3.018350</td>\n",
              "      <td>1.177100</td>\n",
              "      <td>6.250240</td>\n",
              "      <td>-3.669194</td>\n",
              "      <td>153.67</td>\n",
              "      <td>-0.009550</td>\n",
              "      <td>-1</td>\n",
              "    </tr>\n",
              "    <tr>\n",
              "      <th>74699</th>\n",
              "      <td>55709.0</td>\n",
              "      <td>-16.950064</td>\n",
              "      <td>-16.417395</td>\n",
              "      <td>-12.523381</td>\n",
              "      <td>6.555638</td>\n",
              "      <td>-27.752964</td>\n",
              "      <td>18.072031</td>\n",
              "      <td>28.504065</td>\n",
              "      <td>-10.152220</td>\n",
              "      <td>2.124673</td>\n",
              "      <td>...</td>\n",
              "      <td>0.050097</td>\n",
              "      <td>-10.855949</td>\n",
              "      <td>1.550407</td>\n",
              "      <td>-0.502172</td>\n",
              "      <td>0.821714</td>\n",
              "      <td>12.152401</td>\n",
              "      <td>-4.009839</td>\n",
              "      <td>8790.26</td>\n",
              "      <td>-0.037451</td>\n",
              "      <td>-1</td>\n",
              "    </tr>\n",
              "    <tr>\n",
              "      <th>77814</th>\n",
              "      <td>57225.0</td>\n",
              "      <td>-22.435671</td>\n",
              "      <td>-21.510079</td>\n",
              "      <td>-3.711944</td>\n",
              "      <td>6.479684</td>\n",
              "      <td>2.177843</td>\n",
              "      <td>-0.276111</td>\n",
              "      <td>3.935704</td>\n",
              "      <td>-4.871645</td>\n",
              "      <td>5.305156</td>\n",
              "      <td>...</td>\n",
              "      <td>1.770421</td>\n",
              "      <td>6.146762</td>\n",
              "      <td>0.369772</td>\n",
              "      <td>3.119632</td>\n",
              "      <td>1.659289</td>\n",
              "      <td>-4.327341</td>\n",
              "      <td>15.374949</td>\n",
              "      <td>318.25</td>\n",
              "      <td>-0.002302</td>\n",
              "      <td>-1</td>\n",
              "    </tr>\n",
              "    <tr>\n",
              "      <th>79267</th>\n",
              "      <td>57945.0</td>\n",
              "      <td>-30.821436</td>\n",
              "      <td>-35.616754</td>\n",
              "      <td>-4.460572</td>\n",
              "      <td>10.689621</td>\n",
              "      <td>18.611287</td>\n",
              "      <td>-13.360241</td>\n",
              "      <td>-7.260207</td>\n",
              "      <td>-1.293304</td>\n",
              "      <td>2.763696</td>\n",
              "      <td>...</td>\n",
              "      <td>1.929221</td>\n",
              "      <td>13.659458</td>\n",
              "      <td>0.554661</td>\n",
              "      <td>4.032572</td>\n",
              "      <td>1.642552</td>\n",
              "      <td>7.994762</td>\n",
              "      <td>-4.631633</td>\n",
              "      <td>0.76</td>\n",
              "      <td>-0.036287</td>\n",
              "      <td>-1</td>\n",
              "    </tr>\n",
              "    <tr>\n",
              "      <th>79296</th>\n",
              "      <td>57957.0</td>\n",
              "      <td>-29.516123</td>\n",
              "      <td>-33.204192</td>\n",
              "      <td>-4.424643</td>\n",
              "      <td>9.684232</td>\n",
              "      <td>9.000517</td>\n",
              "      <td>-6.543026</td>\n",
              "      <td>-1.072169</td>\n",
              "      <td>-1.352590</td>\n",
              "      <td>4.133987</td>\n",
              "      <td>...</td>\n",
              "      <td>3.263958</td>\n",
              "      <td>18.946734</td>\n",
              "      <td>0.559350</td>\n",
              "      <td>5.521140</td>\n",
              "      <td>1.766634</td>\n",
              "      <td>8.708972</td>\n",
              "      <td>-5.688681</td>\n",
              "      <td>390.65</td>\n",
              "      <td>-0.013727</td>\n",
              "      <td>-1</td>\n",
              "    </tr>\n",
              "    <tr>\n",
              "      <th>86492</th>\n",
              "      <td>61257.0</td>\n",
              "      <td>-17.607701</td>\n",
              "      <td>-12.932543</td>\n",
              "      <td>-5.100174</td>\n",
              "      <td>2.031623</td>\n",
              "      <td>-5.470685</td>\n",
              "      <td>3.284044</td>\n",
              "      <td>7.724726</td>\n",
              "      <td>-4.695408</td>\n",
              "      <td>6.225111</td>\n",
              "      <td>...</td>\n",
              "      <td>0.864490</td>\n",
              "      <td>-5.489570</td>\n",
              "      <td>0.600349</td>\n",
              "      <td>-0.692275</td>\n",
              "      <td>-0.506506</td>\n",
              "      <td>-7.463188</td>\n",
              "      <td>2.095861</td>\n",
              "      <td>720.00</td>\n",
              "      <td>-0.003768</td>\n",
              "      <td>-1</td>\n",
              "    </tr>\n",
              "    <tr>\n",
              "      <th>90946</th>\n",
              "      <td>63246.0</td>\n",
              "      <td>-30.515455</td>\n",
              "      <td>-32.494845</td>\n",
              "      <td>-5.586992</td>\n",
              "      <td>8.739906</td>\n",
              "      <td>4.836591</td>\n",
              "      <td>-4.351775</td>\n",
              "      <td>1.343434</td>\n",
              "      <td>-1.850630</td>\n",
              "      <td>2.734941</td>\n",
              "      <td>...</td>\n",
              "      <td>2.004349</td>\n",
              "      <td>15.626067</td>\n",
              "      <td>0.804707</td>\n",
              "      <td>5.541598</td>\n",
              "      <td>1.985759</td>\n",
              "      <td>9.879903</td>\n",
              "      <td>-6.172259</td>\n",
              "      <td>970.00</td>\n",
              "      <td>-0.026049</td>\n",
              "      <td>-1</td>\n",
              "    </tr>\n",
              "    <tr>\n",
              "      <th>108424</th>\n",
              "      <td>70891.0</td>\n",
              "      <td>-33.404082</td>\n",
              "      <td>-38.436817</td>\n",
              "      <td>-6.478019</td>\n",
              "      <td>12.699542</td>\n",
              "      <td>12.785108</td>\n",
              "      <td>-9.674221</td>\n",
              "      <td>-10.193438</td>\n",
              "      <td>-4.180491</td>\n",
              "      <td>5.882570</td>\n",
              "      <td>...</td>\n",
              "      <td>-3.635183</td>\n",
              "      <td>-22.575000</td>\n",
              "      <td>2.070945</td>\n",
              "      <td>-3.640055</td>\n",
              "      <td>-0.016901</td>\n",
              "      <td>9.200883</td>\n",
              "      <td>-5.944923</td>\n",
              "      <td>1235.79</td>\n",
              "      <td>-0.058893</td>\n",
              "      <td>-1</td>\n",
              "    </tr>\n",
              "    <tr>\n",
              "      <th>110249</th>\n",
              "      <td>71738.0</td>\n",
              "      <td>-14.818375</td>\n",
              "      <td>-11.480602</td>\n",
              "      <td>-4.000755</td>\n",
              "      <td>6.040284</td>\n",
              "      <td>-6.886229</td>\n",
              "      <td>7.190322</td>\n",
              "      <td>9.351866</td>\n",
              "      <td>-3.642533</td>\n",
              "      <td>4.437451</td>\n",
              "      <td>...</td>\n",
              "      <td>1.184342</td>\n",
              "      <td>-1.353028</td>\n",
              "      <td>-1.054048</td>\n",
              "      <td>1.220732</td>\n",
              "      <td>0.472791</td>\n",
              "      <td>-3.415073</td>\n",
              "      <td>6.582617</td>\n",
              "      <td>1441.49</td>\n",
              "      <td>-0.019335</td>\n",
              "      <td>-1</td>\n",
              "    </tr>\n",
              "    <tr>\n",
              "      <th>110467</th>\n",
              "      <td>71834.0</td>\n",
              "      <td>-17.498634</td>\n",
              "      <td>-13.929566</td>\n",
              "      <td>-5.275336</td>\n",
              "      <td>6.936182</td>\n",
              "      <td>-6.143551</td>\n",
              "      <td>6.047097</td>\n",
              "      <td>7.532708</td>\n",
              "      <td>-3.397241</td>\n",
              "      <td>4.852312</td>\n",
              "      <td>...</td>\n",
              "      <td>0.240052</td>\n",
              "      <td>-6.832414</td>\n",
              "      <td>-0.717356</td>\n",
              "      <td>0.014940</td>\n",
              "      <td>0.292598</td>\n",
              "      <td>-3.309654</td>\n",
              "      <td>6.631019</td>\n",
              "      <td>1441.49</td>\n",
              "      <td>-0.012606</td>\n",
              "      <td>-1</td>\n",
              "    </tr>\n",
              "    <tr>\n",
              "      <th>110608</th>\n",
              "      <td>71898.0</td>\n",
              "      <td>-19.827846</td>\n",
              "      <td>-15.711131</td>\n",
              "      <td>-7.387595</td>\n",
              "      <td>7.604936</td>\n",
              "      <td>-9.141652</td>\n",
              "      <td>7.399126</td>\n",
              "      <td>9.743209</td>\n",
              "      <td>-3.525079</td>\n",
              "      <td>4.862849</td>\n",
              "      <td>...</td>\n",
              "      <td>-0.110243</td>\n",
              "      <td>-8.572959</td>\n",
              "      <td>-0.545888</td>\n",
              "      <td>-0.258922</td>\n",
              "      <td>0.221568</td>\n",
              "      <td>-3.085763</td>\n",
              "      <td>6.403049</td>\n",
              "      <td>1729.79</td>\n",
              "      <td>-0.016664</td>\n",
              "      <td>-1</td>\n",
              "    </tr>\n",
              "    <tr>\n",
              "      <th>118764</th>\n",
              "      <td>75207.0</td>\n",
              "      <td>-3.432602</td>\n",
              "      <td>-3.110123</td>\n",
              "      <td>9.382558</td>\n",
              "      <td>-1.218808</td>\n",
              "      <td>7.515238</td>\n",
              "      <td>3.399540</td>\n",
              "      <td>15.661716</td>\n",
              "      <td>-18.958017</td>\n",
              "      <td>15.594995</td>\n",
              "      <td>...</td>\n",
              "      <td>2.766917</td>\n",
              "      <td>-2.971359</td>\n",
              "      <td>0.539097</td>\n",
              "      <td>-3.963454</td>\n",
              "      <td>-2.068561</td>\n",
              "      <td>-22.565679</td>\n",
              "      <td>-11.710896</td>\n",
              "      <td>243.26</td>\n",
              "      <td>-0.027357</td>\n",
              "      <td>-1</td>\n",
              "    </tr>\n",
              "    <tr>\n",
              "      <th>121787</th>\n",
              "      <td>76318.0</td>\n",
              "      <td>-22.594958</td>\n",
              "      <td>-18.185294</td>\n",
              "      <td>-9.164820</td>\n",
              "      <td>8.464731</td>\n",
              "      <td>-10.335665</td>\n",
              "      <td>7.521470</td>\n",
              "      <td>10.145492</td>\n",
              "      <td>-3.394426</td>\n",
              "      <td>5.025957</td>\n",
              "      <td>...</td>\n",
              "      <td>-0.695902</td>\n",
              "      <td>-11.359689</td>\n",
              "      <td>-0.342331</td>\n",
              "      <td>-0.805144</td>\n",
              "      <td>0.091900</td>\n",
              "      <td>-3.141773</td>\n",
              "      <td>6.341989</td>\n",
              "      <td>1729.79</td>\n",
              "      <td>-0.013065</td>\n",
              "      <td>-1</td>\n",
              "    </tr>\n",
              "    <tr>\n",
              "      <th>131480</th>\n",
              "      <td>79617.0</td>\n",
              "      <td>-24.316924</td>\n",
              "      <td>-20.949142</td>\n",
              "      <td>-11.058967</td>\n",
              "      <td>9.144180</td>\n",
              "      <td>-10.495812</td>\n",
              "      <td>6.834122</td>\n",
              "      <td>11.217637</td>\n",
              "      <td>-3.847405</td>\n",
              "      <td>2.988551</td>\n",
              "      <td>...</td>\n",
              "      <td>-1.244117</td>\n",
              "      <td>-13.118217</td>\n",
              "      <td>-0.227553</td>\n",
              "      <td>-1.708349</td>\n",
              "      <td>-0.310107</td>\n",
              "      <td>-5.388598</td>\n",
              "      <td>5.823423</td>\n",
              "      <td>1593.37</td>\n",
              "      <td>-0.024478</td>\n",
              "      <td>-1</td>\n",
              "    </tr>\n",
              "    <tr>\n",
              "      <th>138215</th>\n",
              "      <td>82543.0</td>\n",
              "      <td>-10.883622</td>\n",
              "      <td>9.227375</td>\n",
              "      <td>-4.925972</td>\n",
              "      <td>0.308093</td>\n",
              "      <td>-4.086120</td>\n",
              "      <td>11.221283</td>\n",
              "      <td>-21.926934</td>\n",
              "      <td>-50.943369</td>\n",
              "      <td>-6.105803</td>\n",
              "      <td>...</td>\n",
              "      <td>7.220158</td>\n",
              "      <td>3.332339</td>\n",
              "      <td>-1.676396</td>\n",
              "      <td>-0.939542</td>\n",
              "      <td>-0.283478</td>\n",
              "      <td>-0.343275</td>\n",
              "      <td>0.442316</td>\n",
              "      <td>203.50</td>\n",
              "      <td>-0.004470</td>\n",
              "      <td>-1</td>\n",
              "    </tr>\n",
              "    <tr>\n",
              "      <th>138706</th>\n",
              "      <td>82802.0</td>\n",
              "      <td>-11.636704</td>\n",
              "      <td>9.127335</td>\n",
              "      <td>-6.055225</td>\n",
              "      <td>0.479269</td>\n",
              "      <td>-5.035106</td>\n",
              "      <td>11.423921</td>\n",
              "      <td>-21.701600</td>\n",
              "      <td>-50.688419</td>\n",
              "      <td>-5.945202</td>\n",
              "      <td>...</td>\n",
              "      <td>7.357255</td>\n",
              "      <td>3.407646</td>\n",
              "      <td>-1.641784</td>\n",
              "      <td>-1.395530</td>\n",
              "      <td>-0.359249</td>\n",
              "      <td>-0.022631</td>\n",
              "      <td>0.242548</td>\n",
              "      <td>305.25</td>\n",
              "      <td>-0.009026</td>\n",
              "      <td>-1</td>\n",
              "    </tr>\n",
              "    <tr>\n",
              "      <th>139217</th>\n",
              "      <td>83065.0</td>\n",
              "      <td>-12.734063</td>\n",
              "      <td>8.910837</td>\n",
              "      <td>-6.917461</td>\n",
              "      <td>0.667324</td>\n",
              "      <td>-5.888499</td>\n",
              "      <td>11.607923</td>\n",
              "      <td>-21.570650</td>\n",
              "      <td>-50.420090</td>\n",
              "      <td>-5.887886</td>\n",
              "      <td>...</td>\n",
              "      <td>7.248763</td>\n",
              "      <td>2.875170</td>\n",
              "      <td>-1.580649</td>\n",
              "      <td>-1.434954</td>\n",
              "      <td>-0.357635</td>\n",
              "      <td>0.208635</td>\n",
              "      <td>0.020636</td>\n",
              "      <td>407.00</td>\n",
              "      <td>-0.004715</td>\n",
              "      <td>-1</td>\n",
              "    </tr>\n",
              "  </tbody>\n",
              "</table>\n",
              "<p>31 rows × 32 columns</p>\n",
              "</div>\n",
              "      <button class=\"colab-df-convert\" onclick=\"convertToInteractive('df-439ed724-fd9b-4304-a7e1-1629d6c6e4ed')\"\n",
              "              title=\"Convert this dataframe to an interactive table.\"\n",
              "              style=\"display:none;\">\n",
              "        \n",
              "  <svg xmlns=\"http://www.w3.org/2000/svg\" height=\"24px\"viewBox=\"0 0 24 24\"\n",
              "       width=\"24px\">\n",
              "    <path d=\"M0 0h24v24H0V0z\" fill=\"none\"/>\n",
              "    <path d=\"M18.56 5.44l.94 2.06.94-2.06 2.06-.94-2.06-.94-.94-2.06-.94 2.06-2.06.94zm-11 1L8.5 8.5l.94-2.06 2.06-.94-2.06-.94L8.5 2.5l-.94 2.06-2.06.94zm10 10l.94 2.06.94-2.06 2.06-.94-2.06-.94-.94-2.06-.94 2.06-2.06.94z\"/><path d=\"M17.41 7.96l-1.37-1.37c-.4-.4-.92-.59-1.43-.59-.52 0-1.04.2-1.43.59L10.3 9.45l-7.72 7.72c-.78.78-.78 2.05 0 2.83L4 21.41c.39.39.9.59 1.41.59.51 0 1.02-.2 1.41-.59l7.78-7.78 2.81-2.81c.8-.78.8-2.07 0-2.86zM5.41 20L4 18.59l7.72-7.72 1.47 1.35L5.41 20z\"/>\n",
              "  </svg>\n",
              "      </button>\n",
              "      \n",
              "  <style>\n",
              "    .colab-df-container {\n",
              "      display:flex;\n",
              "      flex-wrap:wrap;\n",
              "      gap: 12px;\n",
              "    }\n",
              "\n",
              "    .colab-df-convert {\n",
              "      background-color: #E8F0FE;\n",
              "      border: none;\n",
              "      border-radius: 50%;\n",
              "      cursor: pointer;\n",
              "      display: none;\n",
              "      fill: #1967D2;\n",
              "      height: 32px;\n",
              "      padding: 0 0 0 0;\n",
              "      width: 32px;\n",
              "    }\n",
              "\n",
              "    .colab-df-convert:hover {\n",
              "      background-color: #E2EBFA;\n",
              "      box-shadow: 0px 1px 2px rgba(60, 64, 67, 0.3), 0px 1px 3px 1px rgba(60, 64, 67, 0.15);\n",
              "      fill: #174EA6;\n",
              "    }\n",
              "\n",
              "    [theme=dark] .colab-df-convert {\n",
              "      background-color: #3B4455;\n",
              "      fill: #D2E3FC;\n",
              "    }\n",
              "\n",
              "    [theme=dark] .colab-df-convert:hover {\n",
              "      background-color: #434B5C;\n",
              "      box-shadow: 0px 1px 3px 1px rgba(0, 0, 0, 0.15);\n",
              "      filter: drop-shadow(0px 1px 2px rgba(0, 0, 0, 0.3));\n",
              "      fill: #FFFFFF;\n",
              "    }\n",
              "  </style>\n",
              "\n",
              "      <script>\n",
              "        const buttonEl =\n",
              "          document.querySelector('#df-439ed724-fd9b-4304-a7e1-1629d6c6e4ed button.colab-df-convert');\n",
              "        buttonEl.style.display =\n",
              "          google.colab.kernel.accessAllowed ? 'block' : 'none';\n",
              "\n",
              "        async function convertToInteractive(key) {\n",
              "          const element = document.querySelector('#df-439ed724-fd9b-4304-a7e1-1629d6c6e4ed');\n",
              "          const dataTable =\n",
              "            await google.colab.kernel.invokeFunction('convertToInteractive',\n",
              "                                                     [key], {});\n",
              "          if (!dataTable) return;\n",
              "\n",
              "          const docLinkHtml = 'Like what you see? Visit the ' +\n",
              "            '<a target=\"_blank\" href=https://colab.research.google.com/notebooks/data_table.ipynb>data table notebook</a>'\n",
              "            + ' to learn more about interactive tables.';\n",
              "          element.innerHTML = '';\n",
              "          dataTable['output_type'] = 'display_data';\n",
              "          await google.colab.output.renderOutput(dataTable, element);\n",
              "          const docLink = document.createElement('div');\n",
              "          docLink.innerHTML = docLinkHtml;\n",
              "          element.appendChild(docLink);\n",
              "        }\n",
              "      </script>\n",
              "    </div>\n",
              "  </div>\n",
              "  "
            ]
          },
          "metadata": {},
          "execution_count": 336
        }
      ],
      "source": [
        "#fraudulent transactions in day 1 -  anomalies are assigned an anomaly score of -1.\n",
        "b_x1[b_x1['anomaly_score']== -1]\n"
      ]
    },
    {
      "cell_type": "code",
      "execution_count": 337,
      "metadata": {
        "colab": {
          "base_uri": "https://localhost:8080/",
          "height": 1000
        },
        "id": "evWYEwlEEnak",
        "outputId": "a1d9c9a7-8b1f-469d-833e-d2bdc9f8cc3c"
      },
      "outputs": [
        {
          "output_type": "execute_result",
          "data": {
            "text/plain": [
              "           Time         V1         V2         V3         V4         V5  \\\n",
              "58465   48401.0 -36.802320 -63.344698 -20.645794  16.715537 -20.672064   \n",
              "108424  70891.0 -33.404082 -38.436817  -6.478019  12.699542  12.785108   \n",
              "74699   55709.0 -16.950064 -16.417395 -12.523381   6.555638 -27.752964   \n",
              "79267   57945.0 -30.821436 -35.616754  -4.460572  10.689621  18.611287   \n",
              "46841   42951.0 -23.712839 -42.172688 -13.320825   9.925019 -13.945538   \n",
              "65423   51575.0 -14.904340  12.793880  -7.888739   0.512373  -7.661829   \n",
              "39769   39954.0 -56.407510 -72.715728  -6.605265  16.491217  34.801666   \n",
              "54018   46253.0 -21.780665 -38.305310 -12.122469   9.752791 -12.880794   \n",
              "1632     1264.0 -11.140706  -9.612726 -12.389545   6.013346 -32.092129   \n",
              "118764  75207.0  -3.432602  -3.110123   9.382558  -1.218808   7.515238   \n",
              "90946   63246.0 -30.515455 -32.494845  -5.586992   8.739906   4.836591   \n",
              "8610    11621.0 -27.670569 -34.607649   2.243079  10.463020  34.099309   \n",
              "131480  79617.0 -24.316924 -20.949142 -11.058967   9.144180 -10.495812   \n",
              "50287   44423.0 -33.017174 -39.818310  -1.445971  10.739659  28.762671   \n",
              "6812     8592.0 -23.066842 -25.640527  -3.080313   4.866932   6.901397   \n",
              "110249  71738.0 -14.818375 -11.480602  -4.000755   6.040284  -6.886229   \n",
              "23128   32605.0 -23.383129 -18.098804 -20.195367   4.249104 -42.147898   \n",
              "110608  71898.0 -19.827846 -15.711131  -7.387595   7.604936  -9.141652   \n",
              "79296   57957.0 -29.516123 -33.204192  -4.424643   9.684232   9.000517   \n",
              "121787  76318.0 -22.594958 -18.185294  -9.164820   8.464731 -10.335665   \n",
              "110467  71834.0 -17.498634 -13.929566  -5.275336   6.936182  -6.143551   \n",
              "66547   52102.0 -17.709136 -17.891256  -2.642177   7.973404   8.089657   \n",
              "138706  82802.0 -11.636704   9.127335  -6.055225   0.479269  -5.035106   \n",
              "7485    10201.0  -9.507807  -6.332182  -2.347929   5.909158  -1.946121   \n",
              "139217  83065.0 -12.734063   8.910837  -6.917461   0.667324  -5.888499   \n",
              "138215  82543.0 -10.883622   9.227375  -4.925972   0.308093  -4.086120   \n",
              "52524   45502.0  -7.234663   4.013911  -3.883894  -2.686814 -11.940702   \n",
              "86492   61257.0 -17.607701 -12.932543  -5.100174   2.031623  -5.470685   \n",
              "77814   57225.0 -22.435671 -21.510079  -3.711944   6.479684   2.177843   \n",
              "57209   47807.0 -13.537461 -24.426864  -7.355943   6.896486  -8.515928   \n",
              "19760   30537.0 -14.191832 -25.313252  -7.578781   7.730844  -8.285413   \n",
              "\n",
              "               V6         V7         V8         V9  ...        V22        V23  \\\n",
              "58465    7.694002  24.956587  -4.730111  -2.687312  ... -10.933144 -17.173665   \n",
              "108424  -9.674221 -10.193438  -4.180491   5.882570  ...  -3.635183 -22.575000   \n",
              "74699   18.072031  28.504065 -10.152220   2.124673  ...   0.050097 -10.855949   \n",
              "79267  -13.360241  -7.260207  -1.293304   2.763696  ...   1.929221  13.659458   \n",
              "46841    5.564891  15.710644  -2.844253  -1.580725  ...  -6.320710 -11.310338   \n",
              "65423   16.614054 -31.764946 -73.216718  -6.290730  ...  10.503090   4.245073   \n",
              "39769  -26.160506 -19.399981  -1.501300   6.967698  ...  -1.272167   7.893082   \n",
              "54018    4.256017  14.785051  -2.818253  -0.667338  ...  -5.619439 -10.547038   \n",
              "1632    21.393069  34.303177  -7.520784  -1.925732  ...   1.366110  -2.925888   \n",
              "118764   3.399540  15.661716 -18.958017  15.594995  ...   2.766917  -2.971359   \n",
              "90946   -4.351775   1.343434  -1.850630   2.734941  ...   2.004349  15.626067   \n",
              "8610   -23.496714 -26.548144  -0.779134   7.496577  ...  -1.627883 -11.669994   \n",
              "131480   6.834122  11.217637  -3.847405   2.988551  ...  -1.244117 -13.118217   \n",
              "50287  -19.996349 -19.083907  -1.992887   5.000712  ...  -1.701734 -12.529524   \n",
              "6812    -4.074335   2.027345  -2.688652   3.402966  ...   3.312971  13.876221   \n",
              "110249   7.190322   9.351866  -3.642533   4.437451  ...   1.184342  -1.353028   \n",
              "23128   22.529298  36.677268  -4.862800   1.645619  ...  -0.139751  -6.086173   \n",
              "110608   7.399126   9.743209  -3.525079   4.862849  ...  -0.110243  -8.572959   \n",
              "79296   -6.543026  -1.072169  -1.352590   4.133987  ...   3.263958  18.946734   \n",
              "121787   7.521470  10.145492  -3.394426   5.025957  ...  -0.695902 -11.359689   \n",
              "110467   6.047097   7.532708  -3.397241   4.852312  ...   0.240052  -6.832414   \n",
              "66547   -4.850361   0.197757  -2.270316   1.072787  ...   3.373358  12.576469   \n",
              "138706  11.423921 -21.701600 -50.688419  -5.945202  ...   7.357255   3.407646   \n",
              "7485     2.347826  -2.895307  -8.933411   0.512017  ...  -0.071824 -10.477978   \n",
              "139217  11.607923 -21.570650 -50.420090  -5.887886  ...   7.248763   2.875170   \n",
              "138215  11.221283 -21.926934 -50.943369  -6.105803  ...   7.220158   3.332339   \n",
              "52524    8.141055   3.631227 -19.013925   2.992497  ...  -6.129680  -9.835095   \n",
              "86492    3.284044   7.724726  -4.695408   6.225111  ...   0.864490  -5.489570   \n",
              "77814   -0.276111   3.935704  -4.871645   5.305156  ...   1.770421   6.146762   \n",
              "57209    2.354758   9.568711  -2.006504  -0.236247  ...  -3.504033  -6.790961   \n",
              "19760    3.994474   9.656752  -1.502509  -0.231141  ...  -4.067605  -6.869451   \n",
              "\n",
              "             V24       V25       V26        V27        V28    Amount  \\\n",
              "58465   1.180700 -7.025783 -2.534330  -3.602479   3.450224  19656.53   \n",
              "108424  2.070945 -3.640055 -0.016901   9.200883  -5.944923   1235.79   \n",
              "74699   1.550407 -0.502172  0.821714  12.152401  -4.009839   8790.26   \n",
              "79267   0.554661  4.032572  1.642552   7.994762  -4.631633      0.76   \n",
              "46841   0.404175 -4.547278 -1.577118  -2.357385   2.253662  12910.93   \n",
              "65423  -1.412813 -0.730374  0.133557  -0.394370   0.942177    500.00   \n",
              "39769   0.767805  5.376595  0.163672  -8.358317  33.847808   1201.83   \n",
              "54018   0.653249 -4.232409 -0.480459  -2.257913   2.082488  11898.09   \n",
              "1632    0.843551  0.746267  0.801387   3.852046   4.157934   7712.43   \n",
              "118764  0.539097 -3.963454 -2.068561 -22.565679 -11.710896    243.26   \n",
              "90946   0.804707  5.541598  1.985759   9.879903  -6.172259    970.00   \n",
              "8610    2.192626 -2.483069  1.788189   8.254376  -3.509250     55.25   \n",
              "131480 -0.227553 -1.708349 -0.310107  -5.388598   5.823423   1593.37   \n",
              "50287   2.057019 -1.166944  0.156381  10.507884  -4.127442   2310.00   \n",
              "6812   -0.572177  5.525093  0.906980   3.358822   3.553906    845.73   \n",
              "110249 -1.054048  1.220732  0.472791  -3.415073   6.582617   1441.49   \n",
              "23128   1.924973  0.669689  0.449781  11.135740  -9.617915   7429.15   \n",
              "110608 -0.545888 -0.258922  0.221568  -3.085763   6.403049   1729.79   \n",
              "79296   0.559350  5.521140  1.766634   8.708972  -5.688681    390.65   \n",
              "121787 -0.342331 -0.805144  0.091900  -3.141773   6.341989   1729.79   \n",
              "110467 -0.717356  0.014940  0.292598  -3.309654   6.631019   1441.49   \n",
              "66547   0.430283  3.018350  1.177100   6.250240  -3.669194    153.67   \n",
              "138706 -1.641784 -1.395530 -0.359249  -0.022631   0.242548    305.25   \n",
              "7485    0.461380 -2.160800  0.327158   4.173387  -3.054085   1895.88   \n",
              "139217 -1.580649 -1.434954 -0.357635   0.208635   0.020636    407.00   \n",
              "138215 -1.676396 -0.939542 -0.283478  -0.343275   0.442316    203.50   \n",
              "52524   1.413067 -1.920005 -0.252660   3.717436  -1.346962   3050.69   \n",
              "86492   0.600349 -0.692275 -0.506506  -7.463188   2.095861    720.00   \n",
              "77814   0.369772  3.119632  1.659289  -4.327341  15.374949    318.25   \n",
              "57209   0.864201 -2.433816 -0.244081  -1.428731   1.354228   7636.30   \n",
              "19760   0.107527 -2.640366 -1.237598  -1.387145   1.389367   7879.42   \n",
              "\n",
              "          scores  anomaly_score  \n",
              "58465  -0.068091             -1  \n",
              "108424 -0.058893             -1  \n",
              "74699  -0.037451             -1  \n",
              "79267  -0.036287             -1  \n",
              "46841  -0.033147             -1  \n",
              "65423  -0.033044             -1  \n",
              "39769  -0.028165             -1  \n",
              "54018  -0.027917             -1  \n",
              "1632   -0.027895             -1  \n",
              "118764 -0.027357             -1  \n",
              "90946  -0.026049             -1  \n",
              "8610   -0.025168             -1  \n",
              "131480 -0.024478             -1  \n",
              "50287  -0.020878             -1  \n",
              "6812   -0.019946             -1  \n",
              "110249 -0.019335             -1  \n",
              "23128  -0.018293             -1  \n",
              "110608 -0.016664             -1  \n",
              "79296  -0.013727             -1  \n",
              "121787 -0.013065             -1  \n",
              "110467 -0.012606             -1  \n",
              "66547  -0.009550             -1  \n",
              "138706 -0.009026             -1  \n",
              "7485   -0.007695             -1  \n",
              "139217 -0.004715             -1  \n",
              "138215 -0.004470             -1  \n",
              "52524  -0.004125             -1  \n",
              "86492  -0.003768             -1  \n",
              "77814  -0.002302             -1  \n",
              "57209  -0.001905             -1  \n",
              "19760  -0.000959             -1  \n",
              "\n",
              "[31 rows x 32 columns]"
            ],
            "text/html": [
              "\n",
              "  <div id=\"df-a1c1d62f-48b8-4977-8614-46c63715717b\">\n",
              "    <div class=\"colab-df-container\">\n",
              "      <div>\n",
              "<style scoped>\n",
              "    .dataframe tbody tr th:only-of-type {\n",
              "        vertical-align: middle;\n",
              "    }\n",
              "\n",
              "    .dataframe tbody tr th {\n",
              "        vertical-align: top;\n",
              "    }\n",
              "\n",
              "    .dataframe thead th {\n",
              "        text-align: right;\n",
              "    }\n",
              "</style>\n",
              "<table border=\"1\" class=\"dataframe\">\n",
              "  <thead>\n",
              "    <tr style=\"text-align: right;\">\n",
              "      <th></th>\n",
              "      <th>Time</th>\n",
              "      <th>V1</th>\n",
              "      <th>V2</th>\n",
              "      <th>V3</th>\n",
              "      <th>V4</th>\n",
              "      <th>V5</th>\n",
              "      <th>V6</th>\n",
              "      <th>V7</th>\n",
              "      <th>V8</th>\n",
              "      <th>V9</th>\n",
              "      <th>...</th>\n",
              "      <th>V22</th>\n",
              "      <th>V23</th>\n",
              "      <th>V24</th>\n",
              "      <th>V25</th>\n",
              "      <th>V26</th>\n",
              "      <th>V27</th>\n",
              "      <th>V28</th>\n",
              "      <th>Amount</th>\n",
              "      <th>scores</th>\n",
              "      <th>anomaly_score</th>\n",
              "    </tr>\n",
              "  </thead>\n",
              "  <tbody>\n",
              "    <tr>\n",
              "      <th>58465</th>\n",
              "      <td>48401.0</td>\n",
              "      <td>-36.802320</td>\n",
              "      <td>-63.344698</td>\n",
              "      <td>-20.645794</td>\n",
              "      <td>16.715537</td>\n",
              "      <td>-20.672064</td>\n",
              "      <td>7.694002</td>\n",
              "      <td>24.956587</td>\n",
              "      <td>-4.730111</td>\n",
              "      <td>-2.687312</td>\n",
              "      <td>...</td>\n",
              "      <td>-10.933144</td>\n",
              "      <td>-17.173665</td>\n",
              "      <td>1.180700</td>\n",
              "      <td>-7.025783</td>\n",
              "      <td>-2.534330</td>\n",
              "      <td>-3.602479</td>\n",
              "      <td>3.450224</td>\n",
              "      <td>19656.53</td>\n",
              "      <td>-0.068091</td>\n",
              "      <td>-1</td>\n",
              "    </tr>\n",
              "    <tr>\n",
              "      <th>108424</th>\n",
              "      <td>70891.0</td>\n",
              "      <td>-33.404082</td>\n",
              "      <td>-38.436817</td>\n",
              "      <td>-6.478019</td>\n",
              "      <td>12.699542</td>\n",
              "      <td>12.785108</td>\n",
              "      <td>-9.674221</td>\n",
              "      <td>-10.193438</td>\n",
              "      <td>-4.180491</td>\n",
              "      <td>5.882570</td>\n",
              "      <td>...</td>\n",
              "      <td>-3.635183</td>\n",
              "      <td>-22.575000</td>\n",
              "      <td>2.070945</td>\n",
              "      <td>-3.640055</td>\n",
              "      <td>-0.016901</td>\n",
              "      <td>9.200883</td>\n",
              "      <td>-5.944923</td>\n",
              "      <td>1235.79</td>\n",
              "      <td>-0.058893</td>\n",
              "      <td>-1</td>\n",
              "    </tr>\n",
              "    <tr>\n",
              "      <th>74699</th>\n",
              "      <td>55709.0</td>\n",
              "      <td>-16.950064</td>\n",
              "      <td>-16.417395</td>\n",
              "      <td>-12.523381</td>\n",
              "      <td>6.555638</td>\n",
              "      <td>-27.752964</td>\n",
              "      <td>18.072031</td>\n",
              "      <td>28.504065</td>\n",
              "      <td>-10.152220</td>\n",
              "      <td>2.124673</td>\n",
              "      <td>...</td>\n",
              "      <td>0.050097</td>\n",
              "      <td>-10.855949</td>\n",
              "      <td>1.550407</td>\n",
              "      <td>-0.502172</td>\n",
              "      <td>0.821714</td>\n",
              "      <td>12.152401</td>\n",
              "      <td>-4.009839</td>\n",
              "      <td>8790.26</td>\n",
              "      <td>-0.037451</td>\n",
              "      <td>-1</td>\n",
              "    </tr>\n",
              "    <tr>\n",
              "      <th>79267</th>\n",
              "      <td>57945.0</td>\n",
              "      <td>-30.821436</td>\n",
              "      <td>-35.616754</td>\n",
              "      <td>-4.460572</td>\n",
              "      <td>10.689621</td>\n",
              "      <td>18.611287</td>\n",
              "      <td>-13.360241</td>\n",
              "      <td>-7.260207</td>\n",
              "      <td>-1.293304</td>\n",
              "      <td>2.763696</td>\n",
              "      <td>...</td>\n",
              "      <td>1.929221</td>\n",
              "      <td>13.659458</td>\n",
              "      <td>0.554661</td>\n",
              "      <td>4.032572</td>\n",
              "      <td>1.642552</td>\n",
              "      <td>7.994762</td>\n",
              "      <td>-4.631633</td>\n",
              "      <td>0.76</td>\n",
              "      <td>-0.036287</td>\n",
              "      <td>-1</td>\n",
              "    </tr>\n",
              "    <tr>\n",
              "      <th>46841</th>\n",
              "      <td>42951.0</td>\n",
              "      <td>-23.712839</td>\n",
              "      <td>-42.172688</td>\n",
              "      <td>-13.320825</td>\n",
              "      <td>9.925019</td>\n",
              "      <td>-13.945538</td>\n",
              "      <td>5.564891</td>\n",
              "      <td>15.710644</td>\n",
              "      <td>-2.844253</td>\n",
              "      <td>-1.580725</td>\n",
              "      <td>...</td>\n",
              "      <td>-6.320710</td>\n",
              "      <td>-11.310338</td>\n",
              "      <td>0.404175</td>\n",
              "      <td>-4.547278</td>\n",
              "      <td>-1.577118</td>\n",
              "      <td>-2.357385</td>\n",
              "      <td>2.253662</td>\n",
              "      <td>12910.93</td>\n",
              "      <td>-0.033147</td>\n",
              "      <td>-1</td>\n",
              "    </tr>\n",
              "    <tr>\n",
              "      <th>65423</th>\n",
              "      <td>51575.0</td>\n",
              "      <td>-14.904340</td>\n",
              "      <td>12.793880</td>\n",
              "      <td>-7.888739</td>\n",
              "      <td>0.512373</td>\n",
              "      <td>-7.661829</td>\n",
              "      <td>16.614054</td>\n",
              "      <td>-31.764946</td>\n",
              "      <td>-73.216718</td>\n",
              "      <td>-6.290730</td>\n",
              "      <td>...</td>\n",
              "      <td>10.503090</td>\n",
              "      <td>4.245073</td>\n",
              "      <td>-1.412813</td>\n",
              "      <td>-0.730374</td>\n",
              "      <td>0.133557</td>\n",
              "      <td>-0.394370</td>\n",
              "      <td>0.942177</td>\n",
              "      <td>500.00</td>\n",
              "      <td>-0.033044</td>\n",
              "      <td>-1</td>\n",
              "    </tr>\n",
              "    <tr>\n",
              "      <th>39769</th>\n",
              "      <td>39954.0</td>\n",
              "      <td>-56.407510</td>\n",
              "      <td>-72.715728</td>\n",
              "      <td>-6.605265</td>\n",
              "      <td>16.491217</td>\n",
              "      <td>34.801666</td>\n",
              "      <td>-26.160506</td>\n",
              "      <td>-19.399981</td>\n",
              "      <td>-1.501300</td>\n",
              "      <td>6.967698</td>\n",
              "      <td>...</td>\n",
              "      <td>-1.272167</td>\n",
              "      <td>7.893082</td>\n",
              "      <td>0.767805</td>\n",
              "      <td>5.376595</td>\n",
              "      <td>0.163672</td>\n",
              "      <td>-8.358317</td>\n",
              "      <td>33.847808</td>\n",
              "      <td>1201.83</td>\n",
              "      <td>-0.028165</td>\n",
              "      <td>-1</td>\n",
              "    </tr>\n",
              "    <tr>\n",
              "      <th>54018</th>\n",
              "      <td>46253.0</td>\n",
              "      <td>-21.780665</td>\n",
              "      <td>-38.305310</td>\n",
              "      <td>-12.122469</td>\n",
              "      <td>9.752791</td>\n",
              "      <td>-12.880794</td>\n",
              "      <td>4.256017</td>\n",
              "      <td>14.785051</td>\n",
              "      <td>-2.818253</td>\n",
              "      <td>-0.667338</td>\n",
              "      <td>...</td>\n",
              "      <td>-5.619439</td>\n",
              "      <td>-10.547038</td>\n",
              "      <td>0.653249</td>\n",
              "      <td>-4.232409</td>\n",
              "      <td>-0.480459</td>\n",
              "      <td>-2.257913</td>\n",
              "      <td>2.082488</td>\n",
              "      <td>11898.09</td>\n",
              "      <td>-0.027917</td>\n",
              "      <td>-1</td>\n",
              "    </tr>\n",
              "    <tr>\n",
              "      <th>1632</th>\n",
              "      <td>1264.0</td>\n",
              "      <td>-11.140706</td>\n",
              "      <td>-9.612726</td>\n",
              "      <td>-12.389545</td>\n",
              "      <td>6.013346</td>\n",
              "      <td>-32.092129</td>\n",
              "      <td>21.393069</td>\n",
              "      <td>34.303177</td>\n",
              "      <td>-7.520784</td>\n",
              "      <td>-1.925732</td>\n",
              "      <td>...</td>\n",
              "      <td>1.366110</td>\n",
              "      <td>-2.925888</td>\n",
              "      <td>0.843551</td>\n",
              "      <td>0.746267</td>\n",
              "      <td>0.801387</td>\n",
              "      <td>3.852046</td>\n",
              "      <td>4.157934</td>\n",
              "      <td>7712.43</td>\n",
              "      <td>-0.027895</td>\n",
              "      <td>-1</td>\n",
              "    </tr>\n",
              "    <tr>\n",
              "      <th>118764</th>\n",
              "      <td>75207.0</td>\n",
              "      <td>-3.432602</td>\n",
              "      <td>-3.110123</td>\n",
              "      <td>9.382558</td>\n",
              "      <td>-1.218808</td>\n",
              "      <td>7.515238</td>\n",
              "      <td>3.399540</td>\n",
              "      <td>15.661716</td>\n",
              "      <td>-18.958017</td>\n",
              "      <td>15.594995</td>\n",
              "      <td>...</td>\n",
              "      <td>2.766917</td>\n",
              "      <td>-2.971359</td>\n",
              "      <td>0.539097</td>\n",
              "      <td>-3.963454</td>\n",
              "      <td>-2.068561</td>\n",
              "      <td>-22.565679</td>\n",
              "      <td>-11.710896</td>\n",
              "      <td>243.26</td>\n",
              "      <td>-0.027357</td>\n",
              "      <td>-1</td>\n",
              "    </tr>\n",
              "    <tr>\n",
              "      <th>90946</th>\n",
              "      <td>63246.0</td>\n",
              "      <td>-30.515455</td>\n",
              "      <td>-32.494845</td>\n",
              "      <td>-5.586992</td>\n",
              "      <td>8.739906</td>\n",
              "      <td>4.836591</td>\n",
              "      <td>-4.351775</td>\n",
              "      <td>1.343434</td>\n",
              "      <td>-1.850630</td>\n",
              "      <td>2.734941</td>\n",
              "      <td>...</td>\n",
              "      <td>2.004349</td>\n",
              "      <td>15.626067</td>\n",
              "      <td>0.804707</td>\n",
              "      <td>5.541598</td>\n",
              "      <td>1.985759</td>\n",
              "      <td>9.879903</td>\n",
              "      <td>-6.172259</td>\n",
              "      <td>970.00</td>\n",
              "      <td>-0.026049</td>\n",
              "      <td>-1</td>\n",
              "    </tr>\n",
              "    <tr>\n",
              "      <th>8610</th>\n",
              "      <td>11621.0</td>\n",
              "      <td>-27.670569</td>\n",
              "      <td>-34.607649</td>\n",
              "      <td>2.243079</td>\n",
              "      <td>10.463020</td>\n",
              "      <td>34.099309</td>\n",
              "      <td>-23.496714</td>\n",
              "      <td>-26.548144</td>\n",
              "      <td>-0.779134</td>\n",
              "      <td>7.496577</td>\n",
              "      <td>...</td>\n",
              "      <td>-1.627883</td>\n",
              "      <td>-11.669994</td>\n",
              "      <td>2.192626</td>\n",
              "      <td>-2.483069</td>\n",
              "      <td>1.788189</td>\n",
              "      <td>8.254376</td>\n",
              "      <td>-3.509250</td>\n",
              "      <td>55.25</td>\n",
              "      <td>-0.025168</td>\n",
              "      <td>-1</td>\n",
              "    </tr>\n",
              "    <tr>\n",
              "      <th>131480</th>\n",
              "      <td>79617.0</td>\n",
              "      <td>-24.316924</td>\n",
              "      <td>-20.949142</td>\n",
              "      <td>-11.058967</td>\n",
              "      <td>9.144180</td>\n",
              "      <td>-10.495812</td>\n",
              "      <td>6.834122</td>\n",
              "      <td>11.217637</td>\n",
              "      <td>-3.847405</td>\n",
              "      <td>2.988551</td>\n",
              "      <td>...</td>\n",
              "      <td>-1.244117</td>\n",
              "      <td>-13.118217</td>\n",
              "      <td>-0.227553</td>\n",
              "      <td>-1.708349</td>\n",
              "      <td>-0.310107</td>\n",
              "      <td>-5.388598</td>\n",
              "      <td>5.823423</td>\n",
              "      <td>1593.37</td>\n",
              "      <td>-0.024478</td>\n",
              "      <td>-1</td>\n",
              "    </tr>\n",
              "    <tr>\n",
              "      <th>50287</th>\n",
              "      <td>44423.0</td>\n",
              "      <td>-33.017174</td>\n",
              "      <td>-39.818310</td>\n",
              "      <td>-1.445971</td>\n",
              "      <td>10.739659</td>\n",
              "      <td>28.762671</td>\n",
              "      <td>-19.996349</td>\n",
              "      <td>-19.083907</td>\n",
              "      <td>-1.992887</td>\n",
              "      <td>5.000712</td>\n",
              "      <td>...</td>\n",
              "      <td>-1.701734</td>\n",
              "      <td>-12.529524</td>\n",
              "      <td>2.057019</td>\n",
              "      <td>-1.166944</td>\n",
              "      <td>0.156381</td>\n",
              "      <td>10.507884</td>\n",
              "      <td>-4.127442</td>\n",
              "      <td>2310.00</td>\n",
              "      <td>-0.020878</td>\n",
              "      <td>-1</td>\n",
              "    </tr>\n",
              "    <tr>\n",
              "      <th>6812</th>\n",
              "      <td>8592.0</td>\n",
              "      <td>-23.066842</td>\n",
              "      <td>-25.640527</td>\n",
              "      <td>-3.080313</td>\n",
              "      <td>4.866932</td>\n",
              "      <td>6.901397</td>\n",
              "      <td>-4.074335</td>\n",
              "      <td>2.027345</td>\n",
              "      <td>-2.688652</td>\n",
              "      <td>3.402966</td>\n",
              "      <td>...</td>\n",
              "      <td>3.312971</td>\n",
              "      <td>13.876221</td>\n",
              "      <td>-0.572177</td>\n",
              "      <td>5.525093</td>\n",
              "      <td>0.906980</td>\n",
              "      <td>3.358822</td>\n",
              "      <td>3.553906</td>\n",
              "      <td>845.73</td>\n",
              "      <td>-0.019946</td>\n",
              "      <td>-1</td>\n",
              "    </tr>\n",
              "    <tr>\n",
              "      <th>110249</th>\n",
              "      <td>71738.0</td>\n",
              "      <td>-14.818375</td>\n",
              "      <td>-11.480602</td>\n",
              "      <td>-4.000755</td>\n",
              "      <td>6.040284</td>\n",
              "      <td>-6.886229</td>\n",
              "      <td>7.190322</td>\n",
              "      <td>9.351866</td>\n",
              "      <td>-3.642533</td>\n",
              "      <td>4.437451</td>\n",
              "      <td>...</td>\n",
              "      <td>1.184342</td>\n",
              "      <td>-1.353028</td>\n",
              "      <td>-1.054048</td>\n",
              "      <td>1.220732</td>\n",
              "      <td>0.472791</td>\n",
              "      <td>-3.415073</td>\n",
              "      <td>6.582617</td>\n",
              "      <td>1441.49</td>\n",
              "      <td>-0.019335</td>\n",
              "      <td>-1</td>\n",
              "    </tr>\n",
              "    <tr>\n",
              "      <th>23128</th>\n",
              "      <td>32605.0</td>\n",
              "      <td>-23.383129</td>\n",
              "      <td>-18.098804</td>\n",
              "      <td>-20.195367</td>\n",
              "      <td>4.249104</td>\n",
              "      <td>-42.147898</td>\n",
              "      <td>22.529298</td>\n",
              "      <td>36.677268</td>\n",
              "      <td>-4.862800</td>\n",
              "      <td>1.645619</td>\n",
              "      <td>...</td>\n",
              "      <td>-0.139751</td>\n",
              "      <td>-6.086173</td>\n",
              "      <td>1.924973</td>\n",
              "      <td>0.669689</td>\n",
              "      <td>0.449781</td>\n",
              "      <td>11.135740</td>\n",
              "      <td>-9.617915</td>\n",
              "      <td>7429.15</td>\n",
              "      <td>-0.018293</td>\n",
              "      <td>-1</td>\n",
              "    </tr>\n",
              "    <tr>\n",
              "      <th>110608</th>\n",
              "      <td>71898.0</td>\n",
              "      <td>-19.827846</td>\n",
              "      <td>-15.711131</td>\n",
              "      <td>-7.387595</td>\n",
              "      <td>7.604936</td>\n",
              "      <td>-9.141652</td>\n",
              "      <td>7.399126</td>\n",
              "      <td>9.743209</td>\n",
              "      <td>-3.525079</td>\n",
              "      <td>4.862849</td>\n",
              "      <td>...</td>\n",
              "      <td>-0.110243</td>\n",
              "      <td>-8.572959</td>\n",
              "      <td>-0.545888</td>\n",
              "      <td>-0.258922</td>\n",
              "      <td>0.221568</td>\n",
              "      <td>-3.085763</td>\n",
              "      <td>6.403049</td>\n",
              "      <td>1729.79</td>\n",
              "      <td>-0.016664</td>\n",
              "      <td>-1</td>\n",
              "    </tr>\n",
              "    <tr>\n",
              "      <th>79296</th>\n",
              "      <td>57957.0</td>\n",
              "      <td>-29.516123</td>\n",
              "      <td>-33.204192</td>\n",
              "      <td>-4.424643</td>\n",
              "      <td>9.684232</td>\n",
              "      <td>9.000517</td>\n",
              "      <td>-6.543026</td>\n",
              "      <td>-1.072169</td>\n",
              "      <td>-1.352590</td>\n",
              "      <td>4.133987</td>\n",
              "      <td>...</td>\n",
              "      <td>3.263958</td>\n",
              "      <td>18.946734</td>\n",
              "      <td>0.559350</td>\n",
              "      <td>5.521140</td>\n",
              "      <td>1.766634</td>\n",
              "      <td>8.708972</td>\n",
              "      <td>-5.688681</td>\n",
              "      <td>390.65</td>\n",
              "      <td>-0.013727</td>\n",
              "      <td>-1</td>\n",
              "    </tr>\n",
              "    <tr>\n",
              "      <th>121787</th>\n",
              "      <td>76318.0</td>\n",
              "      <td>-22.594958</td>\n",
              "      <td>-18.185294</td>\n",
              "      <td>-9.164820</td>\n",
              "      <td>8.464731</td>\n",
              "      <td>-10.335665</td>\n",
              "      <td>7.521470</td>\n",
              "      <td>10.145492</td>\n",
              "      <td>-3.394426</td>\n",
              "      <td>5.025957</td>\n",
              "      <td>...</td>\n",
              "      <td>-0.695902</td>\n",
              "      <td>-11.359689</td>\n",
              "      <td>-0.342331</td>\n",
              "      <td>-0.805144</td>\n",
              "      <td>0.091900</td>\n",
              "      <td>-3.141773</td>\n",
              "      <td>6.341989</td>\n",
              "      <td>1729.79</td>\n",
              "      <td>-0.013065</td>\n",
              "      <td>-1</td>\n",
              "    </tr>\n",
              "    <tr>\n",
              "      <th>110467</th>\n",
              "      <td>71834.0</td>\n",
              "      <td>-17.498634</td>\n",
              "      <td>-13.929566</td>\n",
              "      <td>-5.275336</td>\n",
              "      <td>6.936182</td>\n",
              "      <td>-6.143551</td>\n",
              "      <td>6.047097</td>\n",
              "      <td>7.532708</td>\n",
              "      <td>-3.397241</td>\n",
              "      <td>4.852312</td>\n",
              "      <td>...</td>\n",
              "      <td>0.240052</td>\n",
              "      <td>-6.832414</td>\n",
              "      <td>-0.717356</td>\n",
              "      <td>0.014940</td>\n",
              "      <td>0.292598</td>\n",
              "      <td>-3.309654</td>\n",
              "      <td>6.631019</td>\n",
              "      <td>1441.49</td>\n",
              "      <td>-0.012606</td>\n",
              "      <td>-1</td>\n",
              "    </tr>\n",
              "    <tr>\n",
              "      <th>66547</th>\n",
              "      <td>52102.0</td>\n",
              "      <td>-17.709136</td>\n",
              "      <td>-17.891256</td>\n",
              "      <td>-2.642177</td>\n",
              "      <td>7.973404</td>\n",
              "      <td>8.089657</td>\n",
              "      <td>-4.850361</td>\n",
              "      <td>0.197757</td>\n",
              "      <td>-2.270316</td>\n",
              "      <td>1.072787</td>\n",
              "      <td>...</td>\n",
              "      <td>3.373358</td>\n",
              "      <td>12.576469</td>\n",
              "      <td>0.430283</td>\n",
              "      <td>3.018350</td>\n",
              "      <td>1.177100</td>\n",
              "      <td>6.250240</td>\n",
              "      <td>-3.669194</td>\n",
              "      <td>153.67</td>\n",
              "      <td>-0.009550</td>\n",
              "      <td>-1</td>\n",
              "    </tr>\n",
              "    <tr>\n",
              "      <th>138706</th>\n",
              "      <td>82802.0</td>\n",
              "      <td>-11.636704</td>\n",
              "      <td>9.127335</td>\n",
              "      <td>-6.055225</td>\n",
              "      <td>0.479269</td>\n",
              "      <td>-5.035106</td>\n",
              "      <td>11.423921</td>\n",
              "      <td>-21.701600</td>\n",
              "      <td>-50.688419</td>\n",
              "      <td>-5.945202</td>\n",
              "      <td>...</td>\n",
              "      <td>7.357255</td>\n",
              "      <td>3.407646</td>\n",
              "      <td>-1.641784</td>\n",
              "      <td>-1.395530</td>\n",
              "      <td>-0.359249</td>\n",
              "      <td>-0.022631</td>\n",
              "      <td>0.242548</td>\n",
              "      <td>305.25</td>\n",
              "      <td>-0.009026</td>\n",
              "      <td>-1</td>\n",
              "    </tr>\n",
              "    <tr>\n",
              "      <th>7485</th>\n",
              "      <td>10201.0</td>\n",
              "      <td>-9.507807</td>\n",
              "      <td>-6.332182</td>\n",
              "      <td>-2.347929</td>\n",
              "      <td>5.909158</td>\n",
              "      <td>-1.946121</td>\n",
              "      <td>2.347826</td>\n",
              "      <td>-2.895307</td>\n",
              "      <td>-8.933411</td>\n",
              "      <td>0.512017</td>\n",
              "      <td>...</td>\n",
              "      <td>-0.071824</td>\n",
              "      <td>-10.477978</td>\n",
              "      <td>0.461380</td>\n",
              "      <td>-2.160800</td>\n",
              "      <td>0.327158</td>\n",
              "      <td>4.173387</td>\n",
              "      <td>-3.054085</td>\n",
              "      <td>1895.88</td>\n",
              "      <td>-0.007695</td>\n",
              "      <td>-1</td>\n",
              "    </tr>\n",
              "    <tr>\n",
              "      <th>139217</th>\n",
              "      <td>83065.0</td>\n",
              "      <td>-12.734063</td>\n",
              "      <td>8.910837</td>\n",
              "      <td>-6.917461</td>\n",
              "      <td>0.667324</td>\n",
              "      <td>-5.888499</td>\n",
              "      <td>11.607923</td>\n",
              "      <td>-21.570650</td>\n",
              "      <td>-50.420090</td>\n",
              "      <td>-5.887886</td>\n",
              "      <td>...</td>\n",
              "      <td>7.248763</td>\n",
              "      <td>2.875170</td>\n",
              "      <td>-1.580649</td>\n",
              "      <td>-1.434954</td>\n",
              "      <td>-0.357635</td>\n",
              "      <td>0.208635</td>\n",
              "      <td>0.020636</td>\n",
              "      <td>407.00</td>\n",
              "      <td>-0.004715</td>\n",
              "      <td>-1</td>\n",
              "    </tr>\n",
              "    <tr>\n",
              "      <th>138215</th>\n",
              "      <td>82543.0</td>\n",
              "      <td>-10.883622</td>\n",
              "      <td>9.227375</td>\n",
              "      <td>-4.925972</td>\n",
              "      <td>0.308093</td>\n",
              "      <td>-4.086120</td>\n",
              "      <td>11.221283</td>\n",
              "      <td>-21.926934</td>\n",
              "      <td>-50.943369</td>\n",
              "      <td>-6.105803</td>\n",
              "      <td>...</td>\n",
              "      <td>7.220158</td>\n",
              "      <td>3.332339</td>\n",
              "      <td>-1.676396</td>\n",
              "      <td>-0.939542</td>\n",
              "      <td>-0.283478</td>\n",
              "      <td>-0.343275</td>\n",
              "      <td>0.442316</td>\n",
              "      <td>203.50</td>\n",
              "      <td>-0.004470</td>\n",
              "      <td>-1</td>\n",
              "    </tr>\n",
              "    <tr>\n",
              "      <th>52524</th>\n",
              "      <td>45502.0</td>\n",
              "      <td>-7.234663</td>\n",
              "      <td>4.013911</td>\n",
              "      <td>-3.883894</td>\n",
              "      <td>-2.686814</td>\n",
              "      <td>-11.940702</td>\n",
              "      <td>8.141055</td>\n",
              "      <td>3.631227</td>\n",
              "      <td>-19.013925</td>\n",
              "      <td>2.992497</td>\n",
              "      <td>...</td>\n",
              "      <td>-6.129680</td>\n",
              "      <td>-9.835095</td>\n",
              "      <td>1.413067</td>\n",
              "      <td>-1.920005</td>\n",
              "      <td>-0.252660</td>\n",
              "      <td>3.717436</td>\n",
              "      <td>-1.346962</td>\n",
              "      <td>3050.69</td>\n",
              "      <td>-0.004125</td>\n",
              "      <td>-1</td>\n",
              "    </tr>\n",
              "    <tr>\n",
              "      <th>86492</th>\n",
              "      <td>61257.0</td>\n",
              "      <td>-17.607701</td>\n",
              "      <td>-12.932543</td>\n",
              "      <td>-5.100174</td>\n",
              "      <td>2.031623</td>\n",
              "      <td>-5.470685</td>\n",
              "      <td>3.284044</td>\n",
              "      <td>7.724726</td>\n",
              "      <td>-4.695408</td>\n",
              "      <td>6.225111</td>\n",
              "      <td>...</td>\n",
              "      <td>0.864490</td>\n",
              "      <td>-5.489570</td>\n",
              "      <td>0.600349</td>\n",
              "      <td>-0.692275</td>\n",
              "      <td>-0.506506</td>\n",
              "      <td>-7.463188</td>\n",
              "      <td>2.095861</td>\n",
              "      <td>720.00</td>\n",
              "      <td>-0.003768</td>\n",
              "      <td>-1</td>\n",
              "    </tr>\n",
              "    <tr>\n",
              "      <th>77814</th>\n",
              "      <td>57225.0</td>\n",
              "      <td>-22.435671</td>\n",
              "      <td>-21.510079</td>\n",
              "      <td>-3.711944</td>\n",
              "      <td>6.479684</td>\n",
              "      <td>2.177843</td>\n",
              "      <td>-0.276111</td>\n",
              "      <td>3.935704</td>\n",
              "      <td>-4.871645</td>\n",
              "      <td>5.305156</td>\n",
              "      <td>...</td>\n",
              "      <td>1.770421</td>\n",
              "      <td>6.146762</td>\n",
              "      <td>0.369772</td>\n",
              "      <td>3.119632</td>\n",
              "      <td>1.659289</td>\n",
              "      <td>-4.327341</td>\n",
              "      <td>15.374949</td>\n",
              "      <td>318.25</td>\n",
              "      <td>-0.002302</td>\n",
              "      <td>-1</td>\n",
              "    </tr>\n",
              "    <tr>\n",
              "      <th>57209</th>\n",
              "      <td>47807.0</td>\n",
              "      <td>-13.537461</td>\n",
              "      <td>-24.426864</td>\n",
              "      <td>-7.355943</td>\n",
              "      <td>6.896486</td>\n",
              "      <td>-8.515928</td>\n",
              "      <td>2.354758</td>\n",
              "      <td>9.568711</td>\n",
              "      <td>-2.006504</td>\n",
              "      <td>-0.236247</td>\n",
              "      <td>...</td>\n",
              "      <td>-3.504033</td>\n",
              "      <td>-6.790961</td>\n",
              "      <td>0.864201</td>\n",
              "      <td>-2.433816</td>\n",
              "      <td>-0.244081</td>\n",
              "      <td>-1.428731</td>\n",
              "      <td>1.354228</td>\n",
              "      <td>7636.30</td>\n",
              "      <td>-0.001905</td>\n",
              "      <td>-1</td>\n",
              "    </tr>\n",
              "    <tr>\n",
              "      <th>19760</th>\n",
              "      <td>30537.0</td>\n",
              "      <td>-14.191832</td>\n",
              "      <td>-25.313252</td>\n",
              "      <td>-7.578781</td>\n",
              "      <td>7.730844</td>\n",
              "      <td>-8.285413</td>\n",
              "      <td>3.994474</td>\n",
              "      <td>9.656752</td>\n",
              "      <td>-1.502509</td>\n",
              "      <td>-0.231141</td>\n",
              "      <td>...</td>\n",
              "      <td>-4.067605</td>\n",
              "      <td>-6.869451</td>\n",
              "      <td>0.107527</td>\n",
              "      <td>-2.640366</td>\n",
              "      <td>-1.237598</td>\n",
              "      <td>-1.387145</td>\n",
              "      <td>1.389367</td>\n",
              "      <td>7879.42</td>\n",
              "      <td>-0.000959</td>\n",
              "      <td>-1</td>\n",
              "    </tr>\n",
              "  </tbody>\n",
              "</table>\n",
              "<p>31 rows × 32 columns</p>\n",
              "</div>\n",
              "      <button class=\"colab-df-convert\" onclick=\"convertToInteractive('df-a1c1d62f-48b8-4977-8614-46c63715717b')\"\n",
              "              title=\"Convert this dataframe to an interactive table.\"\n",
              "              style=\"display:none;\">\n",
              "        \n",
              "  <svg xmlns=\"http://www.w3.org/2000/svg\" height=\"24px\"viewBox=\"0 0 24 24\"\n",
              "       width=\"24px\">\n",
              "    <path d=\"M0 0h24v24H0V0z\" fill=\"none\"/>\n",
              "    <path d=\"M18.56 5.44l.94 2.06.94-2.06 2.06-.94-2.06-.94-.94-2.06-.94 2.06-2.06.94zm-11 1L8.5 8.5l.94-2.06 2.06-.94-2.06-.94L8.5 2.5l-.94 2.06-2.06.94zm10 10l.94 2.06.94-2.06 2.06-.94-2.06-.94-.94-2.06-.94 2.06-2.06.94z\"/><path d=\"M17.41 7.96l-1.37-1.37c-.4-.4-.92-.59-1.43-.59-.52 0-1.04.2-1.43.59L10.3 9.45l-7.72 7.72c-.78.78-.78 2.05 0 2.83L4 21.41c.39.39.9.59 1.41.59.51 0 1.02-.2 1.41-.59l7.78-7.78 2.81-2.81c.8-.78.8-2.07 0-2.86zM5.41 20L4 18.59l7.72-7.72 1.47 1.35L5.41 20z\"/>\n",
              "  </svg>\n",
              "      </button>\n",
              "      \n",
              "  <style>\n",
              "    .colab-df-container {\n",
              "      display:flex;\n",
              "      flex-wrap:wrap;\n",
              "      gap: 12px;\n",
              "    }\n",
              "\n",
              "    .colab-df-convert {\n",
              "      background-color: #E8F0FE;\n",
              "      border: none;\n",
              "      border-radius: 50%;\n",
              "      cursor: pointer;\n",
              "      display: none;\n",
              "      fill: #1967D2;\n",
              "      height: 32px;\n",
              "      padding: 0 0 0 0;\n",
              "      width: 32px;\n",
              "    }\n",
              "\n",
              "    .colab-df-convert:hover {\n",
              "      background-color: #E2EBFA;\n",
              "      box-shadow: 0px 1px 2px rgba(60, 64, 67, 0.3), 0px 1px 3px 1px rgba(60, 64, 67, 0.15);\n",
              "      fill: #174EA6;\n",
              "    }\n",
              "\n",
              "    [theme=dark] .colab-df-convert {\n",
              "      background-color: #3B4455;\n",
              "      fill: #D2E3FC;\n",
              "    }\n",
              "\n",
              "    [theme=dark] .colab-df-convert:hover {\n",
              "      background-color: #434B5C;\n",
              "      box-shadow: 0px 1px 3px 1px rgba(0, 0, 0, 0.15);\n",
              "      filter: drop-shadow(0px 1px 2px rgba(0, 0, 0, 0.3));\n",
              "      fill: #FFFFFF;\n",
              "    }\n",
              "  </style>\n",
              "\n",
              "      <script>\n",
              "        const buttonEl =\n",
              "          document.querySelector('#df-a1c1d62f-48b8-4977-8614-46c63715717b button.colab-df-convert');\n",
              "        buttonEl.style.display =\n",
              "          google.colab.kernel.accessAllowed ? 'block' : 'none';\n",
              "\n",
              "        async function convertToInteractive(key) {\n",
              "          const element = document.querySelector('#df-a1c1d62f-48b8-4977-8614-46c63715717b');\n",
              "          const dataTable =\n",
              "            await google.colab.kernel.invokeFunction('convertToInteractive',\n",
              "                                                     [key], {});\n",
              "          if (!dataTable) return;\n",
              "\n",
              "          const docLinkHtml = 'Like what you see? Visit the ' +\n",
              "            '<a target=\"_blank\" href=https://colab.research.google.com/notebooks/data_table.ipynb>data table notebook</a>'\n",
              "            + ' to learn more about interactive tables.';\n",
              "          element.innerHTML = '';\n",
              "          dataTable['output_type'] = 'display_data';\n",
              "          await google.colab.output.renderOutput(dataTable, element);\n",
              "          const docLink = document.createElement('div');\n",
              "          docLink.innerHTML = docLinkHtml;\n",
              "          element.appendChild(docLink);\n",
              "        }\n",
              "      </script>\n",
              "    </div>\n",
              "  </div>\n",
              "  "
            ]
          },
          "metadata": {},
          "execution_count": 337
        }
      ],
      "source": [
        "#top outliers on day 1\n",
        "fraud = b_x1[b_x1['anomaly_score']== -1]\n",
        "fraud.sort_values(by=['scores'], ascending=True)\n",
        "\n",
        "#31 rows × 32 columns"
      ]
    },
    {
      "cell_type": "markdown",
      "metadata": {
        "id": "TRjMNCIWEq0Q"
      },
      "source": [
        "Fraudulent Transactions on Day 2 (Test set)"
      ]
    },
    {
      "cell_type": "code",
      "execution_count": 338,
      "metadata": {
        "id": "bxVzpkqiE2Yl"
      },
      "outputs": [],
      "source": [
        "x2['scores'] = model_if.decision_function(x_2)"
      ]
    },
    {
      "cell_type": "code",
      "execution_count": 339,
      "metadata": {
        "id": "EWykQ6lAEvim"
      },
      "outputs": [],
      "source": [
        "x2['anomaly_score'] = model_if.predict(x_2)"
      ]
    },
    {
      "cell_type": "code",
      "execution_count": 340,
      "metadata": {
        "colab": {
          "base_uri": "https://localhost:8080/",
          "height": 1000
        },
        "id": "fnCM0pq5E5yB",
        "outputId": "ced6ecb9-855a-4eca-d64a-a083b5b457c2"
      },
      "outputs": [
        {
          "output_type": "execute_result",
          "data": {
            "text/plain": [
              "               V3         V4          V7         V9        V10       V11  \\\n",
              "145022  -5.377986  11.474590    0.068963   7.193327   4.173965  1.530781   \n",
              "145090  -4.828868   8.461575    9.885845   5.886210   8.077009  1.565153   \n",
              "151006 -30.177317   8.904157  -31.197329  -9.462573 -22.187089  4.419997   \n",
              "151007 -30.177317   8.904157  -31.197329  -9.462573 -22.187089  4.419997   \n",
              "151008 -30.177317   8.904157  -31.197329  -9.462573 -22.187089  4.419997   \n",
              "151009 -30.177317   8.904157  -31.197329  -9.462573 -22.187089  4.419997   \n",
              "151296 -21.340854  16.875344   24.422716   0.188912  -8.908182 -0.083514   \n",
              "153851  -2.677573   4.577916    0.733276   4.102659   3.191544  3.626705   \n",
              "154234 -22.209875   9.584969  -33.239328 -10.842526 -19.836149  3.223233   \n",
              "154316  -7.019710   3.713334    6.249410   0.602567  -2.329979  1.870884   \n",
              "154371 -25.390229  11.125435  -37.060311 -11.126624 -23.228255  3.785977   \n",
              "154587 -26.871339  11.737436  -41.506796 -13.434066 -24.403185  3.409323   \n",
              "154684 -27.855811  11.845013  -43.557242 -13.320155 -24.588262  3.481952   \n",
              "155741  -2.740638   9.400754    0.635567   2.098160   4.617795  2.364728   \n",
              "168402  -4.887401   6.620313    0.473512   3.845610   4.184291  1.286311   \n",
              "169457 -14.060281  10.473005   14.960521  -0.597076  -5.341249  0.713033   \n",
              "170007  -7.956761   0.508363   24.664527   3.328837   1.736132  3.320958   \n",
              "173054 -11.183644   4.829787   18.257057   5.250410   3.366931  3.790098   \n",
              "173353 -15.930586   6.945207   23.718783   5.264773   2.362488  4.021344   \n",
              "173395  -7.440497   0.005757    1.755877  -0.139337  -2.024238  0.180527   \n",
              "176335 -15.070015   9.211564   10.778805   6.588395   4.524278  3.556634   \n",
              "184433 -17.338365   9.628875   13.525079   4.727746   2.855754  3.205733   \n",
              "189242  -2.965763   5.989228   -1.905238   3.276087   3.752052  1.642748   \n",
              "190088  -7.846517   5.647523   -4.892119   3.426995   3.468896  2.147725   \n",
              "195218 -11.851649   4.811523   23.475217   4.094708   1.505223  3.579304   \n",
              "199538  -5.699313   6.503369   -6.909951   3.373336   2.718968  1.627024   \n",
              "199710  -3.208013  11.332812   -2.832795   3.260821   4.948269  1.257581   \n",
              "199847  -6.203805  12.155016    7.551650   0.766359   4.648793  1.777552   \n",
              "201775 -10.538160   7.602413    4.553784   5.502689   4.381087  3.066364   \n",
              "201869 -10.873566   7.726560    7.278028   5.165896   3.244602  2.903013   \n",
              "206228 -19.880878   9.552849   21.014587   5.751017   2.598367  3.255050   \n",
              "206255 -21.277176  10.527243   19.553200   6.121324   2.881454  3.274574   \n",
              "212950  -5.398092   3.328589    7.379135   4.484833   3.828388  2.609695   \n",
              "217409 -12.672967   7.870263    8.976407   4.687287   3.085563  2.707035   \n",
              "219257 -16.227512   6.690679   17.256623   5.003041  -2.431466  1.759989   \n",
              "219640 -14.985962   7.677798   13.167616   6.091319   4.347796  3.054225   \n",
              "220090 -24.962322   8.413616   36.877368   5.046566   0.909474  3.919686   \n",
              "220212 -18.320903  13.129143    1.087461   6.645063   3.817710  2.903108   \n",
              "224569 -22.588759  11.844703   14.203189   4.874533   1.363213  4.018141   \n",
              "226690 -13.391432   2.674077   21.444508   0.999300  -2.656896  0.588600   \n",
              "227921  -8.303035  10.264175   -4.066768   0.554072  -2.166867  0.939705   \n",
              "228158  -9.340628   8.385815   28.239528  -4.713335  -6.234862  0.068011   \n",
              "228723 -10.733302   9.571705    6.263440  -2.499284  -3.787952  0.290725   \n",
              "229859  -4.581048   4.438972   -4.715975   3.612216   4.162776  1.707525   \n",
              "229994  -5.770578  -2.384282   -0.795775  -2.399328  -4.778083 -0.869835   \n",
              "230944 -17.507940   4.005794   10.214467   0.535369   1.014649  0.819799   \n",
              "231454 -19.472908   9.216960   16.687265   3.296559  -1.368484  2.545327   \n",
              "232014  -9.769594   4.931470    8.470429   4.687859   3.929022  2.236859   \n",
              "238412  -8.478933   9.477565    9.073540  -1.325553  -1.703302 -0.181498   \n",
              "244674  -6.760480   8.225483   17.911884   0.645546   2.506675  2.601101   \n",
              "244698  -9.871561   2.105665    8.053103   1.354522   1.531883 -0.821919   \n",
              "261282  -9.581877   8.417627   10.810261   5.358971   6.335275  0.538991   \n",
              "261843 -10.278766  10.413010    7.705953   5.501918   7.223713  0.727981   \n",
              "262378 -13.042666  11.027770   12.143391   5.376427   6.556983  0.838451   \n",
              "262839 -13.942635  12.132323    8.956140   5.795877   7.015112  0.726982   \n",
              "262843 -15.758012  12.672760   11.118494   5.693151   6.601719  0.690859   \n",
              "265657  -2.017586   7.015138   -3.586669   3.279434   1.437047 -0.626104   \n",
              "274771 -48.325589  15.304184  120.589494  -3.872425 -12.005487  6.853897   \n",
              "279610  -2.943712   5.330375   -1.273707   2.047691   1.271063 -0.630691   \n",
              "284249 -16.233798   3.592021   44.054461  -4.210637  -7.776435  0.214173   \n",
              "\n",
              "              V12       V14        V17       V18    Amount    scores  \\\n",
              "145022   0.579988 -4.705675  -2.863922 -0.132174    102.00 -0.032264   \n",
              "145090  -1.368406 -5.567237  -2.198110 -0.568291   2018.09 -0.030732   \n",
              "151006 -10.592305 -3.926207 -12.462315 -5.501051      1.00 -0.007611   \n",
              "151007 -10.592305 -3.926207 -12.462315 -5.501051      1.00 -0.007611   \n",
              "151008 -10.592305 -3.926207 -12.462315 -5.501051      1.00 -0.007611   \n",
              "151009 -10.592305 -3.926207 -12.462315 -5.501051      1.00 -0.007611   \n",
              "151296  -2.281866  5.989210   0.530779  4.712398  18910.00 -0.069980   \n",
              "153851  -2.432376 -1.671117  -1.518485 -1.082387    779.86 -0.027412   \n",
              "154234 -10.895134  0.116303 -18.108261 -7.511866      1.00 -0.032339   \n",
              "154316  -1.993790  2.519971   1.650030 -1.018793   5707.82 -0.007463   \n",
              "154371 -10.522494 -3.792795 -12.867245 -5.804590      2.28 -0.028876   \n",
              "154587  -9.608267  0.240060 -12.957531 -5.613522      0.00 -0.036680   \n",
              "154684  -9.128341  0.796580 -13.032785 -5.392349      0.01 -0.039561   \n",
              "155741  -3.011525 -0.295621  -1.241678  0.427522    280.91 -0.042038   \n",
              "168402  -0.119682 -3.536229  -2.282600  0.463408    970.00 -0.032027   \n",
              "169457   1.361297  2.969936   0.297532  1.340820  11789.84 -0.043697   \n",
              "170007  -1.876201 -4.519116  -2.607750 -2.838336   4861.64 -0.016938   \n",
              "173054  -0.362721 -4.047297  -2.498315 -3.929336   4543.64 -0.031312   \n",
              "173353  -0.229003 -3.661824  -2.571068 -3.977141   4861.64 -0.048490   \n",
              "173395   0.129513  2.470850  -0.819003 -0.697158   2717.00 -0.005384   \n",
              "176335   1.445127 -2.463534  -1.784110 -3.839299   1676.60 -0.044970   \n",
              "184433   0.910516 -1.373633  -1.906642 -2.839540    519.76 -0.037964   \n",
              "189242   0.514523 -1.980082  -1.526250  0.319587      6.37 -0.032051   \n",
              "190088   2.016314 -0.598852   0.602790 -4.385223   1042.80 -0.013143   \n",
              "195218  -1.123680 -4.331583  -2.763001 -3.158595   4248.34 -0.031433   \n",
              "199538   2.458631  0.252405  -0.012168 -2.989766    593.48 -0.009374   \n",
              "199710   0.151938 -2.882119  -3.288195 -0.882092      0.00 -0.035063   \n",
              "199847  -1.226713 -3.217318  -2.140843  0.756925   1860.00 -0.063139   \n",
              "201775   1.261514 -2.374859  -1.439413 -3.637273   1402.38 -0.021210   \n",
              "201869   1.065202 -2.497462  -1.658898 -3.114547    660.38 -0.009229   \n",
              "206228   0.731349 -2.362784  -2.138121 -3.025254   1676.60 -0.042369   \n",
              "206255   1.283747 -1.887121  -1.888357 -3.277844   1676.60 -0.042927   \n",
              "212950  -0.054347 -3.432618  -1.862858 -2.718736   1049.61 -0.001403   \n",
              "217409   0.942581 -2.026269  -1.385620 -2.906455    538.71 -0.026773   \n",
              "219257   1.861433 -1.409640   0.220011 -1.604536   3502.11 -0.045057   \n",
              "219640   1.005763 -2.610117  -1.679253 -3.138214   1417.29 -0.040802   \n",
              "220090  -0.384260 -3.113694  -2.490935 -3.570907   5964.95 -0.047282   \n",
              "220212   3.646914 -0.178067  -0.638415 -4.200443    303.80 -0.031061   \n",
              "224569   1.048973 -3.704008   1.091949 -1.417654    200.00 -0.044954   \n",
              "226690  -0.060555 -0.167344  -1.321160 -2.028295   8360.00 -0.032634   \n",
              "227921   3.108922  4.109779   1.174609  0.601035  10000.00 -0.014411   \n",
              "228158  -1.945333  0.633732  -1.736619  4.079390   8182.70 -0.007326   \n",
              "228723  -0.032976  2.621841   0.488038  1.556725   7367.00 -0.006569   \n",
              "229859   1.061153 -1.614538  -1.065525 -3.276075   2687.48 -0.022763   \n",
              "229994   0.958136  2.096236  -0.008576  1.589432   2031.02 -0.009015   \n",
              "230944   1.203509  2.222918   0.902289 -2.740912   1350.00 -0.004216   \n",
              "231454   1.882563  0.418748  -0.955952 -2.113101   3552.96 -0.046381   \n",
              "232014   0.548558 -2.472724  -1.286698 -2.514468   1201.93 -0.014695   \n",
              "238412   0.197960  1.857569  -0.166193  1.372917   6900.47 -0.009043   \n",
              "244674  -1.671463 -2.889784  -1.443680 -1.436928   3758.25 -0.015625   \n",
              "244698  -0.072846 -0.651126   0.223777 -2.159579   1565.12 -0.002413   \n",
              "261282  -0.325198 -3.748751  -1.862392 -0.473282   1673.61 -0.029831   \n",
              "261843   0.246398 -3.104880  -0.865402 -0.524366   1441.06 -0.036089   \n",
              "262378   0.162703 -2.967565  -0.921336 -0.567711   2074.69 -0.027114   \n",
              "262839   0.830798 -2.393265  -0.612517 -0.669213   1441.06 -0.039636   \n",
              "262843   0.868797 -2.158797  -0.566628 -0.572758   1441.06 -0.041599   \n",
              "265657  -0.005154 -1.657643  -1.484121 -0.056169     35.95 -0.018329   \n",
              "274771  -9.189418 -6.795942  -7.173805 -1.968044  25691.16 -0.072535   \n",
              "279610  -0.755941 -2.259398  -1.539355 -1.588081    998.19 -0.012404   \n",
              "284249  -4.499851  0.537895  -0.402142  1.257379  10199.44 -0.005600   \n",
              "\n",
              "        anomaly_score  \n",
              "145022             -1  \n",
              "145090             -1  \n",
              "151006             -1  \n",
              "151007             -1  \n",
              "151008             -1  \n",
              "151009             -1  \n",
              "151296             -1  \n",
              "153851             -1  \n",
              "154234             -1  \n",
              "154316             -1  \n",
              "154371             -1  \n",
              "154587             -1  \n",
              "154684             -1  \n",
              "155741             -1  \n",
              "168402             -1  \n",
              "169457             -1  \n",
              "170007             -1  \n",
              "173054             -1  \n",
              "173353             -1  \n",
              "173395             -1  \n",
              "176335             -1  \n",
              "184433             -1  \n",
              "189242             -1  \n",
              "190088             -1  \n",
              "195218             -1  \n",
              "199538             -1  \n",
              "199710             -1  \n",
              "199847             -1  \n",
              "201775             -1  \n",
              "201869             -1  \n",
              "206228             -1  \n",
              "206255             -1  \n",
              "212950             -1  \n",
              "217409             -1  \n",
              "219257             -1  \n",
              "219640             -1  \n",
              "220090             -1  \n",
              "220212             -1  \n",
              "224569             -1  \n",
              "226690             -1  \n",
              "227921             -1  \n",
              "228158             -1  \n",
              "228723             -1  \n",
              "229859             -1  \n",
              "229994             -1  \n",
              "230944             -1  \n",
              "231454             -1  \n",
              "232014             -1  \n",
              "238412             -1  \n",
              "244674             -1  \n",
              "244698             -1  \n",
              "261282             -1  \n",
              "261843             -1  \n",
              "262378             -1  \n",
              "262839             -1  \n",
              "262843             -1  \n",
              "265657             -1  \n",
              "274771             -1  \n",
              "279610             -1  \n",
              "284249             -1  "
            ],
            "text/html": [
              "\n",
              "  <div id=\"df-880c162d-728a-466b-8fcd-aff62c246965\">\n",
              "    <div class=\"colab-df-container\">\n",
              "      <div>\n",
              "<style scoped>\n",
              "    .dataframe tbody tr th:only-of-type {\n",
              "        vertical-align: middle;\n",
              "    }\n",
              "\n",
              "    .dataframe tbody tr th {\n",
              "        vertical-align: top;\n",
              "    }\n",
              "\n",
              "    .dataframe thead th {\n",
              "        text-align: right;\n",
              "    }\n",
              "</style>\n",
              "<table border=\"1\" class=\"dataframe\">\n",
              "  <thead>\n",
              "    <tr style=\"text-align: right;\">\n",
              "      <th></th>\n",
              "      <th>V3</th>\n",
              "      <th>V4</th>\n",
              "      <th>V7</th>\n",
              "      <th>V9</th>\n",
              "      <th>V10</th>\n",
              "      <th>V11</th>\n",
              "      <th>V12</th>\n",
              "      <th>V14</th>\n",
              "      <th>V17</th>\n",
              "      <th>V18</th>\n",
              "      <th>Amount</th>\n",
              "      <th>scores</th>\n",
              "      <th>anomaly_score</th>\n",
              "    </tr>\n",
              "  </thead>\n",
              "  <tbody>\n",
              "    <tr>\n",
              "      <th>145022</th>\n",
              "      <td>-5.377986</td>\n",
              "      <td>11.474590</td>\n",
              "      <td>0.068963</td>\n",
              "      <td>7.193327</td>\n",
              "      <td>4.173965</td>\n",
              "      <td>1.530781</td>\n",
              "      <td>0.579988</td>\n",
              "      <td>-4.705675</td>\n",
              "      <td>-2.863922</td>\n",
              "      <td>-0.132174</td>\n",
              "      <td>102.00</td>\n",
              "      <td>-0.032264</td>\n",
              "      <td>-1</td>\n",
              "    </tr>\n",
              "    <tr>\n",
              "      <th>145090</th>\n",
              "      <td>-4.828868</td>\n",
              "      <td>8.461575</td>\n",
              "      <td>9.885845</td>\n",
              "      <td>5.886210</td>\n",
              "      <td>8.077009</td>\n",
              "      <td>1.565153</td>\n",
              "      <td>-1.368406</td>\n",
              "      <td>-5.567237</td>\n",
              "      <td>-2.198110</td>\n",
              "      <td>-0.568291</td>\n",
              "      <td>2018.09</td>\n",
              "      <td>-0.030732</td>\n",
              "      <td>-1</td>\n",
              "    </tr>\n",
              "    <tr>\n",
              "      <th>151006</th>\n",
              "      <td>-30.177317</td>\n",
              "      <td>8.904157</td>\n",
              "      <td>-31.197329</td>\n",
              "      <td>-9.462573</td>\n",
              "      <td>-22.187089</td>\n",
              "      <td>4.419997</td>\n",
              "      <td>-10.592305</td>\n",
              "      <td>-3.926207</td>\n",
              "      <td>-12.462315</td>\n",
              "      <td>-5.501051</td>\n",
              "      <td>1.00</td>\n",
              "      <td>-0.007611</td>\n",
              "      <td>-1</td>\n",
              "    </tr>\n",
              "    <tr>\n",
              "      <th>151007</th>\n",
              "      <td>-30.177317</td>\n",
              "      <td>8.904157</td>\n",
              "      <td>-31.197329</td>\n",
              "      <td>-9.462573</td>\n",
              "      <td>-22.187089</td>\n",
              "      <td>4.419997</td>\n",
              "      <td>-10.592305</td>\n",
              "      <td>-3.926207</td>\n",
              "      <td>-12.462315</td>\n",
              "      <td>-5.501051</td>\n",
              "      <td>1.00</td>\n",
              "      <td>-0.007611</td>\n",
              "      <td>-1</td>\n",
              "    </tr>\n",
              "    <tr>\n",
              "      <th>151008</th>\n",
              "      <td>-30.177317</td>\n",
              "      <td>8.904157</td>\n",
              "      <td>-31.197329</td>\n",
              "      <td>-9.462573</td>\n",
              "      <td>-22.187089</td>\n",
              "      <td>4.419997</td>\n",
              "      <td>-10.592305</td>\n",
              "      <td>-3.926207</td>\n",
              "      <td>-12.462315</td>\n",
              "      <td>-5.501051</td>\n",
              "      <td>1.00</td>\n",
              "      <td>-0.007611</td>\n",
              "      <td>-1</td>\n",
              "    </tr>\n",
              "    <tr>\n",
              "      <th>151009</th>\n",
              "      <td>-30.177317</td>\n",
              "      <td>8.904157</td>\n",
              "      <td>-31.197329</td>\n",
              "      <td>-9.462573</td>\n",
              "      <td>-22.187089</td>\n",
              "      <td>4.419997</td>\n",
              "      <td>-10.592305</td>\n",
              "      <td>-3.926207</td>\n",
              "      <td>-12.462315</td>\n",
              "      <td>-5.501051</td>\n",
              "      <td>1.00</td>\n",
              "      <td>-0.007611</td>\n",
              "      <td>-1</td>\n",
              "    </tr>\n",
              "    <tr>\n",
              "      <th>151296</th>\n",
              "      <td>-21.340854</td>\n",
              "      <td>16.875344</td>\n",
              "      <td>24.422716</td>\n",
              "      <td>0.188912</td>\n",
              "      <td>-8.908182</td>\n",
              "      <td>-0.083514</td>\n",
              "      <td>-2.281866</td>\n",
              "      <td>5.989210</td>\n",
              "      <td>0.530779</td>\n",
              "      <td>4.712398</td>\n",
              "      <td>18910.00</td>\n",
              "      <td>-0.069980</td>\n",
              "      <td>-1</td>\n",
              "    </tr>\n",
              "    <tr>\n",
              "      <th>153851</th>\n",
              "      <td>-2.677573</td>\n",
              "      <td>4.577916</td>\n",
              "      <td>0.733276</td>\n",
              "      <td>4.102659</td>\n",
              "      <td>3.191544</td>\n",
              "      <td>3.626705</td>\n",
              "      <td>-2.432376</td>\n",
              "      <td>-1.671117</td>\n",
              "      <td>-1.518485</td>\n",
              "      <td>-1.082387</td>\n",
              "      <td>779.86</td>\n",
              "      <td>-0.027412</td>\n",
              "      <td>-1</td>\n",
              "    </tr>\n",
              "    <tr>\n",
              "      <th>154234</th>\n",
              "      <td>-22.209875</td>\n",
              "      <td>9.584969</td>\n",
              "      <td>-33.239328</td>\n",
              "      <td>-10.842526</td>\n",
              "      <td>-19.836149</td>\n",
              "      <td>3.223233</td>\n",
              "      <td>-10.895134</td>\n",
              "      <td>0.116303</td>\n",
              "      <td>-18.108261</td>\n",
              "      <td>-7.511866</td>\n",
              "      <td>1.00</td>\n",
              "      <td>-0.032339</td>\n",
              "      <td>-1</td>\n",
              "    </tr>\n",
              "    <tr>\n",
              "      <th>154316</th>\n",
              "      <td>-7.019710</td>\n",
              "      <td>3.713334</td>\n",
              "      <td>6.249410</td>\n",
              "      <td>0.602567</td>\n",
              "      <td>-2.329979</td>\n",
              "      <td>1.870884</td>\n",
              "      <td>-1.993790</td>\n",
              "      <td>2.519971</td>\n",
              "      <td>1.650030</td>\n",
              "      <td>-1.018793</td>\n",
              "      <td>5707.82</td>\n",
              "      <td>-0.007463</td>\n",
              "      <td>-1</td>\n",
              "    </tr>\n",
              "    <tr>\n",
              "      <th>154371</th>\n",
              "      <td>-25.390229</td>\n",
              "      <td>11.125435</td>\n",
              "      <td>-37.060311</td>\n",
              "      <td>-11.126624</td>\n",
              "      <td>-23.228255</td>\n",
              "      <td>3.785977</td>\n",
              "      <td>-10.522494</td>\n",
              "      <td>-3.792795</td>\n",
              "      <td>-12.867245</td>\n",
              "      <td>-5.804590</td>\n",
              "      <td>2.28</td>\n",
              "      <td>-0.028876</td>\n",
              "      <td>-1</td>\n",
              "    </tr>\n",
              "    <tr>\n",
              "      <th>154587</th>\n",
              "      <td>-26.871339</td>\n",
              "      <td>11.737436</td>\n",
              "      <td>-41.506796</td>\n",
              "      <td>-13.434066</td>\n",
              "      <td>-24.403185</td>\n",
              "      <td>3.409323</td>\n",
              "      <td>-9.608267</td>\n",
              "      <td>0.240060</td>\n",
              "      <td>-12.957531</td>\n",
              "      <td>-5.613522</td>\n",
              "      <td>0.00</td>\n",
              "      <td>-0.036680</td>\n",
              "      <td>-1</td>\n",
              "    </tr>\n",
              "    <tr>\n",
              "      <th>154684</th>\n",
              "      <td>-27.855811</td>\n",
              "      <td>11.845013</td>\n",
              "      <td>-43.557242</td>\n",
              "      <td>-13.320155</td>\n",
              "      <td>-24.588262</td>\n",
              "      <td>3.481952</td>\n",
              "      <td>-9.128341</td>\n",
              "      <td>0.796580</td>\n",
              "      <td>-13.032785</td>\n",
              "      <td>-5.392349</td>\n",
              "      <td>0.01</td>\n",
              "      <td>-0.039561</td>\n",
              "      <td>-1</td>\n",
              "    </tr>\n",
              "    <tr>\n",
              "      <th>155741</th>\n",
              "      <td>-2.740638</td>\n",
              "      <td>9.400754</td>\n",
              "      <td>0.635567</td>\n",
              "      <td>2.098160</td>\n",
              "      <td>4.617795</td>\n",
              "      <td>2.364728</td>\n",
              "      <td>-3.011525</td>\n",
              "      <td>-0.295621</td>\n",
              "      <td>-1.241678</td>\n",
              "      <td>0.427522</td>\n",
              "      <td>280.91</td>\n",
              "      <td>-0.042038</td>\n",
              "      <td>-1</td>\n",
              "    </tr>\n",
              "    <tr>\n",
              "      <th>168402</th>\n",
              "      <td>-4.887401</td>\n",
              "      <td>6.620313</td>\n",
              "      <td>0.473512</td>\n",
              "      <td>3.845610</td>\n",
              "      <td>4.184291</td>\n",
              "      <td>1.286311</td>\n",
              "      <td>-0.119682</td>\n",
              "      <td>-3.536229</td>\n",
              "      <td>-2.282600</td>\n",
              "      <td>0.463408</td>\n",
              "      <td>970.00</td>\n",
              "      <td>-0.032027</td>\n",
              "      <td>-1</td>\n",
              "    </tr>\n",
              "    <tr>\n",
              "      <th>169457</th>\n",
              "      <td>-14.060281</td>\n",
              "      <td>10.473005</td>\n",
              "      <td>14.960521</td>\n",
              "      <td>-0.597076</td>\n",
              "      <td>-5.341249</td>\n",
              "      <td>0.713033</td>\n",
              "      <td>1.361297</td>\n",
              "      <td>2.969936</td>\n",
              "      <td>0.297532</td>\n",
              "      <td>1.340820</td>\n",
              "      <td>11789.84</td>\n",
              "      <td>-0.043697</td>\n",
              "      <td>-1</td>\n",
              "    </tr>\n",
              "    <tr>\n",
              "      <th>170007</th>\n",
              "      <td>-7.956761</td>\n",
              "      <td>0.508363</td>\n",
              "      <td>24.664527</td>\n",
              "      <td>3.328837</td>\n",
              "      <td>1.736132</td>\n",
              "      <td>3.320958</td>\n",
              "      <td>-1.876201</td>\n",
              "      <td>-4.519116</td>\n",
              "      <td>-2.607750</td>\n",
              "      <td>-2.838336</td>\n",
              "      <td>4861.64</td>\n",
              "      <td>-0.016938</td>\n",
              "      <td>-1</td>\n",
              "    </tr>\n",
              "    <tr>\n",
              "      <th>173054</th>\n",
              "      <td>-11.183644</td>\n",
              "      <td>4.829787</td>\n",
              "      <td>18.257057</td>\n",
              "      <td>5.250410</td>\n",
              "      <td>3.366931</td>\n",
              "      <td>3.790098</td>\n",
              "      <td>-0.362721</td>\n",
              "      <td>-4.047297</td>\n",
              "      <td>-2.498315</td>\n",
              "      <td>-3.929336</td>\n",
              "      <td>4543.64</td>\n",
              "      <td>-0.031312</td>\n",
              "      <td>-1</td>\n",
              "    </tr>\n",
              "    <tr>\n",
              "      <th>173353</th>\n",
              "      <td>-15.930586</td>\n",
              "      <td>6.945207</td>\n",
              "      <td>23.718783</td>\n",
              "      <td>5.264773</td>\n",
              "      <td>2.362488</td>\n",
              "      <td>4.021344</td>\n",
              "      <td>-0.229003</td>\n",
              "      <td>-3.661824</td>\n",
              "      <td>-2.571068</td>\n",
              "      <td>-3.977141</td>\n",
              "      <td>4861.64</td>\n",
              "      <td>-0.048490</td>\n",
              "      <td>-1</td>\n",
              "    </tr>\n",
              "    <tr>\n",
              "      <th>173395</th>\n",
              "      <td>-7.440497</td>\n",
              "      <td>0.005757</td>\n",
              "      <td>1.755877</td>\n",
              "      <td>-0.139337</td>\n",
              "      <td>-2.024238</td>\n",
              "      <td>0.180527</td>\n",
              "      <td>0.129513</td>\n",
              "      <td>2.470850</td>\n",
              "      <td>-0.819003</td>\n",
              "      <td>-0.697158</td>\n",
              "      <td>2717.00</td>\n",
              "      <td>-0.005384</td>\n",
              "      <td>-1</td>\n",
              "    </tr>\n",
              "    <tr>\n",
              "      <th>176335</th>\n",
              "      <td>-15.070015</td>\n",
              "      <td>9.211564</td>\n",
              "      <td>10.778805</td>\n",
              "      <td>6.588395</td>\n",
              "      <td>4.524278</td>\n",
              "      <td>3.556634</td>\n",
              "      <td>1.445127</td>\n",
              "      <td>-2.463534</td>\n",
              "      <td>-1.784110</td>\n",
              "      <td>-3.839299</td>\n",
              "      <td>1676.60</td>\n",
              "      <td>-0.044970</td>\n",
              "      <td>-1</td>\n",
              "    </tr>\n",
              "    <tr>\n",
              "      <th>184433</th>\n",
              "      <td>-17.338365</td>\n",
              "      <td>9.628875</td>\n",
              "      <td>13.525079</td>\n",
              "      <td>4.727746</td>\n",
              "      <td>2.855754</td>\n",
              "      <td>3.205733</td>\n",
              "      <td>0.910516</td>\n",
              "      <td>-1.373633</td>\n",
              "      <td>-1.906642</td>\n",
              "      <td>-2.839540</td>\n",
              "      <td>519.76</td>\n",
              "      <td>-0.037964</td>\n",
              "      <td>-1</td>\n",
              "    </tr>\n",
              "    <tr>\n",
              "      <th>189242</th>\n",
              "      <td>-2.965763</td>\n",
              "      <td>5.989228</td>\n",
              "      <td>-1.905238</td>\n",
              "      <td>3.276087</td>\n",
              "      <td>3.752052</td>\n",
              "      <td>1.642748</td>\n",
              "      <td>0.514523</td>\n",
              "      <td>-1.980082</td>\n",
              "      <td>-1.526250</td>\n",
              "      <td>0.319587</td>\n",
              "      <td>6.37</td>\n",
              "      <td>-0.032051</td>\n",
              "      <td>-1</td>\n",
              "    </tr>\n",
              "    <tr>\n",
              "      <th>190088</th>\n",
              "      <td>-7.846517</td>\n",
              "      <td>5.647523</td>\n",
              "      <td>-4.892119</td>\n",
              "      <td>3.426995</td>\n",
              "      <td>3.468896</td>\n",
              "      <td>2.147725</td>\n",
              "      <td>2.016314</td>\n",
              "      <td>-0.598852</td>\n",
              "      <td>0.602790</td>\n",
              "      <td>-4.385223</td>\n",
              "      <td>1042.80</td>\n",
              "      <td>-0.013143</td>\n",
              "      <td>-1</td>\n",
              "    </tr>\n",
              "    <tr>\n",
              "      <th>195218</th>\n",
              "      <td>-11.851649</td>\n",
              "      <td>4.811523</td>\n",
              "      <td>23.475217</td>\n",
              "      <td>4.094708</td>\n",
              "      <td>1.505223</td>\n",
              "      <td>3.579304</td>\n",
              "      <td>-1.123680</td>\n",
              "      <td>-4.331583</td>\n",
              "      <td>-2.763001</td>\n",
              "      <td>-3.158595</td>\n",
              "      <td>4248.34</td>\n",
              "      <td>-0.031433</td>\n",
              "      <td>-1</td>\n",
              "    </tr>\n",
              "    <tr>\n",
              "      <th>199538</th>\n",
              "      <td>-5.699313</td>\n",
              "      <td>6.503369</td>\n",
              "      <td>-6.909951</td>\n",
              "      <td>3.373336</td>\n",
              "      <td>2.718968</td>\n",
              "      <td>1.627024</td>\n",
              "      <td>2.458631</td>\n",
              "      <td>0.252405</td>\n",
              "      <td>-0.012168</td>\n",
              "      <td>-2.989766</td>\n",
              "      <td>593.48</td>\n",
              "      <td>-0.009374</td>\n",
              "      <td>-1</td>\n",
              "    </tr>\n",
              "    <tr>\n",
              "      <th>199710</th>\n",
              "      <td>-3.208013</td>\n",
              "      <td>11.332812</td>\n",
              "      <td>-2.832795</td>\n",
              "      <td>3.260821</td>\n",
              "      <td>4.948269</td>\n",
              "      <td>1.257581</td>\n",
              "      <td>0.151938</td>\n",
              "      <td>-2.882119</td>\n",
              "      <td>-3.288195</td>\n",
              "      <td>-0.882092</td>\n",
              "      <td>0.00</td>\n",
              "      <td>-0.035063</td>\n",
              "      <td>-1</td>\n",
              "    </tr>\n",
              "    <tr>\n",
              "      <th>199847</th>\n",
              "      <td>-6.203805</td>\n",
              "      <td>12.155016</td>\n",
              "      <td>7.551650</td>\n",
              "      <td>0.766359</td>\n",
              "      <td>4.648793</td>\n",
              "      <td>1.777552</td>\n",
              "      <td>-1.226713</td>\n",
              "      <td>-3.217318</td>\n",
              "      <td>-2.140843</td>\n",
              "      <td>0.756925</td>\n",
              "      <td>1860.00</td>\n",
              "      <td>-0.063139</td>\n",
              "      <td>-1</td>\n",
              "    </tr>\n",
              "    <tr>\n",
              "      <th>201775</th>\n",
              "      <td>-10.538160</td>\n",
              "      <td>7.602413</td>\n",
              "      <td>4.553784</td>\n",
              "      <td>5.502689</td>\n",
              "      <td>4.381087</td>\n",
              "      <td>3.066364</td>\n",
              "      <td>1.261514</td>\n",
              "      <td>-2.374859</td>\n",
              "      <td>-1.439413</td>\n",
              "      <td>-3.637273</td>\n",
              "      <td>1402.38</td>\n",
              "      <td>-0.021210</td>\n",
              "      <td>-1</td>\n",
              "    </tr>\n",
              "    <tr>\n",
              "      <th>201869</th>\n",
              "      <td>-10.873566</td>\n",
              "      <td>7.726560</td>\n",
              "      <td>7.278028</td>\n",
              "      <td>5.165896</td>\n",
              "      <td>3.244602</td>\n",
              "      <td>2.903013</td>\n",
              "      <td>1.065202</td>\n",
              "      <td>-2.497462</td>\n",
              "      <td>-1.658898</td>\n",
              "      <td>-3.114547</td>\n",
              "      <td>660.38</td>\n",
              "      <td>-0.009229</td>\n",
              "      <td>-1</td>\n",
              "    </tr>\n",
              "    <tr>\n",
              "      <th>206228</th>\n",
              "      <td>-19.880878</td>\n",
              "      <td>9.552849</td>\n",
              "      <td>21.014587</td>\n",
              "      <td>5.751017</td>\n",
              "      <td>2.598367</td>\n",
              "      <td>3.255050</td>\n",
              "      <td>0.731349</td>\n",
              "      <td>-2.362784</td>\n",
              "      <td>-2.138121</td>\n",
              "      <td>-3.025254</td>\n",
              "      <td>1676.60</td>\n",
              "      <td>-0.042369</td>\n",
              "      <td>-1</td>\n",
              "    </tr>\n",
              "    <tr>\n",
              "      <th>206255</th>\n",
              "      <td>-21.277176</td>\n",
              "      <td>10.527243</td>\n",
              "      <td>19.553200</td>\n",
              "      <td>6.121324</td>\n",
              "      <td>2.881454</td>\n",
              "      <td>3.274574</td>\n",
              "      <td>1.283747</td>\n",
              "      <td>-1.887121</td>\n",
              "      <td>-1.888357</td>\n",
              "      <td>-3.277844</td>\n",
              "      <td>1676.60</td>\n",
              "      <td>-0.042927</td>\n",
              "      <td>-1</td>\n",
              "    </tr>\n",
              "    <tr>\n",
              "      <th>212950</th>\n",
              "      <td>-5.398092</td>\n",
              "      <td>3.328589</td>\n",
              "      <td>7.379135</td>\n",
              "      <td>4.484833</td>\n",
              "      <td>3.828388</td>\n",
              "      <td>2.609695</td>\n",
              "      <td>-0.054347</td>\n",
              "      <td>-3.432618</td>\n",
              "      <td>-1.862858</td>\n",
              "      <td>-2.718736</td>\n",
              "      <td>1049.61</td>\n",
              "      <td>-0.001403</td>\n",
              "      <td>-1</td>\n",
              "    </tr>\n",
              "    <tr>\n",
              "      <th>217409</th>\n",
              "      <td>-12.672967</td>\n",
              "      <td>7.870263</td>\n",
              "      <td>8.976407</td>\n",
              "      <td>4.687287</td>\n",
              "      <td>3.085563</td>\n",
              "      <td>2.707035</td>\n",
              "      <td>0.942581</td>\n",
              "      <td>-2.026269</td>\n",
              "      <td>-1.385620</td>\n",
              "      <td>-2.906455</td>\n",
              "      <td>538.71</td>\n",
              "      <td>-0.026773</td>\n",
              "      <td>-1</td>\n",
              "    </tr>\n",
              "    <tr>\n",
              "      <th>219257</th>\n",
              "      <td>-16.227512</td>\n",
              "      <td>6.690679</td>\n",
              "      <td>17.256623</td>\n",
              "      <td>5.003041</td>\n",
              "      <td>-2.431466</td>\n",
              "      <td>1.759989</td>\n",
              "      <td>1.861433</td>\n",
              "      <td>-1.409640</td>\n",
              "      <td>0.220011</td>\n",
              "      <td>-1.604536</td>\n",
              "      <td>3502.11</td>\n",
              "      <td>-0.045057</td>\n",
              "      <td>-1</td>\n",
              "    </tr>\n",
              "    <tr>\n",
              "      <th>219640</th>\n",
              "      <td>-14.985962</td>\n",
              "      <td>7.677798</td>\n",
              "      <td>13.167616</td>\n",
              "      <td>6.091319</td>\n",
              "      <td>4.347796</td>\n",
              "      <td>3.054225</td>\n",
              "      <td>1.005763</td>\n",
              "      <td>-2.610117</td>\n",
              "      <td>-1.679253</td>\n",
              "      <td>-3.138214</td>\n",
              "      <td>1417.29</td>\n",
              "      <td>-0.040802</td>\n",
              "      <td>-1</td>\n",
              "    </tr>\n",
              "    <tr>\n",
              "      <th>220090</th>\n",
              "      <td>-24.962322</td>\n",
              "      <td>8.413616</td>\n",
              "      <td>36.877368</td>\n",
              "      <td>5.046566</td>\n",
              "      <td>0.909474</td>\n",
              "      <td>3.919686</td>\n",
              "      <td>-0.384260</td>\n",
              "      <td>-3.113694</td>\n",
              "      <td>-2.490935</td>\n",
              "      <td>-3.570907</td>\n",
              "      <td>5964.95</td>\n",
              "      <td>-0.047282</td>\n",
              "      <td>-1</td>\n",
              "    </tr>\n",
              "    <tr>\n",
              "      <th>220212</th>\n",
              "      <td>-18.320903</td>\n",
              "      <td>13.129143</td>\n",
              "      <td>1.087461</td>\n",
              "      <td>6.645063</td>\n",
              "      <td>3.817710</td>\n",
              "      <td>2.903108</td>\n",
              "      <td>3.646914</td>\n",
              "      <td>-0.178067</td>\n",
              "      <td>-0.638415</td>\n",
              "      <td>-4.200443</td>\n",
              "      <td>303.80</td>\n",
              "      <td>-0.031061</td>\n",
              "      <td>-1</td>\n",
              "    </tr>\n",
              "    <tr>\n",
              "      <th>224569</th>\n",
              "      <td>-22.588759</td>\n",
              "      <td>11.844703</td>\n",
              "      <td>14.203189</td>\n",
              "      <td>4.874533</td>\n",
              "      <td>1.363213</td>\n",
              "      <td>4.018141</td>\n",
              "      <td>1.048973</td>\n",
              "      <td>-3.704008</td>\n",
              "      <td>1.091949</td>\n",
              "      <td>-1.417654</td>\n",
              "      <td>200.00</td>\n",
              "      <td>-0.044954</td>\n",
              "      <td>-1</td>\n",
              "    </tr>\n",
              "    <tr>\n",
              "      <th>226690</th>\n",
              "      <td>-13.391432</td>\n",
              "      <td>2.674077</td>\n",
              "      <td>21.444508</td>\n",
              "      <td>0.999300</td>\n",
              "      <td>-2.656896</td>\n",
              "      <td>0.588600</td>\n",
              "      <td>-0.060555</td>\n",
              "      <td>-0.167344</td>\n",
              "      <td>-1.321160</td>\n",
              "      <td>-2.028295</td>\n",
              "      <td>8360.00</td>\n",
              "      <td>-0.032634</td>\n",
              "      <td>-1</td>\n",
              "    </tr>\n",
              "    <tr>\n",
              "      <th>227921</th>\n",
              "      <td>-8.303035</td>\n",
              "      <td>10.264175</td>\n",
              "      <td>-4.066768</td>\n",
              "      <td>0.554072</td>\n",
              "      <td>-2.166867</td>\n",
              "      <td>0.939705</td>\n",
              "      <td>3.108922</td>\n",
              "      <td>4.109779</td>\n",
              "      <td>1.174609</td>\n",
              "      <td>0.601035</td>\n",
              "      <td>10000.00</td>\n",
              "      <td>-0.014411</td>\n",
              "      <td>-1</td>\n",
              "    </tr>\n",
              "    <tr>\n",
              "      <th>228158</th>\n",
              "      <td>-9.340628</td>\n",
              "      <td>8.385815</td>\n",
              "      <td>28.239528</td>\n",
              "      <td>-4.713335</td>\n",
              "      <td>-6.234862</td>\n",
              "      <td>0.068011</td>\n",
              "      <td>-1.945333</td>\n",
              "      <td>0.633732</td>\n",
              "      <td>-1.736619</td>\n",
              "      <td>4.079390</td>\n",
              "      <td>8182.70</td>\n",
              "      <td>-0.007326</td>\n",
              "      <td>-1</td>\n",
              "    </tr>\n",
              "    <tr>\n",
              "      <th>228723</th>\n",
              "      <td>-10.733302</td>\n",
              "      <td>9.571705</td>\n",
              "      <td>6.263440</td>\n",
              "      <td>-2.499284</td>\n",
              "      <td>-3.787952</td>\n",
              "      <td>0.290725</td>\n",
              "      <td>-0.032976</td>\n",
              "      <td>2.621841</td>\n",
              "      <td>0.488038</td>\n",
              "      <td>1.556725</td>\n",
              "      <td>7367.00</td>\n",
              "      <td>-0.006569</td>\n",
              "      <td>-1</td>\n",
              "    </tr>\n",
              "    <tr>\n",
              "      <th>229859</th>\n",
              "      <td>-4.581048</td>\n",
              "      <td>4.438972</td>\n",
              "      <td>-4.715975</td>\n",
              "      <td>3.612216</td>\n",
              "      <td>4.162776</td>\n",
              "      <td>1.707525</td>\n",
              "      <td>1.061153</td>\n",
              "      <td>-1.614538</td>\n",
              "      <td>-1.065525</td>\n",
              "      <td>-3.276075</td>\n",
              "      <td>2687.48</td>\n",
              "      <td>-0.022763</td>\n",
              "      <td>-1</td>\n",
              "    </tr>\n",
              "    <tr>\n",
              "      <th>229994</th>\n",
              "      <td>-5.770578</td>\n",
              "      <td>-2.384282</td>\n",
              "      <td>-0.795775</td>\n",
              "      <td>-2.399328</td>\n",
              "      <td>-4.778083</td>\n",
              "      <td>-0.869835</td>\n",
              "      <td>0.958136</td>\n",
              "      <td>2.096236</td>\n",
              "      <td>-0.008576</td>\n",
              "      <td>1.589432</td>\n",
              "      <td>2031.02</td>\n",
              "      <td>-0.009015</td>\n",
              "      <td>-1</td>\n",
              "    </tr>\n",
              "    <tr>\n",
              "      <th>230944</th>\n",
              "      <td>-17.507940</td>\n",
              "      <td>4.005794</td>\n",
              "      <td>10.214467</td>\n",
              "      <td>0.535369</td>\n",
              "      <td>1.014649</td>\n",
              "      <td>0.819799</td>\n",
              "      <td>1.203509</td>\n",
              "      <td>2.222918</td>\n",
              "      <td>0.902289</td>\n",
              "      <td>-2.740912</td>\n",
              "      <td>1350.00</td>\n",
              "      <td>-0.004216</td>\n",
              "      <td>-1</td>\n",
              "    </tr>\n",
              "    <tr>\n",
              "      <th>231454</th>\n",
              "      <td>-19.472908</td>\n",
              "      <td>9.216960</td>\n",
              "      <td>16.687265</td>\n",
              "      <td>3.296559</td>\n",
              "      <td>-1.368484</td>\n",
              "      <td>2.545327</td>\n",
              "      <td>1.882563</td>\n",
              "      <td>0.418748</td>\n",
              "      <td>-0.955952</td>\n",
              "      <td>-2.113101</td>\n",
              "      <td>3552.96</td>\n",
              "      <td>-0.046381</td>\n",
              "      <td>-1</td>\n",
              "    </tr>\n",
              "    <tr>\n",
              "      <th>232014</th>\n",
              "      <td>-9.769594</td>\n",
              "      <td>4.931470</td>\n",
              "      <td>8.470429</td>\n",
              "      <td>4.687859</td>\n",
              "      <td>3.929022</td>\n",
              "      <td>2.236859</td>\n",
              "      <td>0.548558</td>\n",
              "      <td>-2.472724</td>\n",
              "      <td>-1.286698</td>\n",
              "      <td>-2.514468</td>\n",
              "      <td>1201.93</td>\n",
              "      <td>-0.014695</td>\n",
              "      <td>-1</td>\n",
              "    </tr>\n",
              "    <tr>\n",
              "      <th>238412</th>\n",
              "      <td>-8.478933</td>\n",
              "      <td>9.477565</td>\n",
              "      <td>9.073540</td>\n",
              "      <td>-1.325553</td>\n",
              "      <td>-1.703302</td>\n",
              "      <td>-0.181498</td>\n",
              "      <td>0.197960</td>\n",
              "      <td>1.857569</td>\n",
              "      <td>-0.166193</td>\n",
              "      <td>1.372917</td>\n",
              "      <td>6900.47</td>\n",
              "      <td>-0.009043</td>\n",
              "      <td>-1</td>\n",
              "    </tr>\n",
              "    <tr>\n",
              "      <th>244674</th>\n",
              "      <td>-6.760480</td>\n",
              "      <td>8.225483</td>\n",
              "      <td>17.911884</td>\n",
              "      <td>0.645546</td>\n",
              "      <td>2.506675</td>\n",
              "      <td>2.601101</td>\n",
              "      <td>-1.671463</td>\n",
              "      <td>-2.889784</td>\n",
              "      <td>-1.443680</td>\n",
              "      <td>-1.436928</td>\n",
              "      <td>3758.25</td>\n",
              "      <td>-0.015625</td>\n",
              "      <td>-1</td>\n",
              "    </tr>\n",
              "    <tr>\n",
              "      <th>244698</th>\n",
              "      <td>-9.871561</td>\n",
              "      <td>2.105665</td>\n",
              "      <td>8.053103</td>\n",
              "      <td>1.354522</td>\n",
              "      <td>1.531883</td>\n",
              "      <td>-0.821919</td>\n",
              "      <td>-0.072846</td>\n",
              "      <td>-0.651126</td>\n",
              "      <td>0.223777</td>\n",
              "      <td>-2.159579</td>\n",
              "      <td>1565.12</td>\n",
              "      <td>-0.002413</td>\n",
              "      <td>-1</td>\n",
              "    </tr>\n",
              "    <tr>\n",
              "      <th>261282</th>\n",
              "      <td>-9.581877</td>\n",
              "      <td>8.417627</td>\n",
              "      <td>10.810261</td>\n",
              "      <td>5.358971</td>\n",
              "      <td>6.335275</td>\n",
              "      <td>0.538991</td>\n",
              "      <td>-0.325198</td>\n",
              "      <td>-3.748751</td>\n",
              "      <td>-1.862392</td>\n",
              "      <td>-0.473282</td>\n",
              "      <td>1673.61</td>\n",
              "      <td>-0.029831</td>\n",
              "      <td>-1</td>\n",
              "    </tr>\n",
              "    <tr>\n",
              "      <th>261843</th>\n",
              "      <td>-10.278766</td>\n",
              "      <td>10.413010</td>\n",
              "      <td>7.705953</td>\n",
              "      <td>5.501918</td>\n",
              "      <td>7.223713</td>\n",
              "      <td>0.727981</td>\n",
              "      <td>0.246398</td>\n",
              "      <td>-3.104880</td>\n",
              "      <td>-0.865402</td>\n",
              "      <td>-0.524366</td>\n",
              "      <td>1441.06</td>\n",
              "      <td>-0.036089</td>\n",
              "      <td>-1</td>\n",
              "    </tr>\n",
              "    <tr>\n",
              "      <th>262378</th>\n",
              "      <td>-13.042666</td>\n",
              "      <td>11.027770</td>\n",
              "      <td>12.143391</td>\n",
              "      <td>5.376427</td>\n",
              "      <td>6.556983</td>\n",
              "      <td>0.838451</td>\n",
              "      <td>0.162703</td>\n",
              "      <td>-2.967565</td>\n",
              "      <td>-0.921336</td>\n",
              "      <td>-0.567711</td>\n",
              "      <td>2074.69</td>\n",
              "      <td>-0.027114</td>\n",
              "      <td>-1</td>\n",
              "    </tr>\n",
              "    <tr>\n",
              "      <th>262839</th>\n",
              "      <td>-13.942635</td>\n",
              "      <td>12.132323</td>\n",
              "      <td>8.956140</td>\n",
              "      <td>5.795877</td>\n",
              "      <td>7.015112</td>\n",
              "      <td>0.726982</td>\n",
              "      <td>0.830798</td>\n",
              "      <td>-2.393265</td>\n",
              "      <td>-0.612517</td>\n",
              "      <td>-0.669213</td>\n",
              "      <td>1441.06</td>\n",
              "      <td>-0.039636</td>\n",
              "      <td>-1</td>\n",
              "    </tr>\n",
              "    <tr>\n",
              "      <th>262843</th>\n",
              "      <td>-15.758012</td>\n",
              "      <td>12.672760</td>\n",
              "      <td>11.118494</td>\n",
              "      <td>5.693151</td>\n",
              "      <td>6.601719</td>\n",
              "      <td>0.690859</td>\n",
              "      <td>0.868797</td>\n",
              "      <td>-2.158797</td>\n",
              "      <td>-0.566628</td>\n",
              "      <td>-0.572758</td>\n",
              "      <td>1441.06</td>\n",
              "      <td>-0.041599</td>\n",
              "      <td>-1</td>\n",
              "    </tr>\n",
              "    <tr>\n",
              "      <th>265657</th>\n",
              "      <td>-2.017586</td>\n",
              "      <td>7.015138</td>\n",
              "      <td>-3.586669</td>\n",
              "      <td>3.279434</td>\n",
              "      <td>1.437047</td>\n",
              "      <td>-0.626104</td>\n",
              "      <td>-0.005154</td>\n",
              "      <td>-1.657643</td>\n",
              "      <td>-1.484121</td>\n",
              "      <td>-0.056169</td>\n",
              "      <td>35.95</td>\n",
              "      <td>-0.018329</td>\n",
              "      <td>-1</td>\n",
              "    </tr>\n",
              "    <tr>\n",
              "      <th>274771</th>\n",
              "      <td>-48.325589</td>\n",
              "      <td>15.304184</td>\n",
              "      <td>120.589494</td>\n",
              "      <td>-3.872425</td>\n",
              "      <td>-12.005487</td>\n",
              "      <td>6.853897</td>\n",
              "      <td>-9.189418</td>\n",
              "      <td>-6.795942</td>\n",
              "      <td>-7.173805</td>\n",
              "      <td>-1.968044</td>\n",
              "      <td>25691.16</td>\n",
              "      <td>-0.072535</td>\n",
              "      <td>-1</td>\n",
              "    </tr>\n",
              "    <tr>\n",
              "      <th>279610</th>\n",
              "      <td>-2.943712</td>\n",
              "      <td>5.330375</td>\n",
              "      <td>-1.273707</td>\n",
              "      <td>2.047691</td>\n",
              "      <td>1.271063</td>\n",
              "      <td>-0.630691</td>\n",
              "      <td>-0.755941</td>\n",
              "      <td>-2.259398</td>\n",
              "      <td>-1.539355</td>\n",
              "      <td>-1.588081</td>\n",
              "      <td>998.19</td>\n",
              "      <td>-0.012404</td>\n",
              "      <td>-1</td>\n",
              "    </tr>\n",
              "    <tr>\n",
              "      <th>284249</th>\n",
              "      <td>-16.233798</td>\n",
              "      <td>3.592021</td>\n",
              "      <td>44.054461</td>\n",
              "      <td>-4.210637</td>\n",
              "      <td>-7.776435</td>\n",
              "      <td>0.214173</td>\n",
              "      <td>-4.499851</td>\n",
              "      <td>0.537895</td>\n",
              "      <td>-0.402142</td>\n",
              "      <td>1.257379</td>\n",
              "      <td>10199.44</td>\n",
              "      <td>-0.005600</td>\n",
              "      <td>-1</td>\n",
              "    </tr>\n",
              "  </tbody>\n",
              "</table>\n",
              "</div>\n",
              "      <button class=\"colab-df-convert\" onclick=\"convertToInteractive('df-880c162d-728a-466b-8fcd-aff62c246965')\"\n",
              "              title=\"Convert this dataframe to an interactive table.\"\n",
              "              style=\"display:none;\">\n",
              "        \n",
              "  <svg xmlns=\"http://www.w3.org/2000/svg\" height=\"24px\"viewBox=\"0 0 24 24\"\n",
              "       width=\"24px\">\n",
              "    <path d=\"M0 0h24v24H0V0z\" fill=\"none\"/>\n",
              "    <path d=\"M18.56 5.44l.94 2.06.94-2.06 2.06-.94-2.06-.94-.94-2.06-.94 2.06-2.06.94zm-11 1L8.5 8.5l.94-2.06 2.06-.94-2.06-.94L8.5 2.5l-.94 2.06-2.06.94zm10 10l.94 2.06.94-2.06 2.06-.94-2.06-.94-.94-2.06-.94 2.06-2.06.94z\"/><path d=\"M17.41 7.96l-1.37-1.37c-.4-.4-.92-.59-1.43-.59-.52 0-1.04.2-1.43.59L10.3 9.45l-7.72 7.72c-.78.78-.78 2.05 0 2.83L4 21.41c.39.39.9.59 1.41.59.51 0 1.02-.2 1.41-.59l7.78-7.78 2.81-2.81c.8-.78.8-2.07 0-2.86zM5.41 20L4 18.59l7.72-7.72 1.47 1.35L5.41 20z\"/>\n",
              "  </svg>\n",
              "      </button>\n",
              "      \n",
              "  <style>\n",
              "    .colab-df-container {\n",
              "      display:flex;\n",
              "      flex-wrap:wrap;\n",
              "      gap: 12px;\n",
              "    }\n",
              "\n",
              "    .colab-df-convert {\n",
              "      background-color: #E8F0FE;\n",
              "      border: none;\n",
              "      border-radius: 50%;\n",
              "      cursor: pointer;\n",
              "      display: none;\n",
              "      fill: #1967D2;\n",
              "      height: 32px;\n",
              "      padding: 0 0 0 0;\n",
              "      width: 32px;\n",
              "    }\n",
              "\n",
              "    .colab-df-convert:hover {\n",
              "      background-color: #E2EBFA;\n",
              "      box-shadow: 0px 1px 2px rgba(60, 64, 67, 0.3), 0px 1px 3px 1px rgba(60, 64, 67, 0.15);\n",
              "      fill: #174EA6;\n",
              "    }\n",
              "\n",
              "    [theme=dark] .colab-df-convert {\n",
              "      background-color: #3B4455;\n",
              "      fill: #D2E3FC;\n",
              "    }\n",
              "\n",
              "    [theme=dark] .colab-df-convert:hover {\n",
              "      background-color: #434B5C;\n",
              "      box-shadow: 0px 1px 3px 1px rgba(0, 0, 0, 0.15);\n",
              "      filter: drop-shadow(0px 1px 2px rgba(0, 0, 0, 0.3));\n",
              "      fill: #FFFFFF;\n",
              "    }\n",
              "  </style>\n",
              "\n",
              "      <script>\n",
              "        const buttonEl =\n",
              "          document.querySelector('#df-880c162d-728a-466b-8fcd-aff62c246965 button.colab-df-convert');\n",
              "        buttonEl.style.display =\n",
              "          google.colab.kernel.accessAllowed ? 'block' : 'none';\n",
              "\n",
              "        async function convertToInteractive(key) {\n",
              "          const element = document.querySelector('#df-880c162d-728a-466b-8fcd-aff62c246965');\n",
              "          const dataTable =\n",
              "            await google.colab.kernel.invokeFunction('convertToInteractive',\n",
              "                                                     [key], {});\n",
              "          if (!dataTable) return;\n",
              "\n",
              "          const docLinkHtml = 'Like what you see? Visit the ' +\n",
              "            '<a target=\"_blank\" href=https://colab.research.google.com/notebooks/data_table.ipynb>data table notebook</a>'\n",
              "            + ' to learn more about interactive tables.';\n",
              "          element.innerHTML = '';\n",
              "          dataTable['output_type'] = 'display_data';\n",
              "          await google.colab.output.renderOutput(dataTable, element);\n",
              "          const docLink = document.createElement('div');\n",
              "          docLink.innerHTML = docLinkHtml;\n",
              "          element.appendChild(docLink);\n",
              "        }\n",
              "      </script>\n",
              "    </div>\n",
              "  </div>\n",
              "  "
            ]
          },
          "metadata": {},
          "execution_count": 340
        }
      ],
      "source": [
        "#fraudulent transactions in day 1 -  anomalies are assigned an anomaly score of -1.\n",
        "x2[x2['anomaly_score']== -1]\n",
        "#1"
      ]
    },
    {
      "cell_type": "code",
      "execution_count": 341,
      "metadata": {
        "id": "729L7vg1E8hz"
      },
      "outputs": [],
      "source": [
        "fraud = x2[x2['anomaly_score']== -1]"
      ]
    },
    {
      "cell_type": "code",
      "execution_count": 342,
      "metadata": {
        "colab": {
          "base_uri": "https://localhost:8080/",
          "height": 1000
        },
        "id": "VK_640NDE84y",
        "outputId": "c732aeb5-f35e-42d1-80d6-bb1a0dcc381b"
      },
      "outputs": [
        {
          "output_type": "execute_result",
          "data": {
            "text/plain": [
              "               V3         V4          V7         V9        V10       V11  \\\n",
              "274771 -48.325589  15.304184  120.589494  -3.872425 -12.005487  6.853897   \n",
              "151296 -21.340854  16.875344   24.422716   0.188912  -8.908182 -0.083514   \n",
              "199847  -6.203805  12.155016    7.551650   0.766359   4.648793  1.777552   \n",
              "173353 -15.930586   6.945207   23.718783   5.264773   2.362488  4.021344   \n",
              "220090 -24.962322   8.413616   36.877368   5.046566   0.909474  3.919686   \n",
              "231454 -19.472908   9.216960   16.687265   3.296559  -1.368484  2.545327   \n",
              "219257 -16.227512   6.690679   17.256623   5.003041  -2.431466  1.759989   \n",
              "176335 -15.070015   9.211564   10.778805   6.588395   4.524278  3.556634   \n",
              "224569 -22.588759  11.844703   14.203189   4.874533   1.363213  4.018141   \n",
              "169457 -14.060281  10.473005   14.960521  -0.597076  -5.341249  0.713033   \n",
              "206255 -21.277176  10.527243   19.553200   6.121324   2.881454  3.274574   \n",
              "206228 -19.880878   9.552849   21.014587   5.751017   2.598367  3.255050   \n",
              "155741  -2.740638   9.400754    0.635567   2.098160   4.617795  2.364728   \n",
              "262843 -15.758012  12.672760   11.118494   5.693151   6.601719  0.690859   \n",
              "219640 -14.985962   7.677798   13.167616   6.091319   4.347796  3.054225   \n",
              "262839 -13.942635  12.132323    8.956140   5.795877   7.015112  0.726982   \n",
              "154684 -27.855811  11.845013  -43.557242 -13.320155 -24.588262  3.481952   \n",
              "184433 -17.338365   9.628875   13.525079   4.727746   2.855754  3.205733   \n",
              "154587 -26.871339  11.737436  -41.506796 -13.434066 -24.403185  3.409323   \n",
              "261843 -10.278766  10.413010    7.705953   5.501918   7.223713  0.727981   \n",
              "199710  -3.208013  11.332812   -2.832795   3.260821   4.948269  1.257581   \n",
              "226690 -13.391432   2.674077   21.444508   0.999300  -2.656896  0.588600   \n",
              "154234 -22.209875   9.584969  -33.239328 -10.842526 -19.836149  3.223233   \n",
              "145022  -5.377986  11.474590    0.068963   7.193327   4.173965  1.530781   \n",
              "189242  -2.965763   5.989228   -1.905238   3.276087   3.752052  1.642748   \n",
              "168402  -4.887401   6.620313    0.473512   3.845610   4.184291  1.286311   \n",
              "195218 -11.851649   4.811523   23.475217   4.094708   1.505223  3.579304   \n",
              "173054 -11.183644   4.829787   18.257057   5.250410   3.366931  3.790098   \n",
              "220212 -18.320903  13.129143    1.087461   6.645063   3.817710  2.903108   \n",
              "145090  -4.828868   8.461575    9.885845   5.886210   8.077009  1.565153   \n",
              "261282  -9.581877   8.417627   10.810261   5.358971   6.335275  0.538991   \n",
              "154371 -25.390229  11.125435  -37.060311 -11.126624 -23.228255  3.785977   \n",
              "153851  -2.677573   4.577916    0.733276   4.102659   3.191544  3.626705   \n",
              "262378 -13.042666  11.027770   12.143391   5.376427   6.556983  0.838451   \n",
              "217409 -12.672967   7.870263    8.976407   4.687287   3.085563  2.707035   \n",
              "229859  -4.581048   4.438972   -4.715975   3.612216   4.162776  1.707525   \n",
              "201775 -10.538160   7.602413    4.553784   5.502689   4.381087  3.066364   \n",
              "265657  -2.017586   7.015138   -3.586669   3.279434   1.437047 -0.626104   \n",
              "170007  -7.956761   0.508363   24.664527   3.328837   1.736132  3.320958   \n",
              "244674  -6.760480   8.225483   17.911884   0.645546   2.506675  2.601101   \n",
              "232014  -9.769594   4.931470    8.470429   4.687859   3.929022  2.236859   \n",
              "227921  -8.303035  10.264175   -4.066768   0.554072  -2.166867  0.939705   \n",
              "190088  -7.846517   5.647523   -4.892119   3.426995   3.468896  2.147725   \n",
              "279610  -2.943712   5.330375   -1.273707   2.047691   1.271063 -0.630691   \n",
              "199538  -5.699313   6.503369   -6.909951   3.373336   2.718968  1.627024   \n",
              "201869 -10.873566   7.726560    7.278028   5.165896   3.244602  2.903013   \n",
              "238412  -8.478933   9.477565    9.073540  -1.325553  -1.703302 -0.181498   \n",
              "229994  -5.770578  -2.384282   -0.795775  -2.399328  -4.778083 -0.869835   \n",
              "151009 -30.177317   8.904157  -31.197329  -9.462573 -22.187089  4.419997   \n",
              "151008 -30.177317   8.904157  -31.197329  -9.462573 -22.187089  4.419997   \n",
              "151007 -30.177317   8.904157  -31.197329  -9.462573 -22.187089  4.419997   \n",
              "151006 -30.177317   8.904157  -31.197329  -9.462573 -22.187089  4.419997   \n",
              "154316  -7.019710   3.713334    6.249410   0.602567  -2.329979  1.870884   \n",
              "228158  -9.340628   8.385815   28.239528  -4.713335  -6.234862  0.068011   \n",
              "228723 -10.733302   9.571705    6.263440  -2.499284  -3.787952  0.290725   \n",
              "284249 -16.233798   3.592021   44.054461  -4.210637  -7.776435  0.214173   \n",
              "173395  -7.440497   0.005757    1.755877  -0.139337  -2.024238  0.180527   \n",
              "230944 -17.507940   4.005794   10.214467   0.535369   1.014649  0.819799   \n",
              "244698  -9.871561   2.105665    8.053103   1.354522   1.531883 -0.821919   \n",
              "212950  -5.398092   3.328589    7.379135   4.484833   3.828388  2.609695   \n",
              "\n",
              "              V12       V14        V17       V18    Amount    scores  \\\n",
              "274771  -9.189418 -6.795942  -7.173805 -1.968044  25691.16 -0.072535   \n",
              "151296  -2.281866  5.989210   0.530779  4.712398  18910.00 -0.069980   \n",
              "199847  -1.226713 -3.217318  -2.140843  0.756925   1860.00 -0.063139   \n",
              "173353  -0.229003 -3.661824  -2.571068 -3.977141   4861.64 -0.048490   \n",
              "220090  -0.384260 -3.113694  -2.490935 -3.570907   5964.95 -0.047282   \n",
              "231454   1.882563  0.418748  -0.955952 -2.113101   3552.96 -0.046381   \n",
              "219257   1.861433 -1.409640   0.220011 -1.604536   3502.11 -0.045057   \n",
              "176335   1.445127 -2.463534  -1.784110 -3.839299   1676.60 -0.044970   \n",
              "224569   1.048973 -3.704008   1.091949 -1.417654    200.00 -0.044954   \n",
              "169457   1.361297  2.969936   0.297532  1.340820  11789.84 -0.043697   \n",
              "206255   1.283747 -1.887121  -1.888357 -3.277844   1676.60 -0.042927   \n",
              "206228   0.731349 -2.362784  -2.138121 -3.025254   1676.60 -0.042369   \n",
              "155741  -3.011525 -0.295621  -1.241678  0.427522    280.91 -0.042038   \n",
              "262843   0.868797 -2.158797  -0.566628 -0.572758   1441.06 -0.041599   \n",
              "219640   1.005763 -2.610117  -1.679253 -3.138214   1417.29 -0.040802   \n",
              "262839   0.830798 -2.393265  -0.612517 -0.669213   1441.06 -0.039636   \n",
              "154684  -9.128341  0.796580 -13.032785 -5.392349      0.01 -0.039561   \n",
              "184433   0.910516 -1.373633  -1.906642 -2.839540    519.76 -0.037964   \n",
              "154587  -9.608267  0.240060 -12.957531 -5.613522      0.00 -0.036680   \n",
              "261843   0.246398 -3.104880  -0.865402 -0.524366   1441.06 -0.036089   \n",
              "199710   0.151938 -2.882119  -3.288195 -0.882092      0.00 -0.035063   \n",
              "226690  -0.060555 -0.167344  -1.321160 -2.028295   8360.00 -0.032634   \n",
              "154234 -10.895134  0.116303 -18.108261 -7.511866      1.00 -0.032339   \n",
              "145022   0.579988 -4.705675  -2.863922 -0.132174    102.00 -0.032264   \n",
              "189242   0.514523 -1.980082  -1.526250  0.319587      6.37 -0.032051   \n",
              "168402  -0.119682 -3.536229  -2.282600  0.463408    970.00 -0.032027   \n",
              "195218  -1.123680 -4.331583  -2.763001 -3.158595   4248.34 -0.031433   \n",
              "173054  -0.362721 -4.047297  -2.498315 -3.929336   4543.64 -0.031312   \n",
              "220212   3.646914 -0.178067  -0.638415 -4.200443    303.80 -0.031061   \n",
              "145090  -1.368406 -5.567237  -2.198110 -0.568291   2018.09 -0.030732   \n",
              "261282  -0.325198 -3.748751  -1.862392 -0.473282   1673.61 -0.029831   \n",
              "154371 -10.522494 -3.792795 -12.867245 -5.804590      2.28 -0.028876   \n",
              "153851  -2.432376 -1.671117  -1.518485 -1.082387    779.86 -0.027412   \n",
              "262378   0.162703 -2.967565  -0.921336 -0.567711   2074.69 -0.027114   \n",
              "217409   0.942581 -2.026269  -1.385620 -2.906455    538.71 -0.026773   \n",
              "229859   1.061153 -1.614538  -1.065525 -3.276075   2687.48 -0.022763   \n",
              "201775   1.261514 -2.374859  -1.439413 -3.637273   1402.38 -0.021210   \n",
              "265657  -0.005154 -1.657643  -1.484121 -0.056169     35.95 -0.018329   \n",
              "170007  -1.876201 -4.519116  -2.607750 -2.838336   4861.64 -0.016938   \n",
              "244674  -1.671463 -2.889784  -1.443680 -1.436928   3758.25 -0.015625   \n",
              "232014   0.548558 -2.472724  -1.286698 -2.514468   1201.93 -0.014695   \n",
              "227921   3.108922  4.109779   1.174609  0.601035  10000.00 -0.014411   \n",
              "190088   2.016314 -0.598852   0.602790 -4.385223   1042.80 -0.013143   \n",
              "279610  -0.755941 -2.259398  -1.539355 -1.588081    998.19 -0.012404   \n",
              "199538   2.458631  0.252405  -0.012168 -2.989766    593.48 -0.009374   \n",
              "201869   1.065202 -2.497462  -1.658898 -3.114547    660.38 -0.009229   \n",
              "238412   0.197960  1.857569  -0.166193  1.372917   6900.47 -0.009043   \n",
              "229994   0.958136  2.096236  -0.008576  1.589432   2031.02 -0.009015   \n",
              "151009 -10.592305 -3.926207 -12.462315 -5.501051      1.00 -0.007611   \n",
              "151008 -10.592305 -3.926207 -12.462315 -5.501051      1.00 -0.007611   \n",
              "151007 -10.592305 -3.926207 -12.462315 -5.501051      1.00 -0.007611   \n",
              "151006 -10.592305 -3.926207 -12.462315 -5.501051      1.00 -0.007611   \n",
              "154316  -1.993790  2.519971   1.650030 -1.018793   5707.82 -0.007463   \n",
              "228158  -1.945333  0.633732  -1.736619  4.079390   8182.70 -0.007326   \n",
              "228723  -0.032976  2.621841   0.488038  1.556725   7367.00 -0.006569   \n",
              "284249  -4.499851  0.537895  -0.402142  1.257379  10199.44 -0.005600   \n",
              "173395   0.129513  2.470850  -0.819003 -0.697158   2717.00 -0.005384   \n",
              "230944   1.203509  2.222918   0.902289 -2.740912   1350.00 -0.004216   \n",
              "244698  -0.072846 -0.651126   0.223777 -2.159579   1565.12 -0.002413   \n",
              "212950  -0.054347 -3.432618  -1.862858 -2.718736   1049.61 -0.001403   \n",
              "\n",
              "        anomaly_score  \n",
              "274771             -1  \n",
              "151296             -1  \n",
              "199847             -1  \n",
              "173353             -1  \n",
              "220090             -1  \n",
              "231454             -1  \n",
              "219257             -1  \n",
              "176335             -1  \n",
              "224569             -1  \n",
              "169457             -1  \n",
              "206255             -1  \n",
              "206228             -1  \n",
              "155741             -1  \n",
              "262843             -1  \n",
              "219640             -1  \n",
              "262839             -1  \n",
              "154684             -1  \n",
              "184433             -1  \n",
              "154587             -1  \n",
              "261843             -1  \n",
              "199710             -1  \n",
              "226690             -1  \n",
              "154234             -1  \n",
              "145022             -1  \n",
              "189242             -1  \n",
              "168402             -1  \n",
              "195218             -1  \n",
              "173054             -1  \n",
              "220212             -1  \n",
              "145090             -1  \n",
              "261282             -1  \n",
              "154371             -1  \n",
              "153851             -1  \n",
              "262378             -1  \n",
              "217409             -1  \n",
              "229859             -1  \n",
              "201775             -1  \n",
              "265657             -1  \n",
              "170007             -1  \n",
              "244674             -1  \n",
              "232014             -1  \n",
              "227921             -1  \n",
              "190088             -1  \n",
              "279610             -1  \n",
              "199538             -1  \n",
              "201869             -1  \n",
              "238412             -1  \n",
              "229994             -1  \n",
              "151009             -1  \n",
              "151008             -1  \n",
              "151007             -1  \n",
              "151006             -1  \n",
              "154316             -1  \n",
              "228158             -1  \n",
              "228723             -1  \n",
              "284249             -1  \n",
              "173395             -1  \n",
              "230944             -1  \n",
              "244698             -1  \n",
              "212950             -1  "
            ],
            "text/html": [
              "\n",
              "  <div id=\"df-20399fbc-6df6-4b4f-a589-196c3664ca12\">\n",
              "    <div class=\"colab-df-container\">\n",
              "      <div>\n",
              "<style scoped>\n",
              "    .dataframe tbody tr th:only-of-type {\n",
              "        vertical-align: middle;\n",
              "    }\n",
              "\n",
              "    .dataframe tbody tr th {\n",
              "        vertical-align: top;\n",
              "    }\n",
              "\n",
              "    .dataframe thead th {\n",
              "        text-align: right;\n",
              "    }\n",
              "</style>\n",
              "<table border=\"1\" class=\"dataframe\">\n",
              "  <thead>\n",
              "    <tr style=\"text-align: right;\">\n",
              "      <th></th>\n",
              "      <th>V3</th>\n",
              "      <th>V4</th>\n",
              "      <th>V7</th>\n",
              "      <th>V9</th>\n",
              "      <th>V10</th>\n",
              "      <th>V11</th>\n",
              "      <th>V12</th>\n",
              "      <th>V14</th>\n",
              "      <th>V17</th>\n",
              "      <th>V18</th>\n",
              "      <th>Amount</th>\n",
              "      <th>scores</th>\n",
              "      <th>anomaly_score</th>\n",
              "    </tr>\n",
              "  </thead>\n",
              "  <tbody>\n",
              "    <tr>\n",
              "      <th>274771</th>\n",
              "      <td>-48.325589</td>\n",
              "      <td>15.304184</td>\n",
              "      <td>120.589494</td>\n",
              "      <td>-3.872425</td>\n",
              "      <td>-12.005487</td>\n",
              "      <td>6.853897</td>\n",
              "      <td>-9.189418</td>\n",
              "      <td>-6.795942</td>\n",
              "      <td>-7.173805</td>\n",
              "      <td>-1.968044</td>\n",
              "      <td>25691.16</td>\n",
              "      <td>-0.072535</td>\n",
              "      <td>-1</td>\n",
              "    </tr>\n",
              "    <tr>\n",
              "      <th>151296</th>\n",
              "      <td>-21.340854</td>\n",
              "      <td>16.875344</td>\n",
              "      <td>24.422716</td>\n",
              "      <td>0.188912</td>\n",
              "      <td>-8.908182</td>\n",
              "      <td>-0.083514</td>\n",
              "      <td>-2.281866</td>\n",
              "      <td>5.989210</td>\n",
              "      <td>0.530779</td>\n",
              "      <td>4.712398</td>\n",
              "      <td>18910.00</td>\n",
              "      <td>-0.069980</td>\n",
              "      <td>-1</td>\n",
              "    </tr>\n",
              "    <tr>\n",
              "      <th>199847</th>\n",
              "      <td>-6.203805</td>\n",
              "      <td>12.155016</td>\n",
              "      <td>7.551650</td>\n",
              "      <td>0.766359</td>\n",
              "      <td>4.648793</td>\n",
              "      <td>1.777552</td>\n",
              "      <td>-1.226713</td>\n",
              "      <td>-3.217318</td>\n",
              "      <td>-2.140843</td>\n",
              "      <td>0.756925</td>\n",
              "      <td>1860.00</td>\n",
              "      <td>-0.063139</td>\n",
              "      <td>-1</td>\n",
              "    </tr>\n",
              "    <tr>\n",
              "      <th>173353</th>\n",
              "      <td>-15.930586</td>\n",
              "      <td>6.945207</td>\n",
              "      <td>23.718783</td>\n",
              "      <td>5.264773</td>\n",
              "      <td>2.362488</td>\n",
              "      <td>4.021344</td>\n",
              "      <td>-0.229003</td>\n",
              "      <td>-3.661824</td>\n",
              "      <td>-2.571068</td>\n",
              "      <td>-3.977141</td>\n",
              "      <td>4861.64</td>\n",
              "      <td>-0.048490</td>\n",
              "      <td>-1</td>\n",
              "    </tr>\n",
              "    <tr>\n",
              "      <th>220090</th>\n",
              "      <td>-24.962322</td>\n",
              "      <td>8.413616</td>\n",
              "      <td>36.877368</td>\n",
              "      <td>5.046566</td>\n",
              "      <td>0.909474</td>\n",
              "      <td>3.919686</td>\n",
              "      <td>-0.384260</td>\n",
              "      <td>-3.113694</td>\n",
              "      <td>-2.490935</td>\n",
              "      <td>-3.570907</td>\n",
              "      <td>5964.95</td>\n",
              "      <td>-0.047282</td>\n",
              "      <td>-1</td>\n",
              "    </tr>\n",
              "    <tr>\n",
              "      <th>231454</th>\n",
              "      <td>-19.472908</td>\n",
              "      <td>9.216960</td>\n",
              "      <td>16.687265</td>\n",
              "      <td>3.296559</td>\n",
              "      <td>-1.368484</td>\n",
              "      <td>2.545327</td>\n",
              "      <td>1.882563</td>\n",
              "      <td>0.418748</td>\n",
              "      <td>-0.955952</td>\n",
              "      <td>-2.113101</td>\n",
              "      <td>3552.96</td>\n",
              "      <td>-0.046381</td>\n",
              "      <td>-1</td>\n",
              "    </tr>\n",
              "    <tr>\n",
              "      <th>219257</th>\n",
              "      <td>-16.227512</td>\n",
              "      <td>6.690679</td>\n",
              "      <td>17.256623</td>\n",
              "      <td>5.003041</td>\n",
              "      <td>-2.431466</td>\n",
              "      <td>1.759989</td>\n",
              "      <td>1.861433</td>\n",
              "      <td>-1.409640</td>\n",
              "      <td>0.220011</td>\n",
              "      <td>-1.604536</td>\n",
              "      <td>3502.11</td>\n",
              "      <td>-0.045057</td>\n",
              "      <td>-1</td>\n",
              "    </tr>\n",
              "    <tr>\n",
              "      <th>176335</th>\n",
              "      <td>-15.070015</td>\n",
              "      <td>9.211564</td>\n",
              "      <td>10.778805</td>\n",
              "      <td>6.588395</td>\n",
              "      <td>4.524278</td>\n",
              "      <td>3.556634</td>\n",
              "      <td>1.445127</td>\n",
              "      <td>-2.463534</td>\n",
              "      <td>-1.784110</td>\n",
              "      <td>-3.839299</td>\n",
              "      <td>1676.60</td>\n",
              "      <td>-0.044970</td>\n",
              "      <td>-1</td>\n",
              "    </tr>\n",
              "    <tr>\n",
              "      <th>224569</th>\n",
              "      <td>-22.588759</td>\n",
              "      <td>11.844703</td>\n",
              "      <td>14.203189</td>\n",
              "      <td>4.874533</td>\n",
              "      <td>1.363213</td>\n",
              "      <td>4.018141</td>\n",
              "      <td>1.048973</td>\n",
              "      <td>-3.704008</td>\n",
              "      <td>1.091949</td>\n",
              "      <td>-1.417654</td>\n",
              "      <td>200.00</td>\n",
              "      <td>-0.044954</td>\n",
              "      <td>-1</td>\n",
              "    </tr>\n",
              "    <tr>\n",
              "      <th>169457</th>\n",
              "      <td>-14.060281</td>\n",
              "      <td>10.473005</td>\n",
              "      <td>14.960521</td>\n",
              "      <td>-0.597076</td>\n",
              "      <td>-5.341249</td>\n",
              "      <td>0.713033</td>\n",
              "      <td>1.361297</td>\n",
              "      <td>2.969936</td>\n",
              "      <td>0.297532</td>\n",
              "      <td>1.340820</td>\n",
              "      <td>11789.84</td>\n",
              "      <td>-0.043697</td>\n",
              "      <td>-1</td>\n",
              "    </tr>\n",
              "    <tr>\n",
              "      <th>206255</th>\n",
              "      <td>-21.277176</td>\n",
              "      <td>10.527243</td>\n",
              "      <td>19.553200</td>\n",
              "      <td>6.121324</td>\n",
              "      <td>2.881454</td>\n",
              "      <td>3.274574</td>\n",
              "      <td>1.283747</td>\n",
              "      <td>-1.887121</td>\n",
              "      <td>-1.888357</td>\n",
              "      <td>-3.277844</td>\n",
              "      <td>1676.60</td>\n",
              "      <td>-0.042927</td>\n",
              "      <td>-1</td>\n",
              "    </tr>\n",
              "    <tr>\n",
              "      <th>206228</th>\n",
              "      <td>-19.880878</td>\n",
              "      <td>9.552849</td>\n",
              "      <td>21.014587</td>\n",
              "      <td>5.751017</td>\n",
              "      <td>2.598367</td>\n",
              "      <td>3.255050</td>\n",
              "      <td>0.731349</td>\n",
              "      <td>-2.362784</td>\n",
              "      <td>-2.138121</td>\n",
              "      <td>-3.025254</td>\n",
              "      <td>1676.60</td>\n",
              "      <td>-0.042369</td>\n",
              "      <td>-1</td>\n",
              "    </tr>\n",
              "    <tr>\n",
              "      <th>155741</th>\n",
              "      <td>-2.740638</td>\n",
              "      <td>9.400754</td>\n",
              "      <td>0.635567</td>\n",
              "      <td>2.098160</td>\n",
              "      <td>4.617795</td>\n",
              "      <td>2.364728</td>\n",
              "      <td>-3.011525</td>\n",
              "      <td>-0.295621</td>\n",
              "      <td>-1.241678</td>\n",
              "      <td>0.427522</td>\n",
              "      <td>280.91</td>\n",
              "      <td>-0.042038</td>\n",
              "      <td>-1</td>\n",
              "    </tr>\n",
              "    <tr>\n",
              "      <th>262843</th>\n",
              "      <td>-15.758012</td>\n",
              "      <td>12.672760</td>\n",
              "      <td>11.118494</td>\n",
              "      <td>5.693151</td>\n",
              "      <td>6.601719</td>\n",
              "      <td>0.690859</td>\n",
              "      <td>0.868797</td>\n",
              "      <td>-2.158797</td>\n",
              "      <td>-0.566628</td>\n",
              "      <td>-0.572758</td>\n",
              "      <td>1441.06</td>\n",
              "      <td>-0.041599</td>\n",
              "      <td>-1</td>\n",
              "    </tr>\n",
              "    <tr>\n",
              "      <th>219640</th>\n",
              "      <td>-14.985962</td>\n",
              "      <td>7.677798</td>\n",
              "      <td>13.167616</td>\n",
              "      <td>6.091319</td>\n",
              "      <td>4.347796</td>\n",
              "      <td>3.054225</td>\n",
              "      <td>1.005763</td>\n",
              "      <td>-2.610117</td>\n",
              "      <td>-1.679253</td>\n",
              "      <td>-3.138214</td>\n",
              "      <td>1417.29</td>\n",
              "      <td>-0.040802</td>\n",
              "      <td>-1</td>\n",
              "    </tr>\n",
              "    <tr>\n",
              "      <th>262839</th>\n",
              "      <td>-13.942635</td>\n",
              "      <td>12.132323</td>\n",
              "      <td>8.956140</td>\n",
              "      <td>5.795877</td>\n",
              "      <td>7.015112</td>\n",
              "      <td>0.726982</td>\n",
              "      <td>0.830798</td>\n",
              "      <td>-2.393265</td>\n",
              "      <td>-0.612517</td>\n",
              "      <td>-0.669213</td>\n",
              "      <td>1441.06</td>\n",
              "      <td>-0.039636</td>\n",
              "      <td>-1</td>\n",
              "    </tr>\n",
              "    <tr>\n",
              "      <th>154684</th>\n",
              "      <td>-27.855811</td>\n",
              "      <td>11.845013</td>\n",
              "      <td>-43.557242</td>\n",
              "      <td>-13.320155</td>\n",
              "      <td>-24.588262</td>\n",
              "      <td>3.481952</td>\n",
              "      <td>-9.128341</td>\n",
              "      <td>0.796580</td>\n",
              "      <td>-13.032785</td>\n",
              "      <td>-5.392349</td>\n",
              "      <td>0.01</td>\n",
              "      <td>-0.039561</td>\n",
              "      <td>-1</td>\n",
              "    </tr>\n",
              "    <tr>\n",
              "      <th>184433</th>\n",
              "      <td>-17.338365</td>\n",
              "      <td>9.628875</td>\n",
              "      <td>13.525079</td>\n",
              "      <td>4.727746</td>\n",
              "      <td>2.855754</td>\n",
              "      <td>3.205733</td>\n",
              "      <td>0.910516</td>\n",
              "      <td>-1.373633</td>\n",
              "      <td>-1.906642</td>\n",
              "      <td>-2.839540</td>\n",
              "      <td>519.76</td>\n",
              "      <td>-0.037964</td>\n",
              "      <td>-1</td>\n",
              "    </tr>\n",
              "    <tr>\n",
              "      <th>154587</th>\n",
              "      <td>-26.871339</td>\n",
              "      <td>11.737436</td>\n",
              "      <td>-41.506796</td>\n",
              "      <td>-13.434066</td>\n",
              "      <td>-24.403185</td>\n",
              "      <td>3.409323</td>\n",
              "      <td>-9.608267</td>\n",
              "      <td>0.240060</td>\n",
              "      <td>-12.957531</td>\n",
              "      <td>-5.613522</td>\n",
              "      <td>0.00</td>\n",
              "      <td>-0.036680</td>\n",
              "      <td>-1</td>\n",
              "    </tr>\n",
              "    <tr>\n",
              "      <th>261843</th>\n",
              "      <td>-10.278766</td>\n",
              "      <td>10.413010</td>\n",
              "      <td>7.705953</td>\n",
              "      <td>5.501918</td>\n",
              "      <td>7.223713</td>\n",
              "      <td>0.727981</td>\n",
              "      <td>0.246398</td>\n",
              "      <td>-3.104880</td>\n",
              "      <td>-0.865402</td>\n",
              "      <td>-0.524366</td>\n",
              "      <td>1441.06</td>\n",
              "      <td>-0.036089</td>\n",
              "      <td>-1</td>\n",
              "    </tr>\n",
              "    <tr>\n",
              "      <th>199710</th>\n",
              "      <td>-3.208013</td>\n",
              "      <td>11.332812</td>\n",
              "      <td>-2.832795</td>\n",
              "      <td>3.260821</td>\n",
              "      <td>4.948269</td>\n",
              "      <td>1.257581</td>\n",
              "      <td>0.151938</td>\n",
              "      <td>-2.882119</td>\n",
              "      <td>-3.288195</td>\n",
              "      <td>-0.882092</td>\n",
              "      <td>0.00</td>\n",
              "      <td>-0.035063</td>\n",
              "      <td>-1</td>\n",
              "    </tr>\n",
              "    <tr>\n",
              "      <th>226690</th>\n",
              "      <td>-13.391432</td>\n",
              "      <td>2.674077</td>\n",
              "      <td>21.444508</td>\n",
              "      <td>0.999300</td>\n",
              "      <td>-2.656896</td>\n",
              "      <td>0.588600</td>\n",
              "      <td>-0.060555</td>\n",
              "      <td>-0.167344</td>\n",
              "      <td>-1.321160</td>\n",
              "      <td>-2.028295</td>\n",
              "      <td>8360.00</td>\n",
              "      <td>-0.032634</td>\n",
              "      <td>-1</td>\n",
              "    </tr>\n",
              "    <tr>\n",
              "      <th>154234</th>\n",
              "      <td>-22.209875</td>\n",
              "      <td>9.584969</td>\n",
              "      <td>-33.239328</td>\n",
              "      <td>-10.842526</td>\n",
              "      <td>-19.836149</td>\n",
              "      <td>3.223233</td>\n",
              "      <td>-10.895134</td>\n",
              "      <td>0.116303</td>\n",
              "      <td>-18.108261</td>\n",
              "      <td>-7.511866</td>\n",
              "      <td>1.00</td>\n",
              "      <td>-0.032339</td>\n",
              "      <td>-1</td>\n",
              "    </tr>\n",
              "    <tr>\n",
              "      <th>145022</th>\n",
              "      <td>-5.377986</td>\n",
              "      <td>11.474590</td>\n",
              "      <td>0.068963</td>\n",
              "      <td>7.193327</td>\n",
              "      <td>4.173965</td>\n",
              "      <td>1.530781</td>\n",
              "      <td>0.579988</td>\n",
              "      <td>-4.705675</td>\n",
              "      <td>-2.863922</td>\n",
              "      <td>-0.132174</td>\n",
              "      <td>102.00</td>\n",
              "      <td>-0.032264</td>\n",
              "      <td>-1</td>\n",
              "    </tr>\n",
              "    <tr>\n",
              "      <th>189242</th>\n",
              "      <td>-2.965763</td>\n",
              "      <td>5.989228</td>\n",
              "      <td>-1.905238</td>\n",
              "      <td>3.276087</td>\n",
              "      <td>3.752052</td>\n",
              "      <td>1.642748</td>\n",
              "      <td>0.514523</td>\n",
              "      <td>-1.980082</td>\n",
              "      <td>-1.526250</td>\n",
              "      <td>0.319587</td>\n",
              "      <td>6.37</td>\n",
              "      <td>-0.032051</td>\n",
              "      <td>-1</td>\n",
              "    </tr>\n",
              "    <tr>\n",
              "      <th>168402</th>\n",
              "      <td>-4.887401</td>\n",
              "      <td>6.620313</td>\n",
              "      <td>0.473512</td>\n",
              "      <td>3.845610</td>\n",
              "      <td>4.184291</td>\n",
              "      <td>1.286311</td>\n",
              "      <td>-0.119682</td>\n",
              "      <td>-3.536229</td>\n",
              "      <td>-2.282600</td>\n",
              "      <td>0.463408</td>\n",
              "      <td>970.00</td>\n",
              "      <td>-0.032027</td>\n",
              "      <td>-1</td>\n",
              "    </tr>\n",
              "    <tr>\n",
              "      <th>195218</th>\n",
              "      <td>-11.851649</td>\n",
              "      <td>4.811523</td>\n",
              "      <td>23.475217</td>\n",
              "      <td>4.094708</td>\n",
              "      <td>1.505223</td>\n",
              "      <td>3.579304</td>\n",
              "      <td>-1.123680</td>\n",
              "      <td>-4.331583</td>\n",
              "      <td>-2.763001</td>\n",
              "      <td>-3.158595</td>\n",
              "      <td>4248.34</td>\n",
              "      <td>-0.031433</td>\n",
              "      <td>-1</td>\n",
              "    </tr>\n",
              "    <tr>\n",
              "      <th>173054</th>\n",
              "      <td>-11.183644</td>\n",
              "      <td>4.829787</td>\n",
              "      <td>18.257057</td>\n",
              "      <td>5.250410</td>\n",
              "      <td>3.366931</td>\n",
              "      <td>3.790098</td>\n",
              "      <td>-0.362721</td>\n",
              "      <td>-4.047297</td>\n",
              "      <td>-2.498315</td>\n",
              "      <td>-3.929336</td>\n",
              "      <td>4543.64</td>\n",
              "      <td>-0.031312</td>\n",
              "      <td>-1</td>\n",
              "    </tr>\n",
              "    <tr>\n",
              "      <th>220212</th>\n",
              "      <td>-18.320903</td>\n",
              "      <td>13.129143</td>\n",
              "      <td>1.087461</td>\n",
              "      <td>6.645063</td>\n",
              "      <td>3.817710</td>\n",
              "      <td>2.903108</td>\n",
              "      <td>3.646914</td>\n",
              "      <td>-0.178067</td>\n",
              "      <td>-0.638415</td>\n",
              "      <td>-4.200443</td>\n",
              "      <td>303.80</td>\n",
              "      <td>-0.031061</td>\n",
              "      <td>-1</td>\n",
              "    </tr>\n",
              "    <tr>\n",
              "      <th>145090</th>\n",
              "      <td>-4.828868</td>\n",
              "      <td>8.461575</td>\n",
              "      <td>9.885845</td>\n",
              "      <td>5.886210</td>\n",
              "      <td>8.077009</td>\n",
              "      <td>1.565153</td>\n",
              "      <td>-1.368406</td>\n",
              "      <td>-5.567237</td>\n",
              "      <td>-2.198110</td>\n",
              "      <td>-0.568291</td>\n",
              "      <td>2018.09</td>\n",
              "      <td>-0.030732</td>\n",
              "      <td>-1</td>\n",
              "    </tr>\n",
              "    <tr>\n",
              "      <th>261282</th>\n",
              "      <td>-9.581877</td>\n",
              "      <td>8.417627</td>\n",
              "      <td>10.810261</td>\n",
              "      <td>5.358971</td>\n",
              "      <td>6.335275</td>\n",
              "      <td>0.538991</td>\n",
              "      <td>-0.325198</td>\n",
              "      <td>-3.748751</td>\n",
              "      <td>-1.862392</td>\n",
              "      <td>-0.473282</td>\n",
              "      <td>1673.61</td>\n",
              "      <td>-0.029831</td>\n",
              "      <td>-1</td>\n",
              "    </tr>\n",
              "    <tr>\n",
              "      <th>154371</th>\n",
              "      <td>-25.390229</td>\n",
              "      <td>11.125435</td>\n",
              "      <td>-37.060311</td>\n",
              "      <td>-11.126624</td>\n",
              "      <td>-23.228255</td>\n",
              "      <td>3.785977</td>\n",
              "      <td>-10.522494</td>\n",
              "      <td>-3.792795</td>\n",
              "      <td>-12.867245</td>\n",
              "      <td>-5.804590</td>\n",
              "      <td>2.28</td>\n",
              "      <td>-0.028876</td>\n",
              "      <td>-1</td>\n",
              "    </tr>\n",
              "    <tr>\n",
              "      <th>153851</th>\n",
              "      <td>-2.677573</td>\n",
              "      <td>4.577916</td>\n",
              "      <td>0.733276</td>\n",
              "      <td>4.102659</td>\n",
              "      <td>3.191544</td>\n",
              "      <td>3.626705</td>\n",
              "      <td>-2.432376</td>\n",
              "      <td>-1.671117</td>\n",
              "      <td>-1.518485</td>\n",
              "      <td>-1.082387</td>\n",
              "      <td>779.86</td>\n",
              "      <td>-0.027412</td>\n",
              "      <td>-1</td>\n",
              "    </tr>\n",
              "    <tr>\n",
              "      <th>262378</th>\n",
              "      <td>-13.042666</td>\n",
              "      <td>11.027770</td>\n",
              "      <td>12.143391</td>\n",
              "      <td>5.376427</td>\n",
              "      <td>6.556983</td>\n",
              "      <td>0.838451</td>\n",
              "      <td>0.162703</td>\n",
              "      <td>-2.967565</td>\n",
              "      <td>-0.921336</td>\n",
              "      <td>-0.567711</td>\n",
              "      <td>2074.69</td>\n",
              "      <td>-0.027114</td>\n",
              "      <td>-1</td>\n",
              "    </tr>\n",
              "    <tr>\n",
              "      <th>217409</th>\n",
              "      <td>-12.672967</td>\n",
              "      <td>7.870263</td>\n",
              "      <td>8.976407</td>\n",
              "      <td>4.687287</td>\n",
              "      <td>3.085563</td>\n",
              "      <td>2.707035</td>\n",
              "      <td>0.942581</td>\n",
              "      <td>-2.026269</td>\n",
              "      <td>-1.385620</td>\n",
              "      <td>-2.906455</td>\n",
              "      <td>538.71</td>\n",
              "      <td>-0.026773</td>\n",
              "      <td>-1</td>\n",
              "    </tr>\n",
              "    <tr>\n",
              "      <th>229859</th>\n",
              "      <td>-4.581048</td>\n",
              "      <td>4.438972</td>\n",
              "      <td>-4.715975</td>\n",
              "      <td>3.612216</td>\n",
              "      <td>4.162776</td>\n",
              "      <td>1.707525</td>\n",
              "      <td>1.061153</td>\n",
              "      <td>-1.614538</td>\n",
              "      <td>-1.065525</td>\n",
              "      <td>-3.276075</td>\n",
              "      <td>2687.48</td>\n",
              "      <td>-0.022763</td>\n",
              "      <td>-1</td>\n",
              "    </tr>\n",
              "    <tr>\n",
              "      <th>201775</th>\n",
              "      <td>-10.538160</td>\n",
              "      <td>7.602413</td>\n",
              "      <td>4.553784</td>\n",
              "      <td>5.502689</td>\n",
              "      <td>4.381087</td>\n",
              "      <td>3.066364</td>\n",
              "      <td>1.261514</td>\n",
              "      <td>-2.374859</td>\n",
              "      <td>-1.439413</td>\n",
              "      <td>-3.637273</td>\n",
              "      <td>1402.38</td>\n",
              "      <td>-0.021210</td>\n",
              "      <td>-1</td>\n",
              "    </tr>\n",
              "    <tr>\n",
              "      <th>265657</th>\n",
              "      <td>-2.017586</td>\n",
              "      <td>7.015138</td>\n",
              "      <td>-3.586669</td>\n",
              "      <td>3.279434</td>\n",
              "      <td>1.437047</td>\n",
              "      <td>-0.626104</td>\n",
              "      <td>-0.005154</td>\n",
              "      <td>-1.657643</td>\n",
              "      <td>-1.484121</td>\n",
              "      <td>-0.056169</td>\n",
              "      <td>35.95</td>\n",
              "      <td>-0.018329</td>\n",
              "      <td>-1</td>\n",
              "    </tr>\n",
              "    <tr>\n",
              "      <th>170007</th>\n",
              "      <td>-7.956761</td>\n",
              "      <td>0.508363</td>\n",
              "      <td>24.664527</td>\n",
              "      <td>3.328837</td>\n",
              "      <td>1.736132</td>\n",
              "      <td>3.320958</td>\n",
              "      <td>-1.876201</td>\n",
              "      <td>-4.519116</td>\n",
              "      <td>-2.607750</td>\n",
              "      <td>-2.838336</td>\n",
              "      <td>4861.64</td>\n",
              "      <td>-0.016938</td>\n",
              "      <td>-1</td>\n",
              "    </tr>\n",
              "    <tr>\n",
              "      <th>244674</th>\n",
              "      <td>-6.760480</td>\n",
              "      <td>8.225483</td>\n",
              "      <td>17.911884</td>\n",
              "      <td>0.645546</td>\n",
              "      <td>2.506675</td>\n",
              "      <td>2.601101</td>\n",
              "      <td>-1.671463</td>\n",
              "      <td>-2.889784</td>\n",
              "      <td>-1.443680</td>\n",
              "      <td>-1.436928</td>\n",
              "      <td>3758.25</td>\n",
              "      <td>-0.015625</td>\n",
              "      <td>-1</td>\n",
              "    </tr>\n",
              "    <tr>\n",
              "      <th>232014</th>\n",
              "      <td>-9.769594</td>\n",
              "      <td>4.931470</td>\n",
              "      <td>8.470429</td>\n",
              "      <td>4.687859</td>\n",
              "      <td>3.929022</td>\n",
              "      <td>2.236859</td>\n",
              "      <td>0.548558</td>\n",
              "      <td>-2.472724</td>\n",
              "      <td>-1.286698</td>\n",
              "      <td>-2.514468</td>\n",
              "      <td>1201.93</td>\n",
              "      <td>-0.014695</td>\n",
              "      <td>-1</td>\n",
              "    </tr>\n",
              "    <tr>\n",
              "      <th>227921</th>\n",
              "      <td>-8.303035</td>\n",
              "      <td>10.264175</td>\n",
              "      <td>-4.066768</td>\n",
              "      <td>0.554072</td>\n",
              "      <td>-2.166867</td>\n",
              "      <td>0.939705</td>\n",
              "      <td>3.108922</td>\n",
              "      <td>4.109779</td>\n",
              "      <td>1.174609</td>\n",
              "      <td>0.601035</td>\n",
              "      <td>10000.00</td>\n",
              "      <td>-0.014411</td>\n",
              "      <td>-1</td>\n",
              "    </tr>\n",
              "    <tr>\n",
              "      <th>190088</th>\n",
              "      <td>-7.846517</td>\n",
              "      <td>5.647523</td>\n",
              "      <td>-4.892119</td>\n",
              "      <td>3.426995</td>\n",
              "      <td>3.468896</td>\n",
              "      <td>2.147725</td>\n",
              "      <td>2.016314</td>\n",
              "      <td>-0.598852</td>\n",
              "      <td>0.602790</td>\n",
              "      <td>-4.385223</td>\n",
              "      <td>1042.80</td>\n",
              "      <td>-0.013143</td>\n",
              "      <td>-1</td>\n",
              "    </tr>\n",
              "    <tr>\n",
              "      <th>279610</th>\n",
              "      <td>-2.943712</td>\n",
              "      <td>5.330375</td>\n",
              "      <td>-1.273707</td>\n",
              "      <td>2.047691</td>\n",
              "      <td>1.271063</td>\n",
              "      <td>-0.630691</td>\n",
              "      <td>-0.755941</td>\n",
              "      <td>-2.259398</td>\n",
              "      <td>-1.539355</td>\n",
              "      <td>-1.588081</td>\n",
              "      <td>998.19</td>\n",
              "      <td>-0.012404</td>\n",
              "      <td>-1</td>\n",
              "    </tr>\n",
              "    <tr>\n",
              "      <th>199538</th>\n",
              "      <td>-5.699313</td>\n",
              "      <td>6.503369</td>\n",
              "      <td>-6.909951</td>\n",
              "      <td>3.373336</td>\n",
              "      <td>2.718968</td>\n",
              "      <td>1.627024</td>\n",
              "      <td>2.458631</td>\n",
              "      <td>0.252405</td>\n",
              "      <td>-0.012168</td>\n",
              "      <td>-2.989766</td>\n",
              "      <td>593.48</td>\n",
              "      <td>-0.009374</td>\n",
              "      <td>-1</td>\n",
              "    </tr>\n",
              "    <tr>\n",
              "      <th>201869</th>\n",
              "      <td>-10.873566</td>\n",
              "      <td>7.726560</td>\n",
              "      <td>7.278028</td>\n",
              "      <td>5.165896</td>\n",
              "      <td>3.244602</td>\n",
              "      <td>2.903013</td>\n",
              "      <td>1.065202</td>\n",
              "      <td>-2.497462</td>\n",
              "      <td>-1.658898</td>\n",
              "      <td>-3.114547</td>\n",
              "      <td>660.38</td>\n",
              "      <td>-0.009229</td>\n",
              "      <td>-1</td>\n",
              "    </tr>\n",
              "    <tr>\n",
              "      <th>238412</th>\n",
              "      <td>-8.478933</td>\n",
              "      <td>9.477565</td>\n",
              "      <td>9.073540</td>\n",
              "      <td>-1.325553</td>\n",
              "      <td>-1.703302</td>\n",
              "      <td>-0.181498</td>\n",
              "      <td>0.197960</td>\n",
              "      <td>1.857569</td>\n",
              "      <td>-0.166193</td>\n",
              "      <td>1.372917</td>\n",
              "      <td>6900.47</td>\n",
              "      <td>-0.009043</td>\n",
              "      <td>-1</td>\n",
              "    </tr>\n",
              "    <tr>\n",
              "      <th>229994</th>\n",
              "      <td>-5.770578</td>\n",
              "      <td>-2.384282</td>\n",
              "      <td>-0.795775</td>\n",
              "      <td>-2.399328</td>\n",
              "      <td>-4.778083</td>\n",
              "      <td>-0.869835</td>\n",
              "      <td>0.958136</td>\n",
              "      <td>2.096236</td>\n",
              "      <td>-0.008576</td>\n",
              "      <td>1.589432</td>\n",
              "      <td>2031.02</td>\n",
              "      <td>-0.009015</td>\n",
              "      <td>-1</td>\n",
              "    </tr>\n",
              "    <tr>\n",
              "      <th>151009</th>\n",
              "      <td>-30.177317</td>\n",
              "      <td>8.904157</td>\n",
              "      <td>-31.197329</td>\n",
              "      <td>-9.462573</td>\n",
              "      <td>-22.187089</td>\n",
              "      <td>4.419997</td>\n",
              "      <td>-10.592305</td>\n",
              "      <td>-3.926207</td>\n",
              "      <td>-12.462315</td>\n",
              "      <td>-5.501051</td>\n",
              "      <td>1.00</td>\n",
              "      <td>-0.007611</td>\n",
              "      <td>-1</td>\n",
              "    </tr>\n",
              "    <tr>\n",
              "      <th>151008</th>\n",
              "      <td>-30.177317</td>\n",
              "      <td>8.904157</td>\n",
              "      <td>-31.197329</td>\n",
              "      <td>-9.462573</td>\n",
              "      <td>-22.187089</td>\n",
              "      <td>4.419997</td>\n",
              "      <td>-10.592305</td>\n",
              "      <td>-3.926207</td>\n",
              "      <td>-12.462315</td>\n",
              "      <td>-5.501051</td>\n",
              "      <td>1.00</td>\n",
              "      <td>-0.007611</td>\n",
              "      <td>-1</td>\n",
              "    </tr>\n",
              "    <tr>\n",
              "      <th>151007</th>\n",
              "      <td>-30.177317</td>\n",
              "      <td>8.904157</td>\n",
              "      <td>-31.197329</td>\n",
              "      <td>-9.462573</td>\n",
              "      <td>-22.187089</td>\n",
              "      <td>4.419997</td>\n",
              "      <td>-10.592305</td>\n",
              "      <td>-3.926207</td>\n",
              "      <td>-12.462315</td>\n",
              "      <td>-5.501051</td>\n",
              "      <td>1.00</td>\n",
              "      <td>-0.007611</td>\n",
              "      <td>-1</td>\n",
              "    </tr>\n",
              "    <tr>\n",
              "      <th>151006</th>\n",
              "      <td>-30.177317</td>\n",
              "      <td>8.904157</td>\n",
              "      <td>-31.197329</td>\n",
              "      <td>-9.462573</td>\n",
              "      <td>-22.187089</td>\n",
              "      <td>4.419997</td>\n",
              "      <td>-10.592305</td>\n",
              "      <td>-3.926207</td>\n",
              "      <td>-12.462315</td>\n",
              "      <td>-5.501051</td>\n",
              "      <td>1.00</td>\n",
              "      <td>-0.007611</td>\n",
              "      <td>-1</td>\n",
              "    </tr>\n",
              "    <tr>\n",
              "      <th>154316</th>\n",
              "      <td>-7.019710</td>\n",
              "      <td>3.713334</td>\n",
              "      <td>6.249410</td>\n",
              "      <td>0.602567</td>\n",
              "      <td>-2.329979</td>\n",
              "      <td>1.870884</td>\n",
              "      <td>-1.993790</td>\n",
              "      <td>2.519971</td>\n",
              "      <td>1.650030</td>\n",
              "      <td>-1.018793</td>\n",
              "      <td>5707.82</td>\n",
              "      <td>-0.007463</td>\n",
              "      <td>-1</td>\n",
              "    </tr>\n",
              "    <tr>\n",
              "      <th>228158</th>\n",
              "      <td>-9.340628</td>\n",
              "      <td>8.385815</td>\n",
              "      <td>28.239528</td>\n",
              "      <td>-4.713335</td>\n",
              "      <td>-6.234862</td>\n",
              "      <td>0.068011</td>\n",
              "      <td>-1.945333</td>\n",
              "      <td>0.633732</td>\n",
              "      <td>-1.736619</td>\n",
              "      <td>4.079390</td>\n",
              "      <td>8182.70</td>\n",
              "      <td>-0.007326</td>\n",
              "      <td>-1</td>\n",
              "    </tr>\n",
              "    <tr>\n",
              "      <th>228723</th>\n",
              "      <td>-10.733302</td>\n",
              "      <td>9.571705</td>\n",
              "      <td>6.263440</td>\n",
              "      <td>-2.499284</td>\n",
              "      <td>-3.787952</td>\n",
              "      <td>0.290725</td>\n",
              "      <td>-0.032976</td>\n",
              "      <td>2.621841</td>\n",
              "      <td>0.488038</td>\n",
              "      <td>1.556725</td>\n",
              "      <td>7367.00</td>\n",
              "      <td>-0.006569</td>\n",
              "      <td>-1</td>\n",
              "    </tr>\n",
              "    <tr>\n",
              "      <th>284249</th>\n",
              "      <td>-16.233798</td>\n",
              "      <td>3.592021</td>\n",
              "      <td>44.054461</td>\n",
              "      <td>-4.210637</td>\n",
              "      <td>-7.776435</td>\n",
              "      <td>0.214173</td>\n",
              "      <td>-4.499851</td>\n",
              "      <td>0.537895</td>\n",
              "      <td>-0.402142</td>\n",
              "      <td>1.257379</td>\n",
              "      <td>10199.44</td>\n",
              "      <td>-0.005600</td>\n",
              "      <td>-1</td>\n",
              "    </tr>\n",
              "    <tr>\n",
              "      <th>173395</th>\n",
              "      <td>-7.440497</td>\n",
              "      <td>0.005757</td>\n",
              "      <td>1.755877</td>\n",
              "      <td>-0.139337</td>\n",
              "      <td>-2.024238</td>\n",
              "      <td>0.180527</td>\n",
              "      <td>0.129513</td>\n",
              "      <td>2.470850</td>\n",
              "      <td>-0.819003</td>\n",
              "      <td>-0.697158</td>\n",
              "      <td>2717.00</td>\n",
              "      <td>-0.005384</td>\n",
              "      <td>-1</td>\n",
              "    </tr>\n",
              "    <tr>\n",
              "      <th>230944</th>\n",
              "      <td>-17.507940</td>\n",
              "      <td>4.005794</td>\n",
              "      <td>10.214467</td>\n",
              "      <td>0.535369</td>\n",
              "      <td>1.014649</td>\n",
              "      <td>0.819799</td>\n",
              "      <td>1.203509</td>\n",
              "      <td>2.222918</td>\n",
              "      <td>0.902289</td>\n",
              "      <td>-2.740912</td>\n",
              "      <td>1350.00</td>\n",
              "      <td>-0.004216</td>\n",
              "      <td>-1</td>\n",
              "    </tr>\n",
              "    <tr>\n",
              "      <th>244698</th>\n",
              "      <td>-9.871561</td>\n",
              "      <td>2.105665</td>\n",
              "      <td>8.053103</td>\n",
              "      <td>1.354522</td>\n",
              "      <td>1.531883</td>\n",
              "      <td>-0.821919</td>\n",
              "      <td>-0.072846</td>\n",
              "      <td>-0.651126</td>\n",
              "      <td>0.223777</td>\n",
              "      <td>-2.159579</td>\n",
              "      <td>1565.12</td>\n",
              "      <td>-0.002413</td>\n",
              "      <td>-1</td>\n",
              "    </tr>\n",
              "    <tr>\n",
              "      <th>212950</th>\n",
              "      <td>-5.398092</td>\n",
              "      <td>3.328589</td>\n",
              "      <td>7.379135</td>\n",
              "      <td>4.484833</td>\n",
              "      <td>3.828388</td>\n",
              "      <td>2.609695</td>\n",
              "      <td>-0.054347</td>\n",
              "      <td>-3.432618</td>\n",
              "      <td>-1.862858</td>\n",
              "      <td>-2.718736</td>\n",
              "      <td>1049.61</td>\n",
              "      <td>-0.001403</td>\n",
              "      <td>-1</td>\n",
              "    </tr>\n",
              "  </tbody>\n",
              "</table>\n",
              "</div>\n",
              "      <button class=\"colab-df-convert\" onclick=\"convertToInteractive('df-20399fbc-6df6-4b4f-a589-196c3664ca12')\"\n",
              "              title=\"Convert this dataframe to an interactive table.\"\n",
              "              style=\"display:none;\">\n",
              "        \n",
              "  <svg xmlns=\"http://www.w3.org/2000/svg\" height=\"24px\"viewBox=\"0 0 24 24\"\n",
              "       width=\"24px\">\n",
              "    <path d=\"M0 0h24v24H0V0z\" fill=\"none\"/>\n",
              "    <path d=\"M18.56 5.44l.94 2.06.94-2.06 2.06-.94-2.06-.94-.94-2.06-.94 2.06-2.06.94zm-11 1L8.5 8.5l.94-2.06 2.06-.94-2.06-.94L8.5 2.5l-.94 2.06-2.06.94zm10 10l.94 2.06.94-2.06 2.06-.94-2.06-.94-.94-2.06-.94 2.06-2.06.94z\"/><path d=\"M17.41 7.96l-1.37-1.37c-.4-.4-.92-.59-1.43-.59-.52 0-1.04.2-1.43.59L10.3 9.45l-7.72 7.72c-.78.78-.78 2.05 0 2.83L4 21.41c.39.39.9.59 1.41.59.51 0 1.02-.2 1.41-.59l7.78-7.78 2.81-2.81c.8-.78.8-2.07 0-2.86zM5.41 20L4 18.59l7.72-7.72 1.47 1.35L5.41 20z\"/>\n",
              "  </svg>\n",
              "      </button>\n",
              "      \n",
              "  <style>\n",
              "    .colab-df-container {\n",
              "      display:flex;\n",
              "      flex-wrap:wrap;\n",
              "      gap: 12px;\n",
              "    }\n",
              "\n",
              "    .colab-df-convert {\n",
              "      background-color: #E8F0FE;\n",
              "      border: none;\n",
              "      border-radius: 50%;\n",
              "      cursor: pointer;\n",
              "      display: none;\n",
              "      fill: #1967D2;\n",
              "      height: 32px;\n",
              "      padding: 0 0 0 0;\n",
              "      width: 32px;\n",
              "    }\n",
              "\n",
              "    .colab-df-convert:hover {\n",
              "      background-color: #E2EBFA;\n",
              "      box-shadow: 0px 1px 2px rgba(60, 64, 67, 0.3), 0px 1px 3px 1px rgba(60, 64, 67, 0.15);\n",
              "      fill: #174EA6;\n",
              "    }\n",
              "\n",
              "    [theme=dark] .colab-df-convert {\n",
              "      background-color: #3B4455;\n",
              "      fill: #D2E3FC;\n",
              "    }\n",
              "\n",
              "    [theme=dark] .colab-df-convert:hover {\n",
              "      background-color: #434B5C;\n",
              "      box-shadow: 0px 1px 3px 1px rgba(0, 0, 0, 0.15);\n",
              "      filter: drop-shadow(0px 1px 2px rgba(0, 0, 0, 0.3));\n",
              "      fill: #FFFFFF;\n",
              "    }\n",
              "  </style>\n",
              "\n",
              "      <script>\n",
              "        const buttonEl =\n",
              "          document.querySelector('#df-20399fbc-6df6-4b4f-a589-196c3664ca12 button.colab-df-convert');\n",
              "        buttonEl.style.display =\n",
              "          google.colab.kernel.accessAllowed ? 'block' : 'none';\n",
              "\n",
              "        async function convertToInteractive(key) {\n",
              "          const element = document.querySelector('#df-20399fbc-6df6-4b4f-a589-196c3664ca12');\n",
              "          const dataTable =\n",
              "            await google.colab.kernel.invokeFunction('convertToInteractive',\n",
              "                                                     [key], {});\n",
              "          if (!dataTable) return;\n",
              "\n",
              "          const docLinkHtml = 'Like what you see? Visit the ' +\n",
              "            '<a target=\"_blank\" href=https://colab.research.google.com/notebooks/data_table.ipynb>data table notebook</a>'\n",
              "            + ' to learn more about interactive tables.';\n",
              "          element.innerHTML = '';\n",
              "          dataTable['output_type'] = 'display_data';\n",
              "          await google.colab.output.renderOutput(dataTable, element);\n",
              "          const docLink = document.createElement('div');\n",
              "          docLink.innerHTML = docLinkHtml;\n",
              "          element.appendChild(docLink);\n",
              "        }\n",
              "      </script>\n",
              "    </div>\n",
              "  </div>\n",
              "  "
            ]
          },
          "metadata": {},
          "execution_count": 342
        }
      ],
      "source": [
        "#top outliers on day 2\n",
        "fraud.sort_values(by=['scores'], ascending=True)"
      ]
    },
    {
      "cell_type": "markdown",
      "metadata": {
        "id": "kdFJvwMDE_Ts"
      },
      "source": [
        "# **Evaluation Metrics - Baseline**"
      ]
    },
    {
      "cell_type": "code",
      "execution_count": 343,
      "metadata": {
        "id": "684t_wrBNHun"
      },
      "outputs": [],
      "source": [
        "#Rename the prediction values to 0 for normal transactions , 1 for fraudulent transactions\n",
        "y_pred_test[y_pred_test == 1] = 0\n",
        "y_pred_test[y_pred_test == -1] = 1"
      ]
    },
    {
      "cell_type": "code",
      "execution_count": 344,
      "metadata": {
        "colab": {
          "base_uri": "https://localhost:8080/"
        },
        "id": "hBOySNNzFDu4",
        "outputId": "e06db338-6dba-49c0-c8f7-5f6aad846f79"
      },
      "outputs": [
        {
          "output_type": "stream",
          "name": "stdout",
          "text": [
            "0.9981788446018811\n"
          ]
        }
      ],
      "source": [
        "from sklearn.metrics import accuracy_score\n",
        "print(accuracy_score(b_y2, y_pred_test))\n",
        "\n",
        "#0.9981788446018811"
      ]
    },
    {
      "cell_type": "code",
      "execution_count": 345,
      "metadata": {
        "colab": {
          "base_uri": "https://localhost:8080/"
        },
        "id": "jkUgtxKoFGY4",
        "outputId": "1c7bb9e0-e025-40fa-c9cb-91605827c29f"
      },
      "outputs": [
        {
          "output_type": "stream",
          "name": "stdout",
          "text": [
            "              precision    recall  f1-score   support\n",
            "\n",
            "           0       1.00      1.00      1.00    139810\n",
            "           1       0.13      0.04      0.06       211\n",
            "\n",
            "    accuracy                           1.00    140021\n",
            "   macro avg       0.57      0.52      0.53    140021\n",
            "weighted avg       1.00      1.00      1.00    140021\n",
            "\n"
          ]
        }
      ],
      "source": [
        "#print precision, recall, and accuracy from the perspective of each of the class \n",
        "from sklearn.metrics import classification_report\n",
        "from sklearn import metrics\n",
        "\n",
        "print(classification_report(b_y2, y_pred_test))"
      ]
    },
    {
      "cell_type": "code",
      "source": [
        "from sklearn.metrics import confusion_matrix\n",
        "cf=confusion_matrix(b_y2, y_pred_test)\n",
        "print (\"Confusion Matrix\")\n",
        "print(cf)\n",
        "tn, fp, fn, tp=cf.ravel()\n",
        "print (\"TP: \", tp,\", FP: \", fp,\", TN: \", tn,\", FN:\", fn)"
      ],
      "metadata": {
        "colab": {
          "base_uri": "https://localhost:8080/"
        },
        "id": "b_MUW2CGdlbS",
        "outputId": "57a72d0a-2dcb-4e6b-acae-37f76c50270b"
      },
      "execution_count": 346,
      "outputs": [
        {
          "output_type": "stream",
          "name": "stdout",
          "text": [
            "Confusion Matrix\n",
            "[[139758     52]\n",
            " [   203      8]]\n",
            "TP:  8 , FP:  52 , TN:  139758 , FN: 203\n"
          ]
        }
      ]
    },
    {
      "cell_type": "markdown",
      "metadata": {
        "id": "npVa6igMLyyK"
      },
      "source": [
        "End of project\n",
        "\n",
        "Shaleena Ramanah\n",
        "Student ID: 501043123\n",
        "CIND 820 "
      ]
    }
  ],
  "metadata": {
    "colab": {
      "collapsed_sections": [],
      "name": "Edited Final - Model Jul 29 2022 - Shaleena Ramanah.ipynb",
      "provenance": [],
      "toc_visible": true,
      "authorship_tag": "ABX9TyNAu8r+t13WuXn3kstPp6i9",
      "include_colab_link": true
    },
    "kernelspec": {
      "display_name": "Python 3",
      "name": "python3"
    },
    "language_info": {
      "name": "python"
    }
  },
  "nbformat": 4,
  "nbformat_minor": 0
}